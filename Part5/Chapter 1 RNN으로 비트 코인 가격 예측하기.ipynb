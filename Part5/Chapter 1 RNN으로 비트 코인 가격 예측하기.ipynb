{
 "cells": [
  {
   "cell_type": "markdown",
   "metadata": {},
   "source": [
    "## Chapter 1 RNN으로 비트 코인 가격 예측하기"
   ]
  },
  {
   "cell_type": "code",
   "execution_count": 2,
   "metadata": {
    "executionInfo": {
     "elapsed": 14963,
     "status": "ok",
     "timestamp": 1701526477355,
     "user": {
      "displayName": "신은섭",
      "userId": "08402895350193765155"
     },
     "user_tz": -540
    },
    "id": "aV97F70y51R_"
   },
   "outputs": [],
   "source": [
    "!pip install -q torchinfo"
   ]
  },
  {
   "cell_type": "code",
   "execution_count": 3,
   "metadata": {
    "executionInfo": {
     "elapsed": 5199,
     "status": "ok",
     "timestamp": 1701526482552,
     "user": {
      "displayName": "신은섭",
      "userId": "08402895350193765155"
     },
     "user_tz": -540
    },
    "id": "r9-aBeZx3AGC"
   },
   "outputs": [],
   "source": [
    "import os\n",
    "import random\n",
    "import numpy as np\n",
    "import pandas as pd\n",
    "from tqdm import tqdm\n",
    "import warnings\n",
    "warnings.filterwarnings(\"ignore\")\n",
    "\n",
    "from torch.utils.data import Dataset, DataLoader\n",
    "import matplotlib.pyplot as plt\n",
    "from sklearn.preprocessing import MinMaxScaler\n",
    "\n",
    "import torch\n",
    "from torch import nn, optim\n",
    "from torchinfo import summary"
   ]
  },
  {
   "cell_type": "code",
   "execution_count": 4,
   "metadata": {
    "colab": {
     "base_uri": "https://localhost:8080/"
    },
    "executionInfo": {
     "elapsed": 7,
     "status": "ok",
     "timestamp": 1701526482552,
     "user": {
      "displayName": "신은섭",
      "userId": "08402895350193765155"
     },
     "user_tz": -540
    },
    "id": "wFvHZyUcgfxi",
    "outputId": "fc3792ad-6ba0-4572-94f4-2c983b091c0c"
   },
   "outputs": [
    {
     "name": "stdout",
     "output_type": "stream",
     "text": [
      "True cuda\n"
     ]
    }
   ],
   "source": [
    "is_cuda = torch.cuda.is_available()\n",
    "device = torch.device(\"cuda\" if is_cuda else \"cpu\")\n",
    "print(is_cuda, device)"
   ]
  },
  {
   "cell_type": "code",
   "execution_count": 5,
   "metadata": {
    "executionInfo": {
     "elapsed": 4,
     "status": "ok",
     "timestamp": 1701526482552,
     "user": {
      "displayName": "신은섭",
      "userId": "08402895350193765155"
     },
     "user_tz": -540
    },
    "id": "fPF7oSG0ggv3"
   },
   "outputs": [],
   "source": [
    "seed = 1202\n",
    "random.seed(seed)         # python seed\n",
    "np.random.seed(seed)      # numpy seed\n",
    "torch.manual_seed(seed)   # torch seed\n",
    "if device == 'cuda':\n",
    "  torch.cuda.manual_seed_all(seed)  # gpu seed"
   ]
  },
  {
   "cell_type": "markdown",
   "metadata": {
    "id": "oYNcEr8qgikS"
   },
   "source": [
    "### 1.3 비트코인 가격 데이터"
   ]
  },
  {
   "cell_type": "code",
   "execution_count": 6,
   "metadata": {
    "colab": {
     "base_uri": "https://localhost:8080/"
    },
    "executionInfo": {
     "elapsed": 645,
     "status": "ok",
     "timestamp": 1701526483193,
     "user": {
      "displayName": "신은섭",
      "userId": "08402895350193765155"
     },
     "user_tz": -540
    },
    "id": "h53FWqNf51j4",
    "outputId": "f444cf29-c1c8-4e7b-aa4d-4d243645f649"
   },
   "outputs": [
    {
     "name": "stdout",
     "output_type": "stream",
     "text": [
      "--2023-12-02 14:14:42--  https://www.cryptodatadownload.com/cdd/Bithumb_BTCKRW_d.csv\n",
      "Resolving www.cryptodatadownload.com (www.cryptodatadownload.com)... 35.173.69.207\n",
      "Connecting to www.cryptodatadownload.com (www.cryptodatadownload.com)|35.173.69.207|:443... connected.\n",
      "HTTP request sent, awaiting response... 200 OK\n",
      "Length: 111438 (109K) [text/csv]\n",
      "Saving to: ‘Bithumb_BTCKRW_d.csv’\n",
      "\n",
      "Bithumb_BTCKRW_d.cs 100%[===================>] 108.83K  --.-KB/s    in 0.06s   \n",
      "\n",
      "2023-12-02 14:14:42 (1.87 MB/s) - ‘Bithumb_BTCKRW_d.csv’ saved [111438/111438]\n",
      "\n"
     ]
    }
   ],
   "source": [
    "!wget https://www.cryptodatadownload.com/cdd/Bithumb_BTCKRW_d.csv"
   ]
  },
  {
   "cell_type": "code",
   "execution_count": 7,
   "metadata": {
    "colab": {
     "base_uri": "https://localhost:8080/"
    },
    "executionInfo": {
     "elapsed": 6,
     "status": "ok",
     "timestamp": 1701526483193,
     "user": {
      "displayName": "신은섭",
      "userId": "08402895350193765155"
     },
     "user_tz": -540
    },
    "id": "sh9lELNs6E06",
    "outputId": "039c4626-0826-4aa4-e56c-0caab554e205"
   },
   "outputs": [
    {
     "name": "stdout",
     "output_type": "stream",
     "text": [
      "(1267, 8)\n",
      "            Unix Timestamp  Symbol      Open      High       Low     Close  \\\n",
      "Date                                                                         \n",
      "2017-05-22    1.495411e+09  BTCKRW   3027000   3195000   2966000   3104000   \n",
      "2017-05-23    1.495498e+09  BTCKRW   3104000   3281000   3081000   3206000   \n",
      "2017-05-24    1.495584e+09  BTCKRW   3206000   4314000   3206000   4175000   \n",
      "2017-05-25    1.495670e+09  BTCKRW   4175000   4840000   3102000   4199000   \n",
      "2017-05-26    1.495757e+09  BTCKRW   4199000   4200000   2900000   3227000   \n",
      "...                    ...     ...       ...       ...       ...       ...   \n",
      "2020-11-16    1.605485e+09  BTCKRW  17679000  18440000  17560000  18264000   \n",
      "2020-11-17    1.605571e+09  BTCKRW  18264000  19411000  18179000  19350000   \n",
      "2020-11-18    1.605658e+09  BTCKRW  19350000  20300000  19058000  19713000   \n",
      "2020-11-19    1.605744e+09  BTCKRW  19713000  20026000  19379000  19799000   \n",
      "2020-11-20    1.605830e+09  BTCKRW  19799000  20151000  19753000  20072000   \n",
      "\n",
      "            Volume BTC    Volume KRW  \n",
      "Date                                  \n",
      "2017-05-22     8961.76  2.787223e+10  \n",
      "2017-05-23    21579.14  6.831328e+10  \n",
      "2017-05-24    34681.16  1.234760e+11  \n",
      "2017-05-25    35914.56  1.553724e+11  \n",
      "2017-05-26    36647.42  1.288676e+11  \n",
      "...                ...           ...  \n",
      "2020-11-16     3595.27  6.477332e+10  \n",
      "2020-11-17     4521.85  8.475582e+10  \n",
      "2020-11-18     7801.08  1.538430e+11  \n",
      "2020-11-19     4439.00  8.779461e+10  \n",
      "2020-11-20     1249.42  2.497931e+10  \n",
      "\n",
      "[1267 rows x 8 columns]\n"
     ]
    }
   ],
   "source": [
    "df = pd.read_csv(\"Bithumb_BTCKRW_d.csv\", skiprows=1)\n",
    "df['Date'] = df['Date'].apply(pd.Timestamp)\n",
    "df = df.sort_values('Date')\n",
    "df.set_index('Date', inplace=True)\n",
    "print(df.shape)\n",
    "print(df)"
   ]
  },
  {
   "cell_type": "code",
   "execution_count": 8,
   "metadata": {
    "colab": {
     "base_uri": "https://localhost:8080/"
    },
    "executionInfo": {
     "elapsed": 4,
     "status": "ok",
     "timestamp": 1701526483193,
     "user": {
      "displayName": "신은섭",
      "userId": "08402895350193765155"
     },
     "user_tz": -540
    },
    "id": "goLRJeCR6dua",
    "outputId": "d901a161-d889-475d-cfd8-c0c1eb54493d"
   },
   "outputs": [
    {
     "name": "stdout",
     "output_type": "stream",
     "text": [
      "               Close\n",
      "Date                \n",
      "2020-11-16  18264000\n",
      "2020-11-17  19350000\n",
      "2020-11-18  19713000\n",
      "2020-11-19  19799000\n",
      "2020-11-20  20072000\n"
     ]
    }
   ],
   "source": [
    "df_close = df.loc[:, [\"Close\"]]\n",
    "print(df_close.tail())"
   ]
  },
  {
   "cell_type": "code",
   "execution_count": 8,
   "metadata": {
    "colab": {
     "base_uri": "https://localhost:8080/",
     "height": 475
    },
    "executionInfo": {
     "elapsed": 640,
     "status": "ok",
     "timestamp": 1701520336625,
     "user": {
      "displayName": "신은섭",
      "userId": "08402895350193765155"
     },
     "user_tz": -540
    },
    "id": "UDk3ZgDq6_2t",
    "outputId": "6da86235-de1d-48ba-cb0e-c3347b1f8e61"
   },
   "outputs": [
    {
     "data": {
      "text/plain": [
       "<matplotlib.lines.Line2D at 0x7a17cd4dd690>"
      ]
     },
     "execution_count": 8,
     "metadata": {},
     "output_type": "execute_result"
    },
    {
     "data": {
      "image/png": "[encoded data removed]",
      "text/plain": [
       "<Figure size 640x480 with 1 Axes>"
      ]
     },
     "metadata": {},
     "output_type": "display_data"
    }
   ],
   "source": [
    "ax = df_close.plot(rot=45)\n",
    "ax.axvline(\"2017-06-01\", linestyle=\"--\", c=\"black\")\n",
    "ax.axvline(\"2020-01-01\", linestyle=\"--\", c=\"red\")\n",
    "ax.axvline(\"2020-06-01\", linestyle=\"--\", c=\"green\")"
   ]
  },
  {
   "cell_type": "code",
   "execution_count": 9,
   "metadata": {
    "colab": {
     "base_uri": "https://localhost:8080/"
    },
    "executionInfo": {
     "elapsed": 6,
     "status": "ok",
     "timestamp": 1701526732917,
     "user": {
      "displayName": "신은섭",
      "userId": "08402895350193765155"
     },
     "user_tz": -540
    },
    "id": "lDSicYTj7Ut1",
    "outputId": "d170a205-fdc4-4368-81f3-5df44e6980be"
   },
   "outputs": [
    {
     "name": "stdout",
     "output_type": "stream",
     "text": [
      "              Close\n",
      "Date               \n",
      "2017-06-01  3142000\n",
      "2017-06-02  3169000\n",
      "2017-06-03  3110000\n",
      "2017-06-04  3061000\n",
      "2017-06-05  3188000\n"
     ]
    }
   ],
   "source": [
    "df_train = df_close[\n",
    "  (df_close.index >= \"2017-06-01\")&(df_close.index < \"2020-01-01\")\n",
    "]\n",
    "print(df_train[:5])"
   ]
  },
  {
   "cell_type": "code",
   "execution_count": 10,
   "metadata": {
    "colab": {
     "base_uri": "https://localhost:8080/"
    },
    "executionInfo": {
     "elapsed": 363,
     "status": "ok",
     "timestamp": 1701527480694,
     "user": {
      "displayName": "신은섭",
      "userId": "08402895350193765155"
     },
     "user_tz": -540
    },
    "id": "0UqDqAOaovl6",
    "outputId": "ac803988-331f-46e7-f7dc-0f6f1aaaab06"
   },
   "outputs": [
    {
     "data": {
      "text/plain": [
       "array([[0.63779528],\n",
       "       [0.8503937 ],\n",
       "       [0.38582677],\n",
       "       [0.        ],\n",
       "       [1.        ]])"
      ]
     },
     "execution_count": 10,
     "metadata": {},
     "output_type": "execute_result"
    }
   ],
   "source": [
    "scaler = MinMaxScaler()\n",
    "data = scaler.fit_transform(df_train[:5])\n",
    "data"
   ]
  },
  {
   "cell_type": "code",
   "execution_count": 11,
   "metadata": {
    "colab": {
     "base_uri": "https://localhost:8080/"
    },
    "executionInfo": {
     "elapsed": 5,
     "status": "ok",
     "timestamp": 1701527481097,
     "user": {
      "displayName": "신은섭",
      "userId": "08402895350193765155"
     },
     "user_tz": -540
    },
    "id": "dFf8ntf0pXe3",
    "outputId": "c19cd254-7f57-4740-c19e-7cad866bd98a"
   },
   "outputs": [
    {
     "data": {
      "text/plain": [
       "array([[3142000.],\n",
       "       [3169000.],\n",
       "       [3110000.],\n",
       "       [3061000.],\n",
       "       [3188000.]])"
      ]
     },
     "execution_count": 11,
     "metadata": {},
     "output_type": "execute_result"
    }
   ],
   "source": [
    "scaler.inverse_transform(data)"
   ]
  },
  {
   "cell_type": "code",
   "execution_count": null,
   "metadata": {
    "id": "jCo6H2kp8RFT"
   },
   "outputs": [],
   "source": []
  },
  {
   "cell_type": "code",
   "execution_count": 12,
   "metadata": {
    "executionInfo": {
     "elapsed": 303,
     "status": "ok",
     "timestamp": 1701528358071,
     "user": {
      "displayName": "신은섭",
      "userId": "08402895350193765155"
     },
     "user_tz": -540
    },
    "id": "MZLfAR7nXnHQ"
   },
   "outputs": [],
   "source": [
    "class BitcoinDataset(Dataset):\n",
    "  def __init__(self, split=\"train\", seq_len=4):\n",
    "    self.split = split\n",
    "    self.seq_len = seq_len\n",
    "\n",
    "    self.date_range = {\n",
    "      \"train\": [\"2017-06-01\", \"2020-01-01\"],\n",
    "      \"val\": [\"2020-01-01\", \"2020-06-01\"],\n",
    "      \"test\": [\"2020-06-01\", \"2020-11-21\"]\n",
    "    }\n",
    "\n",
    "    self.data = self._load_data(self.date_range[self.split])\n",
    "    self.data, self.labels = self._transform(self.data, self.seq_len)\n",
    "\n",
    "  def _load_data(self, date_range):\n",
    "    df = pd.read_csv(\"Bithumb_BTCKRW_d.csv\", skiprows=1)\n",
    "    df['Date'] = df['Date'].apply(pd.Timestamp)\n",
    "    df = df.sort_values('Date')\n",
    "    df.set_index('Date', inplace=True)\n",
    "\n",
    "    df_close = df.loc[:, [\"Close\"]]\n",
    "    df = df_close[\n",
    "      (df_close.index >= date_range[0])&(df_close.index < date_range[1])\n",
    "    ]\n",
    "\n",
    "    self.scaler = MinMaxScaler()\n",
    "    data = self.scaler.fit_transform(df)\n",
    "    return data\n",
    "\n",
    "  def _transform(self, data, seq_len):\n",
    "    x, y = [], []\n",
    "\n",
    "    for i in range(len(data) - seq_len - 1):\n",
    "      x_i = data[i:i+seq_len]\n",
    "      y_i = data[i+1:i+seq_len+1]\n",
    "      x.append(x_i)\n",
    "      y.append(y_i)\n",
    "\n",
    "    x_tensor = torch.FloatTensor(x)\n",
    "    y_tensor = torch.FloatTensor(y)\n",
    "\n",
    "    return x_tensor, y_tensor\n",
    "\n",
    "  def __getitem__(self, i):\n",
    "    return self.data[i], self.labels[i]\n",
    "\n",
    "  def __len__(self):\n",
    "    return len(self.data)"
   ]
  },
  {
   "cell_type": "code",
   "execution_count": 13,
   "metadata": {
    "colab": {
     "base_uri": "https://localhost:8080/"
    },
    "executionInfo": {
     "elapsed": 5,
     "status": "ok",
     "timestamp": 1701528359407,
     "user": {
      "displayName": "신은섭",
      "userId": "08402895350193765155"
     },
     "user_tz": -540
    },
    "id": "neDxAx7Aee2O",
    "outputId": "bed5d465-48c7-4420-8718-f10aef7c8a60"
   },
   "outputs": [
    {
     "name": "stdout",
     "output_type": "stream",
     "text": [
      "927 147 168\n"
     ]
    }
   ],
   "source": [
    "trainset = BitcoinDataset()\n",
    "valset = BitcoinDataset(split=\"val\")\n",
    "testset = BitcoinDataset(split=\"test\")\n",
    "\n",
    "print(len(trainset), len(valset), len(testset))"
   ]
  },
  {
   "cell_type": "code",
   "execution_count": 18,
   "metadata": {
    "executionInfo": {
     "elapsed": 1,
     "status": "ok",
     "timestamp": 1701528739481,
     "user": {
      "displayName": "신은섭",
      "userId": "08402895350193765155"
     },
     "user_tz": -540
    },
    "id": "tJSuVIlocZ7F"
   },
   "outputs": [],
   "source": [
    "def plot_sequence(x, y):\n",
    "  plt.ylabel(\"Scaled Close\")\n",
    "  plt.xlabel(\"Time Bars\")\n",
    "  plt.plot(range(len(x)), x, color='r', label='Features')\n",
    "  plt.plot(range(1, len(x)+1), y, color='b', linestyle='--', label='Target')\n",
    "  plt.legend()"
   ]
  },
  {
   "cell_type": "code",
   "execution_count": 19,
   "metadata": {
    "colab": {
     "base_uri": "https://localhost:8080/",
     "height": 176
    },
    "executionInfo": {
     "elapsed": 1187,
     "status": "ok",
     "timestamp": 1701528745133,
     "user": {
      "displayName": "신은섭",
      "userId": "08402895350193765155"
     },
     "user_tz": -540
    },
    "id": "ktt3Ej6t_PBA",
    "outputId": "fd72362f-0666-4a16-ba9e-33e7dcf7993c"
   },
   "outputs": [
    {
     "data": {
      "image/png": "[encoded data removed]",
      "text/plain": [
       "<Figure size 1000x200 with 3 Axes>"
      ]
     },
     "metadata": {},
     "output_type": "display_data"
    }
   ],
   "source": [
    "plt.figure(figsize=(10,2))\n",
    "for i, (x, y) in enumerate(trainset):\n",
    "  plt.subplot(1, 3, i+1)\n",
    "  plot_sequence(x, y)\n",
    "\n",
    "  if i == 2:\n",
    "    break"
   ]
  },
  {
   "cell_type": "markdown",
   "metadata": {
    "id": "dSrTrtrIdvHK"
   },
   "source": [
    "### 1.4 LSTM 모델\n"
   ]
  },
  {
   "cell_type": "code",
   "execution_count": 17,
   "metadata": {
    "colab": {
     "base_uri": "https://localhost:8080/"
    },
    "executionInfo": {
     "elapsed": 9361,
     "status": "ok",
     "timestamp": 1701520367995,
     "user": {
      "displayName": "신은섭",
      "userId": "08402895350193765155"
     },
     "user_tz": -540
    },
    "id": "zHbnt8oudtzS",
    "outputId": "c6d8f737-6baa-4054-e479-56c8687bbeff"
   },
   "outputs": [
    {
     "data": {
      "text/plain": [
       "==========================================================================================\n",
       "Layer (type:depth-idx)                   Output Shape              Param #\n",
       "==========================================================================================\n",
       "LSTM                                     [1, 4]                    160\n",
       "==========================================================================================\n",
       "Total params: 160\n",
       "Trainable params: 160\n",
       "Non-trainable params: 0\n",
       "Total mult-adds (M): 0.00\n",
       "==========================================================================================\n",
       "Input size (MB): 0.00\n",
       "Forward/backward pass size (MB): 0.00\n",
       "Params size (MB): 0.00\n",
       "Estimated Total Size (MB): 0.00\n",
       "=========================================================================================="
      ]
     },
     "execution_count": 17,
     "metadata": {},
     "output_type": "execute_result"
    }
   ],
   "source": [
    "model = nn.LSTM(4, 4)\n",
    "summary(model, (1, 4))"
   ]
  },
  {
   "cell_type": "code",
   "execution_count": 35,
   "metadata": {
    "colab": {
     "base_uri": "https://localhost:8080/"
    },
    "executionInfo": {
     "elapsed": 4,
     "status": "ok",
     "timestamp": 1701520740457,
     "user": {
      "displayName": "신은섭",
      "userId": "08402895350193765155"
     },
     "user_tz": -540
    },
    "id": "0H8L9tpDiLN7",
    "outputId": "ecc21eaf-c99f-4d0a-df20-956c5a71e944"
   },
   "outputs": [
    {
     "name": "stdout",
     "output_type": "stream",
     "text": [
      "tensor([[-0.1848, -0.1877,  0.1953, -0.0955]], device='cuda:0',\n",
      "       grad_fn=<SqueezeBackward1>)\n",
      "tensor([[-0.1848, -0.1877,  0.1953, -0.0955]], device='cuda:0',\n",
      "       grad_fn=<SqueezeBackward1>)\n",
      "tensor([[-0.6075, -0.4240,  0.2630, -0.1641]], device='cuda:0',\n",
      "       grad_fn=<SqueezeBackward1>)\n"
     ]
    }
   ],
   "source": [
    "output, (hidden_state, cell_state) = model(torch.randn((1,4)).to(device))\n",
    "print(output)\n",
    "print(hidden_state)\n",
    "print(cell_state)"
   ]
  },
  {
   "cell_type": "markdown",
   "metadata": {
    "id": "Y86J0SMhdyj6"
   },
   "source": [
    "### 1.5 모델 학습"
   ]
  },
  {
   "cell_type": "code",
   "execution_count": 40,
   "metadata": {
    "executionInfo": {
     "elapsed": 449,
     "status": "ok",
     "timestamp": 1701520777168,
     "user": {
      "displayName": "신은섭",
      "userId": "08402895350193765155"
     },
     "user_tz": -540
    },
    "id": "4OaJGpPLdz6G"
   },
   "outputs": [],
   "source": [
    "def train(model, dataloader, criterion, optimizer, epoch, device):\n",
    "  model.train()\n",
    "\n",
    "  running_loss = 0\n",
    "\n",
    "  with tqdm(dataloader) as pbar:\n",
    "    for i, (features, targets) in enumerate(pbar):\n",
    "      features = features.to(device)\n",
    "      targets = targets.to(device)\n",
    "\n",
    "      optimizer.zero_grad()\n",
    "\n",
    "      outputs, _ = model(features)\n",
    "      loss = criterion(outputs, targets)\n",
    "\n",
    "      loss.backward()\n",
    "      optimizer.step()\n",
    "\n",
    "      running_loss += loss.item()\n",
    "      pbar.set_postfix(loss=loss.item())\n",
    "\n",
    "  return running_loss/len(dataloader)"
   ]
  },
  {
   "cell_type": "code",
   "execution_count": 41,
   "metadata": {
    "executionInfo": {
     "elapsed": 2,
     "status": "ok",
     "timestamp": 1701520777574,
     "user": {
      "displayName": "신은섭",
      "userId": "08402895350193765155"
     },
     "user_tz": -540
    },
    "id": "U0JJj6MHf5Jm"
   },
   "outputs": [],
   "source": [
    "def validation(model, dataloader, criterion, epoch, device):\n",
    "  model.eval()\n",
    "\n",
    "  running_loss = 0\n",
    "\n",
    "  with tqdm(dataloader) as pbar:\n",
    "    with torch.no_grad():\n",
    "      for i, (features, targets) in enumerate(pbar):\n",
    "        features = features.to(device)\n",
    "        targets = targets.to(device)\n",
    "\n",
    "        outputs, _ = model(features)\n",
    "        loss = criterion(outputs, targets)\n",
    "\n",
    "        running_loss += loss.item()\n",
    "        pbar.set_postfix(loss=loss.item())\n",
    "\n",
    "  return running_loss/len(dataloader)"
   ]
  },
  {
   "cell_type": "code",
   "execution_count": 69,
   "metadata": {
    "colab": {
     "base_uri": "https://localhost:8080/"
    },
    "executionInfo": {
     "elapsed": 24945,
     "status": "ok",
     "timestamp": 1701521621377,
     "user": {
      "displayName": "신은섭",
      "userId": "08402895350193765155"
     },
     "user_tz": -540
    },
    "id": "-cPhJ0AfgHID",
    "outputId": "95ad3f55-3141-46d1-f809-e5ce6958fbee"
   },
   "outputs": [
    {
     "name": "stdout",
     "output_type": "stream",
     "text": [
      "LR: [0.1]\n"
     ]
    },
    {
     "name": "stderr",
     "output_type": "stream",
     "text": [
      "100%|██████████| 8/8 [00:00<00:00, 39.29it/s, loss=0.00794]\n",
      "100%|██████████| 2/2 [00:00<00:00, 14.69it/s, loss=0.332]\n"
     ]
    },
    {
     "name": "stdout",
     "output_type": "stream",
     "text": [
      "[0/60] valid loss: 0.2432\n",
      "\n",
      "Update Best Model: 0.24321478605270386\n",
      "LR: [0.1]\n"
     ]
    },
    {
     "name": "stderr",
     "output_type": "stream",
     "text": [
      "100%|██████████| 8/8 [00:00<00:00, 39.74it/s, loss=0.00191]\n",
      "100%|██████████| 2/2 [00:00<00:00, 14.39it/s, loss=0.125]\n"
     ]
    },
    {
     "name": "stdout",
     "output_type": "stream",
     "text": [
      "[1/60] valid loss: 0.0901\n",
      "\n",
      "Update Best Model: 0.09009485691785812\n",
      "LR: [0.1]\n"
     ]
    },
    {
     "name": "stderr",
     "output_type": "stream",
     "text": [
      "100%|██████████| 8/8 [00:00<00:00, 39.73it/s, loss=0.00146]\n",
      "100%|██████████| 2/2 [00:00<00:00, 12.84it/s, loss=0.0535]\n"
     ]
    },
    {
     "name": "stdout",
     "output_type": "stream",
     "text": [
      "[2/60] valid loss: 0.0382\n",
      "\n",
      "Update Best Model: 0.03822361957281828\n",
      "LR: [0.1]\n"
     ]
    },
    {
     "name": "stderr",
     "output_type": "stream",
     "text": [
      "100%|██████████| 8/8 [00:00<00:00, 43.42it/s, loss=0.00065]\n",
      "100%|██████████| 2/2 [00:00<00:00, 14.04it/s, loss=0.0347]\n"
     ]
    },
    {
     "name": "stdout",
     "output_type": "stream",
     "text": [
      "[3/60] valid loss: 0.0252\n",
      "\n",
      "Update Best Model: 0.025163723155856133\n",
      "LR: [0.1]\n"
     ]
    },
    {
     "name": "stderr",
     "output_type": "stream",
     "text": [
      "100%|██████████| 8/8 [00:00<00:00, 41.21it/s, loss=0.00054]\n",
      "100%|██████████| 2/2 [00:00<00:00, 13.50it/s, loss=0.0108]\n"
     ]
    },
    {
     "name": "stdout",
     "output_type": "stream",
     "text": [
      "[4/60] valid loss: 0.0082\n",
      "\n",
      "Update Best Model: 0.008235243847593665\n",
      "LR: [0.1]\n"
     ]
    },
    {
     "name": "stderr",
     "output_type": "stream",
     "text": [
      "100%|██████████| 8/8 [00:00<00:00, 41.30it/s, loss=0.000521]\n",
      "100%|██████████| 2/2 [00:00<00:00, 14.32it/s, loss=0.0106]\n"
     ]
    },
    {
     "name": "stdout",
     "output_type": "stream",
     "text": [
      "[5/60] valid loss: 0.0079\n",
      "\n",
      "Update Best Model: 0.007883735001087189\n",
      "LR: [0.1]\n"
     ]
    },
    {
     "name": "stderr",
     "output_type": "stream",
     "text": [
      "100%|██████████| 8/8 [00:00<00:00, 41.47it/s, loss=0.00061]\n",
      "100%|██████████| 2/2 [00:00<00:00, 14.04it/s, loss=0.00988]\n"
     ]
    },
    {
     "name": "stdout",
     "output_type": "stream",
     "text": [
      "[6/60] valid loss: 0.0073\n",
      "\n",
      "Update Best Model: 0.007310695946216583\n",
      "LR: [0.1]\n"
     ]
    },
    {
     "name": "stderr",
     "output_type": "stream",
     "text": [
      "100%|██████████| 8/8 [00:00<00:00, 39.75it/s, loss=0.000458]\n",
      "100%|██████████| 2/2 [00:00<00:00, 14.31it/s, loss=0.00913]\n"
     ]
    },
    {
     "name": "stdout",
     "output_type": "stream",
     "text": [
      "[7/60] valid loss: 0.0069\n",
      "\n",
      "Update Best Model: 0.00685717654414475\n",
      "LR: [0.1]\n"
     ]
    },
    {
     "name": "stderr",
     "output_type": "stream",
     "text": [
      "100%|██████████| 8/8 [00:00<00:00, 39.98it/s, loss=0.000462]\n",
      "100%|██████████| 2/2 [00:00<00:00, 14.36it/s, loss=0.00883]\n"
     ]
    },
    {
     "name": "stdout",
     "output_type": "stream",
     "text": [
      "[8/60] valid loss: 0.0066\n",
      "\n",
      "Update Best Model: 0.006595255807042122\n",
      "LR: [0.1]\n"
     ]
    },
    {
     "name": "stderr",
     "output_type": "stream",
     "text": [
      "100%|██████████| 8/8 [00:00<00:00, 43.17it/s, loss=0.000439]\n",
      "100%|██████████| 2/2 [00:00<00:00, 12.71it/s, loss=0.00908]\n"
     ]
    },
    {
     "name": "stdout",
     "output_type": "stream",
     "text": [
      "[9/60] valid loss: 0.0068\n",
      "\n",
      "LR: [0.1]\n"
     ]
    },
    {
     "name": "stderr",
     "output_type": "stream",
     "text": [
      "100%|██████████| 8/8 [00:00<00:00, 28.82it/s, loss=0.000381]\n",
      "100%|██████████| 2/2 [00:00<00:00,  8.71it/s, loss=0.00849]\n"
     ]
    },
    {
     "name": "stdout",
     "output_type": "stream",
     "text": [
      "[10/60] valid loss: 0.0064\n",
      "\n",
      "Update Best Model: 0.0064131265971809626\n",
      "LR: [0.1]\n"
     ]
    },
    {
     "name": "stderr",
     "output_type": "stream",
     "text": [
      "100%|██████████| 8/8 [00:00<00:00, 27.74it/s, loss=0.000375]\n",
      "100%|██████████| 2/2 [00:00<00:00,  8.36it/s, loss=0.00812]\n"
     ]
    },
    {
     "name": "stdout",
     "output_type": "stream",
     "text": [
      "[11/60] valid loss: 0.0062\n",
      "\n",
      "Update Best Model: 0.006174624431878328\n",
      "LR: [0.1]\n"
     ]
    },
    {
     "name": "stderr",
     "output_type": "stream",
     "text": [
      "100%|██████████| 8/8 [00:00<00:00, 29.48it/s, loss=0.000342]\n",
      "100%|██████████| 2/2 [00:00<00:00,  8.12it/s, loss=0.00773]\n"
     ]
    },
    {
     "name": "stdout",
     "output_type": "stream",
     "text": [
      "[12/60] valid loss: 0.0059\n",
      "\n",
      "Update Best Model: 0.0059284132439643145\n",
      "LR: [0.1]\n"
     ]
    },
    {
     "name": "stderr",
     "output_type": "stream",
     "text": [
      "100%|██████████| 8/8 [00:00<00:00, 27.85it/s, loss=0.000327]\n",
      "100%|██████████| 2/2 [00:00<00:00,  8.75it/s, loss=0.00759]\n"
     ]
    },
    {
     "name": "stdout",
     "output_type": "stream",
     "text": [
      "[13/60] valid loss: 0.0058\n",
      "\n",
      "Update Best Model: 0.0058379643596708775\n",
      "LR: [0.1]\n"
     ]
    },
    {
     "name": "stderr",
     "output_type": "stream",
     "text": [
      "100%|██████████| 8/8 [00:00<00:00, 27.96it/s, loss=0.000317]\n",
      "100%|██████████| 2/2 [00:00<00:00,  9.16it/s, loss=0.00762]\n"
     ]
    },
    {
     "name": "stdout",
     "output_type": "stream",
     "text": [
      "[14/60] valid loss: 0.0059\n",
      "\n",
      "LR: [0.1]\n"
     ]
    },
    {
     "name": "stderr",
     "output_type": "stream",
     "text": [
      "100%|██████████| 8/8 [00:00<00:00, 27.13it/s, loss=0.0003]\n",
      "100%|██████████| 2/2 [00:00<00:00,  9.06it/s, loss=0.0076]\n"
     ]
    },
    {
     "name": "stdout",
     "output_type": "stream",
     "text": [
      "[15/60] valid loss: 0.0059\n",
      "\n",
      "LR: [0.1]\n"
     ]
    },
    {
     "name": "stderr",
     "output_type": "stream",
     "text": [
      "100%|██████████| 8/8 [00:00<00:00, 29.60it/s, loss=0.000289]\n",
      "100%|██████████| 2/2 [00:00<00:00,  9.11it/s, loss=0.00771]\n"
     ]
    },
    {
     "name": "stdout",
     "output_type": "stream",
     "text": [
      "[16/60] valid loss: 0.0060\n",
      "\n",
      "LR: [0.1]\n"
     ]
    },
    {
     "name": "stderr",
     "output_type": "stream",
     "text": [
      "100%|██████████| 8/8 [00:00<00:00, 28.08it/s, loss=0.000275]\n",
      "100%|██████████| 2/2 [00:00<00:00, 12.40it/s, loss=0.00789]\n"
     ]
    },
    {
     "name": "stdout",
     "output_type": "stream",
     "text": [
      "[17/60] valid loss: 0.0062\n",
      "\n",
      "LR: [0.1]\n"
     ]
    },
    {
     "name": "stderr",
     "output_type": "stream",
     "text": [
      "100%|██████████| 8/8 [00:00<00:00, 39.57it/s, loss=0.000263]\n",
      "100%|██████████| 2/2 [00:00<00:00, 12.48it/s, loss=0.0081]\n"
     ]
    },
    {
     "name": "stdout",
     "output_type": "stream",
     "text": [
      "[18/60] valid loss: 0.0064\n",
      "\n",
      "LR: [0.1]\n"
     ]
    },
    {
     "name": "stderr",
     "output_type": "stream",
     "text": [
      "100%|██████████| 8/8 [00:00<00:00, 42.24it/s, loss=0.000303]\n",
      "100%|██████████| 2/2 [00:00<00:00, 13.36it/s, loss=0.00794]\n"
     ]
    },
    {
     "name": "stdout",
     "output_type": "stream",
     "text": [
      "[19/60] valid loss: 0.0062\n",
      "\n",
      "LR: [0.020000000000000004]\n"
     ]
    },
    {
     "name": "stderr",
     "output_type": "stream",
     "text": [
      "100%|██████████| 8/8 [00:00<00:00, 40.56it/s, loss=0.000347]\n",
      "100%|██████████| 2/2 [00:00<00:00, 12.71it/s, loss=0.00773]\n"
     ]
    },
    {
     "name": "stdout",
     "output_type": "stream",
     "text": [
      "[20/60] valid loss: 0.0060\n",
      "\n",
      "LR: [0.020000000000000004]\n"
     ]
    },
    {
     "name": "stderr",
     "output_type": "stream",
     "text": [
      "100%|██████████| 8/8 [00:00<00:00, 38.41it/s, loss=0.000297]\n",
      "100%|██████████| 2/2 [00:00<00:00, 14.19it/s, loss=0.0073]\n"
     ]
    },
    {
     "name": "stdout",
     "output_type": "stream",
     "text": [
      "[21/60] valid loss: 0.0058\n",
      "\n",
      "Update Best Model: 0.005809413269162178\n",
      "LR: [0.020000000000000004]\n"
     ]
    },
    {
     "name": "stderr",
     "output_type": "stream",
     "text": [
      "100%|██████████| 8/8 [00:00<00:00, 41.25it/s, loss=0.000248]\n",
      "100%|██████████| 2/2 [00:00<00:00, 13.72it/s, loss=0.00731]\n"
     ]
    },
    {
     "name": "stdout",
     "output_type": "stream",
     "text": [
      "[22/60] valid loss: 0.0057\n",
      "\n",
      "Update Best Model: 0.0057407834101468325\n",
      "LR: [0.020000000000000004]\n"
     ]
    },
    {
     "name": "stderr",
     "output_type": "stream",
     "text": [
      "100%|██████████| 8/8 [00:00<00:00, 43.55it/s, loss=0.000248]\n",
      "100%|██████████| 2/2 [00:00<00:00, 13.08it/s, loss=0.00715]\n"
     ]
    },
    {
     "name": "stdout",
     "output_type": "stream",
     "text": [
      "[23/60] valid loss: 0.0056\n",
      "\n",
      "Update Best Model: 0.005623348988592625\n",
      "LR: [0.020000000000000004]\n"
     ]
    },
    {
     "name": "stderr",
     "output_type": "stream",
     "text": [
      "100%|██████████| 8/8 [00:00<00:00, 38.65it/s, loss=0.000252]\n",
      "100%|██████████| 2/2 [00:00<00:00, 14.10it/s, loss=0.00691]\n"
     ]
    },
    {
     "name": "stdout",
     "output_type": "stream",
     "text": [
      "[24/60] valid loss: 0.0055\n",
      "\n",
      "Update Best Model: 0.005467668874189258\n",
      "LR: [0.020000000000000004]\n"
     ]
    },
    {
     "name": "stderr",
     "output_type": "stream",
     "text": [
      "100%|██████████| 8/8 [00:00<00:00, 41.44it/s, loss=0.000246]\n",
      "100%|██████████| 2/2 [00:00<00:00, 13.82it/s, loss=0.00689]\n"
     ]
    },
    {
     "name": "stdout",
     "output_type": "stream",
     "text": [
      "[25/60] valid loss: 0.0054\n",
      "\n",
      "Update Best Model: 0.005446701776236296\n",
      "LR: [0.020000000000000004]\n"
     ]
    },
    {
     "name": "stderr",
     "output_type": "stream",
     "text": [
      "100%|██████████| 8/8 [00:00<00:00, 39.83it/s, loss=0.000246]\n",
      "100%|██████████| 2/2 [00:00<00:00, 13.66it/s, loss=0.00677]\n"
     ]
    },
    {
     "name": "stdout",
     "output_type": "stream",
     "text": [
      "[26/60] valid loss: 0.0054\n",
      "\n",
      "Update Best Model: 0.005367598962038755\n",
      "LR: [0.020000000000000004]\n"
     ]
    },
    {
     "name": "stderr",
     "output_type": "stream",
     "text": [
      "100%|██████████| 8/8 [00:00<00:00, 42.54it/s, loss=0.000246]\n",
      "100%|██████████| 2/2 [00:00<00:00, 13.43it/s, loss=0.00671]\n"
     ]
    },
    {
     "name": "stdout",
     "output_type": "stream",
     "text": [
      "[27/60] valid loss: 0.0053\n",
      "\n",
      "Update Best Model: 0.005321823293343186\n",
      "LR: [0.020000000000000004]\n"
     ]
    },
    {
     "name": "stderr",
     "output_type": "stream",
     "text": [
      "100%|██████████| 8/8 [00:00<00:00, 40.26it/s, loss=0.000244]\n",
      "100%|██████████| 2/2 [00:00<00:00, 14.26it/s, loss=0.00669]\n"
     ]
    },
    {
     "name": "stdout",
     "output_type": "stream",
     "text": [
      "[28/60] valid loss: 0.0053\n",
      "\n",
      "Update Best Model: 0.005310664419084787\n",
      "LR: [0.020000000000000004]\n"
     ]
    },
    {
     "name": "stderr",
     "output_type": "stream",
     "text": [
      "100%|██████████| 8/8 [00:00<00:00, 40.28it/s, loss=0.000243]\n",
      "100%|██████████| 2/2 [00:00<00:00, 14.49it/s, loss=0.00664]\n"
     ]
    },
    {
     "name": "stdout",
     "output_type": "stream",
     "text": [
      "[29/60] valid loss: 0.0053\n",
      "\n",
      "Update Best Model: 0.005272461683489382\n",
      "LR: [0.020000000000000004]\n"
     ]
    },
    {
     "name": "stderr",
     "output_type": "stream",
     "text": [
      "100%|██████████| 8/8 [00:00<00:00, 40.17it/s, loss=0.000241]\n",
      "100%|██████████| 2/2 [00:00<00:00, 12.81it/s, loss=0.00662]\n"
     ]
    },
    {
     "name": "stdout",
     "output_type": "stream",
     "text": [
      "[30/60] valid loss: 0.0053\n",
      "\n",
      "Update Best Model: 0.005256996373645961\n",
      "LR: [0.020000000000000004]\n"
     ]
    },
    {
     "name": "stderr",
     "output_type": "stream",
     "text": [
      "100%|██████████| 8/8 [00:00<00:00, 39.57it/s, loss=0.000239]\n",
      "100%|██████████| 2/2 [00:00<00:00, 14.05it/s, loss=0.0066]\n"
     ]
    },
    {
     "name": "stdout",
     "output_type": "stream",
     "text": [
      "[31/60] valid loss: 0.0052\n",
      "\n",
      "Update Best Model: 0.005242329090833664\n",
      "LR: [0.020000000000000004]\n"
     ]
    },
    {
     "name": "stderr",
     "output_type": "stream",
     "text": [
      "100%|██████████| 8/8 [00:00<00:00, 40.31it/s, loss=0.000237]\n",
      "100%|██████████| 2/2 [00:00<00:00, 13.95it/s, loss=0.00657]\n"
     ]
    },
    {
     "name": "stdout",
     "output_type": "stream",
     "text": [
      "[32/60] valid loss: 0.0052\n",
      "\n",
      "Update Best Model: 0.005219249636866152\n",
      "LR: [0.020000000000000004]\n"
     ]
    },
    {
     "name": "stderr",
     "output_type": "stream",
     "text": [
      "100%|██████████| 8/8 [00:00<00:00, 42.33it/s, loss=0.000235]\n",
      "100%|██████████| 2/2 [00:00<00:00, 13.47it/s, loss=0.00654]\n"
     ]
    },
    {
     "name": "stdout",
     "output_type": "stream",
     "text": [
      "[33/60] valid loss: 0.0052\n",
      "\n",
      "Update Best Model: 0.005203819600865245\n",
      "LR: [0.020000000000000004]\n"
     ]
    },
    {
     "name": "stderr",
     "output_type": "stream",
     "text": [
      "100%|██████████| 8/8 [00:00<00:00, 41.90it/s, loss=0.000233]\n",
      "100%|██████████| 2/2 [00:00<00:00, 14.31it/s, loss=0.00652]\n"
     ]
    },
    {
     "name": "stdout",
     "output_type": "stream",
     "text": [
      "[34/60] valid loss: 0.0052\n",
      "\n",
      "Update Best Model: 0.005185014219023287\n",
      "LR: [0.020000000000000004]\n"
     ]
    },
    {
     "name": "stderr",
     "output_type": "stream",
     "text": [
      "100%|██████████| 8/8 [00:00<00:00, 38.27it/s, loss=0.000231]\n",
      "100%|██████████| 2/2 [00:00<00:00, 13.56it/s, loss=0.00649]\n"
     ]
    },
    {
     "name": "stdout",
     "output_type": "stream",
     "text": [
      "[35/60] valid loss: 0.0052\n",
      "\n",
      "Update Best Model: 0.005166097078472376\n",
      "LR: [0.020000000000000004]\n"
     ]
    },
    {
     "name": "stderr",
     "output_type": "stream",
     "text": [
      "100%|██████████| 8/8 [00:00<00:00, 39.61it/s, loss=0.000229]\n",
      "100%|██████████| 2/2 [00:00<00:00, 13.87it/s, loss=0.00646]\n"
     ]
    },
    {
     "name": "stdout",
     "output_type": "stream",
     "text": [
      "[36/60] valid loss: 0.0051\n",
      "\n",
      "Update Best Model: 0.005148336756974459\n",
      "LR: [0.020000000000000004]\n"
     ]
    },
    {
     "name": "stderr",
     "output_type": "stream",
     "text": [
      "100%|██████████| 8/8 [00:00<00:00, 42.95it/s, loss=0.000226]\n",
      "100%|██████████| 2/2 [00:00<00:00, 13.12it/s, loss=0.00644]\n"
     ]
    },
    {
     "name": "stdout",
     "output_type": "stream",
     "text": [
      "[37/60] valid loss: 0.0051\n",
      "\n",
      "Update Best Model: 0.005129612633027136\n",
      "LR: [0.020000000000000004]\n"
     ]
    },
    {
     "name": "stderr",
     "output_type": "stream",
     "text": [
      "100%|██████████| 8/8 [00:00<00:00, 43.33it/s, loss=0.000224]\n",
      "100%|██████████| 2/2 [00:00<00:00, 13.94it/s, loss=0.00641]\n"
     ]
    },
    {
     "name": "stdout",
     "output_type": "stream",
     "text": [
      "[38/60] valid loss: 0.0051\n",
      "\n",
      "Update Best Model: 0.005111668608151376\n",
      "LR: [0.020000000000000004]\n"
     ]
    },
    {
     "name": "stderr",
     "output_type": "stream",
     "text": [
      "100%|██████████| 8/8 [00:00<00:00, 41.97it/s, loss=0.000222]\n",
      "100%|██████████| 2/2 [00:00<00:00, 14.37it/s, loss=0.00638]\n"
     ]
    },
    {
     "name": "stdout",
     "output_type": "stream",
     "text": [
      "[39/60] valid loss: 0.0051\n",
      "\n",
      "Update Best Model: 0.005093370447866619\n",
      "LR: [0.004000000000000001]\n"
     ]
    },
    {
     "name": "stderr",
     "output_type": "stream",
     "text": [
      "100%|██████████| 8/8 [00:00<00:00, 41.20it/s, loss=0.00022]\n",
      "100%|██████████| 2/2 [00:00<00:00, 12.96it/s, loss=0.00638]\n"
     ]
    },
    {
     "name": "stdout",
     "output_type": "stream",
     "text": [
      "[40/60] valid loss: 0.0051\n",
      "\n",
      "Update Best Model: 0.005090093123726547\n",
      "LR: [0.004000000000000001]\n"
     ]
    },
    {
     "name": "stderr",
     "output_type": "stream",
     "text": [
      "100%|██████████| 8/8 [00:00<00:00, 38.91it/s, loss=0.00022]\n",
      "100%|██████████| 2/2 [00:00<00:00, 13.62it/s, loss=0.00637]\n"
     ]
    },
    {
     "name": "stdout",
     "output_type": "stream",
     "text": [
      "[41/60] valid loss: 0.0051\n",
      "\n",
      "Update Best Model: 0.005082861171104014\n",
      "LR: [0.004000000000000001]\n"
     ]
    },
    {
     "name": "stderr",
     "output_type": "stream",
     "text": [
      "100%|██████████| 8/8 [00:00<00:00, 39.29it/s, loss=0.00022]\n",
      "100%|██████████| 2/2 [00:00<00:00, 14.57it/s, loss=0.00636]\n"
     ]
    },
    {
     "name": "stdout",
     "output_type": "stream",
     "text": [
      "[42/60] valid loss: 0.0051\n",
      "\n",
      "Update Best Model: 0.00507632945664227\n",
      "LR: [0.004000000000000001]\n"
     ]
    },
    {
     "name": "stderr",
     "output_type": "stream",
     "text": [
      "100%|██████████| 8/8 [00:00<00:00, 40.50it/s, loss=0.000219]\n",
      "100%|██████████| 2/2 [00:00<00:00, 12.60it/s, loss=0.00635]\n"
     ]
    },
    {
     "name": "stdout",
     "output_type": "stream",
     "text": [
      "[43/60] valid loss: 0.0051\n",
      "\n",
      "Update Best Model: 0.00507199764251709\n",
      "LR: [0.004000000000000001]\n"
     ]
    },
    {
     "name": "stderr",
     "output_type": "stream",
     "text": [
      "100%|██████████| 8/8 [00:00<00:00, 42.26it/s, loss=0.000219]\n",
      "100%|██████████| 2/2 [00:00<00:00, 14.28it/s, loss=0.00635]\n"
     ]
    },
    {
     "name": "stdout",
     "output_type": "stream",
     "text": [
      "[44/60] valid loss: 0.0051\n",
      "\n",
      "Update Best Model: 0.005069027771241963\n",
      "LR: [0.004000000000000001]\n"
     ]
    },
    {
     "name": "stderr",
     "output_type": "stream",
     "text": [
      "100%|██████████| 8/8 [00:00<00:00, 32.69it/s, loss=0.000218]\n",
      "100%|██████████| 2/2 [00:00<00:00,  9.65it/s, loss=0.00634]\n"
     ]
    },
    {
     "name": "stdout",
     "output_type": "stream",
     "text": [
      "[45/60] valid loss: 0.0051\n",
      "\n",
      "Update Best Model: 0.00506615883205086\n",
      "LR: [0.004000000000000001]\n"
     ]
    },
    {
     "name": "stderr",
     "output_type": "stream",
     "text": [
      "100%|██████████| 8/8 [00:00<00:00, 28.32it/s, loss=0.000218]\n",
      "100%|██████████| 2/2 [00:00<00:00,  8.70it/s, loss=0.00634]\n"
     ]
    },
    {
     "name": "stdout",
     "output_type": "stream",
     "text": [
      "[46/60] valid loss: 0.0051\n",
      "\n",
      "Update Best Model: 0.005062799900770187\n",
      "LR: [0.004000000000000001]\n"
     ]
    },
    {
     "name": "stderr",
     "output_type": "stream",
     "text": [
      "100%|██████████| 8/8 [00:00<00:00, 27.31it/s, loss=0.000217]\n",
      "100%|██████████| 2/2 [00:00<00:00,  8.71it/s, loss=0.00633]\n"
     ]
    },
    {
     "name": "stdout",
     "output_type": "stream",
     "text": [
      "[47/60] valid loss: 0.0051\n",
      "\n",
      "Update Best Model: 0.005059014656580985\n",
      "LR: [0.004000000000000001]\n"
     ]
    },
    {
     "name": "stderr",
     "output_type": "stream",
     "text": [
      "100%|██████████| 8/8 [00:00<00:00, 26.14it/s, loss=0.000217]\n",
      "100%|██████████| 2/2 [00:00<00:00,  8.97it/s, loss=0.00632]\n"
     ]
    },
    {
     "name": "stdout",
     "output_type": "stream",
     "text": [
      "[48/60] valid loss: 0.0051\n",
      "\n",
      "Update Best Model: 0.0050550722517073154\n",
      "LR: [0.004000000000000001]\n"
     ]
    },
    {
     "name": "stderr",
     "output_type": "stream",
     "text": [
      "100%|██████████| 8/8 [00:00<00:00, 26.64it/s, loss=0.000216]\n",
      "100%|██████████| 2/2 [00:00<00:00,  8.72it/s, loss=0.00632]\n"
     ]
    },
    {
     "name": "stdout",
     "output_type": "stream",
     "text": [
      "[49/60] valid loss: 0.0051\n",
      "\n",
      "Update Best Model: 0.0050511324079707265\n",
      "LR: [0.004000000000000001]\n"
     ]
    },
    {
     "name": "stderr",
     "output_type": "stream",
     "text": [
      "100%|██████████| 8/8 [00:00<00:00, 26.19it/s, loss=0.000216]\n",
      "100%|██████████| 2/2 [00:00<00:00,  8.39it/s, loss=0.00631]\n"
     ]
    },
    {
     "name": "stdout",
     "output_type": "stream",
     "text": [
      "[50/60] valid loss: 0.0050\n",
      "\n",
      "Update Best Model: 0.005047219572588801\n",
      "LR: [0.004000000000000001]\n"
     ]
    },
    {
     "name": "stderr",
     "output_type": "stream",
     "text": [
      "100%|██████████| 8/8 [00:00<00:00, 25.89it/s, loss=0.000216]\n",
      "100%|██████████| 2/2 [00:00<00:00,  8.39it/s, loss=0.00631]\n"
     ]
    },
    {
     "name": "stdout",
     "output_type": "stream",
     "text": [
      "[51/60] valid loss: 0.0050\n",
      "\n",
      "Update Best Model: 0.0050433059222996235\n",
      "LR: [0.004000000000000001]\n"
     ]
    },
    {
     "name": "stderr",
     "output_type": "stream",
     "text": [
      "100%|██████████| 8/8 [00:00<00:00, 27.47it/s, loss=0.000215]\n",
      "100%|██████████| 2/2 [00:00<00:00, 12.14it/s, loss=0.0063]\n"
     ]
    },
    {
     "name": "stdout",
     "output_type": "stream",
     "text": [
      "[52/60] valid loss: 0.0050\n",
      "\n",
      "Update Best Model: 0.005039372947067022\n",
      "LR: [0.004000000000000001]\n"
     ]
    },
    {
     "name": "stderr",
     "output_type": "stream",
     "text": [
      "100%|██████████| 8/8 [00:00<00:00, 41.61it/s, loss=0.000215]\n",
      "100%|██████████| 2/2 [00:00<00:00, 12.13it/s, loss=0.0063]\n"
     ]
    },
    {
     "name": "stdout",
     "output_type": "stream",
     "text": [
      "[53/60] valid loss: 0.0050\n",
      "\n",
      "Update Best Model: 0.0050354182021692395\n",
      "LR: [0.004000000000000001]\n"
     ]
    },
    {
     "name": "stderr",
     "output_type": "stream",
     "text": [
      "100%|██████████| 8/8 [00:00<00:00, 40.28it/s, loss=0.000214]\n",
      "100%|██████████| 2/2 [00:00<00:00, 14.05it/s, loss=0.00629]\n"
     ]
    },
    {
     "name": "stdout",
     "output_type": "stream",
     "text": [
      "[54/60] valid loss: 0.0050\n",
      "\n",
      "Update Best Model: 0.0050314306281507015\n",
      "LR: [0.004000000000000001]\n"
     ]
    },
    {
     "name": "stderr",
     "output_type": "stream",
     "text": [
      "100%|██████████| 8/8 [00:00<00:00, 41.65it/s, loss=0.000213]\n",
      "100%|██████████| 2/2 [00:00<00:00, 14.00it/s, loss=0.00628]\n"
     ]
    },
    {
     "name": "stdout",
     "output_type": "stream",
     "text": [
      "[55/60] valid loss: 0.0050\n",
      "\n",
      "Update Best Model: 0.005027404520660639\n",
      "LR: [0.004000000000000001]\n"
     ]
    },
    {
     "name": "stderr",
     "output_type": "stream",
     "text": [
      "100%|██████████| 8/8 [00:00<00:00, 39.33it/s, loss=0.000213]\n",
      "100%|██████████| 2/2 [00:00<00:00, 13.70it/s, loss=0.00628]\n"
     ]
    },
    {
     "name": "stdout",
     "output_type": "stream",
     "text": [
      "[56/60] valid loss: 0.0050\n",
      "\n",
      "Update Best Model: 0.005023336387239397\n",
      "LR: [0.004000000000000001]\n"
     ]
    },
    {
     "name": "stderr",
     "output_type": "stream",
     "text": [
      "100%|██████████| 8/8 [00:00<00:00, 38.67it/s, loss=0.000212]\n",
      "100%|██████████| 2/2 [00:00<00:00, 14.23it/s, loss=0.00627]\n"
     ]
    },
    {
     "name": "stdout",
     "output_type": "stream",
     "text": [
      "[57/60] valid loss: 0.0050\n",
      "\n",
      "Update Best Model: 0.0050192337948828936\n",
      "LR: [0.004000000000000001]\n"
     ]
    },
    {
     "name": "stderr",
     "output_type": "stream",
     "text": [
      "100%|██████████| 8/8 [00:00<00:00, 40.09it/s, loss=0.000212]\n",
      "100%|██████████| 2/2 [00:00<00:00, 13.07it/s, loss=0.00627]\n"
     ]
    },
    {
     "name": "stdout",
     "output_type": "stream",
     "text": [
      "[58/60] valid loss: 0.0050\n",
      "\n",
      "Update Best Model: 0.005015100352466106\n",
      "LR: [0.004000000000000001]\n"
     ]
    },
    {
     "name": "stderr",
     "output_type": "stream",
     "text": [
      "100%|██████████| 8/8 [00:00<00:00, 41.54it/s, loss=0.000211]\n",
      "100%|██████████| 2/2 [00:00<00:00, 13.77it/s, loss=0.00626]"
     ]
    },
    {
     "name": "stdout",
     "output_type": "stream",
     "text": [
      "[59/60] valid loss: 0.0050\n",
      "\n",
      "Update Best Model: 0.005010937456972897\n"
     ]
    },
    {
     "name": "stderr",
     "output_type": "stream",
     "text": [
      "\n"
     ]
    }
   ],
   "source": [
    "EPOCH = 60\n",
    "BATCH_SIZE = 128\n",
    "NUM_WORKERS = 2\n",
    "LR = 0.1\n",
    "\n",
    "trainset = BitcoinDataset()\n",
    "valset = BitcoinDataset(split=\"val\")\n",
    "testset = BitcoinDataset(split=\"test\")\n",
    "\n",
    "train_loader = DataLoader(\n",
    "  dataset=trainset,\n",
    "  batch_size=BATCH_SIZE, num_workers=NUM_WORKERS,\n",
    ")\n",
    "val_loader = DataLoader(\n",
    "  dataset=valset,\n",
    "  batch_size=BATCH_SIZE, num_workers=NUM_WORKERS,\n",
    ")\n",
    "test_loader = DataLoader(\n",
    "  dataset=testset,\n",
    "  batch_size=BATCH_SIZE, num_workers=NUM_WORKERS,\n",
    ")\n",
    "\n",
    "# Model\n",
    "model = nn.LSTM(4, 4)\n",
    "\n",
    "# Optimizer, Loss, Scheduler\n",
    "optimizer = optim.Adam(model.parameters(), lr=LR)\n",
    "criterion = nn.MSELoss()\n",
    "scheduler = optim.lr_scheduler.StepLR(optimizer, step_size=20, gamma=0.2)\n",
    "\n",
    "model = model.to(device)\n",
    "criterion = criterion.to(device)\n",
    "\n",
    "# Start Training\n",
    "min_loss = 999\n",
    "for epoch in range(EPOCH):\n",
    "  print(\"LR:\", scheduler.get_last_lr())\n",
    "\n",
    "  tloss = train(model, train_loader, criterion, optimizer, epoch, device)\n",
    "  vloss = validation(model, val_loader, criterion, epoch, device)\n",
    "  print(f'[{epoch}/{EPOCH}] valid loss: {vloss:.4f}\\n')\n",
    "  scheduler.step()\n",
    "\n",
    "  if vloss < min_loss:\n",
    "    print(f\"Update Best Model: {vloss}\")\n",
    "    torch.save(model.state_dict(), \"best.pth\")\n",
    "    min_loss = vloss"
   ]
  },
  {
   "cell_type": "markdown",
   "metadata": {
    "id": "X8b8Ew2CgHrw"
   },
   "source": [
    "### 1.6 추론"
   ]
  },
  {
   "cell_type": "code",
   "execution_count": 70,
   "metadata": {
    "executionInfo": {
     "elapsed": 622,
     "status": "ok",
     "timestamp": 1701521749154,
     "user": {
      "displayName": "신은섭",
      "userId": "08402895350193765155"
     },
     "user_tz": -540
    },
    "id": "GxD3NiQEjfp0"
   },
   "outputs": [],
   "source": [
    "def test(model, dataloader, device):\n",
    "  model.eval()\n",
    "\n",
    "  predicts = []\n",
    "\n",
    "  with tqdm(dataloader) as pbar:\n",
    "    with torch.no_grad():\n",
    "      for i, (features, _) in enumerate(pbar):\n",
    "        features = features.to(device)\n",
    "\n",
    "        outputs, _ = model(features)\n",
    "        predicts.append(outputs[:, -1])\n",
    "\n",
    "  return torch.cat(predicts)"
   ]
  },
  {
   "cell_type": "code",
   "execution_count": 89,
   "metadata": {
    "executionInfo": {
     "elapsed": 4,
     "status": "ok",
     "timestamp": 1701522116153,
     "user": {
      "displayName": "신은섭",
      "userId": "08402895350193765155"
     },
     "user_tz": -540
    },
    "id": "8YQmVKS8nLT6"
   },
   "outputs": [],
   "source": [
    "def show_plot(model, dataloader, device):\n",
    "  scaler = dataloader.dataset.scaler\n",
    "\n",
    "  actual = dataloader.dataset.data[:, -1]\n",
    "  predicts = test(model, dataloader, device).cpu().numpy()\n",
    "\n",
    "  df = pd.DataFrame({\"actual\": actual, \"predicted\": predicts})\n",
    "  df = df.apply(\n",
    "    lambda x: scaler.inverse_transform(np.array(x).reshape(-1, 1)).reshape((-1))\n",
    "  )\n",
    "  df.plot(figsize=(14,5))"
   ]
  },
  {
   "cell_type": "code",
   "execution_count": 87,
   "metadata": {
    "colab": {
     "base_uri": "https://localhost:8080/"
    },
    "executionInfo": {
     "elapsed": 3,
     "status": "ok",
     "timestamp": 1701522090543,
     "user": {
      "displayName": "신은섭",
      "userId": "08402895350193765155"
     },
     "user_tz": -540
    },
    "id": "ENM8TOOBjJzZ",
    "outputId": "add02876-acb4-4f21-8d66-532367ead624"
   },
   "outputs": [
    {
     "data": {
      "text/plain": [
       "<All keys matched successfully>"
      ]
     },
     "execution_count": 87,
     "metadata": {},
     "output_type": "execute_result"
    }
   ],
   "source": [
    "model = nn.LSTM(4, 4).to(device)\n",
    "model.load_state_dict(torch.load(\"best.pth\"))"
   ]
  },
  {
   "cell_type": "code",
   "execution_count": 90,
   "metadata": {
    "colab": {
     "base_uri": "https://localhost:8080/",
     "height": 280
    },
    "executionInfo": {
     "elapsed": 721,
     "status": "ok",
     "timestamp": 1701522118938,
     "user": {
      "displayName": "신은섭",
      "userId": "08402895350193765155"
     },
     "user_tz": -540
    },
    "id": "pgXnfBRgjKFG",
    "outputId": "e93b5518-52c9-44b8-d333-1de14de4316e"
   },
   "outputs": [
    {
     "name": "stderr",
     "output_type": "stream",
     "text": [
      "100%|██████████| 8/8 [00:00<00:00, 42.43it/s]\n"
     ]
    },
    {
     "data": {
      "image/png": "[encoded data removed]",
      "text/plain": [
       "<Figure size 1400x500 with 1 Axes>"
      ]
     },
     "metadata": {},
     "output_type": "display_data"
    }
   ],
   "source": [
    "show_plot(model, train_loader, device)"
   ]
  },
  {
   "cell_type": "code",
   "execution_count": 91,
   "metadata": {
    "colab": {
     "base_uri": "https://localhost:8080/",
     "height": 280
    },
    "executionInfo": {
     "elapsed": 1765,
     "status": "ok",
     "timestamp": 1701522133395,
     "user": {
      "displayName": "신은섭",
      "userId": "08402895350193765155"
     },
     "user_tz": -540
    },
    "id": "F6N9eU5tkM3b",
    "outputId": "ff2f3269-8cbb-45a1-fd8c-ce43d7dc64eb"
   },
   "outputs": [
    {
     "name": "stderr",
     "output_type": "stream",
     "text": [
      "100%|██████████| 2/2 [00:00<00:00,  7.06it/s]\n"
     ]
    },
    {
     "data": {
      "image/png": "[encoded data removed]",
      "text/plain": [
       "<Figure size 1400x500 with 1 Axes>"
      ]
     },
     "metadata": {},
     "output_type": "display_data"
    }
   ],
   "source": [
    "show_plot(model, val_loader, device)"
   ]
  },
  {
   "cell_type": "code",
   "execution_count": 92,
   "metadata": {
    "colab": {
     "base_uri": "https://localhost:8080/",
     "height": 278
    },
    "executionInfo": {
     "elapsed": 1752,
     "status": "ok",
     "timestamp": 1701522143717,
     "user": {
      "displayName": "신은섭",
      "userId": "08402895350193765155"
     },
     "user_tz": -540
    },
    "id": "BaOyB3Eam_es",
    "outputId": "a54248d2-6576-4577-e195-b5dbb22280ea"
   },
   "outputs": [
    {
     "name": "stderr",
     "output_type": "stream",
     "text": [
      "100%|██████████| 2/2 [00:00<00:00,  5.16it/s]\n"
     ]
    },
    {
     "data": {
      "image/png": "[encoded data removed]",
      "text/plain": [
       "<Figure size 1400x500 with 1 Axes>"
      ]
     },
     "metadata": {},
     "output_type": "display_data"
    }
   ],
   "source": [
    "show_plot(model, test_loader, device)"
   ]
  }
 ],
 "metadata": {
  "accelerator": "GPU",
  "colab": {
   "authorship_tag": "ABX9TyMs1oO1FVV/h1cgTMxaYI+a",
   "gpuType": "T4",
   "provenance": []
  },
  "kernelspec": {
   "display_name": "Python 3",
   "name": "python3"
  },
  "language_info": {
   "name": "python"
  }
 },
 "nbformat": 4,
 "nbformat_minor": 0
}
