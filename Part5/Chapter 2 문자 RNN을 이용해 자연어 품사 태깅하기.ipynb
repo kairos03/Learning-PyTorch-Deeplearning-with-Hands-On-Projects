{
 "cells": [
  {
   "cell_type": "markdown",
   "metadata": {},
   "source": [
    "## Chapter 2 문자 RNN을 이용해 자연어 품사 태깅하기"
   ]
  },
  {
   "cell_type": "code",
   "execution_count": null,
   "metadata": {
    "colab": {
     "base_uri": "https://localhost:8080/"
    },
    "executionInfo": {
     "elapsed": 5728,
     "status": "ok",
     "timestamp": 1701910008123,
     "user": {
      "displayName": "신은섭",
      "userId": "08402895350193765155"
     },
     "user_tz": -540
    },
    "id": "VgZ_bvDup4gW",
    "outputId": "9cb9f9f0-2fd4-4f11-9e4e-537111632a76"
   },
   "outputs": [
    {
     "name": "stdout",
     "output_type": "stream",
     "text": [
      "Collecting konlpy\n",
      "  Downloading konlpy-0.6.0-py2.py3-none-any.whl (19.4 MB)\n",
      "\u001b[2K     \u001b[90m━━━━━━━━━━━━━━━━━━━━━━━━━━━━━━━━━━━━━━━━\u001b[0m \u001b[32m19.4/19.4 MB\u001b[0m \u001b[31m56.3 MB/s\u001b[0m eta \u001b[36m0:00:00\u001b[0m\n",
      "\u001b[?25hRequirement already satisfied: torchinfo in /usr/local/lib/python3.10/dist-packages (1.8.0)\n",
      "Collecting JPype1>=0.7.0 (from konlpy)\n",
      "  Downloading JPype1-1.4.1-cp310-cp310-manylinux_2_12_x86_64.manylinux2010_x86_64.whl (465 kB)\n",
      "\u001b[2K     \u001b[90m━━━━━━━━━━━━━━━━━━━━━━━━━━━━━━━━━━━━━━━━\u001b[0m \u001b[32m465.3/465.3 kB\u001b[0m \u001b[31m46.7 MB/s\u001b[0m eta \u001b[36m0:00:00\u001b[0m\n",
      "\u001b[?25hRequirement already satisfied: lxml>=4.1.0 in /usr/local/lib/python3.10/dist-packages (from konlpy) (4.9.3)\n",
      "Requirement already satisfied: numpy>=1.6 in /usr/local/lib/python3.10/dist-packages (from konlpy) (1.23.5)\n",
      "Requirement already satisfied: packaging in /usr/local/lib/python3.10/dist-packages (from JPype1>=0.7.0->konlpy) (23.2)\n",
      "Installing collected packages: JPype1, konlpy\n",
      "Successfully installed JPype1-1.4.1 konlpy-0.6.0\n"
     ]
    }
   ],
   "source": [
    "!pip install konlpy torchinfo"
   ]
  },
  {
   "cell_type": "code",
   "execution_count": null,
   "metadata": {
    "id": "sfEeOnQkpxhi"
   },
   "outputs": [],
   "source": [
    "import os\n",
    "import random\n",
    "import numpy as np\n",
    "import pandas as pd\n",
    "from tqdm import tqdm\n",
    "import warnings\n",
    "warnings.filterwarnings(\"ignore\")\n",
    "\n",
    "from torch.utils.data import Dataset, DataLoader\n",
    "import matplotlib.pyplot as plt\n",
    "\n",
    "import torch\n",
    "from torch import nn, optim\n",
    "from torchinfo import summary\n",
    "\n",
    "from konlpy.corpus import kolaw\n",
    "from konlpy.tag import Okt"
   ]
  },
  {
   "cell_type": "code",
   "execution_count": null,
   "metadata": {
    "colab": {
     "base_uri": "https://localhost:8080/"
    },
    "executionInfo": {
     "elapsed": 10,
     "status": "ok",
     "timestamp": 1701910257257,
     "user": {
      "displayName": "신은섭",
      "userId": "08402895350193765155"
     },
     "user_tz": -540
    },
    "id": "DPehgkGmFNqN",
    "outputId": "a53ec0cb-cc88-44df-9074-5966b2c3c7e3"
   },
   "outputs": [],
   "source": [
    "is_cuda = torch.cuda.is_available()\n",
    "device = torch.device(\"cuda\" if is_cuda else \"cpu\")\n",
    "print(is_cuda, device)"
   ]
  },
  {
   "cell_type": "code",
   "execution_count": null,
   "metadata": {
    "id": "gd-8z7QvFOct"
   },
   "outputs": [],
   "source": [
    "seed = 827\n",
    "random.seed(seed)         # python seed\n",
    "np.random.seed(seed)      # numpy seed\n",
    "torch.manual_seed(seed)   # torch seed\n",
    "if device == 'cuda':\n",
    "  torch.cuda.manual_seed_all(seed)  # gpu seed"
   ]
  },
  {
   "cell_type": "markdown",
   "metadata": {
    "id": "zm5DiCEKFPUL"
   },
   "source": [
    "### 2.2 품사 태깅 데이터"
   ]
  },
  {
   "cell_type": "code",
   "execution_count": null,
   "metadata": {
    "colab": {
     "base_uri": "https://localhost:8080/"
    },
    "executionInfo": {
     "elapsed": 6,
     "status": "ok",
     "timestamp": 1701910390495,
     "user": {
      "displayName": "신은섭",
      "userId": "08402895350193765155"
     },
     "user_tz": -540
    },
    "id": "wJmz6C8dvwp_",
    "outputId": "c63223a9-9e19-40a6-feaa-fbce7ba26ccf"
   },
   "outputs": [
    {
     "name": "stdout",
     "output_type": "stream",
     "text": [
      "대한민국헌법\n",
      "\n",
      "유구한 역사와 전통에 빛나는 우리 대한국민은 3·1운동으로\n"
     ]
    }
   ],
   "source": [
    "with kolaw.open('constitution.txt') as f:\n",
    "  corpus = f.read()\n",
    "print(corpus[:40])"
   ]
  },
  {
   "cell_type": "code",
   "execution_count": null,
   "metadata": {
    "colab": {
     "base_uri": "https://localhost:8080/"
    },
    "executionInfo": {
     "elapsed": 307,
     "status": "ok",
     "timestamp": 1701912275299,
     "user": {
      "displayName": "신은섭",
      "userId": "08402895350193765155"
     },
     "user_tz": -540
    },
    "id": "AAKYjttv7MTs",
    "outputId": "69087744-5c6b-4781-c2b9-345b4d9311cb"
   },
   "outputs": [
    {
     "data": {
      "text/plain": [
       "{'': 0,\n",
       " '\\n': 1,\n",
       " ' ': 2,\n",
       " '\"': 3,\n",
       " ',': 4,\n",
       " '.': 5,\n",
       " '0': 6,\n",
       " '1': 7,\n",
       " '2': 8,\n",
       " '3': 9,\n",
       " '4': 10,\n",
       " '5': 11,\n",
       " '6': 12,\n",
       " '7': 13,\n",
       " '8': 14,\n",
       " '9': 15,\n",
       " '<': 16,\n",
       " '>': 17,\n",
       " '·': 18,\n",
       " '①': 19,\n",
       " '②': 20,\n",
       " '③': 21,\n",
       " '④': 22,\n",
       " '⑤': 23,\n",
       " '⑥': 24,\n",
       " '⑦': 25,\n",
       " '가': 26,\n",
       " '각': 27,\n",
       " '간': 28,\n",
       " '감': 29,\n",
       " '강': 30,\n",
       " '같': 31,\n",
       " '개': 32,\n",
       " '거': 33,\n",
       " '건': 34,\n",
       " '걸': 35,\n",
       " '검': 36,\n",
       " '것': 37,\n",
       " '게': 38,\n",
       " '격': 39,\n",
       " '견': 40,\n",
       " '결': 41,\n",
       " '겸': 42,\n",
       " '경': 43,\n",
       " '계': 44,\n",
       " '고': 45,\n",
       " '공': 46,\n",
       " '과': 47,\n",
       " '관': 48,\n",
       " '광': 49,\n",
       " '교': 50,\n",
       " '구': 51,\n",
       " '국': 52,\n",
       " '군': 53,\n",
       " '권': 54,\n",
       " '궐': 55,\n",
       " '규': 56,\n",
       " '균': 57,\n",
       " '그': 58,\n",
       " '근': 59,\n",
       " '금': 60,\n",
       " '급': 61,\n",
       " '기': 62,\n",
       " '긴': 63,\n",
       " '까': 64,\n",
       " '나': 65,\n",
       " '날': 66,\n",
       " '남': 67,\n",
       " '납': 68,\n",
       " '내': 69,\n",
       " '넘': 70,\n",
       " '녀': 71,\n",
       " '년': 72,\n",
       " '념': 73,\n",
       " '녕': 74,\n",
       " '노': 75,\n",
       " '농': 76,\n",
       " '누': 77,\n",
       " '는': 78,\n",
       " '능': 79,\n",
       " '니': 80,\n",
       " '닌': 81,\n",
       " '다': 82,\n",
       " '단': 83,\n",
       " '달': 84,\n",
       " '담': 85,\n",
       " '답': 86,\n",
       " '당': 87,\n",
       " '대': 88,\n",
       " '더': 89,\n",
       " '덕': 90,\n",
       " '던': 91,\n",
       " '데': 92,\n",
       " '도': 93,\n",
       " '독': 94,\n",
       " '동': 95,\n",
       " '되': 96,\n",
       " '된': 97,\n",
       " '될': 98,\n",
       " '두': 99,\n",
       " '둔': 100,\n",
       " '둘': 101,\n",
       " '득': 102,\n",
       " '든': 103,\n",
       " '들': 104,\n",
       " '듭': 105,\n",
       " '등': 106,\n",
       " '따': 107,\n",
       " '때': 108,\n",
       " '떠': 109,\n",
       " '또': 110,\n",
       " '라': 111,\n",
       " '란': 112,\n",
       " '략': 113,\n",
       " '량': 114,\n",
       " '러': 115,\n",
       " '려': 116,\n",
       " '력': 117,\n",
       " '련': 118,\n",
       " '렴': 119,\n",
       " '령': 120,\n",
       " '례': 121,\n",
       " '로': 122,\n",
       " '록': 123,\n",
       " '론': 124,\n",
       " '료': 125,\n",
       " '류': 126,\n",
       " '률': 127,\n",
       " '르': 128,\n",
       " '를': 129,\n",
       " '리': 130,\n",
       " '릴': 131,\n",
       " '립': 132,\n",
       " '마': 133,\n",
       " '만': 134,\n",
       " '망': 135,\n",
       " '매': 136,\n",
       " '며': 137,\n",
       " '면': 138,\n",
       " '멸': 139,\n",
       " '명': 140,\n",
       " '모': 141,\n",
       " '목': 142,\n",
       " '몰': 143,\n",
       " '못': 144,\n",
       " '무': 145,\n",
       " '문': 146,\n",
       " '물': 147,\n",
       " '미': 148,\n",
       " '민': 149,\n",
       " '밀': 150,\n",
       " '및': 151,\n",
       " '바': 152,\n",
       " '박': 153,\n",
       " '밖': 154,\n",
       " '반': 155,\n",
       " '받': 156,\n",
       " '발': 157,\n",
       " '방': 158,\n",
       " '배': 159,\n",
       " '백': 160,\n",
       " '벌': 161,\n",
       " '범': 162,\n",
       " '법': 163,\n",
       " '변': 164,\n",
       " '별': 165,\n",
       " '병': 166,\n",
       " '보': 167,\n",
       " '복': 168,\n",
       " '본': 169,\n",
       " '봉': 170,\n",
       " '부': 171,\n",
       " '분': 172,\n",
       " '불': 173,\n",
       " '붙': 174,\n",
       " '비': 175,\n",
       " '빛': 176,\n",
       " '사': 177,\n",
       " '산': 178,\n",
       " '삼': 179,\n",
       " '상': 180,\n",
       " '새': 181,\n",
       " '색': 182,\n",
       " '생': 183,\n",
       " '서': 184,\n",
       " '석': 185,\n",
       " '선': 186,\n",
       " '설': 187,\n",
       " '섭': 188,\n",
       " '성': 189,\n",
       " '세': 190,\n",
       " '소': 191,\n",
       " '속': 192,\n",
       " '손': 193,\n",
       " '송': 194,\n",
       " '수': 195,\n",
       " '숙': 196,\n",
       " '순': 197,\n",
       " '술': 198,\n",
       " '스': 199,\n",
       " '습': 200,\n",
       " '승': 201,\n",
       " '시': 202,\n",
       " '식': 203,\n",
       " '신': 204,\n",
       " '실': 205,\n",
       " '심': 206,\n",
       " '써': 207,\n",
       " '아': 208,\n",
       " '안': 209,\n",
       " '알': 210,\n",
       " '압': 211,\n",
       " '앙': 212,\n",
       " '앞': 213,\n",
       " '애': 214,\n",
       " '액': 215,\n",
       " '야': 216,\n",
       " '약': 217,\n",
       " '양': 218,\n",
       " '어': 219,\n",
       " '언': 220,\n",
       " '얻': 221,\n",
       " '엄': 222,\n",
       " '업': 223,\n",
       " '없': 224,\n",
       " '었': 225,\n",
       " '에': 226,\n",
       " '여': 227,\n",
       " '역': 228,\n",
       " '연': 229,\n",
       " '열': 230,\n",
       " '염': 231,\n",
       " '영': 232,\n",
       " '예': 233,\n",
       " '온': 234,\n",
       " '와': 235,\n",
       " '완': 236,\n",
       " '외': 237,\n",
       " '요': 238,\n",
       " '용': 239,\n",
       " '우': 240,\n",
       " '욱': 241,\n",
       " '운': 242,\n",
       " '원': 243,\n",
       " '월': 244,\n",
       " '위': 245,\n",
       " '유': 246,\n",
       " '육': 247,\n",
       " '윤': 248,\n",
       " '율': 249,\n",
       " '으': 250,\n",
       " '은': 251,\n",
       " '을': 252,\n",
       " '음': 253,\n",
       " '응': 254,\n",
       " '의': 255,\n",
       " '이': 256,\n",
       " '익': 257,\n",
       " '인': 258,\n",
       " '일': 259,\n",
       " '임': 260,\n",
       " '입': 261,\n",
       " '있': 262,\n",
       " '자': 263,\n",
       " '작': 264,\n",
       " '장': 265,\n",
       " '재': 266,\n",
       " '쟁': 267,\n",
       " '저': 268,\n",
       " '적': 269,\n",
       " '전': 270,\n",
       " '절': 271,\n",
       " '접': 272,\n",
       " '정': 273,\n",
       " '제': 274,\n",
       " '져': 275,\n",
       " '조': 276,\n",
       " '족': 277,\n",
       " '존': 278,\n",
       " '종': 279,\n",
       " '좌': 280,\n",
       " '죄': 281,\n",
       " '주': 282,\n",
       " '준': 283,\n",
       " '중': 284,\n",
       " '즈': 285,\n",
       " '즉': 286,\n",
       " '증': 287,\n",
       " '지': 288,\n",
       " '직': 289,\n",
       " '진': 290,\n",
       " '질': 291,\n",
       " '짐': 292,\n",
       " '집': 293,\n",
       " '징': 294,\n",
       " '차': 295,\n",
       " '찬': 296,\n",
       " '찰': 297,\n",
       " '참': 298,\n",
       " '창': 299,\n",
       " '채': 300,\n",
       " '책': 301,\n",
       " '처': 302,\n",
       " '천': 303,\n",
       " '첩': 304,\n",
       " '청': 305,\n",
       " '체': 306,\n",
       " '쳐': 307,\n",
       " '초': 308,\n",
       " '촉': 309,\n",
       " '촌': 310,\n",
       " '총': 311,\n",
       " '최': 312,\n",
       " '추': 313,\n",
       " '출': 314,\n",
       " '취': 315,\n",
       " '치': 316,\n",
       " '칙': 317,\n",
       " '친': 318,\n",
       " '침': 319,\n",
       " '쾌': 320,\n",
       " '킬': 321,\n",
       " '타': 322,\n",
       " '탁': 323,\n",
       " '탄': 324,\n",
       " '탈': 325,\n",
       " '탕': 326,\n",
       " '태': 327,\n",
       " '택': 328,\n",
       " '터': 329,\n",
       " '토': 330,\n",
       " '통': 331,\n",
       " '퇴': 332,\n",
       " '투': 333,\n",
       " '특': 334,\n",
       " '파': 335,\n",
       " '판': 336,\n",
       " '편': 337,\n",
       " '펼': 338,\n",
       " '평': 339,\n",
       " '폐': 340,\n",
       " '포': 341,\n",
       " '폭': 342,\n",
       " '표': 343,\n",
       " '품': 344,\n",
       " '풍': 345,\n",
       " '피': 346,\n",
       " '필': 347,\n",
       " '하': 348,\n",
       " '학': 349,\n",
       " '한': 350,\n",
       " '할': 351,\n",
       " '함': 352,\n",
       " '합': 353,\n",
       " '항': 354,\n",
       " '해': 355,\n",
       " '핵': 356,\n",
       " '행': 357,\n",
       " '향': 358,\n",
       " '허': 359,\n",
       " '헌': 360,\n",
       " '험': 361,\n",
       " '혁': 362,\n",
       " '현': 363,\n",
       " '협': 364,\n",
       " '형': 365,\n",
       " '호': 366,\n",
       " '혼': 367,\n",
       " '화': 368,\n",
       " '확': 369,\n",
       " '환': 370,\n",
       " '활': 371,\n",
       " '황': 372,\n",
       " '회': 373,\n",
       " '획': 374,\n",
       " '효': 375,\n",
       " '후': 376,\n",
       " '훈': 377,\n",
       " '휘': 378,\n",
       " '흥': 379,\n",
       " '히': 380}"
      ]
     },
     "execution_count": 50,
     "metadata": {},
     "output_type": "execute_result"
    }
   ],
   "source": [
    "vocab = list(sorted(set(corpus)))\n",
    "vocab.insert(0, '')\n",
    "char_to_index = {char: i for i, char in enumerate(vocab)}\n",
    "char_to_index"
   ]
  },
  {
   "cell_type": "code",
   "execution_count": null,
   "metadata": {
    "colab": {
     "base_uri": "https://localhost:8080/"
    },
    "executionInfo": {
     "elapsed": 313,
     "status": "ok",
     "timestamp": 1701913459017,
     "user": {
      "displayName": "신은섭",
      "userId": "08402895350193765155"
     },
     "user_tz": -540
    },
    "id": "3DoSHXZP34D3",
    "outputId": "3fbcc0c5-34d6-40b0-bece-c640d28e4beb"
   },
   "outputs": [
    {
     "data": {
      "text/plain": [
       "[88, 350, 149, 52]"
      ]
     },
     "execution_count": 56,
     "metadata": {},
     "output_type": "execute_result"
    }
   ],
   "source": [
    "def text_to_sequence(text):\n",
    "  return [char_to_index[char] for char in text]\n",
    "text_to_sequence(\"대한민국\")"
   ]
  },
  {
   "cell_type": "code",
   "execution_count": null,
   "metadata": {
    "colab": {
     "base_uri": "https://localhost:8080/"
    },
    "executionInfo": {
     "elapsed": 12396,
     "status": "ok",
     "timestamp": 1701912453003,
     "user": {
      "displayName": "신은섭",
      "userId": "08402895350193765155"
     },
     "user_tz": -540
    },
    "id": "qVJFMxOcqAq5",
    "outputId": "82073e25-7083-4127-ba20-2a70ca61504e"
   },
   "outputs": [
    {
     "data": {
      "text/plain": [
       "[('대한민국', 'Noun'),\n",
       " ('헌법', 'Noun'),\n",
       " ('\\n\\n', 'Foreign'),\n",
       " ('유구', 'Noun'),\n",
       " ('한', 'Josa'),\n",
       " ('역사', 'Noun'),\n",
       " ('와', 'Josa'),\n",
       " ('전통', 'Noun'),\n",
       " ('에', 'Josa'),\n",
       " ('빛나는', 'Verb'),\n",
       " ('우리', 'Noun'),\n",
       " ('대', 'Modifier'),\n",
       " ('한', 'Modifier'),\n",
       " ('국민', 'Noun'),\n",
       " ('은', 'Josa'),\n",
       " ('3', 'Number'),\n",
       " ('·', 'Punctuation'),\n",
       " ('1', 'Number'),\n",
       " ('운동', 'Noun'),\n",
       " ('으로', 'Josa'),\n",
       " ('건립', 'Noun'),\n",
       " ('된', 'Verb'),\n",
       " ('대한민국', 'Noun'),\n",
       " ('임시정부', 'Noun'),\n",
       " ('의', 'Josa'),\n",
       " ('법', 'Noun'),\n",
       " ('통과', 'Noun'),\n",
       " ('불의', 'Noun'),\n",
       " ('에', 'Josa'),\n",
       " ('항거', 'Noun'),\n",
       " ('한', 'Josa'),\n",
       " ('4', 'Number'),\n",
       " ('·', 'Punctuation'),\n",
       " ('19', 'Number'),\n",
       " ('민주', 'Noun'),\n",
       " ('이념', 'Noun'),\n",
       " ('을', 'Josa'),\n",
       " ('계승', 'Noun'),\n",
       " ('하고', 'Josa'),\n",
       " (',', 'Punctuation'),\n",
       " ('조국', 'Noun'),\n",
       " ('의', 'Josa'),\n",
       " ('민주', 'Noun'),\n",
       " ('개혁', 'Noun'),\n",
       " ('과', 'Josa'),\n",
       " ('평화', 'Noun'),\n",
       " ('적', 'Suffix'),\n",
       " ('통일', 'Noun'),\n",
       " ('의', 'Josa'),\n",
       " ('사명', 'Noun'),\n",
       " ('에', 'Josa'),\n",
       " ('입', 'Noun'),\n",
       " ('각하', 'Noun'),\n",
       " ('여', 'Josa'),\n",
       " ('정의', 'Noun'),\n",
       " ('·', 'Punctuation'),\n",
       " ('인도', 'Noun'),\n",
       " ('와', 'Josa'),\n",
       " ('동포', 'Noun'),\n",
       " ('애', 'Noun'),\n",
       " ('로써', 'Noun'),\n",
       " ('민족', 'Noun'),\n",
       " ('의', 'Josa'),\n",
       " ('단결', 'Noun'),\n",
       " ('을', 'Josa'),\n",
       " ('공고', 'Noun'),\n",
       " ('히', 'Adverb'),\n",
       " ('하고', 'Verb'),\n",
       " (',', 'Punctuation'),\n",
       " ('모든', 'Noun'),\n",
       " ('사회', 'Noun'),\n",
       " ('적', 'Suffix'),\n",
       " ('폐습', 'Noun'),\n",
       " ('과', 'Josa'),\n",
       " ('불의', 'Noun'),\n",
       " ('를', 'Josa'),\n",
       " ('타파', 'Noun'),\n",
       " ('하며', 'Verb'),\n",
       " (',', 'Punctuation'),\n",
       " ('자율', 'Noun'),\n",
       " ('과', 'Josa'),\n",
       " ('조화', 'Noun'),\n",
       " ('를', 'Josa'),\n",
       " ('바탕', 'Noun'),\n",
       " ('으로', 'Josa'),\n",
       " ('자유민주', 'Noun'),\n",
       " ('적', 'Suffix'),\n",
       " ('기', 'Modifier'),\n",
       " ('본', 'Modifier'),\n",
       " ('질서', 'Noun'),\n",
       " ('를', 'Josa'),\n",
       " ('더욱', 'Noun'),\n",
       " ('확고히', 'Adjective'),\n",
       " ('하여', 'Verb'),\n",
       " ('정치', 'Noun'),\n",
       " ('·', 'Punctuation'),\n",
       " ('경제', 'Noun'),\n",
       " ('·', 'Punctuation'),\n",
       " ('사회', 'Noun'),\n",
       " ('·', 'Punctuation'),\n",
       " ('문화', 'Noun'),\n",
       " ('의', 'Josa'),\n",
       " ('모든', 'Noun'),\n",
       " ('영역', 'Noun'),\n",
       " ('에', 'Josa'),\n",
       " ('있어서', 'Adjective'),\n",
       " ('각인', 'Noun'),\n",
       " ('의', 'Josa'),\n",
       " ('기회', 'Noun'),\n",
       " ('를', 'Josa'),\n",
       " ('균등히', 'Adjective'),\n",
       " ('하고', 'Verb'),\n",
       " (',', 'Punctuation'),\n",
       " ('능력', 'Noun'),\n",
       " ('을', 'Josa'),\n",
       " ('최고', 'Noun'),\n",
       " ('도로', 'Noun'),\n",
       " ('발휘', 'Noun'),\n",
       " ('하게', 'Verb'),\n",
       " ('하며', 'Verb'),\n",
       " (',', 'Punctuation'),\n",
       " ('자유', 'Noun'),\n",
       " ('와', 'Josa'),\n",
       " ('권리', 'Noun'),\n",
       " ('에', 'Josa'),\n",
       " ('따르는', 'Verb'),\n",
       " ('책임', 'Noun'),\n",
       " ('과', 'Josa'),\n",
       " ('의무', 'Noun'),\n",
       " ('를', 'Josa'),\n",
       " ('완수', 'Noun'),\n",
       " ('하게', 'Verb'),\n",
       " ('하여', 'Verb'),\n",
       " (',', 'Punctuation'),\n",
       " ('안', 'Noun'),\n",
       " ('으로는', 'Josa'),\n",
       " ('국민', 'Noun'),\n",
       " ('생활', 'Noun'),\n",
       " ('의', 'Josa'),\n",
       " ('균등한', 'Adjective'),\n",
       " ('향상', 'Noun'),\n",
       " ('을', 'Josa'),\n",
       " ('기하', 'Noun'),\n",
       " ('고', 'Josa'),\n",
       " ('밖', 'Noun'),\n",
       " ('으로는', 'Josa'),\n",
       " ('항구', 'Noun'),\n",
       " ('적', 'Suffix'),\n",
       " ('인', 'Josa'),\n",
       " ('세계', 'Noun'),\n",
       " ('평화', 'Noun'),\n",
       " ('와', 'Josa'),\n",
       " ('인류', 'Noun'),\n",
       " ('공영', 'Noun'),\n",
       " ('에', 'Josa'),\n",
       " ('이바지', 'Noun'),\n",
       " ('함', 'Noun'),\n",
       " ('으로써', 'Josa'),\n",
       " ('우리', 'Noun'),\n",
       " ('들', 'Suffix'),\n",
       " ('과', 'Josa'),\n",
       " ('우리', 'Noun'),\n",
       " ('들', 'Suffix'),\n",
       " ('의', 'Josa'),\n",
       " ('자손', 'Noun'),\n",
       " ('의', 'Josa'),\n",
       " ('안전', 'Noun'),\n",
       " ('과', 'Josa'),\n",
       " ('자유', 'Noun'),\n",
       " ('와', 'Josa'),\n",
       " ('행복', 'Noun'),\n",
       " ('을', 'Josa'),\n",
       " ('영원히', 'Adjective'),\n",
       " ('확보', 'Noun'),\n",
       " ('할', 'Verb'),\n",
       " ('것', 'Noun'),\n",
       " ('을', 'Josa'),\n",
       " ('다짐', 'Noun'),\n",
       " ('하면서', 'Verb'),\n",
       " ('1948년', 'Number'),\n",
       " ('7월', 'Number'),\n",
       " ('12일', 'Number'),\n",
       " ('에', 'Foreign'),\n",
       " ('제정', 'Noun'),\n",
       " ('되고', 'Verb'),\n",
       " ('8', 'Number'),\n",
       " ('차', 'Noun'),\n",
       " ('에', 'Josa'),\n",
       " ('걸쳐', 'Verb'),\n",
       " ('개정', 'Noun'),\n",
       " ('된', 'Verb'),\n",
       " ('헌법', 'Noun'),\n",
       " ('을', 'Josa'),\n",
       " ('이제', 'Noun'),\n",
       " ('국회', 'Noun'),\n",
       " ('의', 'Josa'),\n",
       " ('의결', 'Noun'),\n",
       " ('을', 'Josa'),\n",
       " ('거쳐', 'Verb'),\n",
       " ('국민투표', 'Noun'),\n",
       " ('에', 'Josa'),\n",
       " ('의하여', 'Adjective'),\n",
       " ('개정', 'Noun'),\n",
       " ('한다', 'Verb'),\n",
       " ('.', 'Punctuation'),\n",
       " ('\\n\\n       ', 'Foreign'),\n",
       " ('제', 'Noun'),\n",
       " ('1', 'Number'),\n",
       " ('장', 'Noun'),\n",
       " ('총', 'Modifier'),\n",
       " ('강', 'Noun'),\n",
       " ('\\n  ', 'Foreign'),\n",
       " ('제', 'Noun'),\n",
       " ('1조', 'Number'),\n",
       " ('①', 'Foreign'),\n",
       " ('대한민국', 'Noun'),\n",
       " ('은', 'Josa'),\n",
       " ('민주공화국', 'Noun'),\n",
       " ('이다', 'Josa'),\n",
       " ('.', 'Punctuation'),\n",
       " ('\\n', 'Foreign'),\n",
       " ('②', 'Foreign'),\n",
       " ('대한민국', 'Noun'),\n",
       " ('의', 'Josa'),\n",
       " ('주권', 'Noun'),\n",
       " ('은', 'Josa'),\n",
       " ('국민', 'Noun'),\n",
       " ('에게', 'Josa'),\n",
       " ('있고', 'Adjective'),\n",
       " (',', 'Punctuation'),\n",
       " ('모든', 'Noun'),\n",
       " ('권력', 'Noun'),\n",
       " ('은', 'Josa'),\n",
       " ('국민', 'Noun'),\n",
       " ('으로부터', 'Josa'),\n",
       " ('나온다', 'Verb'),\n",
       " ('.', 'Punctuation'),\n",
       " ('\\n  ', 'Foreign'),\n",
       " ('제', 'Noun'),\n",
       " ('2조', 'Number'),\n",
       " ('①', 'Foreign'),\n",
       " ('대한민국', 'Noun'),\n",
       " ('의', 'Josa'),\n",
       " ('국민', 'Noun'),\n",
       " ('이', 'Josa'),\n",
       " ('되는', 'Verb'),\n",
       " ('요건', 'Noun'),\n",
       " ('은', 'Josa'),\n",
       " ('법률', 'Noun'),\n",
       " ('로', 'Josa'),\n",
       " ('정', 'Noun'),\n",
       " ('한다', 'Verb'),\n",
       " ('.', 'Punctuation'),\n",
       " ('\\n', 'Foreign'),\n",
       " ('②', 'Foreign'),\n",
       " ('국가', 'Noun'),\n",
       " ('는', 'Josa'),\n",
       " ('법률', 'Noun'),\n",
       " ('이', 'Josa'),\n",
       " ('정', 'Noun'),\n",
       " ('하는', 'Verb'),\n",
       " ('바', 'Noun'),\n",
       " ('에', 'Josa'),\n",
       " ('의하여', 'Adjective'),\n",
       " ('재외국민', 'Noun'),\n",
       " ('을', 'Josa'),\n",
       " ('보호', 'Noun'),\n",
       " ('할', 'Verb'),\n",
       " ('의무', 'Noun'),\n",
       " ('를', 'Josa'),\n",
       " ('진다', 'Verb'),\n",
       " ('.', 'Punctuation'),\n",
       " ('\\n  ', 'Foreign'),\n",
       " ('제', 'Noun'),\n",
       " ('3조', 'Number'),\n",
       " ('대한민국', 'Noun'),\n",
       " ('의', 'Josa'),\n",
       " ('영토', 'Noun'),\n",
       " ('는', 'Josa'),\n",
       " ('한반도', 'Noun'),\n",
       " ('와', 'Josa'),\n",
       " ('그', 'Noun'),\n",
       " ('부속', 'Noun'),\n",
       " ('도서', 'Noun'),\n",
       " ('로', 'Josa'),\n",
       " ('한다', 'Verb'),\n",
       " ('.', 'Punctuation'),\n",
       " ('\\n  ', 'Foreign'),\n",
       " ('제', 'Noun'),\n",
       " ('4조', 'Number'),\n",
       " ('대한민국', 'Noun'),\n",
       " ('은', 'Josa'),\n",
       " ('통일', 'Noun'),\n",
       " ('을', 'Josa'),\n",
       " ('지향', 'Noun'),\n",
       " ('하며', 'Verb'),\n",
       " (',', 'Punctuation'),\n",
       " ('자유민주', 'Noun'),\n",
       " ('적', 'Suffix'),\n",
       " ('기', 'Modifier'),\n",
       " ('본', 'Modifier'),\n",
       " ('질서', 'Noun'),\n",
       " ('에', 'Josa'),\n",
       " ('입각', 'Noun'),\n",
       " ('한', 'Josa'),\n",
       " ('평화', 'Noun'),\n",
       " ('적', 'Suffix'),\n",
       " ('통일', 'Noun'),\n",
       " ('정책', 'Noun'),\n",
       " ('을', 'Josa'),\n",
       " ('수립', 'Noun'),\n",
       " ('하고', 'Josa'),\n",
       " ('이를', 'Verb'),\n",
       " ('추진', 'Noun'),\n",
       " ('한', 'Josa'),\n",
       " ('다', 'Adverb'),\n",
       " ('.', 'Punctuation'),\n",
       " ('\\n  ', 'Foreign'),\n",
       " ('제', 'Noun'),\n",
       " ('5조', 'Number'),\n",
       " ('①', 'Foreign'),\n",
       " ('대한민국', 'Noun'),\n",
       " ('은', 'Josa'),\n",
       " ('국제', 'Noun'),\n",
       " ('평화', 'Noun'),\n",
       " ('의', 'Josa'),\n",
       " ('유지', 'Noun'),\n",
       " ('에', 'Josa'),\n",
       " ('노력', 'Noun'),\n",
       " ('하고', 'Josa'),\n",
       " ('침략', 'Noun'),\n",
       " ('적', 'Suffix'),\n",
       " ('전쟁', 'Noun'),\n",
       " ('을', 'Josa'),\n",
       " ('부인', 'Noun'),\n",
       " ('한다', 'Verb'),\n",
       " ('.', 'Punctuation'),\n",
       " ('\\n', 'Foreign'),\n",
       " ('②', 'Foreign'),\n",
       " ('국군', 'Noun'),\n",
       " ('은', 'Josa'),\n",
       " ('국가', 'Noun'),\n",
       " ('의', 'Josa'),\n",
       " ('안전보장', 'Noun'),\n",
       " ('과', 'Josa'),\n",
       " ('국토', 'Noun'),\n",
       " ('방위', 'Noun'),\n",
       " ('의', 'Josa'),\n",
       " ('신성한', 'Adjective'),\n",
       " ('의무', 'Noun'),\n",
       " ('를', 'Josa'),\n",
       " ('수행', 'Noun'),\n",
       " ('함', 'Noun'),\n",
       " ('을', 'Josa'),\n",
       " ('사명', 'Noun'),\n",
       " ('으로', 'Josa'),\n",
       " ('하며', 'Verb'),\n",
       " (',', 'Punctuation'),\n",
       " ('그', 'Noun'),\n",
       " ('정치', 'Noun'),\n",
       " ('적', 'Suffix'),\n",
       " ('중립성', 'Noun'),\n",
       " ('은', 'Josa'),\n",
       " ('준수', 'Noun'),\n",
       " ('된다', 'Verb'),\n",
       " ('.', 'Punctuation'),\n",
       " ('\\n  ', 'Foreign'),\n",
       " ('제', 'Noun'),\n",
       " ('6조', 'Number'),\n",
       " ('①', 'Foreign'),\n",
       " ('헌법', 'Noun'),\n",
       " ('에', 'Josa'),\n",
       " ('의하여', 'Adjective'),\n",
       " ('체결', 'Noun'),\n",
       " ('·', 'Punctuation'),\n",
       " ('공포', 'Noun'),\n",
       " ('된', 'Verb'),\n",
       " ('조약', 'Noun'),\n",
       " ('과', 'Josa'),\n",
       " ('일반', 'Noun'),\n",
       " ('적', 'Suffix'),\n",
       " ('으로', 'Josa'),\n",
       " ('승인', 'Noun'),\n",
       " ('된', 'Verb'),\n",
       " ('국제', 'Noun'),\n",
       " ('법규', 'Noun'),\n",
       " ('는', 'Josa'),\n",
       " ('국내법', 'Noun'),\n",
       " ('과', 'Josa'),\n",
       " ('같은', 'Adjective'),\n",
       " ('효력', 'Noun'),\n",
       " ('을', 'Josa'),\n",
       " ('가진다', 'Verb'),\n",
       " ('.', 'Punctuation'),\n",
       " ('\\n', 'Foreign'),\n",
       " ('②', 'Foreign'),\n",
       " ('외국인', 'Noun'),\n",
       " ('은', 'Josa'),\n",
       " ('국제', 'Noun'),\n",
       " ('법', 'Noun'),\n",
       " ('과', 'Josa'),\n",
       " ('조약', 'Noun'),\n",
       " ('이', 'Josa'),\n",
       " ('정', 'Noun'),\n",
       " ('하는', 'Verb'),\n",
       " ('바', 'Noun'),\n",
       " ('에', 'Josa'),\n",
       " ('의하여', 'Adjective'),\n",
       " ('그', 'Noun'),\n",
       " ('지위', 'Noun'),\n",
       " ('가', 'Josa'),\n",
       " ('보장', 'Noun'),\n",
       " ('된다', 'Verb'),\n",
       " ('.', 'Punctuation'),\n",
       " ('\\n  ', 'Foreign'),\n",
       " ('제', 'Noun'),\n",
       " ('7조', 'Number'),\n",
       " ('①', 'Foreign'),\n",
       " ('공무원', 'Noun'),\n",
       " ('은', 'Josa'),\n",
       " ('국민', 'Noun'),\n",
       " ('전체', 'Noun'),\n",
       " ('에', 'Josa'),\n",
       " ('대한', 'Noun'),\n",
       " ('봉사자', 'Noun'),\n",
       " ('이며', 'Josa'),\n",
       " (',', 'Punctuation'),\n",
       " ('국민', 'Noun'),\n",
       " ('에', 'Josa'),\n",
       " ('대하', 'Noun'),\n",
       " ('여', 'Josa'),\n",
       " ('책임', 'Noun'),\n",
       " ('을', 'Josa'),\n",
       " ('진다', 'Verb'),\n",
       " ('.', 'Punctuation'),\n",
       " ('\\n', 'Foreign'),\n",
       " ('②', 'Foreign'),\n",
       " ('공무원', 'Noun'),\n",
       " ('의', 'Josa'),\n",
       " ('신분', 'Noun'),\n",
       " ('과', 'Josa'),\n",
       " ('정치', 'Noun'),\n",
       " ('적', 'Suffix'),\n",
       " ('중립성', 'Noun'),\n",
       " ('은', 'Josa'),\n",
       " ('법률', 'Noun'),\n",
       " ('이', 'Josa'),\n",
       " ('정', 'Noun'),\n",
       " ('하는', 'Verb'),\n",
       " ('바', 'Noun'),\n",
       " ('에', 'Josa'),\n",
       " ('의하여', 'Adjective'),\n",
       " ('보장', 'Noun'),\n",
       " ('된다', 'Verb'),\n",
       " ('.', 'Punctuation'),\n",
       " ('\\n  ', 'Foreign'),\n",
       " ('제', 'Noun'),\n",
       " ('8조', 'Number'),\n",
       " ('①', 'Foreign'),\n",
       " ('정당', 'Noun'),\n",
       " ('의', 'Josa'),\n",
       " ('설립', 'Noun'),\n",
       " ('은', 'Josa'),\n",
       " ('자유', 'Noun'),\n",
       " ('이며', 'Josa'),\n",
       " (',', 'Punctuation'),\n",
       " ('복수정당제', 'Noun'),\n",
       " ('는', 'Josa'),\n",
       " ('보장', 'Noun'),\n",
       " ('된다', 'Verb'),\n",
       " ('.', 'Punctuation'),\n",
       " ('\\n', 'Foreign'),\n",
       " ('②', 'Foreign'),\n",
       " ('정당', 'Noun'),\n",
       " ('은', 'Josa'),\n",
       " ('그', 'Noun'),\n",
       " ('목적', 'Noun'),\n",
       " ('·', 'Punctuation'),\n",
       " ('조직', 'Noun'),\n",
       " ('과', 'Josa'),\n",
       " ('활동', 'Noun'),\n",
       " ('이', 'Josa'),\n",
       " ('민주', 'Noun'),\n",
       " ('적이어야', 'Verb'),\n",
       " ('하며', 'Verb'),\n",
       " (',', 'Punctuation'),\n",
       " ('국민', 'Noun'),\n",
       " ('의', 'Josa'),\n",
       " ('정치', 'Noun'),\n",
       " ('적', 'Suffix'),\n",
       " ('의사', 'Noun'),\n",
       " ('형성', 'Noun'),\n",
       " ('에', 'Josa'),\n",
       " ('참여', 'Noun'),\n",
       " ('하는데', 'Verb'),\n",
       " ('필요한', 'Adjective'),\n",
       " ('조직', 'Noun'),\n",
       " ('을', 'Josa'),\n",
       " ('가져야', 'Verb'),\n",
       " ('한다', 'Verb'),\n",
       " ('.', 'Punctuation'),\n",
       " ('\\n', 'Foreign'),\n",
       " ('③', 'Foreign'),\n",
       " ('정당', 'Noun'),\n",
       " ('은', 'Josa'),\n",
       " ('법률', 'Noun'),\n",
       " ('이', 'Josa'),\n",
       " ('정', 'Noun'),\n",
       " ('하는', 'Verb'),\n",
       " ('바', 'Noun'),\n",
       " ('에', 'Josa'),\n",
       " ('의하여', 'Adjective'),\n",
       " ('국가', 'Noun'),\n",
       " ('의', 'Josa'),\n",
       " ('보호', 'Noun'),\n",
       " ('를', 'Josa'),\n",
       " ('받으며', 'Verb'),\n",
       " (',', 'Punctuation'),\n",
       " ('국가', 'Noun'),\n",
       " ('는', 'Josa'),\n",
       " ('법률', 'Noun'),\n",
       " ('이', 'Josa'),\n",
       " ('정', 'Noun'),\n",
       " ('하는', 'Verb'),\n",
       " ('바', 'Noun'),\n",
       " ('에', 'Josa'),\n",
       " ('의하여', 'Adjective'),\n",
       " ('정당', 'Noun'),\n",
       " ('운영', 'Noun'),\n",
       " ('에', 'Josa'),\n",
       " ('필요한', 'Adjective'),\n",
       " ('자금', 'Noun'),\n",
       " ('을', 'Josa'),\n",
       " ('보조', 'Noun'),\n",
       " ('할', 'Verb'),\n",
       " ('수', 'Noun'),\n",
       " ('있다', 'Adjective'),\n",
       " ('.', 'Punctuation'),\n",
       " ('\\n', 'Foreign'),\n",
       " ('④', 'Foreign'),\n",
       " ('정당', 'Noun'),\n",
       " ('의', 'Josa'),\n",
       " ('목적', 'Noun'),\n",
       " ('이나', 'Josa'),\n",
       " ('활동', 'Noun'),\n",
       " ('이', 'Josa'),\n",
       " ('민주', 'Noun'),\n",
       " ('적', 'Suffix'),\n",
       " ('기', 'Modifier'),\n",
       " ('본', 'Modifier'),\n",
       " ('질서', 'Noun'),\n",
       " ('에', 'Josa'),\n",
       " ('위배', 'Noun'),\n",
       " ('될', 'Verb'),\n",
       " ('때', 'Noun'),\n",
       " ('에는', 'Josa'),\n",
       " ('정부', 'Noun'),\n",
       " ('는', 'Josa'),\n",
       " ('헌법재판소', 'Noun'),\n",
       " ('에', 'Josa'),\n",
       " ('그', 'Noun'),\n",
       " ('해산', 'Noun'),\n",
       " ('을', 'Josa'),\n",
       " ('제소', 'Noun'),\n",
       " ('할', 'Verb'),\n",
       " ('수', 'Noun'),\n",
       " ('있고', 'Adjective'),\n",
       " (',', 'Punctuation'),\n",
       " ('정당', 'Noun'),\n",
       " ('은', 'Josa'),\n",
       " ('헌법재판소', 'Noun'),\n",
       " ('의', 'Josa'),\n",
       " ('심판', 'Noun'),\n",
       " ('에', 'Josa'),\n",
       " ('의하여', 'Adjective'),\n",
       " ('해산', 'Noun'),\n",
       " ('된다', 'Verb'),\n",
       " ('.', 'Punctuation'),\n",
       " ('\\n  ', 'Foreign'),\n",
       " ('제', 'Noun'),\n",
       " ('9조', 'Number'),\n",
       " ('국가', 'Noun'),\n",
       " ('는', 'Josa'),\n",
       " ('전통문화', 'Noun'),\n",
       " ('의', 'Josa'),\n",
       " ('계승', 'Noun'),\n",
       " ('·', 'Punctuation'),\n",
       " ('발전', 'Noun'),\n",
       " ('과', 'Josa'),\n",
       " ('민족', 'Noun'),\n",
       " ('문화', 'Noun'),\n",
       " ('의', 'Josa'),\n",
       " ('창달', 'Noun'),\n",
       " ('에', 'Josa'),\n",
       " ('노력', 'Noun'),\n",
       " ('하여야', 'Verb'),\n",
       " ('한다', 'Verb'),\n",
       " ('.', 'Punctuation'),\n",
       " ('\\n\\n       ', 'Foreign'),\n",
       " ('제', 'Noun'),\n",
       " ('2', 'Number'),\n",
       " ('장', 'Noun'),\n",
       " ('국민', 'Noun'),\n",
       " ('의', 'Josa'),\n",
       " ('권리', 'Noun'),\n",
       " ('와', 'Josa'),\n",
       " ('의무', 'Noun'),\n",
       " ('\\n  ', 'Foreign'),\n",
       " ('제', 'Noun'),\n",
       " ('10조', 'Number'),\n",
       " ('모든', 'Noun'),\n",
       " ('국민', 'Noun'),\n",
       " ('은', 'Josa'),\n",
       " ('인간', 'Noun'),\n",
       " ('으로서의', 'Josa'),\n",
       " ('존엄', 'Noun'),\n",
       " ('과', 'Josa'),\n",
       " ('가치', 'Noun'),\n",
       " ('를', 'Josa'),\n",
       " ('가지', 'Noun'),\n",
       " ('며', 'Josa'),\n",
       " (',', 'Punctuation'),\n",
       " ('행복', 'Noun'),\n",
       " ('을', 'Josa'),\n",
       " ('추구', 'Noun'),\n",
       " ('할', 'Verb'),\n",
       " ('권리', 'Noun'),\n",
       " ('를', 'Josa'),\n",
       " ('가진다', 'Verb'),\n",
       " ('.', 'Punctuation'),\n",
       " ('국가', 'Noun'),\n",
       " ('는', 'Josa'),\n",
       " ('개인', 'Noun'),\n",
       " ('이', 'Josa'),\n",
       " ('가지는', 'Verb'),\n",
       " ('불가침', 'Noun'),\n",
       " ('의', 'Josa'),\n",
       " ('기본', 'Noun'),\n",
       " ('적', 'Suffix'),\n",
       " ('인권', 'Noun'),\n",
       " ('을', 'Josa'),\n",
       " ('확인', 'Noun'),\n",
       " ('하고', 'Josa'),\n",
       " ('이를', 'Verb'),\n",
       " ('보장', 'Noun'),\n",
       " ('할', 'Verb'),\n",
       " ('의무', 'Noun'),\n",
       " ('를', 'Josa'),\n",
       " ('진다', 'Verb'),\n",
       " ('.', 'Punctuation'),\n",
       " ('\\n  ', 'Foreign'),\n",
       " ('제', 'Noun'),\n",
       " ('11조', 'Number'),\n",
       " ('①', 'Foreign'),\n",
       " ('모든', 'Noun'),\n",
       " ('국민', 'Noun'),\n",
       " ('은', 'Josa'),\n",
       " ('법', 'Noun'),\n",
       " ('앞', 'Noun'),\n",
       " ('에', 'Josa'),\n",
       " ('평등하다', 'Adjective'),\n",
       " ('.', 'Punctuation'),\n",
       " ('누구', 'Noun'),\n",
       " ('든지', 'Josa'),\n",
       " ('성별', 'Noun'),\n",
       " ('·', 'Punctuation'),\n",
       " ('종교', 'Noun'),\n",
       " ('또는', 'Adverb'),\n",
       " ('사회', 'Noun'),\n",
       " ('적', 'Suffix'),\n",
       " ('신분', 'Noun'),\n",
       " ('에', 'Josa'),\n",
       " ('의하여', 'Adjective'),\n",
       " ('정치', 'Noun'),\n",
       " ('적', 'Suffix'),\n",
       " ('·', 'Punctuation'),\n",
       " ('경제', 'Noun'),\n",
       " ('적', 'Suffix'),\n",
       " ('·', 'Punctuation'),\n",
       " ('사회', 'Noun'),\n",
       " ('적', 'Suffix'),\n",
       " ('·', 'Punctuation'),\n",
       " ('문화', 'Noun'),\n",
       " ('적', 'Suffix'),\n",
       " ('생활', 'Noun'),\n",
       " ('의', 'Josa'),\n",
       " ('모든', 'Noun'),\n",
       " ('영역', 'Noun'),\n",
       " ('에', 'Josa'),\n",
       " ('있어서', 'Adjective'),\n",
       " ('차별', 'Noun'),\n",
       " ('을', 'Josa'),\n",
       " ('받지', 'Verb'),\n",
       " ('아니', 'Adjective'),\n",
       " ('한다', 'Verb'),\n",
       " ('.', 'Punctuation'),\n",
       " ('\\n', 'Foreign'),\n",
       " ('②', 'Foreign'),\n",
       " ('사회', 'Noun'),\n",
       " ('적', 'Suffix'),\n",
       " ('특수', 'Noun'),\n",
       " ('계급', 'Noun'),\n",
       " ('의', 'Josa'),\n",
       " ('제도', 'Noun'),\n",
       " ('는', 'Josa'),\n",
       " ('인정', 'Noun'),\n",
       " ('되지', 'Verb'),\n",
       " ('아니하며', 'Adjective'),\n",
       " (',', 'Punctuation'),\n",
       " ('어떠한', 'Adjective'),\n",
       " ('형태', 'Noun'),\n",
       " ('로', 'Josa'),\n",
       " ('도', 'Noun'),\n",
       " ('이를', 'Verb'),\n",
       " ('창설', 'Noun'),\n",
       " ('할', 'Verb'),\n",
       " ('수', 'Noun'),\n",
       " ('없다', 'Adjective'),\n",
       " ('.', 'Punctuation'),\n",
       " ('\\n', 'Foreign'),\n",
       " ('③', 'Foreign'),\n",
       " ('훈장', 'Noun'),\n",
       " ('등', 'Noun'),\n",
       " ('의', 'Josa'),\n",
       " ('영전', 'Noun'),\n",
       " ('은', 'Josa'),\n",
       " ('이를', 'Verb'),\n",
       " ('받은', 'Verb'),\n",
       " ('자', 'Noun'),\n",
       " ('에게만', 'Josa'),\n",
       " ('효력', 'Noun'),\n",
       " ('이', 'Josa'),\n",
       " ('있고', 'Adjective'),\n",
       " (',', 'Punctuation'),\n",
       " ('어떠한', 'Adjective'),\n",
       " ('특권', 'Noun'),\n",
       " ('도', 'Josa'),\n",
       " ('이', 'Noun'),\n",
       " ('에', 'Josa'),\n",
       " ('따르지', 'Verb'),\n",
       " ('아니', 'Adjective'),\n",
       " ('한다', 'Verb'),\n",
       " ('.', 'Punctuation'),\n",
       " ('\\n  ', 'Foreign'),\n",
       " ('제', 'Noun'),\n",
       " ('12조', 'Number'),\n",
       " ('①', 'Foreign'),\n",
       " ('모든', 'Noun'),\n",
       " ('국민', 'Noun'),\n",
       " ('은', 'Josa'),\n",
       " ('신체', 'Noun'),\n",
       " ('의', 'Josa'),\n",
       " ('자유', 'Noun'),\n",
       " ('를', 'Josa'),\n",
       " ('가진다', 'Verb'),\n",
       " ('.', 'Punctuation'),\n",
       " ('누구', 'Noun'),\n",
       " ('든지', 'Josa'),\n",
       " ('법률', 'Noun'),\n",
       " ('에', 'Josa'),\n",
       " ('의하지', 'Adjective'),\n",
       " ('아니하고는', 'Adjective'),\n",
       " ('체포', 'Noun'),\n",
       " ('·', 'Punctuation'),\n",
       " ('구속', 'Noun'),\n",
       " ('·', 'Punctuation'),\n",
       " ('압수', 'Noun'),\n",
       " ('·', 'Punctuation'),\n",
       " ('수색', 'Noun'),\n",
       " ('또는', 'Adverb'),\n",
       " ('심문', 'Noun'),\n",
       " ('을', 'Josa'),\n",
       " ('받지', 'Verb'),\n",
       " ('아니하며', 'Adjective'),\n",
       " (',', 'Punctuation'),\n",
       " ('법률', 'Noun'),\n",
       " ('과', 'Josa'),\n",
       " ('적법한', 'Adjective'),\n",
       " ('절차', 'Noun'),\n",
       " ('에', 'Josa'),\n",
       " ('의하지', 'Adjective'),\n",
       " ('아니하고는', 'Adjective'),\n",
       " ('처벌', 'Noun'),\n",
       " ('·', 'Punctuation'),\n",
       " ('보안처분', 'Noun'),\n",
       " ('또는', 'Adverb'),\n",
       " ('강제', 'Noun'),\n",
       " ('노역', 'Noun'),\n",
       " ('을', 'Josa'),\n",
       " ('받지', 'Verb'),\n",
       " ('아니', 'Adjective'),\n",
       " ('한다', 'Verb'),\n",
       " ('.', 'Punctuation'),\n",
       " ('\\n', 'Foreign'),\n",
       " ('②', 'Foreign'),\n",
       " ('모든', 'Noun'),\n",
       " ('국민', 'Noun'),\n",
       " ('은', 'Josa'),\n",
       " ('고문', 'Noun'),\n",
       " ('을', 'Josa'),\n",
       " ('받지', 'Verb'),\n",
       " ('아니하며', 'Adjective'),\n",
       " (',', 'Punctuation'),\n",
       " ('형사', 'Noun'),\n",
       " ('상', 'Suffix'),\n",
       " ('자기', 'Noun'),\n",
       " ('에게', 'Josa'),\n",
       " ('불리한', 'Adjective'),\n",
       " ('진술', 'Noun'),\n",
       " ('을', 'Josa'),\n",
       " ('강요', 'Noun'),\n",
       " ('당하지', 'Adjective'),\n",
       " ('아니', 'Adjective'),\n",
       " ('한다', 'Verb'),\n",
       " ('.', 'Punctuation'),\n",
       " ('\\n', 'Foreign'),\n",
       " ('③', 'Foreign'),\n",
       " ('체포', 'Noun'),\n",
       " ('·', 'Punctuation'),\n",
       " ('구속', 'Noun'),\n",
       " ('·', 'Punctuation'),\n",
       " ('압수', 'Noun'),\n",
       " ('또는', 'Adverb'),\n",
       " ('수색', 'Noun'),\n",
       " ('을', 'Josa'),\n",
       " ('할', 'Verb'),\n",
       " ('때', 'Noun'),\n",
       " ('에는', 'Josa'),\n",
       " ('적법한', 'Adjective'),\n",
       " ('절차', 'Noun'),\n",
       " ('에', 'Josa'),\n",
       " ('따라', 'Verb'),\n",
       " ('검사', 'Noun'),\n",
       " ('의', 'Josa'),\n",
       " ('신청', 'Noun'),\n",
       " ('에', 'Josa'),\n",
       " ('의하여', 'Adjective'),\n",
       " ('법관', 'Noun'),\n",
       " ('이', 'Josa'),\n",
       " ('발부', 'Noun'),\n",
       " ('한', 'Josa'),\n",
       " ('영장', 'Noun'),\n",
       " ('을', 'Josa'),\n",
       " ('제시', 'Noun'),\n",
       " ('하여야', 'Verb'),\n",
       " ('한다', 'Verb'),\n",
       " ('.', 'Punctuation'),\n",
       " ('다만', 'Noun'),\n",
       " (',', 'Punctuation'),\n",
       " ('현행범인', 'Noun'),\n",
       " ('인', 'Josa'),\n",
       " ('경우', 'Noun'),\n",
       " ('와', 'Josa'),\n",
       " ('장기', 'Noun'),\n",
       " ('3년', 'Number'),\n",
       " ('이상', 'Noun'),\n",
       " ('의', 'Josa'),\n",
       " ('형', 'Noun'),\n",
       " ('에', 'Josa'),\n",
       " ('해당', 'Noun'),\n",
       " ('하는', 'Verb'),\n",
       " ('죄', 'Noun'),\n",
       " ('를', 'Josa'),\n",
       " ('범', 'Noun'),\n",
       " ('하고', 'Josa'),\n",
       " ('도피', 'Noun'),\n",
       " ('또는', 'Adverb'),\n",
       " ('증거', 'Noun'),\n",
       " ('인', 'Josa'),\n",
       " ('멸', 'Noun'),\n",
       " ('의', 'Josa'),\n",
       " ('염려', 'Noun'),\n",
       " ('가', 'Josa'),\n",
       " ('있을', 'Adjective'),\n",
       " ('때', 'Noun'),\n",
       " ('에는', 'Josa'),\n",
       " ('사후', 'Noun'),\n",
       " ('에', 'Josa'),\n",
       " ('영장', 'Noun'),\n",
       " ('을', 'Josa'),\n",
       " ('청구', 'Noun'),\n",
       " ('할', 'Verb'),\n",
       " ('수', 'Noun'),\n",
       " ('있다', 'Adjective'),\n",
       " ('.', 'Punctuation'),\n",
       " ('\\n', 'Foreign'),\n",
       " ('④', 'Foreign'),\n",
       " ('누구', 'Noun'),\n",
       " ('든지', 'Josa'),\n",
       " ('체포', 'Noun'),\n",
       " ('또는', 'Adverb'),\n",
       " ('구속', 'Noun'),\n",
       " ('을', 'Josa'),\n",
       " ('당한', 'Noun'),\n",
       " ('때', 'Noun'),\n",
       " ('에는', 'Josa'),\n",
       " ('즉시', 'Noun'),\n",
       " ('변호인', 'Noun'),\n",
       " ('의', 'Josa'),\n",
       " ('조력', 'Noun'),\n",
       " ('을', 'Josa'),\n",
       " ('받을', 'Verb'),\n",
       " ('권리', 'Noun'),\n",
       " ('를', 'Josa'),\n",
       " ('가진다', 'Verb'),\n",
       " ('.', 'Punctuation'),\n",
       " ('다만', 'Noun'),\n",
       " (',', 'Punctuation'),\n",
       " ('형사', 'Noun'),\n",
       " ('피고인', 'Noun'),\n",
       " ('이', 'Josa'),\n",
       " ('스스로', 'Noun'),\n",
       " ('변호인', 'Noun'),\n",
       " ('을', 'Josa'),\n",
       " ('구', 'Noun'),\n",
       " ('할', 'Verb'),\n",
       " ('수', 'Noun'),\n",
       " ('없을', 'Adjective'),\n",
       " ('때', 'Noun'),\n",
       " ('에는', 'Josa'),\n",
       " ('법률', 'Noun'),\n",
       " ('이', 'Josa'),\n",
       " ('정', 'Noun'),\n",
       " ('하는', 'Verb'),\n",
       " ('바', 'Noun'),\n",
       " ('에', 'Josa'),\n",
       " ('의하여', 'Adjective'),\n",
       " ('국가', 'Noun'),\n",
       " ('가', 'Josa'),\n",
       " ('변호인', 'Noun'),\n",
       " ('을', 'Josa'),\n",
       " ('붙인다', 'Verb'),\n",
       " ('.', 'Punctuation'),\n",
       " ('\\n', 'Foreign'),\n",
       " ('⑤', 'Foreign'),\n",
       " ('누구', 'Noun'),\n",
       " ('든지', 'Josa'),\n",
       " ('체포', 'Noun'),\n",
       " ('또는', 'Adverb'),\n",
       " ('구속', 'Noun'),\n",
       " ('의', 'Josa'),\n",
       " ('이유', 'Noun'),\n",
       " ('와', 'Josa'),\n",
       " ('변호인', 'Noun'),\n",
       " ('의', 'Josa'),\n",
       " ('조력', 'Noun'),\n",
       " ('을', 'Josa'),\n",
       " ('받을', 'Verb'),\n",
       " ('권리', 'Noun'),\n",
       " ('가', 'Josa'),\n",
       " ('있', 'Adjective'),\n",
       " ('음', 'Noun'),\n",
       " ('을', 'Josa'),\n",
       " ('고지', 'Noun'),\n",
       " ('받지', 'Verb'),\n",
       " ('아니하고는', 'Adjective'),\n",
       " ('체포', 'Noun'),\n",
       " ('또는', 'Adverb'),\n",
       " ('구속', 'Noun'),\n",
       " ('을', 'Josa'),\n",
       " ('당하지', 'Adjective'),\n",
       " ('아니', 'Adjective'),\n",
       " ('한다', 'Verb'),\n",
       " ('.', 'Punctuation'),\n",
       " ('체포', 'Noun'),\n",
       " ('또는', 'Adverb'),\n",
       " ('구속', 'Noun'),\n",
       " ('을', 'Josa'),\n",
       " ('당한', 'Noun'),\n",
       " ('자의', 'Noun'),\n",
       " ('가족', 'Noun'),\n",
       " ('등', 'Noun'),\n",
       " ('법률', 'Noun'),\n",
       " ('이', 'Josa'),\n",
       " ('정', 'Noun'),\n",
       " ('하는', 'Verb'),\n",
       " ('자', 'Noun'),\n",
       " ('에게는', 'Josa'),\n",
       " ('그', 'Noun'),\n",
       " ('이유', 'Noun'),\n",
       " ('와', 'Josa'),\n",
       " ('일시', 'Noun'),\n",
       " ('·', 'Punctuation'),\n",
       " ('장소', 'Noun'),\n",
       " ('가', 'Josa'),\n",
       " ('지체', 'Noun'),\n",
       " ('없이', 'Adverb'),\n",
       " ('통지', 'Noun'),\n",
       " ('되어야', 'Verb'),\n",
       " ('한다', 'Verb'),\n",
       " ('.', 'Punctuation'),\n",
       " ('\\n', 'Foreign'),\n",
       " ('⑥', 'Foreign'),\n",
       " ('누구', 'Noun'),\n",
       " ('든지', 'Josa'),\n",
       " ('체포', 'Noun'),\n",
       " ('또는', 'Adverb'),\n",
       " ('구속', 'Noun'),\n",
       " ('을', 'Josa'),\n",
       " ('당한', 'Noun'),\n",
       " ...]"
      ]
     },
     "execution_count": 52,
     "metadata": {},
     "output_type": "execute_result"
    }
   ],
   "source": [
    "okt = Okt()\n",
    "tagged = okt.pos(corpus)\n",
    "tagged"
   ]
  },
  {
   "cell_type": "code",
   "execution_count": null,
   "metadata": {
    "colab": {
     "base_uri": "https://localhost:8080/"
    },
    "executionInfo": {
     "elapsed": 90,
     "status": "ok",
     "timestamp": 1701825957721,
     "user": {
      "displayName": "신은섭",
      "userId": "08402895350193765155"
     },
     "user_tz": -540
    },
    "id": "2cOVxBWS5-xU",
    "outputId": "1d380635-2848-418e-e1dc-f35e411f3ed4"
   },
   "outputs": [
    {
     "name": "stdout",
     "output_type": "stream",
     "text": [
      "('대한민국', '헌법', '\\n\\n', '유구', '한', '역사', '와', '전통', '에', '빛나는', '우리', '대', '한', '국민', '은', '3', '·', '1', '운동', '으로', '건립', '된', '대한민국', '임시정부', '의', '법', '통과', '불의', '에', '항거', '한', '4', '·', '19', '민주', '이념', '을', '계승', '하고', ',', '조국', '의', '민주', '개혁', '과', '평화', '적', '통일', '의', '사명', '에', '입', '각하', '여', '정의', '·', '인도', '와', '동포', '애', '로써', '민족', '의', '단결', '을', '공고', '히', '하고', ',', '모든', '사회', '적', '폐습', '과', '불의', '를', '타파', '하며', ',', '자율', '과', '조화', '를', '바탕', '으로', '자유민주', '적', '기', '본', '질서', '를', '더욱', '확고히', '하여', '정치', '·', '경제', '·', '사회', '·', '문화', '의', '모든', '영역', '에', '있어서', '각인', '의', '기회', '를', '균등히', '하고', ',', '능력', '을', '최고', '도로', '발휘', '하게', '하며', ',', '자유', '와', '권리', '에', '따르는', '책임', '과', '의무', '를', '완수', '하게', '하여', ',', '안', '으로는', '국민', '생활', '의', '균등한', '향상', '을', '기하', '고', '밖', '으로는', '항구', '적', '인', '세계', '평화', '와', '인류', '공영', '에', '이바지', '함', '으로써', '우리', '들', '과', '우리', '들', '의', '자손', '의', '안전', '과', '자유', '와', '행복', '을', '영원히', '확보', '할', '것', '을', '다짐', '하면서', '1948년', '7월', '12일', '에', '제정', '되고', '8', '차', '에', '걸쳐', '개정', '된', '헌법', '을', '이제', '국회', '의', '의결', '을', '거쳐', '국민투표', '에', '의하여', '개정', '한다', '.', '\\n\\n       ', '제', '1', '장', '총', '강', '\\n  ', '제', '1조', '①', '대한민국', '은', '민주공화국', '이다', '.', '\\n', '②', '대한민국', '의', '주권', '은', '국민', '에게', '있고', ',', '모든', '권력', '은', '국민', '으로부터', '나온다', '.', '\\n  ', '제', '2조', '①', '대한민국', '의', '국민', '이', '되는', '요건', '은', '법률', '로', '정', '한다', '.', '\\n', '②', '국가', '는', '법률', '이', '정', '하는', '바', '에', '의하여', '재외국민', '을', '보호', '할', '의무', '를', '진다', '.', '\\n  ', '제', '3조', '대한민국', '의', '영토', '는', '한반도', '와', '그', '부속', '도서', '로', '한다', '.', '\\n  ', '제', '4조', '대한민국', '은', '통일', '을', '지향', '하며', ',', '자유민주', '적', '기', '본', '질서', '에', '입각', '한', '평화', '적', '통일', '정책', '을', '수립', '하고', '이를', '추진', '한', '다', '.', '\\n  ', '제', '5조', '①', '대한민국', '은', '국제', '평화', '의', '유지', '에', '노력', '하고', '침략', '적', '전쟁', '을', '부인', '한다', '.', '\\n', '②', '국군', '은', '국가', '의', '안전보장', '과', '국토', '방위', '의', '신성한', '의무', '를', '수행', '함', '을', '사명', '으로', '하며', ',', '그', '정치', '적', '중립성', '은', '준수', '된다', '.', '\\n  ', '제', '6조', '①', '헌법', '에', '의하여', '체결', '·', '공포', '된', '조약', '과', '일반', '적', '으로', '승인', '된', '국제', '법규', '는', '국내법', '과', '같은', '효력', '을', '가진다', '.', '\\n', '②', '외국인', '은', '국제', '법', '과', '조약', '이', '정', '하는', '바', '에', '의하여', '그', '지위', '가', '보장', '된다', '.', '\\n  ', '제', '7조', '①', '공무원', '은', '국민', '전체', '에', '대한', '봉사자', '이며', ',', '국민', '에', '대하', '여', '책임', '을', '진다', '.', '\\n', '②', '공무원', '의', '신분', '과', '정치', '적', '중립성', '은', '법률', '이', '정', '하는', '바', '에', '의하여', '보장', '된다', '.', '\\n  ', '제', '8조', '①', '정당', '의', '설립', '은', '자유', '이며', ',', '복수정당제', '는', '보장', '된다', '.', '\\n', '②', '정당', '은', '그', '목적', '·', '조직', '과', '활동', '이', '민주', '적이어야', '하며', ',', '국민', '의', '정치', '적', '의사', '형성', '에', '참여', '하는데', '필요한', '조직', '을', '가져야', '한다', '.', '\\n', '③', '정당', '은', '법률', '이', '정', '하는', '바', '에', '의하여', '국가', '의', '보호', '를', '받으며', ',', '국가', '는', '법률', '이', '정', '하는', '바', '에', '의하여', '정당', '운영', '에', '필요한', '자금', '을', '보조', '할', '수', '있다', '.', '\\n', '④', '정당', '의', '목적', '이나', '활동', '이', '민주', '적', '기', '본', '질서', '에', '위배', '될', '때', '에는', '정부', '는', '헌법재판소', '에', '그', '해산', '을', '제소', '할', '수', '있고', ',', '정당', '은', '헌법재판소', '의', '심판', '에', '의하여', '해산', '된다', '.', '\\n  ', '제', '9조', '국가', '는', '전통문화', '의', '계승', '·', '발전', '과', '민족', '문화', '의', '창달', '에', '노력', '하여야', '한다', '.', '\\n\\n       ', '제', '2', '장', '국민', '의', '권리', '와', '의무', '\\n  ', '제', '10조', '모든', '국민', '은', '인간', '으로서의', '존엄', '과', '가치', '를', '가지', '며', ',', '행복', '을', '추구', '할', '권리', '를', '가진다', '.', '국가', '는', '개인', '이', '가지는', '불가침', '의', '기본', '적', '인권', '을', '확인', '하고', '이를', '보장', '할', '의무', '를', '진다', '.', '\\n  ', '제', '11조', '①', '모든', '국민', '은', '법', '앞', '에', '평등하다', '.', '누구', '든지', '성별', '·', '종교', '또는', '사회', '적', '신분', '에', '의하여', '정치', '적', '·', '경제', '적', '·', '사회', '적', '·', '문화', '적', '생활', '의', '모든', '영역', '에', '있어서', '차별', '을', '받지', '아니', '한다', '.', '\\n', '②', '사회', '적', '특수', '계급', '의', '제도', '는', '인정', '되지', '아니하며', ',', '어떠한', '형태', '로', '도', '이를', '창설', '할', '수', '없다', '.', '\\n', '③', '훈장', '등', '의', '영전', '은', '이를', '받은', '자', '에게만', '효력', '이', '있고', ',', '어떠한', '특권', '도', '이', '에', '따르지', '아니', '한다', '.', '\\n  ', '제', '12조', '①', '모든', '국민', '은', '신체', '의', '자유', '를', '가진다', '.', '누구', '든지', '법률', '에', '의하지', '아니하고는', '체포', '·', '구속', '·', '압수', '·', '수색', '또는', '심문', '을', '받지', '아니하며', ',', '법률', '과', '적법한', '절차', '에', '의하지', '아니하고는', '처벌', '·', '보안처분', '또는', '강제', '노역', '을', '받지', '아니', '한다', '.', '\\n', '②', '모든', '국민', '은', '고문', '을', '받지', '아니하며', ',', '형사', '상', '자기', '에게', '불리한', '진술', '을', '강요', '당하지', '아니', '한다', '.', '\\n', '③', '체포', '·', '구속', '·', '압수', '또는', '수색', '을', '할', '때', '에는', '적법한', '절차', '에', '따라', '검사', '의', '신청', '에', '의하여', '법관', '이', '발부', '한', '영장', '을', '제시', '하여야', '한다', '.', '다만', ',', '현행범인', '인', '경우', '와', '장기', '3년', '이상', '의', '형', '에', '해당', '하는', '죄', '를', '범', '하고', '도피', '또는', '증거', '인', '멸', '의', '염려', '가', '있을', '때', '에는', '사후', '에', '영장', '을', '청구', '할', '수', '있다', '.', '\\n', '④', '누구', '든지', '체포', '또는', '구속', '을', '당한', '때', '에는', '즉시', '변호인', '의', '조력', '을', '받을', '권리', '를', '가진다', '.', '다만', ',', '형사', '피고인', '이', '스스로', '변호인', '을', '구', '할', '수', '없을', '때', '에는', '법률', '이', '정', '하는', '바', '에', '의하여', '국가', '가', '변호인', '을', '붙인다', '.', '\\n', '⑤', '누구', '든지', '체포', '또는', '구속', '의', '이유', '와', '변호인', '의', '조력', '을', '받을', '권리', '가', '있', '음', '을', '고지', '받지', '아니하고는', '체포', '또는', '구속', '을', '당하지', '아니', '한다', '.', '체포', '또는', '구속', '을', '당한', '자의', '가족', '등', '법률', '이', '정', '하는', '자', '에게는', '그', '이유', '와', '일시', '·', '장소', '가', '지체', '없이', '통지', '되어야', '한다', '.', '\\n', '⑥', '누구', '든지', '체포', '또는', '구속', '을', '당한', '때', '에는', '적', '부의', '심사', '를', '법원', '에', '청구', '할', '권리', '를', '가진다', '.', '\\n', '⑦', '피고인', '의', '자백', '이', '고문', '·', '폭행', '·', '협박', '·', '구속', '의', '부당한', '장기', '화', '또는', '기', '망', '기타', '의', '방법', '에', '의하여', '자의', '로', '진술', '된', '것', '이', '아니라고', '인정', '될', '때', '또는', '정식', '재판', '에', '있어서', '피고인', '의', '자백', '이', '그', '에게', '불리한', '유일한', '증거', '일', '때', '에는', '이를', '유죄', '의', '증거', '로', '삼거나', '이를', '이유', '로', '처벌', '할', '수', '없다', '.', '\\n  ', '제', '13조', '①', '모든', '국민', '은', '행위', '시', '의', '법률', '에', '의하여', '범죄', '를', '구성', '하지', '아니하는', '행위', '로', '소', '추', '되지', '아니하며', ',', '동일한', '범죄', '에', '대하', '여', '거듭', '처벌', '받지', '아니', '한다', '.', '\\n', '②', '모든', '국민', '은', '소급입법', '에', '의하여', '참정권', '의', '제한', '을', '받거나', '재산권', '을', '박탈', '당하지', '아니', '한다', '.', '\\n', '③', '모든', '국민', '은', '자기', '의', '행위', '가', '아닌', '친족', '의', '행위', '로', '인하여', '불이익', '한', '처우', '를', '받지', '아니', '한다', '.', '\\n  ', '제', '14조', '모든', '국민', '은', '거주', '·', '이전', '의', '자유', '를', '가진다', '.', '\\n  ', '제', '15조', '모든', '국민', '은', '직업', '선택', '의', '자유', '를', '가진다', '.', '\\n  ', '제', '16조', '모든', '국민', '은', '주거', '의', '자유', '를', '침해', '받지', '아니', '한다', '.', '주거', '에', '대한', '압수', '나', '수색', '을', '할', '때', '에는', '검사', '의', '신청', '에', '의하여', '법관', '이', '발부', '한', '영장', '을', '제시', '하여야', '한다', '.', '\\n  ', '제', '17조', '모든', '국민', '은', '사생활', '의', '비밀', '과', '자유', '를', '침해', '받지', '아니', '한다', '.', '\\n  ', '제', '18조', '모든', '국민', '은', '통신', '의', '비밀', '을', '침해', '받지', '아니', '한다', '.', '\\n  ', '제', '19조', '모든', '국민', '은', '양심', '의', '자유', '를', '가진다', '.', '\\n  ', '제', '20조', '①', '모든', '국민', '은', '종교', '의', '자유', '를', '가진다', '.', '\\n', '②', '국교', '는', '인정', '되지', '아니하며', ',', '종교', '와', '정치', '는', '분리', '된다', '.', '\\n  ', '제', '21조', '①', '모든', '국민', '은', '언론', '·', '출판', '의', '자유', '와', '집회', '·', '결사', '의', '자유', '를', '가진다', '.', '\\n', '②', '언론', '·', '출판', '에', '대한', '허가', '나', '검열', '과', '집회', '·', '결사', '에', '대한', '허가', '는', '인정', '되지', '아니', '한다', '.', '\\n', '③', '통신', '·', '방송', '의', '시설', '기준', '과', '신문', '의', '기능', '을', '보장', '하기', '위', '하여', '필요한', '사항', '은', '법률', '로', '정', '한다', '.', '\\n', '④', '언론', '·', '출판', '은', '타인', '의', '명예', '나', '권리', '또는', '공중도덕', '이나', '사회', '윤리', '를', '침해', '하여', '서는', '아니', '된다', '.', '언론', '·', '출판', '이', '타인', '의', '명예', '나', '권리', '를', '침해', '한', '때', '에는', '피해자', '는', '이', '에', '대한', '피해', '의', '배상', '을', '청구', '할', '수', '있다', '.', '\\n  ', '제', '22조', '①', '모든', '국민', '은', '학문', '과', '예술', '의', '자유', '를', '가진다', '.', '\\n', '②', '저작자', '·', '발명가', '·', '과학기술', '자', '와', '예술가', '의', '권리', '는', '법률', '로써', '보호', '한다', '.', '\\n  ', '제', '23조', '①', '모든', '국민', '의', '재산권', '은', '보장', '된다', '.', '그', '내용', '과', '한계', '는', '법률', '로', '정', '한다', '.', '\\n', '②', '재산권', '의', '행사', '는', '공공', '복리', '에', '적합하도록', '하여야', '한다', '.', '\\n', '③', '공공필요', '에', '의한', '재산권', '의', '수용', '·', '사용', '또는', '제한', '및', '그', '에', '대한', '보상', '은', '법률', '로써', '하', '되', ',', '정당한', '보상', '을', '지급', '하여야', '한다', '.', '\\n  ', '제', '24조', '모든', '국민', '은', '법률', '이', '정', '하는', '바', '에', '의하여', '선거권', '을', '가진다', '.', '\\n  ', '제', '25조', '모든', '국민', '은', '법률', '이', '정', '하는', '바', '에', '의하여', '공무', '담임', '권', '을', '가진다', '.', '\\n  ', '제', '26조', '①', '모든', '국민', '은', '법률', '이', '정', '하는', '바', '에', '의하여', '국가', '기관', '에', '문서', '로', '청원', '할', '권리', '를', '가진다', '.', '\\n', '②', '국가', '는', '청원', '에', '대하', '여', '심사', '할', '의무', '를', '진다', '.', '\\n  ', '제', '27조', '①', '모든', '국민', '은', '헌법', '과', '법률', '이', '정', '한', '법관', '에', '의하여', '법률', '에', '의한', '재판', '을', '받을', '권리', '를', '가진다', '.', '\\n', '②', '군인', '또는', '군무원', '이', '아닌', '국민', '은', '대한민국', '의', '영역', '안', '에서는', '중대한', '군사', '상', '기밀', '·', '초병', '·', '초소', '·', '유독', '음식물', '공급', '·', '포로', '·', '군용', '물', '에', '관', '한', '죄', '중', '법률', '이', '정', '한', '경우', '와', '비상계엄', '이', '선포', '된', '경우', '를', '제외', '하고는', '군사법원', '의', '재판', '을', '받지', '아니', '한다', '.', '\\n', '③', '모든', '국민', '은', '신속한', '재판', '을', '받을', '권리', '를', '가진다', '.', '형사', '피고인', '은', '상당한', '이유', '가', '없는', '한', '지체', '없이', '공개', '재판', '을', '받을', '권리', '를', '가진다', '.', '\\n', '④', '형사', '피고인', '은', '유죄', '의', '판결', '이', '확정', '될', '때', '까지는', '무죄', '로', '추정', '된다', '.', '\\n', '⑤', '형사', '피해자', '는', '법률', '이', '정', '하는', '바', '에', '의하여', '당해', '사건', '의', '재판', '절차', '에서', '진술', '할', '수', '있다', '.', '\\n  ', '제', '28조', '형사', '피의자', '또는', '형사', '피고인', '으로서', '구금', '되었던', '자가', '법률', '이', '정', '하는', '불기소처분', '을', '받거나', '무죄판결', '을', '받은', '때', '에는', '법률', '이', '정', '하는', '바', '에', '의하여', '국가', '에', '정당한', '보상', '을', '청구', '할', '수', '있다', '.', '\\n  ', '제', '29조', '①', '공무원', '의', '직무', '상', '불법행위', '로', '손해', '를', '받은', '국민', '은', '법률', '이', '정', '하는', '바', '에', '의하여', '국가', '또는', '공공', '단체', '에', '정당한', '배상', '을', '청구', '할', '수', '있다', '.', '이', '경우', '공무원', '자신', '의', '책임', '은', '면제', '되지', '아니', '한다', '.', '\\n', '②', '군인', '·', '군무원', '·', '경찰', '공무원', '기타', '법률', '이', '정', '하는', '자가', '전투', '·', '훈련', '등', '직무', '집행', '과', '관련', '하여', '받은', '손해', '에', '대하', '여', '는', '법률', '이', '정', '하는', '보상', '외', '에', '국가', '또는', '공공', '단체', '에', '공무원', '의', '직무', '상', '불법행위', '로', '인한', '배상', '은', '청구', '할', '수', '없다', '.', '\\n  ', '제', '30조', '타인', '의', '범죄', '행위', '로', '인하여', '생명', '·', '신체', '에', '대한', '피해', '를', '받은', '국민', '은', '법률', '이', '정', '하는', '바', '에', '의하여', '국가', '로부터', '구조', '를', '받을', '수', '있다', '.', '\\n  ', '제', '31조', '①', '모든', '국민', '은', '능력', '에', '따라', '균등하게', '교육', '을', '받을', '권리', '를', '가진다', '.', '\\n', '②', '모든', '국민', '은', '그', '보호', '하는', '자녀', '에게', '적어도', '초등교육', '과', '법률', '이', '정', '하는', '교육', '을', '받게', '할', '의무', '를', '진다', '.', '\\n', '③', '의무교육', '은', '무상', '으로', '한다', '.', '\\n', '④', '교육', '의', '자주성', '·', '전문성', '·', '정치', '적', '중립성', '및', '대학', '의', '자율성', '은', '법률', '이', '정', '하는', '바', '에', '의하여', '보장', '된다', '.', '\\n', '⑤', '국가', '는', '평생교육', '을', '진흥', '하여야', '한다', '.', '\\n', '⑥', '학교', '교육', '및', '평생교육', '을', '포함', '한', '교육제도', '와', '그', '운영', ',', '교육재정', '및', '교원', '의', '지위', '에', '관', '한', '기본', '적', '인', '사항', '은', '법률', '로', '정', '한다', '.', '\\n  ', '제', '32조', '①', '모든', '국민', '은', '근로', '의', '권리', '를', '가진다', '.', '국가', '는', '사회', '적', '·', '경제', '적', '방법', '으로', '근로자', '의', '고용', '의', '증진', '과', '적정', '임금', '의', '보장', '에', '노력', '하여야', '하며', ',', '법률', '이', '정', '하는', '바', '에', '의하여', '최저임금제', '를', '시행', '하여야', '한다', '.', '\\n', '②', '모든', '국민', '은', '근로', '의', '의무', '를', '진다', '.', '국가', '는', '근로', '의', '의무', '의', '내용', '과', '조건', '을', '민주주의', '원칙', '에', '따라', '법률', '로', '정', '한다', '.', '\\n', '③', '근로', '조건', '의', '기준', '은', '인간', '의', '존엄성', '을', '보장', '하도록', '법률', '로', '정', '한다', '.', '\\n', '④', '여자', '의', '근로', '는', '특별한', '보호', '를', '받으며', ',', '고용', '·', '임금', '및', '근로', '조건', '에', '있어서', '부당한', '차별', '을', '받지', '아니', '한다', '.', '\\n', '⑤', '연소자', '의', '근로', '는', '특별한', '보호', '를', '받는다', '.', '\\n', '⑥', '국가', '유공', '자', '·', '상이', '군경', '및', '전몰', '군', '경의', '유가족', '은', '법률', '이', '정', '하는', '바', '에', '의하여', '우선', '적', '으로', '근로', '의', '기회', '를', '부여', '받는다', '.', '\\n  ', '제', '33조', '①', '근로자', '는', '근로', '조건', '의', '향상', '을', '위', '하여', '자주', '적', '인', '단결권', '·', '단체교섭권', '및', '단체행동권', '을', '가진다', '.', '\\n', '②', '공무원', '인', '근로자', '는', '법률', '이', '정', '하는', '자', '에', '한하여', '단결권', '·', '단체교섭권', '및', '단체행동권', '을', '가진다', '.', '\\n', '③', '법률', '이', '정', '하는', '주요', '방위산업', '체', '에', '종사', '하는', '근로자', '의', '단체행동권', '은', '법률', '이', '정', '하는', '바', '에', '의하여', '이를', '제한', '하', '거나', '인정', '하지', '아니', '할', '수', '있다', '.', '\\n  ', '제', '34조', '①', '모든', '국민', '은', '인간', '다운', '생활', '을', '할', '권리', '를', '가진다', '.', '\\n', '②', '국가', '는', '사회보장', '·', '사회', '복지', '의', '증진', '에', '노력', '할', '의무', '를', '진다', '.', '\\n', '③', '국가', '는', '여자', '의', '복지', '와', '권익', '의', '향상', '을', '위', '하여', '노력', '하여야', '한다', '.', '\\n', '④', '국가', '는', '노인', '과', '청소년', '의', '복지', '향상', '을', '위', '한', '정책', '을', '실시', '할', '의무', '를', '진다', '.', '\\n', '⑤', '신체', '장애자', '및', '질병', '·', '노령', '기타', '의', '사유', '로', '생활', '능력', '이', '없는', '국민', '은', '법률', '이', '정', '하는', '바', '에', '의하여', '국가', '의', '보호', '를', '받는다', '.', '\\n', '⑥', '국가', '는', '재해', '를', '예방', '하고', '그', '위험', '으로부터', '국민', '을', '보호', '하기', '위', '하여', '노력', '하여야', '한다', '.', '\\n  ', '제', '35조', '①', '모든', '국민', '은', '건강하고', '쾌적한', '환경', '에서', '생활', '할', '권리', '를', '가지', '며', ',', '국가', '와', '국민', '은', '환경보전', '을', '위', '하여', '노력', '하여야', '한다', '.', '\\n', '②', '환경권', '의', '내용', '과', '행사', '에', '관', '하여는', '법률', '로', '정', '한다', '.', '\\n', '③', '국가', '는', '주택', '개발', '정책', '등', '을', '통', '하여', '모든', '국민', '이', '쾌적한', '주거', '생활', '을', '할', '수', '있도록', '노력', '하여야', '한다', '.', '\\n  ', '제', '36조', '①', '혼인', '과', '가족', '생활', '은', '개인', '의', '존엄', '과', '양성', '의', '평등', '을', '기초', '로', '성립', '되고', '유지', '되어야', '하며', ',', '국가', '는', '이를', '보장', '한다', '.', '\\n', '②', '국가', '는', '모성', '의', '보호', '를', '위', '하여', '노력', '하여야', '한다', '.', '\\n', '③', '모든', '국민', '은', '보건', '에', '관', '하여', '국가', '의', '보호', '를', '받는다', '.', '\\n  ', '제', '37조', '①', '국민', '의', '자유', '와', '권리', '는', '헌법', '에', '열거', '되지', '아니한', '이유', '로', '경시', '되지', '아니', '한다', '.', '\\n', '②', '국민', '의', '모든', '자유', '와', '권리', '는', '국가', '안전보장', '·', '질서', '유지', '또는', '공공', '복리', '를', '위', '하여', '필요한', '경우', '에', '한하여', '법률', '로써', '제한', '할', '수', '있으며', ',', '제한', '하는', '경우', '에도', '자유', '와', '권리', '의', '본질', '적', '인', '내용', '을', '침해', '할', '수', '없다', '.', '\\n  ', '제', '38조', '모든', '국민', '은', '법률', '이', '정', '하는', '바', '에', '의하여', '납세', '의', '의무', '를', '진다', '.', '\\n  ', '제', '39조', '①', '모든', '국민', '은', '법률', '이', '정', '하는', '바', '에', '의하여', '국방', '의', '의무', '를', '진다', '.', '\\n', '②', '누구', '든지', '병역의무', '의', '이행', '으로', '인하여', '불이익', '한', '처우', '를', '받지', '아니', '한다', '.', '\\n\\n       ', '제', '3', '장', '국회', '\\n  ', '제', '40조', '입법권', '은', '국회', '에', '속', '한다', '.', '\\n  ', '제', '41조', '①', '국회', '는', '국민', '의', '보통', '·', '평등', '·', '직접', '·', '비밀선거', '에', '의하여', '선출', '된', '국회의원', '으로', '구성', '한', '다', '.', '\\n', '②', '국회의원', '의', '수', '는', '법률', '로', '정', '하', '되', ',', '200', '인', '이상', '으로', '한다', '.', '\\n', '③', '국회의원', '의', '선거구', '와', '비례대표제', '기타', '선거', '에', '관', '한', '사항', '은', '법률', '로', '정', '한다', '.', '\\n  ', '제', '42조', '국회의원', '의', '임기', '는', '4년', '으로', '한다', '.', '\\n  ', '제', '43조', '국회의원', '은', '법률', '이', '정', '하는', '직', '을', '겸', '할', '수', '없다', '.', '\\n  ', '제', '44조', '①', '국회의원', '은', '현행범인', '인', '경우', '를', '제외', '하고는', '회', '기', '중', '국회', '의', '동의', '없이', '체포', '또는', '구금', '되지', '아니', '한다', '.', '\\n', '②', '국회의원', '이', '회', '기전', '에', '체포', '또는', '구금', '된', '때', '에는', '현행범인', '이', '아닌', '한', '국회', '의', '요구', '가', '있으면', '회', '기', '중', '석방', '된다', '.', '\\n  ', '제', '45조', '국회의원', '은', '국회', '에서', '직무', '상', '행', '한', '발언', '과', '표결', '에', '관', '하여', '국회', '외', '에서', '책임', '을', '지지', '아니', '한다', '.', '\\n  ', '제', '46조', '①', '국회의원', '은', '청렴', '의', '의무', '가', '있다', '.', '\\n', '②', '국회의원', '은', '국가', '이익', '을', '우선하여', '양심', '에', '따라', '직무', '를', '행', '한다', '.', '\\n', '③', '국회의원', '은', '그', '지위', '를', '남용', '하여', '국가', '·', '공공', '단체', '또는', '기업체', '와의', '계약', '이나', '그', '처분', '에', '의하여', '재산', '상의', '권리', '·', '이익', '또는', '직위', '를', '취득', '하', '거나', '타인', '을', '위', '하여', '그', '취득', '을', '알선', '할', '수', '없다', '.', '\\n  ', '제', '47조', '①', '국회', '의', '정기회', '는', '법률', '이', '정', '하는', '바', '에', '의하여', '매년', '1회', '집회', '되며', ',', '국회', '의', '임시회', '는', '대통령', '또는', '국회', '재적', '의원', '4분', '의', '1', '이상', '의', '요구', '에', '의하여', '집회', '된다', '.', '\\n', '②', '정기회', '의', '회', '기는', '100일', '을', ',', '임시회', '의', '회', '기는', '30일', '을', '초과', '할', '수', '없다', '.', '\\n', '③', '대통령', '이', '임시회', '의', '집회', '를', '요구', '할', '때', '에는', '기간', '과', '집회', '요구', '의', '이유', '를', '명시', '하여야', '한다', '.', '\\n  ', '제', '48조', '국회', '는', '의장', '1', '인과', '부의', '장', '2', '인', '을', '선출', '한다', '.', '\\n  ', '제', '49조', '국회', '는', '헌법', '또는', '법률', '에', '특별한', '규정', '이', '없는', '한', '재적', '의원', '과반수', '의', '출석', '과', '출석', '의원', '과반수', '의', '찬성', '으로', '의결', '한다', '.', '가부', '동', '수인', '때', '에는', '부결', '된', '것', '으로', '본다', '.', '\\n  ', '제', '50조', '①', '국회', '의', '회의', '는', '공개', '한', '다', '.', '다만', ',', '출석', '의원', '과반수', '의', '찬성', '이', '있거나', '의장', '이', '국가', '의', '안전보장', '을', '위', '하여', '필요하다고', '인정', '할', '때', '에는', '공개', '하지', '아니', '할', '수', '있다', '.', '\\n', '②', '공개', '하지', '아니한', '회의', '내용', '의', '공표', '에', '관', '하여는', '법률', '이', '정', '하는', '바', '에', '의한다', '.', '\\n  ', '제', '51조', '국회', '에', '제출', '된', '법률', '안', '기타', '의', '의안', '은', '회', '기', '중', '에', '의결', '되지', '못', '한', '이유', '로', '폐기', '되지', '아니', '한다', '.', '다만', ',', '국회의원', '의', '임기', '가', '만료', '된', '때', '에는', '그러하지', '아니하다', '.', '\\n  ', '제', '52조', '국회의원', '과', '정부', '는', '법률', '안', '을', '제출', '할', '수', '있다', '.', '\\n  ', '제', '53조', '①', '국회', '에서', '의결', '된', '법률', '안은', '정부', '에', '이송', '되어', '15일', '이내', '에', '대통령', '이', '공포', '한', '다', '.', '\\n', '②', '법률', '안', '에', '이의', '가', '있을', '때', '에는', '대통령', '은', '제', '1', '항의', '기간', '내', '에', '이의', '서', '를', '붙여', '국회', '로', '환부', '하고', ',', '그', '재의', '를', '요구', '할', '수', '있다', '.', '국회', '의', '폐회', '중', '에도', '또한', '같다', '.', '\\n', '③', '대통령', '은', '법률', '안', '의', '일부', '에', '대하', '여', '또는', '법률', '안', '을', '수정', '하여', '재의', '를', '요구', '할', '수', '없다', '.', '\\n', '④', '재의', '의', '요구', '가', '있을', '때', '에는', '국회', '는', '재의', '에', '붙이', '고', ',', '재적', '의원', '과반수', '의', '출석', '과', '출석', '의원', '3분', '의', '2', '이상', '의', '찬성', '으로', '전과', '같은', '의결', '을', '하면', '그', '법률', '안은', '법률', '로서', '확정', '된다', '.', '\\n', '⑤', '대통령', '이', '제', '1', '항의', '기간', '내', '에', '공포', '나', '재의', '의', '요구', '를', '하지', '아니한', '때', '에도', '그', '법률', '안은', '법률', '로서', '확정', '된다', '.', '\\n', '⑥', '대통령', '은', '제', '4', '항', '과', '제', '5', '항의', '규정', '에', '의하여', '확정', '된', '법률', '을', '지체', '없이', '공포', '하여야', '한다', '.', '제', '5', '항', '에', '의하여', '법률', '이', '확정', '된', '후', '또는', '제', '4', '항', '에', '의한', '확정', '법률', '이', '정부', '에', '이송', '된', '후', '5일', '이내', '에', '대통령', '이', '공포', '하지', '아니', '할', '때', '에는', '국회의장', '이', '이를', '공포', '한', '다', '.', '\\n', '⑦', '법률', '은', '특별한', '규정', '이', '없는', '한', '공포', '한', '날로', '부터', '20일', '을', '경과', '함', '으로써', '효력', '을', '발생', '한다', '.', '\\n  ', '제', '54조', '①', '국회', '는', '국가', '의', '예산안', '을', '심의', '·', '확정', '한다', '.', '\\n', '②', '정부', '는', '회계', '연도', '마다', '예산안', '을', '편성', '하여', '회계', '연도', '개시', '90일', '전까지', '국회', '에', '제출', '하고', ',', '국회', '는', '회계', '연도', '개시', '30일', '전까지', '이를', '의결', '하여야', '한다', '.', '\\n', '③', '새로운', '회계', '연도', '가', '개시', '될', '때', '까지', '예산안', '이', '의결', '되지', '못', '한', '때', '에는', '정부', '는', '국회', '에서', '예산안', '이', '의결', '될', '때', '까지', '다음', '의', '목적', '을', '위', '한', '경비', '는', '전', '년도', '예산', '에', '준', '하여', '집행', '할', '수', '있다', '.', '\\n', '1', '.', '헌법', '이나', '법률', '에', '의하여', '설치', '된', '기관', '또는', '시설', '의', '유지', '·', '운영', '\\n', '2', '.', '법률상', '지출', '의무', '의', '이행', '\\n', '3', '.', '이미', '예산', '으로', '승인', '된', '사업', '의', '계속', '\\n  ', '제', '55조', '①', '한', '회계', '연도', '를', '넘어', '계속', '하여', '지출', '할', '필요', '가', '있을', '때', '에는', '정부', '는', '연한', '을', '정', '하여', '계속', '비', '로서', '국회', '의', '의결', '을', '얻어야', '한다', '.', '\\n', '②', '예', '비비', '는', '총', '액', '으로', '국회', '의', '의결', '을', '얻어야', '한다', '.', '예', '비비', '의', '지출', '은', '차기', '국회', '의', '승인', '을', '얻어야', '한다', '.', '\\n  ', '제', '56조', '정부', '는', '예산', '에', '변경', '을', '가할', '필요', '가', '있을', '때', '에는', '추가경정예산', '안', '을', '편성', '하여', '국회', '에', '제출', '할', '수', '있다', '.', '\\n  ', '제', '57조', '국회', '는', '정부', '의', '동의', '없이', '정부', '가', '제출', '한', '지출', '예산', '각항', '의', '금액', '을', '증가', '하', '거나', '새', '비목', '을', '설치', '할', '수', '없다', '.', '\\n  ', '제', '58조', '국채', '를', '모집', '하', '거나', '예산', '외', '에', '국가', '의', '부담', '이', '될', '계약', '을', '체결', '하려', '할', '때', '에는', '정부', '는', '미리', '국회', '의', '의결', '을', '얻어야', '한다', '.', '\\n  ', '제', '59조', '조세', '의', '종목', '과', '세율', '은', '법률', '로', '정', '한다', '.', '\\n  ', '제', '60조', '①', '국회', '는', '상호', '원조', '또는', '안전보장', '에', '관', '한', '조약', ',', '중요한', '국제', '조직', '에', '관', '한', '조약', ',', '우호', '통상', '항해', '조약', ',', '주권', '의', '제약', '에', '관', '한', '조약', ',', '강화조약', ',', '국가', '나', '국민', '에게', '중대한', '재정', '적', '부담', '을', '지우는', '조약', '또는', '입법', '사항', '에', '관', '한', '조약', '의', '체결', '·', '비준', '에', '대한', '동의', '권', '을', '가진다', '.', '\\n', '②', '국회', '는', '선전포고', ',', '국군', '의', '외국', '에의', '파견', '또는', '외국', '군대', '의', '대한민국', '영역', '안', '에서의', '주류', '에', '대한', '동의', '권', '을', '가진다', '.', '\\n  ', '제', '61조', '①', '국회', '는', '국정', '을', '감사', '하', '거나', '특정한', '국정', '사안', '에', '대하', '여', '조사', '할', '수', '있으며', ',', '이', '에', '필요한', '서류', '의', '제출', '또는', '증인', '의', '출석', '과', '증언', '이나', '의견', '의', '진술', '을', '요구', '할', '수', '있다', '.', '\\n', '②', '국정감사', '및', '조사', '에', '관', '한', '절차', '기타', '필요한', '사항', '은', '법률', '로', '정', '한다', '.', '\\n  ', '제', '62조', '①', '국무총리', '·', '국무위원', '또는', '정부위원', '은', '국회', '나', '그', '위원회', '에', '출석', '하여', '국정', '처리', '상황', '을', '보고하거나', '의견', '을', '진술', '하고', '질문', '에', '응답', '할', '수', '있다', '.', '\\n', '②', '국회', '나', '그', '위원회', '의', '요구', '가', '있을', '때', '에는', '국무총리', '·', '국무위원', '또는', '정부위원', '은', '출석', '·', '답변', '하여야', '하며', ',', '국무총리', '또는', '국무위원', '이', '출석', '요구', '를', '받은', '때', '에는', '국무위원', '또는', '정부위원', '으로', '하여금', '출석', '·', '답변', '하게', '할', '수', '있다', '.', '\\n  ', '제', '63조', '①', '국회', '는', '국무총리', '또는', '국무위원', '의', '해임', '을', '대통령', '에게', '건의', '할', '수', '있다', '.', '\\n', '②', '제', '1', '항의', '해임', '건의', '는', '국회', '재적', '의원', '3분', '의', '1', '이상', '의', '발의', '에', '의하여', '국회', '재적', '의원', '과반수', '의', '찬성', '이', '있어야', '한다', '.', '\\n  ', '제', '64조', '①', '국회', '는', '법률', '에', '저촉', '되지', '아니하는', '범위', '안', '에서', '의사', '와', '내부', '규율', '에', '관', '한', '규칙', '을', '제정', '할', '수', '있다', '.', '\\n', '②', '국회', '는', '의원', '의', '자격', '을', '심사', '하며', ',', '의원', '을', '징계', '할', '수', '있다', '.', '\\n', '③', '의원', '을', '제명', '하려면', '국회', '재적', '의원', '3분', '의', '2', '이상', '의', '찬성', '이', '있어야', '한다', '.', '\\n', '④', '제', '2', '항', '과', '제', '3', '항의', '처분', '에', '대하', '여', '는', '법원', '에', '제소', '할', '수', '없다', '.', '\\n  ', '제', '65조', '①', '대통령', '·', '국무총리', '·', '국무위원', '·', '행정각부', '의', '장', '·', '헌법재판소', '재판관', '·', '법관', '·', '중앙', '선거', '관리', '위원회', '위원', '·', '감사원장', '·', '감사', '위원', '기타', '법률', '이', '정', '한', '공무원', '이', '그', '직무', '집행', '에', '있어서', '헌법', '이나', '법률', '을', '위', '배한', '때', '에는', '국회', '는', '탄핵', '의', '소', '추', '를', '의결', '할', '수', '있다', '.', '\\n', '②', '제', '1', '항의', '탄핵', '소', '추', '는', '국회', '재적', '의원', '3분', '의', '1', '이상', '의', '발의', '가', '있어야', '하며', ',', '그', '의결', '은', '국회', '재적', '의원', '과반수', '의', '찬성', '이', '있어야', '한다', '.', '다만', ',', '대통령', '에', '대한', '탄핵', '소', '추', '는', '국회', '재적', '의원', '과반수', '의', '발의', '와', '국회', '재적', '의원', '3분', '의', '2', '이상', '의', '찬성', '이', '있어야', '한다', '.', '\\n', '③', '탄핵', '소', '추', '의', '의결', '을', '받은', '자는', '탄핵', '심판', '이', '있을', '때', '까지', '그', '권한', '행사', '가', '정지', '된다', '.', '\\n', '④', '탄핵', '결정', '은', '공직', '으로부터', '파면', '함', '에', '그친다', '.', '그러나', ',', '이', '에', '의하여', '민사', '상', '이나', '형사', '상의', '책임', '이', '면제', '되지는', '아니', '한다', '.', '\\n\\n       ', '제', '4', '장', '정부', '\\n       ', '제', '1', '절', '대통령', '\\n  ', '제', '66조', '①', '대통령', '은', '국가', '의', '원수', '이며', ',', '외국', '에', '대하', '여', '국가', '를', '대표', '한다', '.', '\\n', '②', '대통령', '은', '국가', '의', '독립', '·', '영토', '의', '보전', '·', '국가', '의', '계속', '성과', '헌법', '을', '수호', '할', '책무', '를', '진다', '.', '\\n', '③', '대통령', '은', '조국', '의', '평화', '적', '통일', '을', '위', '한', '성실한', '의무', '를', '진다', '.', '\\n', '④', '행정권', '은', '대통령', '을', '수반', '으로', '하는', '정부', '에', '속', '한다', '.', '\\n  ', '제', '67조', '①', '대통령', '은', '국민', '의', '보통', '·', '평등', '·', '직접', '·', '비밀선거', '에', '의하여', '선출', '한다', '.', '\\n', '②', '제', '1', '항의', '선거', '에', '있어서', '최고', '득표', '자', '가', '2', '인', '이상인', '때', '에는', '국회', '의', '재적', '의원', '과반수', '가', '출석', '한', '공개', '회의', '에서', '다수', '표', '를', '얻은', '자를', '당선자', '로', '한다', '.', '\\n', '③', '대통령', '후보자', '가', '1', '인일', '때', '에는', '그', '득표', '수가', '선거권', '자', '총수', '의', '3분', '의', '1', '이상', '이', '아니면', '대통령', '으로', '당선', '될', '수', '없다', '.', '\\n', '④', '대통령', '으로', '선거', '될', '수', '있는', '자는', '국회의원', '의', '피선거권', '이', '있고', '선거일', '현재', '40', '세', '에', '달', '하여야', '한다', '.', '\\n', '⑤', '대통령', '의', '선거', '에', '관', '한', '사항', '은', '법률', '로', '정', '한다', '.', '\\n  ', '제', '68조', '①', '대통령', '의', '임기', '가', '만료', '되는', '때', '에는', '임기', '만료', '70일', '내지', '40일', '전에', '후임', '자', '를', '선거', '한다', '.', '\\n', '②', '대통령', '이', '궐위', '된', '때', '또는', '대통령', '당선자', '가', '사망', '하', '거나', '판결', '기타', '의', '사유', '로', '그', '자격', '을', '상실한', '때', '에는', '60일', '이내', '에', '후임', '자', '를', '선거', '한다', '.', '\\n  ', '제', '69조', '대통령', '은', '취임', '에', '즈음', '하여', '다음', '의', '선서', '를', '한다', '.', '\\n', '\"', '나', '는', '헌법', '을', '준수', '하고', '국가', '를', '보위', '하며', '조국', '의', '평화', '적', '통일', '과', '국민', '의', '자유', '와', '복리', '의', '증진', '및', '민족', '문화', '의', '창달', '에', '노력', '하여', '대통령', '으로서의', '직책', '을', '성실히', '수행', '할', '것', '을', '국민', '앞', '에', '엄숙히', '선서', '합니다', '.\"', '\\n  ', '제', '70조', '대통령', '의', '임기', '는', '5년', '으로', '하며', ',', '중임', '할', '수', '없다', '.', '\\n  ', '제', '71조', '대통령', '이', '궐위', '되거나', '사고', '로', '인하여', '직무', '를', '수행', '할', '수', '없을', '때', '에는', '국무총리', ',', '법률', '이', '정', '한', '국무위원', '의', '순서', '로', '그', '권한', '을', '대행', '한다', '.', '\\n  ', '제', '72조', '대통령', '은', '필요하다고', '인정', '할', '때', '에는', '외교', '·', '국방', '·', '통일', '기타', '국가', '안위', '에', '관', '한', '중요', '정책', '을', '국민투표', '에', '붙일', '수', '있다', '.', '\\n  ', '제', '73조', '대통령', '은', '조약', '을', '체결', '·', '비준', '하고', ',', '외교사절', '을', '신임', '·', '접수', '또는', '파견', '하며', ',', '선전포고', '와', '강화', '를', '한다', '.', '\\n  ', '제', '74조', '①', '대통령', '은', '헌법', '과', '법률', '이', '정', '하는', '바', '에', '의하여', '국군', '을', '통수', '한다', '.', '\\n', '②', '국군', '의', '조직', '과', '편성', '은', '법률', '로', '정', '한다', '.', '\\n  ', '제', '75조', '대통령', '은', '법률', '에서', '구체', '적', '으로', '범위', '를', '정', '하여', '위임', '받은', '사항', '과', '법률', '을', '집행', '하기', '위', '하여', '필요한', '사항', '에', '관', '하여', '대통령령', '을', '발', '할', '수', '있다', '.', '\\n  ', '제', '76조', '①', '대통령', '은', '내우', '·', '외환', '·', '천재', '·', '지', '변', '또는', '중대한', '재정', '·', '경제', '상의', '위기', '에', '있어서', '국가', '의', '안전보장', '또는', '공공', '의', '안녕', '질서', '를', '유지', '하기', '위', '하여', '긴급한', '조치', '가', '필요하고', '국회', '의', '집회', '를', '기다릴', '여유', '가', '없을', '때', '에', '한하여', '최소한', '으로', '필요한', '재정', '·', '경제', '상의', '처분', '을', '하', '거나', '이', '에', '관', '하여', '법률', '의', '효력', '을', '가지는', '명령', '을', '발', '할', '수', '있다', '.', '\\n', '②', '대통령', '은', '국가', '의', '안위', '에', '관계', '되는', '중대한', '교전', '상태', '에', '있어서', '국가', '를', '보위', '하기', '위', '하여', '긴급한', '조치', '가', '필요하고', '국회', '의', '집회', '가', '불가능한', '때', '에', '한하여', '법률', '의', '효력', '을', '가지는', '명령', '을', '발', '할', '수', '있다', '.', '\\n', '③', '대통령', '은', '제', '1', '항', '과', '제', '2', '항의', '처분', '또는', '명령', '을', '한', '때', '에는', '지체', '없이', '국회', '에', '보고', '하여', '그', '승인', '을', '얻어야', '한다', '.', '\\n', '④', '제', '3', '항의', '승인', '을', '얻지', '못', '한', '때', '에는', '그', '처분', '또는', '명령', '은', '그때', '부터', '효력', '을', '상실한다', '.', '이', '경우', '그', '명령', '에', '의하여', '개정', '또는', '폐지', '되었던', '법률', '은', '그', '명령', '이', '승인', '을', '얻지', '못', '한', '때', '부터', '당연히', '효력', '을', '회복한다', '.', '\\n', '⑤', '대통령', '은', '제', '3', '항', '과', '제', '4', '항의', '사유', '를', '지체', '없이', '공포', '하여야', '한다', '.', '\\n  ', '제', '77조', '①', '대통령', '은', '전시', '·', '사변', '또는', '이', '에', '준', '하는', '국가', '비상', '사태', '에', '있어서', '병력', '으로써', '군사', '상의', '필요', '에', '응', '하', '거나', '공공', '의', '안녕', '질서', '를', '유지', '할', '필요', '가', '있을', '때', '에는', '법률', '이', '정', '하는', '바', '에', '의하여', '계엄', '을', '선포', '할', '수', '있다', '.', '\\n', '②', '계엄', '은', '비상계엄', '과', '경비계엄', '으로', '한다', '.', '\\n', '③', '비상계엄', '이', '선포', '된', '때', '에는', '법률', '이', '정', '하는', '바', '에', '의하여', '영장', '제도', ',', '언론', '·', '출판', '·', '집회', '·', '결사', '의', '자유', ',', '정부', '나', '법원', '의', '권한', '에', '관', '하여', '특별한', '조치', '를', '할', '수', '있다', '.', '\\n', '④', '계엄', '을', '선포', '한', '때', '에는', '대통령', '은', '지체', '없이', '국회', '에', '통고', '하여야', '한다', '.', '\\n', '⑤', '국회', '가', '재적', '의원', '과반수', '의', '찬성', '으로', '계엄', '의', '해제', '를', '요구', '한', '때', '에는', '대통령', '은', '이를', '해제', '하여야', '한다', '.', '\\n  ', '제', '78조', '대통령', '은', '헌법', '과', '법률', '이', '정', '하는', '바', '에', '의하여', '공무원', '을', '임면한', '다', '.', '\\n  ', '제', '79조', '①', '대통령', '은', '법률', '이', '정', '하는', '바', '에', '의하여', '사면', '·', '감형', '또는', '복권', '을', '명', '할', '수', '있다', '.', '\\n', '②', '일', '반', '사면', '을', '명', '하려면', '국회', '의', '동의', '를', '얻어야', '한다', '.', '\\n', '③', '사면', '·', '감형', '및', '복권', '에', '관', '한', '사항', '은', '법률', '로', '정', '한다', '.', '\\n  ', '제', '80조', '대통령', '은', '법률', '이', '정', '하는', '바', '에', '의하여', '훈장', '기타', '의', '영전', '을', '수여', '한', '다', '.', '\\n  ', '제', '81조', '대통령', '은', '국회', '에', '출석', '하여', '발언', '하', '거나', '서한', '으로', '의견', '을', '표시', '할', '수', '있다', '.', '\\n  ', '제', '82조', '대통령', '의', '국법', '상', '행위', '는', '문서', '로써', '하며', ',', '이', '문서', '에는', '국무총리', '와', '관계', '국무위원', '이', '부서', '한다', '.', '군사', '에', '관', '한', '것', '도', '또한', '같다', '.', '\\n  ', '제', '83조', '대통령', '은', '국무총리', '·', '국무위원', '·', '행정각부', '의', '장', '기타', '법률', '이', '정', '하는', '공사', '의', '직', '을', '겸', '할', '수', '없다', '.', '\\n  ', '제', '84조', '대통령', '은', '내란', '또는', '외환', '의', '죄', '를', '범한', '경우', '를', '제외', '하고는', '재직', '중', '형사', '상의', '소', '추', '를', '받지', '아니', '한다', '.', '\\n  ', '제', '85조', '전직', '대통령', '의', '신분', '과', '예우', '에', '관', '하여는', '법률', '로', '정', '한다', '.', '\\n       ', '제', '2', '절', '행정부', '\\n       ', '제', '1', '관', '국무총리', '와', '국무위원', '\\n  ', '제', '86조', '①', '국무총리', '는', '국회', '의', '동의', '를', '얻어', '대통령', '이', '임명', '한다', '.', '\\n', '②', '국무총리', '는', '대통령', '을', '보좌', '하며', ',', '행정', '에', '관', '하여', '대통령', '의', '명', '을', '받아', '행정각부', '를', '통', '할', '한다', '.', '\\n', '③', '군인', '은', '현역', '을', '면', '한', '후', '가', '아니면', '국무총리', '로', '임명', '될', '수', '없다', '.', '\\n  ', '제', '87조', '①', '국무위원', '은', '국무총리', '의', '제청', '으로', '대통령', '이', '임명', '한다', '.', '\\n', '②', '국무위원', '은', '국정', '에', '관', '하여', '대통령', '을', '보좌', '하며', ',', '국무회의', '의', '구성원', '으로서', '국정', '을', '심의', '한다', '.', '\\n', '③', '국무총리', '는', '국무위원', '의', '해임', '을', '대통령', '에게', '건의', '할', '수', '있다', '.', '\\n', '④', '군인', '은', '현역', '을', '면', '한', '후', '가', '아니면', '국무위원', '으로', '임명', '될', '수', '없다', '.', '\\n       ', '제', '2', '관', '국무회의', '\\n  ', '제', '88조', '①', '국무회의', '는', '정부', '의', '권한', '에', '속', '하는', '중요한', '정책', '을', '심의', '한다', '.', '\\n', '②', '국무회의', '는', '대통령', '·', '국무총리', '와', '15', '인', '이상', '30', '인', '이하', '의', '국무위원', '으로', '구성', '한', '다', '.', '\\n', '③', '대통령', '은', '국무회의', '의', '의장', '이', '되고', ',', '국무총리', '는', '부의', '장이', '된다', '.', '\\n  ', '제', '89조', '다음', '사항', '은', '국무회의', '의', '심의', '를', '거쳐야', '한다', '.', '\\n', '1', '.', '국정', '의', '기', '본', '계획', '과', '정부', '의', '일반', '정책', '\\n', '2', '.', '선전', '·', '강화', '기타', '중요한', '대외', '정책', '\\n', '3', '.', '헌법', '개정안', '·', '국민투표', '안', '·', '조약', '안', '·', '법률', '안', '및', '대통령령', '안', '\\n', '4', '.', '예산안', '·', '결산', '·', '국유재산', '처분', '의', '기본', '계획', '·', '국가', '의', '부담', '이', '될', '계약', '기타', '재정', '에', '관', '한', '중요', '사항', '\\n', '5', '.', '대통령', '의', '긴급', '명령', '·', '긴급', '재정', '경제', '처분', '및', '명령', '또는', '계엄', '과', '그', '해제', '\\n', '6', '.', '군사', '에', '관', '한', '중요', '사항', '\\n', '7', '.', '국회', '의', '임시회', '집회', '의', '요구', '\\n', '8', '.', '영전', '수여', '\\n', '9', '.', '사면', '·', '감형', '과', '복권', '\\n', '10', '.', '행정각부', '간', '의', '권한', '의', '획정', '\\n', '11', '.', '정부', '안', '의', '권한', '의', '위임', '또는', '배정', '에', '관', '한', '기본', '계획', '\\n', '12', '.', '국정', '처리', '상황', '의', '평가', '·', '분석', '\\n', '13', '.', '행정각부', '의', '중요한', '정책', '의', '수립', '과', '조정', '\\n', '14', '.', '정당', '해산', '의', '제소', '\\n', '15', '.', '정부', '에', '제출', '또는', '회부', '된', '정부', '의', '정책', '에', '관계', '되는', '청원', '의', '심사', '\\n', '16', '.', '검찰총장', '·', '합동', '참모', '의장', '·', '각', '군', '참모총장', '·', '국립', '대학교', '총장', '·', '대사', '기타', '법률', '이', '정', '한', '공무원', '과', '국영', '기업체', '관리자', '의', '임명', '\\n', '17', '.', '기타', '대통령', '·', '국무총리', '또는', '국무위원', '이', '제출', '한', '사항', '\\n  ', '제', '90조', '①', '국정', '의', '중요한', '사항', '에', '관', '한', '대통령', '의', '자문', '에', '응', '하기', '위', '하여', '국가', '원로', '로', '구성', '되는', '국가', '원', '로', '자문', '회의', '를', '둘', '수', '있다', '.', '\\n', '②', '국가', '원', '로', '자문', '회의', '의', '의장', '은', '직전', '대통령', '이', '된다', '.', '다만', ',', '직전', '대통령', '이', '없을', '때', '에는', '대통령', '이', '지명', '한다', '.', '\\n', '③', '국가', '원', '로', '자문', '회의', '의', '조직', '·', '직무', '범위', '기타', '필요한', '사항', '은', '법률', '로', '정', '한다', '.', '\\n  ', '제', '91조', '①', '국가', '안전보장', '에', '관련', '되는', '대외', '정책', '·', '군사', '정책', '과', '국내', '정책', '의', '수립', '에', '관', '하여', '국무회의', '의', '심의', '에', '앞서', '대통령', '의', '자문', '에', '응', '하기', '위', '하여', '국가', '안전보장', '회의', '를', '둔다', '.', '\\n', '②', '국가', '안전보장', '회의', '는', '대통령', '이', '주재', '한', '다', '.', '\\n', '③', '국가', '안전보장', '회의', '의', '조직', '·', '직무', '범위', '기타', '필요한', '사항', '은', '법률', '로', '정', '한다', '.', '\\n  ', '제', '92조', '①', '평화통일', '정책', '의', '수립', '에', '관', '한', '대통령', '의', '자문', '에', '응', '하기', '위', '하여', '민주', '평화통일', '자', '문', '회의', '를', '둘', '수', '있다', '.', '\\n', '②', '민주', '평화통일', '자', '문', '회의', '의', '조직', '·', '직무', '범위', '기타', '필요한', '사항', '은', '법률', '로', '정', '한다', '.', '\\n  ', '제', '93조', '①', '국민', '경제', '의', '발전', '을', '위', '한', '중요', '정책', '의', '수립', '에', '관', '하여', '대통령', '의', '자문', '에', '응', '하기', '위', '하여', '국민', '경제', '자', '문', '회의', '를', '둘', '수', '있다', '.', '\\n', '②', '국민', '경제', '자', '문', '회의', '의', '조직', '·', '직무', '범위', '기타', '필요한', '사항', '은', '법률', '로', '정', '한다', '.', '\\n       ', '제', '3', '관', '행정각부', '\\n  ', '제', '94조', '행정각부', '의', '장', '은', '국무위원', '중', '에서', '국무총리', '의', '제청', '으로', '대통령', '이', '임명', '한다', '.', '\\n  ', '제', '95조', '국무총리', '또는', '행정각부', '의', '장', '은', '소관', '사무', '에', '관', '하여', '법률', '이나', '대통령령', '의', '위임', '또는', '직권', '으로', '총리', '령', '또는', '부령', '을', '발', '할', '수', '있다', '.', '\\n  ', '제', '96조', '행정각부', '의', '설치', '·', '조직', '과', '직무', '범위', '는', '법률', '로', '정', '한다', '.', '\\n       ', '제', '4', '관', '감사원', '\\n  ', '제', '97조', '국가', '의', '세입', '·', '세', '출의', '결산', ',', '국가', '및', '법률', '이', '정', '한', '단체', '의', '회계', '검사', '와', '행정기관', '및', '공무원', '의', '직무', '에', '관', '한', '감찰', '을', '하기', '위', '하여', '대통령', '소속', '하', '에', '감사원', '을', '둔다', '.', '\\n  ', '제', '98조', '①', '감사원', '은', '원장', '을', '포함', '한', '5', '인', '이상', '11', '인', '이하', '의', '감사', '위원', '으로', '구성', '한', '다', '.', '\\n', '②', '원장', '은', '국회', '의', '동의', '를', '얻어', '대통령', '이', '임명', '하고', ',', '그', '임기', '는', '4년', '으로', '하며', ',', '1', '차', '에', '한하여', '중임', '할', '수', '있다', '.', '\\n', '③', '감사', '위원', '은', '원장', '의', '제청', '으로', '대통령', '이', '임명', '하고', ',', '그', '임기', '는', '4년', '으로', '하며', ',', '1', '차', '에', '한하여', '중임', '할', '수', '있다', '.', '\\n  ', '제', '99조', '감사원', '은', '세입', '·', '세', '출의', '결산', '을', '매년', '검사', '하여', '대통령', '과', '차', '년도', '국회', '에', '그', '결과', '를', '보고', '하여야', '한다', '.', '\\n  ', '제', '100조', '감사원', '의', '조직', '·', '직무', '범위', '·', '감사', '위원', '의', '자격', '·', '감사', '대상', '공무원', '의', '범위', '기타', '필요한', '사항', '은', '법률', '로', '정', '한다', '.', '\\n\\n       ', '제', '5', '장', '법원', '\\n  ', '제', '101조', '①', '사법권', '은', '법관', '으로', '구성', '된', '법원', '에', '속', '한다', '.', '\\n', '②', '법원', '은', '최고법원', '인', '대법원', '과', '각', '급', '법원', '으로', '조직', '된다', '.', '\\n', '③', '법관', '의', '자격', '은', '법률', '로', '정', '한다', '.', '\\n  ', '제', '102조', '①', '대법원', '에', '부를', '둘', '수', '있다', '.', '\\n', '②', '대법원', '에', '대법관', '을', '둔다', '.', '다만', ',', '법률', '이', '정', '하는', '바', '에', '의하여', '대법관', '이', '아닌', '법관', '을', '둘', '수', '있다', '.', '\\n', '③', '대법원', '과', '각', '급', '법원', '의', '조직', '은', '법률', '로', '정', '한다', '.', '\\n  ', '제', '103조', '법관', '은', '헌법', '과', '법률', '에', '의하여', '그', '양심', '에', '따라', '독립', '하여', '심판', '한다', '.', '\\n  ', '제', '104조', '①', '대법원', '장', '은', '국회', '의', '동의', '를', '얻어', '대통령', '이', '임명', '한다', '.', '\\n', '②', '대법관', '은', '대법원', '장', '의', '제청', '으로', '국회', '의', '동의', '를', '얻어', '대통령', '이', '임명', '한다', '.', '\\n', '③', '대법원', '장', '과', '대법관', '이', '아닌', '법관', '은', '대법관', '회의', '의', '동의', '를', '얻어', '대법원', '장이', '임명', '한다', '.', '\\n  ', '제', '105조', '①', '대법원', '장', '의', '임기', '는', '6년', '으로', '하며', ',', '중임', '할', '수', '없다', '.', '\\n', '②', '대법관', '의', '임기', '는', '6년', '으로', '하며', ',', '법률', '이', '정', '하는', '바', '에', '의하여', '연', '임', '할', '수', '있다', '.', '\\n', '③', '대법원', '장', '과', '대법관', '이', '아닌', '법관', '의', '임기', '는', '10년', '으로', '하며', ',', '법률', '이', '정', '하는', '바', '에', '의하여', '연', '임', '할', '수', '있다', '.', '\\n', '④', '법관', '의', '정년', '은', '법률', '로', '정', '한다', '.', '\\n  ', '제', '106조', '①', '법관', '은', '탄핵', '또는', '금고', '이상', '의', '형', '의', '선고', '에', '의하지', '아니하고는', '파면', '되지', '아니하며', ',', '징계처분', '에', '의하지', '아니하고는', '정직', '·', '감봉', '기타', '불리한', '처분', '을', '받지', '아니', '한다', '.', '\\n', '②', '법관', '이', '중대한', '심신', '상의', '장해', '로', '직무', '를', '수행', '할', '수', '없을', '때', '에는', '법률', '이', '정', '하는', '바', '에', '의하여', '퇴직', '하게', '할', '수', '있다', '.', '\\n  ', '제', '107조', '①', '법률', '이', '헌법', '에', '위반', '되는', '여부', '가', '재판', '의', '전제', '가', '된', '경우', '에는', '법원', '은', '헌법재판소', '에', '제청', '하여', '그', '심판', '에', '의하여', '재판', '한다', '.', '\\n', '②', '명령', '·', '규칙', '또는', '처분', '이', '헌법', '이나', '법률', '에', '위반', '되는', '여부', '가', '재판', '의', '전제', '가', '된', '경우', '에는', '대법원', '은', '이를', '최종', '적', '으로', '심사', '할', '권한', '을', '가진다', '.', '\\n', '③', '재판', '의', '전심', '절차', '로서', '행정심판', '을', '할', '수', '있다', '.', '행정심판', '의', '절차', '는', '법률', '로', '정', '하', '되', ',', '사법', '절차', '가', '준용', '되어야', '한다', '.', '\\n  ', '제', '108조', '대법원', '은', '법률', '에', '저촉', '되지', '아니하는', '범위', '안', '에서', '소송', '에', '관', '한', '절차', ',', '법원', '의', '내부', '규율', '과', '사무', '처리', '에', '관', '한', '규칙', '을', '제정', '할', '수', '있다', '.', '\\n  ', '제', '109조', '재판', '의', '심리', '와', '판결', '은', '공개', '한', '다', '.', '다만', ',', '심리', '는', '국가', '의', '안전보장', '또는', '안녕', '질서', '를', '방', '해하거나', '선량한', '풍속', '을', '해', '할', '염려', '가', '있을', '때', '에는', '법원', '의', '결정', '으로', '공개', '하지', '아니', '할', '수', '있다', '.', '\\n  ', '제', '110조', '①', '군사재판', '을', '관할', '하기', '위', '하여', '특별법', '원', '으로서', '군사법원', '을', '둘', '수', '있다', '.', '\\n', '②', '군사법원', '의', '상고', '심은', '대법원', '에서', '관할', '한다', '.', '\\n', '③', '군사법원', '의', '조직', '·', '권한', '및', '재판관', '의', '자격', '은', '법률', '로', '정', '한다', '.', '\\n', '④', '비상계엄', '하의', '군사재판', '은', '군인', '·', '군무원', '의', '범죄', '나', '군사', '에', '관', '한', '간첩죄', '의', '경우', '와', '초병', '·', '초소', '·', '유독', '음식물', '공급', '·', '포로', '에', '관', '한', '죄', '중', '법률', '이', '정', '한', '경우', '에', '한하여', '단심', '으로', '할', '수', '있다', '.', '다만', ',', '사형', '을', '선고', '한', '경우', '에는', '그러하지', '아니하다', '.', '\\n\\n       ', '제', '6', '장', '헌법재판소', '\\n  ', '제', '111조', '①', '헌법재판소', '는', '다음', '사항', '을', '관장', '한다', '.', '\\n', '1', '.', '법원', '의', '제청', '에', '의한', '법률', '의', '위', '헌', '여부', '심판', '\\n', '2', '.', '탄핵', '의', '심판', '\\n', '3', '.', '정당', '의', '해산', '심판', '\\n', '4', '.', '국가', '기관', '상호', '간', ',', '국가', '기관', '과', '지방자치단체', '간', '및', '지방자치단체', '상호', '간', '의', '권한', '쟁의', '에', '관', '한', '심판', '\\n', '5', '.', '법률', '이', '정', '하는', '헌법소원', '에', '관', '한', '심판', '\\n', '②', '헌법재판소', '는', '법관', '의', '자격', '을', '가진', '9', '인의', '재판관', '으로', '구성', '하며', ',', '재판관', '은', '대통령', '이', '임명', '한다', '.', '\\n', '③', '제', '2', '항의', '재판관', '중', '3', '인', '은', '국회', '에서', '선출', '하는', '자를', ',', '3', '인', '은', '대법원', '장이', '지명', '하는', '자를', '임명', '한다', '.', '\\n', '④', '헌법재판소', '의', '장', '은', '국회', '의', '동의', '를', '얻어', '재판관', '중', '에서', '대통령', '이', '임명', '한다', '.', '\\n  ', '제', '112조', '①', '헌법재판소', '재판관', '의', '임기', '는', '6년', '으로', '하며', ',', '법률', '이', '정', '하는', '바', '에', '의하여', '연', '임', '할', '수', '있다', '.', '\\n', '②', '헌법재판소', '재판관', '은', '정당', '에', '가입', '하', '거나', '정치', '에', '관여', '할', '수', '없다', '.', '\\n', '③', '헌법재판소', '재판관', '은', '탄핵', '또는', '금고', '이상', '의', '형', '의', '선고', '에', '의하지', '아니하고는', '파면', '되지', '아니', '한다', '.', '\\n  ', '제', '113조', '①', '헌법재판소', '에서', '법률', '의', '위', '헌', '결정', ',', '탄핵', '의', '결정', ',', '정당', '해산', '의', '결정', '또는', '헌법소원', '에', '관', '한', '인용', '결정', '을', '할', '때', '에는', '재판관', '6', '인', '이상', '의', '찬성', '이', '있어야', '한다', '.', '\\n', '②', '헌법재판소', '는', '법률', '에', '저촉', '되지', '아니하는', '범위', '안', '에서', '심판', '에', '관', '한', '절차', ',', '내부', '규율', '과', '사무', '처리', '에', '관', '한', '규칙', '을', '제정', '할', '수', '있다', '.', '\\n', '③', '헌법재판소', '의', '조직', '과', '운영', '기타', '필요한', '사항', '은', '법률', '로', '정', '한다', '.', '\\n\\n       ', '제', '7', '장', '선거', '관리', '\\n  ', '제', '114조', '①', '선거', '와', '국민투표', '의', '공정한', '관리', '및', '정당', '에', '관', '한', '사무', '를', '처리', '하기', '위', '하여', '선거', '관리', '위원회', '를', '둔다', '.', '\\n', '②', '중앙', '선거', '관리', '위원회', '는', '대통령', '이', '임명', '하는', '3', '인', ',', '국회', '에서', '선출', '하는', '3', '인과', '대법원', '장이', '지명', '하는', '3', '인의', '위원', '으로', '구성', '한', '다', '.', '위원장', '은', '위원', '중', '에서', '호선', '한다', '.', '\\n', '③', '위원', '의', '임기', '는', '6년', '으로', '한다', '.', '\\n', '④', '위원', '은', '정당', '에', '가입', '하', '거나', '정치', '에', '관여', '할', '수', '없다', '.', '\\n', '⑤', '위원', '은', '탄핵', '또는', '금고', '이상', '의', '형', '의', '선고', '에', '의하지', '아니하고는', '파면', '되지', '아니', '한다', '.', '\\n', '⑥', '중앙', '선거', '관리', '위원회', '는', '법령', '의', '범위', '안', '에서', '선거', '관리', '·', '국민투표', '관리', '또는', '정당', '사무', '에', '관', '한', '규칙', '을', '제정', '할', '수', '있으며', ',', '법률', '에', '저촉', '되지', '아니하는', '범위', '안', '에서', '내부', '규율', '에', '관', '한', '규칙', '을', '제정', '할', '수', '있다', '.', '\\n', '⑦', '각', '급', '선거', '관리', '위원회', '의', '조직', '·', '직무', '범위', '기타', '필요한', '사항', '은', '법률', '로', '정', '한다', '.', '\\n  ', '제', '115조', '①', '각', '급', '선거', '관리', '위원회', '는', '선거인명부', '의', '작성', '등', '선거', '사무', '와', '국민투표', '사무', '에', '관', '하여', '관계', '행정기관', '에', '필요한', '지시', '를', '할', '수', '있다', '.', '\\n', '②', '제', '1', '항의', '지시', '를', '받은', '당해', '행정기관', '은', '이', '에', '응', '하여야', '한다', '.', '\\n  ', '제', '116조', '①', '선거운동', '은', '각', '급', '선거', '관리', '위원회', '의', '관리', '하', '에', '법률', '이', '정', '하는', '범위', '안', '에서', '하', '되', ',', '균등한', '기회', '가', '보장', '되어야', '한다', '.', '\\n', '②', '선거', '에', '관', '한', '경비', '는', '법률', '이', '정', '하는', '경우', '를', '제외', '하고는', '정당', '또는', '후보자', '에게', '부담', '시킬', '수', '없다', '.', '\\n\\n       ', '제', '8', '장', '지방자치', '\\n  ', '제', '117조', '①', '지방자치단체', '는', '주민', '의', '복리', '에', '관', '한', '사무', '를', '처리', '하고', '재산', '을', '관리', '하며', ',', '법령', '의', '범위', '안', '에서', '자치', '에', '관', '한', '규정', '을', '제정', '할', '수', '있다', '.', '\\n', '②', '지방자치단체', '의', '종류', '는', '법률', '로', '정', '한다', '.', '\\n  ', '제', '118조', '①', '지방자치단체', '에', '의회', '를', '둔다', '.', '\\n', '②', '지방의회', '의', '조직', '·', '권한', '·', '의원', '선거', '와', '지방자치단체', '의', '장의', '선임', '방법', '기타', '지방자치단체', '의', '조직', '과', '운영', '에', '관', '한', '사항', '은', '법률', '로', '정', '한다', '.', '\\n\\n       ', '제', '9', '장', '경제', '\\n  ', '제', '119조', '①', '대한민국', '의', '경', '제', '질서', '는', '개인', '과', '기업', '의', '경제', '상의', '자유', '와', '창의', '를', '존중', '함', '을', '기본', '으로', '한다', '.', '\\n', '②', '국가', '는', '균형', '있는', '국민', '경제', '의', '성장', '및', '안정', '과', '적정한', '소득', '의', '분배', '를', '유지', '하고', ',', '시장', '의', '지배', '와', '경제력', '의', '남용', '을', '방지', '하며', ',', '경', '제', '주체', '간', '의', '조화', '를', '통한', '경제', '의', '민주화', '를', '위', '하여', '경제', '에', '관', '한', '규제', '와', '조정', '을', '할', '수', '있다', '.', '\\n  ', '제', '120조', '①', '광물', '기타', '중요한', '지하자원', '·', '수산', '자원', '·', '수력', '과', '경제', '상', '이용', '할', '수', '있는', '자연력', '은', '법률', '이', '정', '하는', '바', '에', '의하여', '일정한', '기간', '그', '채취', '·', '개발', '또는', '이용', '을', '특허', '할', '수', '있다', '.', '\\n', '②', '국토', '와', '자원', '은', '국가', '의', '보호', '를', '받으며', ',', '국가', '는', '그', '균형', '있는', '개발', '과', '이용', '을', '위', '하여', '필요한', '계획', '을', '수립', '한다', '.', '\\n  ', '제', '121조', '①', '국가', '는', '농지', '에', '관', '하여', '경', '자유', '전의', '원칙', '이', '달성', '될', '수', '있도록', '노력', '하여야', '하며', ',', '농지', '의', '소', '작', '제도', '는', '금지', '된다', '.', '\\n', '②', '농업', '생산', '성의', '제', '고', '와', '농지', '의', '합리', '적', '인', '이용', '을', '위', '하', '거나', '불가피한', '사정', '으로', '발생', '하는', '농지', '의', '임대차', '와', '위탁', '경영', '은', '법률', '이', '정', '하는', '바', '에', '의하여', '인정', '된다', '.', '\\n  ', '제', '122조', '국가', '는', '국민', '모두', '의', '생산', '및', '생활', '의', '기반', '이', '되는', '국토', '의', '효율', '적', '이고', '균형', '있는', '이용', '·', '개발', '과', '보전', '을', '위', '하여', '법률', '이', '정', '하는', '바', '에', '의하여', '그', '에', '관', '한', '필요한', '제한', '과', '의무', '를', '과', '할', '수', '있다', '.', '\\n  ', '제', '123조', '①', '국가', '는', '농업', '및', '어업', '을', '보호', '·', '육성', '하기', '위', '하여', '농', '·', '어촌', '종합', '개발', '과', '그', '지원', '등', '필요한', '계획', '을', '수립', '·', '시행', '하여야', '한다', '.', '\\n', '②', '국가', '는', '지역', '간', '의', '균형', '있는', '발전', '을', '위', '하여', '지역', '경제', '를', '육성', '할', '의무', '를', '진다', '.', '\\n', '③', '국가', '는', '중소기업', '을', '보호', '·', '육성', '하여야', '한다', '.', '\\n', '④', '국가', '는', '농수산', '물의', '수급', '균형', '과', '유통', '구조', '의', '개선', '에', '노력', '하여', '가격', '안정', '을', '도', '모함', '으로써', '농', '·', '어민', '의', '이익', '을', '보호', '한다', '.', '\\n', '⑤', '국가', '는', '농', '·', '어민', '과', '중소기업', '의', '자', '조', '조직', '을', '육성', '하여야', '하며', ',', '그', '자율', '적', '활동', '과', '발전', '을', '보장', '한다', '.', '\\n  ', '제', '124조', '국가', '는', '건전한', '소비', '행위', '를', '계', '도하', '고', '생산품', '의', '품질', '향상', '을', '촉구', '하기', '위', '한', '소비자보호', '운동', '을', '법률', '이', '정', '하는', '바', '에', '의하여', '보장', '한다', '.', '\\n  ', '제', '125조', '국가', '는', '대외', '무역', '을', '육성', '하며', ',', '이를', '규제', '·', '조정', '할', '수', '있다', '.', '\\n  ', '제', '126조', '국방', '상', '또는', '국민', '경제', '상', '긴', '절', '한', '필요', '로', '인하여', '법률', '이', '정', '하는', '경우', '를', '제외', '하고는', ',', '사', '영', '기업', '을', '국유', '또는', '공유', '로', '이', '전하', '거나', '그', '경영', '을', '통제', '또는', '관리', '할', '수', '없다', '.', '\\n  ', '제', '127조', '①', '국가', '는', '과학기술', '의', '혁신', '과', '정보', '및', '인력', '의', '개발', '을', '통', '하여', '국민', '경제', '의', '발전', '에', '노력', '하여야', '한다', '.', '\\n', '②', '국가', '는', '국가', '표준', '제도', '를', '확립', '한다', '.', '\\n', '③', '대통령', '은', '제', '1', '항의', '목적', '을', '달성', '하기', '위', '하여', '필요한', '자문', '기구', '를', '둘', '수', '있다', '.', '\\n       ', '제', '10', '장', '헌법', '개정', '\\n  ', '제', '128조', '①', '헌법', '개', '정은', '국회', '재적', '의원', '과반수', '또는', '대통령', '의', '발의', '로', '제안', '된다', '.', '\\n', '②', '대통령', '의', '임기', '연장', '또는', '중임', '변경', '을', '위', '한', '헌법', '개', '정은', '그', '헌법', '개정', '제안', '당시', '의', '대통령', '에', '대하', '여', '는', '효력', '이', '없다', '.', '\\n  ', '제', '129조', '제안', '된', '헌법', '개정안', '은', '대통령', '이', '20일', '이상', '의', '기간', '이를', '공고', '하여야', '한다', '.', '\\n  ', '제', '130조', '①', '국회', '는', '헌법', '개정안', '이', '공고', '된', '날로', '부터', '60일', '이내', '에', '의결', '하여야', '하며', ',', '국회', '의', '의결', '은', '재적', '의원', '3분', '의', '2', '이상', '의', '찬성', '을', '얻어야', '한다', '.', '\\n', '②', '헌법', '개정안', '은', '국회', '가', '의결', '한', '후', '30일', '이내', '에', '국민투표', '에', '붙여', '국회의원', '선거권', '자', '과반수', '의', '투표', '와', '투표', '자', '과반수', '의', '찬성', '을', '얻어야', '한다', '.', '\\n', '③', '헌법', '개정안', '이', '제', '2', '항의', '찬성', '을', '얻은', '때', '에는', '헌법', '개', '정은', '확정', '되며', ',', '대통령', '은', '즉시', '이를', '공포', '하여야', '한다', '.', '\\n\\n ', '펼침', '부칙', '<', '헌법', '제', '10', '호', ',', '1987.10', '.', '29', '.>', '부칙', '보기', '\\n\\n', '제', '1조', '이', '헌법', '은', '1988년', '2월', '25일', '부터', '시행', '한다', '.', '다만', ',', '이', '헌법', '을', '시행', '하기', '위', '하여', '필요한', '법률', '의', '제정', '·', '개정', '과', '이', '헌법', '에', '의한', '대통령', '및', '국회의원', '의', '선거', '기타', '이', '헌법', '시행', '에', '관', '한', '준비', '는', '이', '헌법', '시행', '전', '에', '할', '수', '있다', '.', '\\n', '제', '2조', '①', '이', '헌법', '에', '의한', '최초', '의', '대통령선거', '는', '이', '헌법', '시행일', '40일', '전', '까지', '실시', '한다', '.', '\\n', '②', '이', '헌법', '에', '의한', '최초', '의', '대통령', '의', '임기', '는', '이', '헌법', '시행일', '로부터', '개시', '한', '다', '.', '\\n', '제', '3조', '①', '이', '헌법', '에', '의한', '최초', '의', '국회의원선거', '는', '이', '헌법', '공포일', '로부터', '6월', '이내', '에', '실시', '하며', ',', '이', '헌법', '에', '의하여', '선출', '된', '최초', '의', '국회의원', '의', '임기', '는', '국회의원선거', '후', '이', '헌법', '에', '의한', '국회', '의', '최초', '의', '집회', '일로', '부터', '개시', '한', '다', '.', '\\n', '②', '이', '헌법', '공포', '당시', '의', '국회의원', '의', '임기', '는', '제', '1', '항', '에', '의한', '국회', '의', '최초', '의', '집회', '일', '전일', '까지로', '한다', '.', '\\n', '제', '4조', '①', '이', '헌법', '시행', '당시', '의', '공무원', '과', '정부', '가', '임명', '한', '기업체', '의', '임원', '은', '이', '헌법', '에', '의하여', '임명', '된', '것', '으로', '본다', '.', '다만', ',', '이', '헌법', '에', '의하여', '선임', '방법', '이나', '임명', '권', '자가', '변경', '된', '공무원', '과', '대법원', '장', '및', '감사원장', '은', '이', '헌법', '에', '의하여', '후임', '자', '가', '선임', '될', '때', '까지', '그', '직무', '를', '행', '하며', ',', '이', '경우', '전', '임자', '인', '공무원', '의', '임기', '는', '후임', '자', '가', '선임', '되는', '전일', '까지로', '한다', '.', '\\n', '②', '이', '헌법', '시행', '당시', '의', '대법원', '장', '과', '대법원판사', '가', '아닌', '법관', '은', '제', '1', '항', '단서', '의', '규정', '에', '불구', '하고', '이', '헌법', '에', '의하여', '임명', '된', '것', '으로', '본다', '.', '\\n', '③', '이', '헌법', '중', '공무원', '의', '임기', '또는', '중임', '제한', '에', '관', '한', '규정', '은', '이', '헌법', '에', '의하여', '그', '공무원', '이', '최초', '로', '선출', '또는', '임명', '된', '때', '로부터', '적용', '한다', '.', '\\n', '제', '5조', '이', '헌법', '시행', '당시', '의', '법령', '과', '조약', '은', '이', '헌법', '에', '위배', '되지', '아니하는', '한', '그', '효력', '을', '지속', '한', '다', '.', '\\n', '제', '6조', '이', '헌법', '시행', '당시', '에', '이', '헌법', '에', '의하여', '새로', '설치', '될', '기관', '의', '권한', '에', '속', '하는', '직무', '를', '행', '하고', '있는', '기관', '은', '이', '헌법', '에', '의하여', '새로운', '기관', '이', '설치', '될', '때', '까지', '존속', '하며', '그', '직무', '를', '행', '한다', '.', '\\n')\n",
      "('Noun', 'Noun', 'Foreign', 'Noun', 'Josa', 'Noun', 'Josa', 'Noun', 'Josa', 'Verb', 'Noun', 'Modifier', 'Modifier', 'Noun', 'Josa', 'Number', 'Punctuation', 'Number', 'Noun', 'Josa', 'Noun', 'Verb', 'Noun', 'Noun', 'Josa', 'Noun', 'Noun', 'Noun', 'Josa', 'Noun', 'Josa', 'Number', 'Punctuation', 'Number', 'Noun', 'Noun', 'Josa', 'Noun', 'Josa', 'Punctuation', 'Noun', 'Josa', 'Noun', 'Noun', 'Josa', 'Noun', 'Suffix', 'Noun', 'Josa', 'Noun', 'Josa', 'Noun', 'Noun', 'Josa', 'Noun', 'Punctuation', 'Noun', 'Josa', 'Noun', 'Noun', 'Noun', 'Noun', 'Josa', 'Noun', 'Josa', 'Noun', 'Adverb', 'Verb', 'Punctuation', 'Noun', 'Noun', 'Suffix', 'Noun', 'Josa', 'Noun', 'Josa', 'Noun', 'Verb', 'Punctuation', 'Noun', 'Josa', 'Noun', 'Josa', 'Noun', 'Josa', 'Noun', 'Suffix', 'Modifier', 'Modifier', 'Noun', 'Josa', 'Noun', 'Adjective', 'Verb', 'Noun', 'Punctuation', 'Noun', 'Punctuation', 'Noun', 'Punctuation', 'Noun', 'Josa', 'Noun', 'Noun', 'Josa', 'Adjective', 'Noun', 'Josa', 'Noun', 'Josa', 'Adjective', 'Verb', 'Punctuation', 'Noun', 'Josa', 'Noun', 'Noun', 'Noun', 'Verb', 'Verb', 'Punctuation', 'Noun', 'Josa', 'Noun', 'Josa', 'Verb', 'Noun', 'Josa', 'Noun', 'Josa', 'Noun', 'Verb', 'Verb', 'Punctuation', 'Noun', 'Josa', 'Noun', 'Noun', 'Josa', 'Adjective', 'Noun', 'Josa', 'Noun', 'Josa', 'Noun', 'Josa', 'Noun', 'Suffix', 'Josa', 'Noun', 'Noun', 'Josa', 'Noun', 'Noun', 'Josa', 'Noun', 'Noun', 'Josa', 'Noun', 'Suffix', 'Josa', 'Noun', 'Suffix', 'Josa', 'Noun', 'Josa', 'Noun', 'Josa', 'Noun', 'Josa', 'Noun', 'Josa', 'Adjective', 'Noun', 'Verb', 'Noun', 'Josa', 'Noun', 'Verb', 'Number', 'Number', 'Number', 'Foreign', 'Noun', 'Verb', 'Number', 'Noun', 'Josa', 'Verb', 'Noun', 'Verb', 'Noun', 'Josa', 'Noun', 'Noun', 'Josa', 'Noun', 'Josa', 'Verb', 'Noun', 'Josa', 'Adjective', 'Noun', 'Verb', 'Punctuation', 'Foreign', 'Noun', 'Number', 'Noun', 'Modifier', 'Noun', 'Foreign', 'Noun', 'Number', 'Foreign', 'Noun', 'Josa', 'Noun', 'Josa', 'Punctuation', 'Foreign', 'Foreign', 'Noun', 'Josa', 'Noun', 'Josa', 'Noun', 'Josa', 'Adjective', 'Punctuation', 'Noun', 'Noun', 'Josa', 'Noun', 'Josa', 'Verb', 'Punctuation', 'Foreign', 'Noun', 'Number', 'Foreign', 'Noun', 'Josa', 'Noun', 'Josa', 'Verb', 'Noun', 'Josa', 'Noun', 'Josa', 'Noun', 'Verb', 'Punctuation', 'Foreign', 'Foreign', 'Noun', 'Josa', 'Noun', 'Josa', 'Noun', 'Verb', 'Noun', 'Josa', 'Adjective', 'Noun', 'Josa', 'Noun', 'Verb', 'Noun', 'Josa', 'Verb', 'Punctuation', 'Foreign', 'Noun', 'Number', 'Noun', 'Josa', 'Noun', 'Josa', 'Noun', 'Josa', 'Noun', 'Noun', 'Noun', 'Josa', 'Verb', 'Punctuation', 'Foreign', 'Noun', 'Number', 'Noun', 'Josa', 'Noun', 'Josa', 'Noun', 'Verb', 'Punctuation', 'Noun', 'Suffix', 'Modifier', 'Modifier', 'Noun', 'Josa', 'Noun', 'Josa', 'Noun', 'Suffix', 'Noun', 'Noun', 'Josa', 'Noun', 'Josa', 'Verb', 'Noun', 'Josa', 'Adverb', 'Punctuation', 'Foreign', 'Noun', 'Number', 'Foreign', 'Noun', 'Josa', 'Noun', 'Noun', 'Josa', 'Noun', 'Josa', 'Noun', 'Josa', 'Noun', 'Suffix', 'Noun', 'Josa', 'Noun', 'Verb', 'Punctuation', 'Foreign', 'Foreign', 'Noun', 'Josa', 'Noun', 'Josa', 'Noun', 'Josa', 'Noun', 'Noun', 'Josa', 'Adjective', 'Noun', 'Josa', 'Noun', 'Noun', 'Josa', 'Noun', 'Josa', 'Verb', 'Punctuation', 'Noun', 'Noun', 'Suffix', 'Noun', 'Josa', 'Noun', 'Verb', 'Punctuation', 'Foreign', 'Noun', 'Number', 'Foreign', 'Noun', 'Josa', 'Adjective', 'Noun', 'Punctuation', 'Noun', 'Verb', 'Noun', 'Josa', 'Noun', 'Suffix', 'Josa', 'Noun', 'Verb', 'Noun', 'Noun', 'Josa', 'Noun', 'Josa', 'Adjective', 'Noun', 'Josa', 'Verb', 'Punctuation', 'Foreign', 'Foreign', 'Noun', 'Josa', 'Noun', 'Noun', 'Josa', 'Noun', 'Josa', 'Noun', 'Verb', 'Noun', 'Josa', 'Adjective', 'Noun', 'Noun', 'Josa', 'Noun', 'Verb', 'Punctuation', 'Foreign', 'Noun', 'Number', 'Foreign', 'Noun', 'Josa', 'Noun', 'Noun', 'Josa', 'Noun', 'Noun', 'Josa', 'Punctuation', 'Noun', 'Josa', 'Noun', 'Josa', 'Noun', 'Josa', 'Verb', 'Punctuation', 'Foreign', 'Foreign', 'Noun', 'Josa', 'Noun', 'Josa', 'Noun', 'Suffix', 'Noun', 'Josa', 'Noun', 'Josa', 'Noun', 'Verb', 'Noun', 'Josa', 'Adjective', 'Noun', 'Verb', 'Punctuation', 'Foreign', 'Noun', 'Number', 'Foreign', 'Noun', 'Josa', 'Noun', 'Josa', 'Noun', 'Josa', 'Punctuation', 'Noun', 'Josa', 'Noun', 'Verb', 'Punctuation', 'Foreign', 'Foreign', 'Noun', 'Josa', 'Noun', 'Noun', 'Punctuation', 'Noun', 'Josa', 'Noun', 'Josa', 'Noun', 'Verb', 'Verb', 'Punctuation', 'Noun', 'Josa', 'Noun', 'Suffix', 'Noun', 'Noun', 'Josa', 'Noun', 'Verb', 'Adjective', 'Noun', 'Josa', 'Verb', 'Verb', 'Punctuation', 'Foreign', 'Foreign', 'Noun', 'Josa', 'Noun', 'Josa', 'Noun', 'Verb', 'Noun', 'Josa', 'Adjective', 'Noun', 'Josa', 'Noun', 'Josa', 'Verb', 'Punctuation', 'Noun', 'Josa', 'Noun', 'Josa', 'Noun', 'Verb', 'Noun', 'Josa', 'Adjective', 'Noun', 'Noun', 'Josa', 'Adjective', 'Noun', 'Josa', 'Noun', 'Verb', 'Noun', 'Adjective', 'Punctuation', 'Foreign', 'Foreign', 'Noun', 'Josa', 'Noun', 'Josa', 'Noun', 'Josa', 'Noun', 'Suffix', 'Modifier', 'Modifier', 'Noun', 'Josa', 'Noun', 'Verb', 'Noun', 'Josa', 'Noun', 'Josa', 'Noun', 'Josa', 'Noun', 'Noun', 'Josa', 'Noun', 'Verb', 'Noun', 'Adjective', 'Punctuation', 'Noun', 'Josa', 'Noun', 'Josa', 'Noun', 'Josa', 'Adjective', 'Noun', 'Verb', 'Punctuation', 'Foreign', 'Noun', 'Number', 'Noun', 'Josa', 'Noun', 'Josa', 'Noun', 'Punctuation', 'Noun', 'Josa', 'Noun', 'Noun', 'Josa', 'Noun', 'Josa', 'Noun', 'Verb', 'Verb', 'Punctuation', 'Foreign', 'Noun', 'Number', 'Noun', 'Noun', 'Josa', 'Noun', 'Josa', 'Noun', 'Foreign', 'Noun', 'Number', 'Noun', 'Noun', 'Josa', 'Noun', 'Josa', 'Noun', 'Josa', 'Noun', 'Josa', 'Noun', 'Josa', 'Punctuation', 'Noun', 'Josa', 'Noun', 'Verb', 'Noun', 'Josa', 'Verb', 'Punctuation', 'Noun', 'Josa', 'Noun', 'Josa', 'Verb', 'Noun', 'Josa', 'Noun', 'Suffix', 'Noun', 'Josa', 'Noun', 'Josa', 'Verb', 'Noun', 'Verb', 'Noun', 'Josa', 'Verb', 'Punctuation', 'Foreign', 'Noun', 'Number', 'Foreign', 'Noun', 'Noun', 'Josa', 'Noun', 'Noun', 'Josa', 'Adjective', 'Punctuation', 'Noun', 'Josa', 'Noun', 'Punctuation', 'Noun', 'Adverb', 'Noun', 'Suffix', 'Noun', 'Josa', 'Adjective', 'Noun', 'Suffix', 'Punctuation', 'Noun', 'Suffix', 'Punctuation', 'Noun', 'Suffix', 'Punctuation', 'Noun', 'Suffix', 'Noun', 'Josa', 'Noun', 'Noun', 'Josa', 'Adjective', 'Noun', 'Josa', 'Verb', 'Adjective', 'Verb', 'Punctuation', 'Foreign', 'Foreign', 'Noun', 'Suffix', 'Noun', 'Noun', 'Josa', 'Noun', 'Josa', 'Noun', 'Verb', 'Adjective', 'Punctuation', 'Adjective', 'Noun', 'Josa', 'Noun', 'Verb', 'Noun', 'Verb', 'Noun', 'Adjective', 'Punctuation', 'Foreign', 'Foreign', 'Noun', 'Noun', 'Josa', 'Noun', 'Josa', 'Verb', 'Verb', 'Noun', 'Josa', 'Noun', 'Josa', 'Adjective', 'Punctuation', 'Adjective', 'Noun', 'Josa', 'Noun', 'Josa', 'Verb', 'Adjective', 'Verb', 'Punctuation', 'Foreign', 'Noun', 'Number', 'Foreign', 'Noun', 'Noun', 'Josa', 'Noun', 'Josa', 'Noun', 'Josa', 'Verb', 'Punctuation', 'Noun', 'Josa', 'Noun', 'Josa', 'Adjective', 'Adjective', 'Noun', 'Punctuation', 'Noun', 'Punctuation', 'Noun', 'Punctuation', 'Noun', 'Adverb', 'Noun', 'Josa', 'Verb', 'Adjective', 'Punctuation', 'Noun', 'Josa', 'Adjective', 'Noun', 'Josa', 'Adjective', 'Adjective', 'Noun', 'Punctuation', 'Noun', 'Adverb', 'Noun', 'Noun', 'Josa', 'Verb', 'Adjective', 'Verb', 'Punctuation', 'Foreign', 'Foreign', 'Noun', 'Noun', 'Josa', 'Noun', 'Josa', 'Verb', 'Adjective', 'Punctuation', 'Noun', 'Suffix', 'Noun', 'Josa', 'Adjective', 'Noun', 'Josa', 'Noun', 'Adjective', 'Adjective', 'Verb', 'Punctuation', 'Foreign', 'Foreign', 'Noun', 'Punctuation', 'Noun', 'Punctuation', 'Noun', 'Adverb', 'Noun', 'Josa', 'Verb', 'Noun', 'Josa', 'Adjective', 'Noun', 'Josa', 'Verb', 'Noun', 'Josa', 'Noun', 'Josa', 'Adjective', 'Noun', 'Josa', 'Noun', 'Josa', 'Noun', 'Josa', 'Noun', 'Verb', 'Verb', 'Punctuation', 'Noun', 'Punctuation', 'Noun', 'Josa', 'Noun', 'Josa', 'Noun', 'Number', 'Noun', 'Josa', 'Noun', 'Josa', 'Noun', 'Verb', 'Noun', 'Josa', 'Noun', 'Josa', 'Noun', 'Adverb', 'Noun', 'Josa', 'Noun', 'Josa', 'Noun', 'Josa', 'Adjective', 'Noun', 'Josa', 'Noun', 'Josa', 'Noun', 'Josa', 'Noun', 'Verb', 'Noun', 'Adjective', 'Punctuation', 'Foreign', 'Foreign', 'Noun', 'Josa', 'Noun', 'Adverb', 'Noun', 'Josa', 'Noun', 'Noun', 'Josa', 'Noun', 'Noun', 'Josa', 'Noun', 'Josa', 'Verb', 'Noun', 'Josa', 'Verb', 'Punctuation', 'Noun', 'Punctuation', 'Noun', 'Noun', 'Josa', 'Noun', 'Noun', 'Josa', 'Noun', 'Verb', 'Noun', 'Adjective', 'Noun', 'Josa', 'Noun', 'Josa', 'Noun', 'Verb', 'Noun', 'Josa', 'Adjective', 'Noun', 'Josa', 'Noun', 'Josa', 'Verb', 'Punctuation', 'Foreign', 'Foreign', 'Noun', 'Josa', 'Noun', 'Adverb', 'Noun', 'Josa', 'Noun', 'Josa', 'Noun', 'Josa', 'Noun', 'Josa', 'Verb', 'Noun', 'Josa', 'Adjective', 'Noun', 'Josa', 'Noun', 'Verb', 'Adjective', 'Noun', 'Adverb', 'Noun', 'Josa', 'Adjective', 'Adjective', 'Verb', 'Punctuation', 'Noun', 'Adverb', 'Noun', 'Josa', 'Noun', 'Noun', 'Noun', 'Noun', 'Noun', 'Josa', 'Noun', 'Verb', 'Noun', 'Josa', 'Noun', 'Noun', 'Josa', 'Noun', 'Punctuation', 'Noun', 'Josa', 'Noun', 'Adverb', 'Noun', 'Verb', 'Verb', 'Punctuation', 'Foreign', 'Foreign', 'Noun', 'Josa', 'Noun', 'Adverb', 'Noun', 'Josa', 'Noun', 'Noun', 'Josa', 'Noun', 'Noun', 'Noun', 'Josa', 'Noun', 'Josa', 'Noun', 'Verb', 'Noun', 'Josa', 'Verb', 'Punctuation', 'Foreign', 'Foreign', 'Noun', 'Josa', 'Noun', 'Josa', 'Noun', 'Punctuation', 'Noun', 'Punctuation', 'Noun', 'Punctuation', 'Noun', 'Josa', 'Adjective', 'Noun', 'Suffix', 'Adverb', 'Modifier', 'Noun', 'Noun', 'Josa', 'Noun', 'Josa', 'Adjective', 'Noun', 'Josa', 'Noun', 'Verb', 'Noun', 'Josa', 'Adjective', 'Noun', 'Verb', 'Noun', 'Adverb', 'Noun', 'Noun', 'Josa', 'Adjective', 'Noun', 'Josa', 'Noun', 'Josa', 'Noun', 'Josa', 'Adjective', 'Adjective', 'Noun', 'Noun', 'Noun', 'Josa', 'Verb', 'Noun', 'Josa', 'Noun', 'Josa', 'Verb', 'Verb', 'Noun', 'Josa', 'Noun', 'Verb', 'Noun', 'Adjective', 'Punctuation', 'Foreign', 'Noun', 'Number', 'Foreign', 'Noun', 'Noun', 'Josa', 'Noun', 'Noun', 'Josa', 'Noun', 'Josa', 'Adjective', 'Noun', 'Josa', 'Noun', 'Verb', 'Adjective', 'Noun', 'Josa', 'Modifier', 'Noun', 'Verb', 'Adjective', 'Punctuation', 'Adjective', 'Noun', 'Josa', 'Noun', 'Josa', 'Noun', 'Noun', 'Verb', 'Adjective', 'Verb', 'Punctuation', 'Foreign', 'Foreign', 'Noun', 'Noun', 'Josa', 'Noun', 'Josa', 'Adjective', 'Noun', 'Josa', 'Noun', 'Josa', 'Verb', 'Noun', 'Josa', 'Noun', 'Adjective', 'Adjective', 'Verb', 'Punctuation', 'Foreign', 'Foreign', 'Noun', 'Noun', 'Josa', 'Noun', 'Josa', 'Noun', 'Josa', 'Adjective', 'Noun', 'Josa', 'Noun', 'Josa', 'Adjective', 'Noun', 'Josa', 'Noun', 'Josa', 'Verb', 'Adjective', 'Verb', 'Punctuation', 'Foreign', 'Noun', 'Number', 'Noun', 'Noun', 'Josa', 'Noun', 'Punctuation', 'Noun', 'Josa', 'Noun', 'Josa', 'Verb', 'Punctuation', 'Foreign', 'Noun', 'Number', 'Noun', 'Noun', 'Josa', 'Noun', 'Noun', 'Josa', 'Noun', 'Josa', 'Verb', 'Punctuation', 'Foreign', 'Noun', 'Number', 'Noun', 'Noun', 'Josa', 'Noun', 'Josa', 'Noun', 'Josa', 'Noun', 'Verb', 'Adjective', 'Verb', 'Punctuation', 'Noun', 'Josa', 'Noun', 'Noun', 'Josa', 'Noun', 'Josa', 'Verb', 'Noun', 'Josa', 'Noun', 'Josa', 'Noun', 'Josa', 'Adjective', 'Noun', 'Josa', 'Noun', 'Josa', 'Noun', 'Josa', 'Noun', 'Verb', 'Verb', 'Punctuation', 'Foreign', 'Noun', 'Number', 'Noun', 'Noun', 'Josa', 'Noun', 'Josa', 'Noun', 'Josa', 'Noun', 'Josa', 'Noun', 'Verb', 'Adjective', 'Verb', 'Punctuation', 'Foreign', 'Noun', 'Number', 'Noun', 'Noun', 'Josa', 'Noun', 'Josa', 'Noun', 'Josa', 'Noun', 'Verb', 'Adjective', 'Verb', 'Punctuation', 'Foreign', 'Noun', 'Number', 'Noun', 'Noun', 'Josa', 'Noun', 'Josa', 'Noun', 'Josa', 'Verb', 'Punctuation', 'Foreign', 'Noun', 'Number', 'Foreign', 'Noun', 'Noun', 'Josa', 'Noun', 'Josa', 'Noun', 'Josa', 'Verb', 'Punctuation', 'Foreign', 'Foreign', 'Noun', 'Josa', 'Noun', 'Verb', 'Adjective', 'Punctuation', 'Noun', 'Josa', 'Noun', 'Josa', 'Noun', 'Verb', 'Punctuation', 'Foreign', 'Noun', 'Number', 'Foreign', 'Noun', 'Noun', 'Josa', 'Noun', 'Punctuation', 'Noun', 'Josa', 'Noun', 'Josa', 'Noun', 'Punctuation', 'Noun', 'Josa', 'Noun', 'Josa', 'Verb', 'Punctuation', 'Foreign', 'Foreign', 'Noun', 'Punctuation', 'Noun', 'Josa', 'Noun', 'Noun', 'Josa', 'Noun', 'Josa', 'Noun', 'Punctuation', 'Noun', 'Josa', 'Noun', 'Noun', 'Josa', 'Noun', 'Verb', 'Adjective', 'Verb', 'Punctuation', 'Foreign', 'Foreign', 'Noun', 'Punctuation', 'Noun', 'Josa', 'Noun', 'Noun', 'Josa', 'Noun', 'Josa', 'Noun', 'Josa', 'Noun', 'Verb', 'Noun', 'Verb', 'Adjective', 'Noun', 'Josa', 'Noun', 'Josa', 'Noun', 'Verb', 'Punctuation', 'Foreign', 'Foreign', 'Noun', 'Punctuation', 'Noun', 'Josa', 'Noun', 'Josa', 'Noun', 'Josa', 'Noun', 'Adverb', 'Noun', 'Josa', 'Noun', 'Noun', 'Josa', 'Noun', 'Verb', 'Verb', 'Adjective', 'Verb', 'Punctuation', 'Noun', 'Punctuation', 'Noun', 'Josa', 'Noun', 'Josa', 'Noun', 'Josa', 'Noun', 'Josa', 'Noun', 'Josa', 'Noun', 'Josa', 'Noun', 'Josa', 'Noun', 'Josa', 'Noun', 'Noun', 'Josa', 'Noun', 'Josa', 'Noun', 'Verb', 'Noun', 'Adjective', 'Punctuation', 'Foreign', 'Noun', 'Number', 'Foreign', 'Noun', 'Noun', 'Josa', 'Noun', 'Josa', 'Noun', 'Josa', 'Noun', 'Josa', 'Verb', 'Punctuation', 'Foreign', 'Foreign', 'Noun', 'Punctuation', 'Noun', 'Punctuation', 'Noun', 'Suffix', 'Josa', 'Noun', 'Josa', 'Noun', 'Josa', 'Noun', 'Noun', 'Noun', 'Verb', 'Punctuation', 'Foreign', 'Noun', 'Number', 'Foreign', 'Noun', 'Noun', 'Josa', 'Noun', 'Josa', 'Noun', 'Verb', 'Punctuation', 'Noun', 'Noun', 'Josa', 'Noun', 'Josa', 'Noun', 'Josa', 'Noun', 'Verb', 'Punctuation', 'Foreign', 'Foreign', 'Noun', 'Josa', 'Noun', 'Josa', 'Modifier', 'Noun', 'Josa', 'Adjective', 'Verb', 'Verb', 'Punctuation', 'Foreign', 'Foreign', 'Noun', 'Josa', 'Adjective', 'Noun', 'Josa', 'Noun', 'Punctuation', 'Noun', 'Adverb', 'Noun', 'Noun', 'Noun', 'Josa', 'Noun', 'Noun', 'Josa', 'Noun', 'Noun', 'Exclamation', 'Verb', 'Punctuation', 'Adjective', 'Noun', 'Josa', 'Noun', 'Verb', 'Verb', 'Punctuation', 'Foreign', 'Noun', 'Number', 'Noun', 'Noun', 'Josa', 'Noun', 'Josa', 'Noun', 'Verb', 'Noun', 'Josa', 'Adjective', 'Noun', 'Josa', 'Verb', 'Punctuation', 'Foreign', 'Noun', 'Number', 'Noun', 'Noun', 'Josa', 'Noun', 'Josa', 'Noun', 'Verb', 'Noun', 'Josa', 'Adjective', 'Noun', 'Noun', 'Suffix', 'Josa', 'Verb', 'Punctuation', 'Foreign', 'Noun', 'Number', 'Foreign', 'Noun', 'Noun', 'Josa', 'Noun', 'Josa', 'Noun', 'Verb', 'Noun', 'Josa', 'Adjective', 'Noun', 'Noun', 'Josa', 'Noun', 'Josa', 'Noun', 'Verb', 'Noun', 'Josa', 'Verb', 'Punctuation', 'Foreign', 'Foreign', 'Noun', 'Josa', 'Noun', 'Josa', 'Noun', 'Josa', 'Noun', 'Verb', 'Noun', 'Josa', 'Verb', 'Punctuation', 'Foreign', 'Noun', 'Number', 'Foreign', 'Noun', 'Noun', 'Josa', 'Noun', 'Josa', 'Noun', 'Josa', 'Noun', 'Josa', 'Noun', 'Josa', 'Adjective', 'Noun', 'Josa', 'Adjective', 'Noun', 'Josa', 'Verb', 'Noun', 'Josa', 'Verb', 'Punctuation', 'Foreign', 'Foreign', 'Noun', 'Adverb', 'Noun', 'Josa', 'Adjective', 'Noun', 'Josa', 'Noun', 'Josa', 'Noun', 'Noun', 'Josa', 'Adjective', 'Noun', 'Suffix', 'Noun', 'Punctuation', 'Noun', 'Punctuation', 'Noun', 'Punctuation', 'Noun', 'Noun', 'Noun', 'Punctuation', 'Noun', 'Punctuation', 'Noun', 'Noun', 'Josa', 'Noun', 'Josa', 'Noun', 'Suffix', 'Noun', 'Josa', 'Noun', 'Josa', 'Noun', 'Josa', 'Noun', 'Josa', 'Noun', 'Verb', 'Noun', 'Josa', 'Noun', 'Josa', 'Noun', 'Josa', 'Noun', 'Josa', 'Verb', 'Adjective', 'Verb', 'Punctuation', 'Foreign', 'Foreign', 'Noun', 'Noun', 'Josa', 'Adjective', 'Noun', 'Josa', 'Verb', 'Noun', 'Josa', 'Verb', 'Punctuation', 'Noun', 'Noun', 'Josa', 'Adjective', 'Noun', 'Josa', 'Adjective', 'Verb', 'Noun', 'Adverb', 'Noun', 'Noun', 'Josa', 'Verb', 'Noun', 'Josa', 'Verb', 'Punctuation', 'Foreign', 'Foreign', 'Noun', 'Noun', 'Josa', 'Noun', 'Josa', 'Noun', 'Josa', 'Noun', 'Verb', 'Noun', 'Josa', 'Noun', 'Josa', 'Noun', 'Verb', 'Punctuation', 'Foreign', 'Foreign', 'Noun', 'Noun', 'Josa', 'Noun', 'Josa', 'Noun', 'Verb', 'Noun', 'Josa', 'Adjective', 'Adjective', 'Noun', 'Josa', 'Noun', 'Noun', 'Josa', 'Noun', 'Verb', 'Noun', 'Adjective', 'Punctuation', 'Foreign', 'Noun', 'Number', 'Noun', 'Noun', 'Adverb', 'Noun', 'Noun', 'Josa', 'Noun', 'Verb', 'Noun', 'Noun', 'Josa', 'Noun', 'Verb', 'Noun', 'Josa', 'Verb', 'Noun', 'Josa', 'Verb', 'Noun', 'Josa', 'Noun', 'Josa', 'Noun', 'Verb', 'Noun', 'Josa', 'Adjective', 'Noun', 'Josa', 'Adjective', 'Noun', 'Josa', 'Noun', 'Verb', 'Noun', 'Adjective', 'Punctuation', 'Foreign', 'Noun', 'Number', 'Foreign', 'Noun', 'Josa', 'Noun', 'Suffix', 'Noun', 'Josa', 'Noun', 'Josa', 'Verb', 'Noun', 'Josa', 'Noun', 'Josa', 'Noun', 'Verb', 'Noun', 'Josa', 'Adjective', 'Noun', 'Adverb', 'Modifier', 'Noun', 'Josa', 'Adjective', 'Noun', 'Josa', 'Noun', 'Verb', 'Noun', 'Adjective', 'Punctuation', 'Noun', 'Noun', 'Noun', 'Noun', 'Josa', 'Noun', 'Josa', 'Noun', 'Verb', 'Adjective', 'Verb', 'Punctuation', 'Foreign', 'Foreign', 'Noun', 'Punctuation', 'Noun', 'Punctuation', 'Noun', 'Noun', 'Noun', 'Noun', 'Josa', 'Noun', 'Verb', 'Noun', 'Noun', 'Punctuation', 'Noun', 'Noun', 'Noun', 'Noun', 'Josa', 'Noun', 'Verb', 'Verb', 'Noun', 'Josa', 'Noun', 'Noun', 'Josa', 'Noun', 'Josa', 'Noun', 'Verb', 'Noun', 'Noun', 'Josa', 'Noun', 'Adverb', 'Modifier', 'Noun', 'Josa', 'Noun', 'Josa', 'Noun', 'Suffix', 'Noun', 'Josa', 'Adjective', 'Noun', 'Josa', 'Noun', 'Verb', 'Noun', 'Adjective', 'Punctuation', 'Foreign', 'Noun', 'Number', 'Noun', 'Josa', 'Noun', 'Noun', 'Josa', 'Adjective', 'Noun', 'Punctuation', 'Noun', 'Josa', 'Noun', 'Noun', 'Josa', 'Verb', 'Noun', 'Josa', 'Noun', 'Josa', 'Noun', 'Verb', 'Noun', 'Josa', 'Adjective', 'Noun', 'Noun', 'Noun', 'Josa', 'Verb', 'Noun', 'Adjective', 'Punctuation', 'Foreign', 'Noun', 'Number', 'Foreign', 'Noun', 'Noun', 'Josa', 'Noun', 'Josa', 'Verb', 'Adjective', 'Noun', 'Josa', 'Verb', 'Noun', 'Josa', 'Verb', 'Punctuation', 'Foreign', 'Foreign', 'Noun', 'Noun', 'Josa', 'Noun', 'Noun', 'Verb', 'Noun', 'Josa', 'Adverb', 'Noun', 'Josa', 'Noun', 'Josa', 'Noun', 'Verb', 'Noun', 'Josa', 'Verb', 'Verb', 'Noun', 'Josa', 'Verb', 'Punctuation', 'Foreign', 'Foreign', 'Noun', 'Josa', 'Noun', 'Josa', 'Verb', 'Punctuation', 'Foreign', 'Foreign', 'Noun', 'Josa', 'Noun', 'Punctuation', 'Noun', 'Punctuation', 'Noun', 'Suffix', 'Noun', 'Noun', 'Noun', 'Josa', 'Noun', 'Josa', 'Noun', 'Josa', 'Noun', 'Verb', 'Noun', 'Josa', 'Adjective', 'Noun', 'Verb', 'Punctuation', 'Foreign', 'Foreign', 'Noun', 'Josa', 'Noun', 'Josa', 'Noun', 'Verb', 'Verb', 'Punctuation', 'Foreign', 'Foreign', 'Noun', 'Noun', 'Noun', 'Noun', 'Josa', 'Noun', 'Josa', 'Noun', 'Josa', 'Noun', 'Noun', 'Punctuation', 'Noun', 'Noun', 'Noun', 'Josa', 'Noun', 'Josa', 'Noun', 'Josa', 'Noun', 'Suffix', 'Josa', 'Noun', 'Josa', 'Noun', 'Josa', 'Noun', 'Verb', 'Punctuation', 'Foreign', 'Noun', 'Number', 'Foreign', 'Noun', 'Noun', 'Josa', 'Noun', 'Josa', 'Noun', 'Josa', 'Verb', 'Punctuation', 'Noun', 'Josa', 'Noun', 'Suffix', 'Punctuation', 'Noun', 'Suffix', 'Noun', 'Josa', 'Noun', 'Josa', 'Noun', 'Josa', 'Noun', 'Josa', 'Noun', 'Noun', 'Josa', 'Noun', 'Josa', 'Noun', 'Verb', 'Verb', 'Punctuation', 'Noun', 'Josa', 'Noun', 'Verb', 'Noun', 'Josa', 'Adjective', 'Noun', 'Josa', 'Noun', 'Verb', 'Verb', 'Punctuation', 'Foreign', 'Foreign', 'Noun', 'Noun', 'Josa', 'Noun', 'Josa', 'Noun', 'Josa', 'Verb', 'Punctuation', 'Noun', 'Josa', 'Noun', 'Josa', 'Noun', 'Josa', 'Noun', 'Josa', 'Noun', 'Josa', 'Noun', 'Noun', 'Josa', 'Verb', 'Noun', 'Josa', 'Noun', 'Verb', 'Punctuation', 'Foreign', 'Foreign', 'Noun', 'Noun', 'Josa', 'Noun', 'Josa', 'Noun', 'Josa', 'Noun', 'Josa', 'Noun', 'Verb', 'Noun', 'Josa', 'Noun', 'Verb', 'Punctuation', 'Foreign', 'Foreign', 'Noun', 'Josa', 'Noun', 'Josa', 'Adjective', 'Noun', 'Josa', 'Verb', 'Punctuation', 'Noun', 'Punctuation', 'Noun', 'Noun', 'Noun', 'Noun', 'Josa', 'Adjective', 'Adjective', 'Noun', 'Josa', 'Verb', 'Adjective', 'Verb', 'Punctuation', 'Foreign', 'Foreign', 'Noun', 'Josa', 'Noun', 'Josa', 'Adjective', 'Noun', 'Josa', 'Verb', 'Punctuation', 'Foreign', 'Foreign', 'Noun', 'Noun', 'Suffix', 'Punctuation', 'Noun', 'Noun', 'Noun', 'Noun', 'Suffix', 'Noun', 'Noun', 'Josa', 'Noun', 'Josa', 'Noun', 'Verb', 'Noun', 'Josa', 'Adjective', 'Noun', 'Suffix', 'Josa', 'Noun', 'Josa', 'Noun', 'Josa', 'Noun', 'Verb', 'Punctuation', 'Foreign', 'Noun', 'Number', 'Foreign', 'Noun', 'Josa', 'Noun', 'Noun', 'Josa', 'Noun', 'Josa', 'Noun', 'Verb', 'Noun', 'Suffix', 'Josa', 'Noun', 'Punctuation', 'Noun', 'Noun', 'Noun', 'Josa', 'Verb', 'Punctuation', 'Foreign', 'Foreign', 'Noun', 'Josa', 'Noun', 'Josa', 'Noun', 'Josa', 'Noun', 'Verb', 'Noun', 'Josa', 'Verb', 'Noun', 'Punctuation', 'Noun', 'Noun', 'Noun', 'Josa', 'Verb', 'Punctuation', 'Foreign', 'Foreign', 'Noun', 'Josa', 'Noun', 'Verb', 'Modifier', 'Noun', 'Noun', 'Josa', 'Noun', 'Verb', 'Noun', 'Josa', 'Noun', 'Josa', 'Noun', 'Josa', 'Noun', 'Verb', 'Noun', 'Josa', 'Adjective', 'Verb', 'Noun', 'Suffix', 'Noun', 'Noun', 'Verb', 'Adjective', 'Verb', 'Noun', 'Adjective', 'Punctuation', 'Foreign', 'Noun', 'Number', 'Foreign', 'Noun', 'Noun', 'Josa', 'Noun', 'Noun', 'Noun', 'Josa', 'Verb', 'Noun', 'Josa', 'Verb', 'Punctuation', 'Foreign', 'Foreign', 'Noun', 'Josa', 'Noun', 'Punctuation', 'Noun', 'Noun', 'Josa', 'Noun', 'Josa', 'Noun', 'Verb', 'Noun', 'Josa', 'Verb', 'Punctuation', 'Foreign', 'Foreign', 'Noun', 'Josa', 'Noun', 'Josa', 'Noun', 'Josa', 'Noun', 'Josa', 'Noun', 'Josa', 'Noun', 'Verb', 'Noun', 'Verb', 'Verb', 'Punctuation', 'Foreign', 'Foreign', 'Noun', 'Josa', 'Noun', 'Josa', 'Noun', 'Josa', 'Noun', 'Noun', 'Josa', 'Noun', 'Josa', 'Noun', 'Josa', 'Noun', 'Verb', 'Noun', 'Josa', 'Verb', 'Punctuation', 'Foreign', 'Foreign', 'Noun', 'Noun', 'Noun', 'Noun', 'Punctuation', 'Noun', 'Noun', 'Josa', 'Noun', 'Josa', 'Noun', 'Noun', 'Josa', 'Adjective', 'Noun', 'Josa', 'Noun', 'Josa', 'Noun', 'Verb', 'Noun', 'Josa', 'Adjective', 'Noun', 'Josa', 'Noun', 'Josa', 'Verb', 'Punctuation', 'Foreign', 'Foreign', 'Noun', 'Josa', 'Noun', 'Josa', 'Noun', 'Josa', 'Noun', 'Noun', 'Josa', 'Noun', 'Josa', 'Noun', 'Verb', 'Noun', 'Verb', 'Noun', 'Verb', 'Verb', 'Punctuation', 'Foreign', 'Noun', 'Number', 'Foreign', 'Noun', 'Noun', 'Josa', 'Adjective', 'Adjective', 'Noun', 'Josa', 'Noun', 'Verb', 'Noun', 'Josa', 'Noun', 'Josa', 'Punctuation', 'Noun', 'Josa', 'Noun', 'Josa', 'Noun', 'Josa', 'Noun', 'Verb', 'Noun', 'Verb', 'Verb', 'Punctuation', 'Foreign', 'Foreign', 'Noun', 'Josa', 'Noun', 'Josa', 'Noun', 'Josa', 'Noun', 'Verb', 'Noun', 'Josa', 'Noun', 'Verb', 'Punctuation', 'Foreign', 'Foreign', 'Noun', 'Josa', 'Noun', 'Noun', 'Noun', 'Noun', 'Josa', 'Noun', 'Verb', 'Noun', 'Noun', 'Josa', 'Adjective', 'Noun', 'Noun', 'Josa', 'Verb', 'Noun', 'Adjective', 'Noun', 'Verb', 'Verb', 'Punctuation', 'Foreign', 'Noun', 'Number', 'Foreign', 'Noun', 'Josa', 'Noun', 'Noun', 'Josa', 'Noun', 'Josa', 'Noun', 'Josa', 'Noun', 'Josa', 'Noun', 'Josa', 'Noun', 'Josa', 'Noun', 'Verb', 'Noun', 'Verb', 'Verb', 'Punctuation', 'Noun', 'Josa', 'Verb', 'Noun', 'Verb', 'Punctuation', 'Foreign', 'Foreign', 'Noun', 'Josa', 'Noun', 'Josa', 'Noun', 'Josa', 'Noun', 'Verb', 'Noun', 'Verb', 'Verb', 'Punctuation', 'Foreign', 'Foreign', 'Noun', 'Noun', 'Josa', 'Noun', 'Josa', 'Noun', 'Verb', 'Noun', 'Josa', 'Noun', 'Josa', 'Verb', 'Punctuation', 'Foreign', 'Noun', 'Number', 'Foreign', 'Noun', 'Josa', 'Noun', 'Josa', 'Noun', 'Josa', 'Noun', 'Josa', 'Noun', 'Verb', 'Adjective', 'Noun', 'Josa', 'Noun', 'Verb', 'Adjective', 'Verb', 'Punctuation', 'Foreign', 'Foreign', 'Noun', 'Josa', 'Noun', 'Noun', 'Josa', 'Noun', 'Josa', 'Noun', 'Noun', 'Punctuation', 'Noun', 'Noun', 'Adverb', 'Modifier', 'Noun', 'Josa', 'Noun', 'Verb', 'Adjective', 'Noun', 'Josa', 'Verb', 'Noun', 'Noun', 'Noun', 'Verb', 'Noun', 'Adjective', 'Punctuation', 'Noun', 'Verb', 'Noun', 'Josa', 'Noun', 'Josa', 'Noun', 'Josa', 'Noun', 'Suffix', 'Josa', 'Noun', 'Josa', 'Noun', 'Verb', 'Noun', 'Adjective', 'Punctuation', 'Foreign', 'Noun', 'Number', 'Noun', 'Noun', 'Josa', 'Noun', 'Josa', 'Noun', 'Verb', 'Noun', 'Josa', 'Adjective', 'Noun', 'Josa', 'Noun', 'Josa', 'Verb', 'Punctuation', 'Foreign', 'Noun', 'Number', 'Foreign', 'Noun', 'Noun', 'Josa', 'Noun', 'Josa', 'Noun', 'Verb', 'Noun', 'Josa', 'Adjective', 'Noun', 'Josa', 'Noun', 'Josa', 'Verb', 'Punctuation', 'Foreign', 'Foreign', 'Noun', 'Josa', 'Noun', 'Josa', 'Noun', 'Josa', 'Adjective', 'Noun', 'Josa', 'Noun', 'Josa', 'Verb', 'Adjective', 'Verb', 'Punctuation', 'Foreign', 'Noun', 'Number', 'Noun', 'Noun', 'Foreign', 'Noun', 'Number', 'Noun', 'Josa', 'Noun', 'Josa', 'Noun', 'Verb', 'Punctuation', 'Foreign', 'Noun', 'Number', 'Foreign', 'Noun', 'Josa', 'Noun', 'Josa', 'Noun', 'Punctuation', 'Noun', 'Punctuation', 'Noun', 'Punctuation', 'Noun', 'Josa', 'Adjective', 'Noun', 'Verb', 'Noun', 'Josa', 'Noun', 'Josa', 'Adverb', 'Punctuation', 'Foreign', 'Foreign', 'Noun', 'Josa', 'Noun', 'Josa', 'Noun', 'Josa', 'Noun', 'Suffix', 'Verb', 'Punctuation', 'Number', 'Noun', 'Noun', 'Josa', 'Verb', 'Punctuation', 'Foreign', 'Foreign', 'Noun', 'Josa', 'Noun', 'Josa', 'Noun', 'Noun', 'Noun', 'Josa', 'Noun', 'Josa', 'Noun', 'Josa', 'Noun', 'Josa', 'Noun', 'Verb', 'Punctuation', 'Foreign', 'Noun', 'Number', 'Noun', 'Josa', 'Noun', 'Josa', 'Number', 'Foreign', 'Verb', 'Punctuation', 'Foreign', 'Noun', 'Number', 'Noun', 'Josa', 'Noun', 'Josa', 'Noun', 'Verb', 'Noun', 'Josa', 'Noun', 'Verb', 'Noun', 'Adjective', 'Punctuation', 'Foreign', 'Noun', 'Number', 'Foreign', 'Noun', 'Josa', 'Noun', 'Josa', 'Noun', 'Josa', 'Noun', 'Josa', 'Noun', 'Modifier', 'Noun', 'Noun', 'Josa', 'Noun', 'Adverb', 'Noun', 'Adverb', 'Noun', 'Verb', 'Adjective', 'Verb', 'Punctuation', 'Foreign', 'Foreign', 'Noun', 'Josa', 'Noun', 'Noun', 'Josa', 'Noun', 'Adverb', 'Noun', 'Verb', 'Noun', 'Josa', 'Noun', 'Josa', 'Adjective', 'Verb', 'Noun', 'Josa', 'Noun', 'Josa', 'Adjective', 'Noun', 'Modifier', 'Noun', 'Noun', 'Verb', 'Punctuation', 'Foreign', 'Noun', 'Number', 'Noun', 'Josa', 'Noun', 'Josa', 'Noun', 'Suffix', 'Noun', 'Josa', 'Noun', 'Josa', 'Noun', 'Josa', 'Noun', 'Verb', 'Noun', 'Noun', 'Josa', 'Noun', 'Josa', 'Noun', 'Adjective', 'Verb', 'Punctuation', 'Foreign', 'Noun', 'Number', 'Foreign', 'Noun', 'Josa', 'Noun', 'Josa', 'Noun', 'Josa', 'Adjective', 'Punctuation', 'Foreign', 'Foreign', 'Noun', 'Josa', 'Noun', 'Noun', 'Josa', 'Adjective', 'Noun', 'Josa', 'Verb', 'Noun', 'Josa', 'Noun', 'Verb', 'Punctuation', 'Foreign', 'Foreign', 'Noun', 'Josa', 'Noun', 'Noun', 'Josa', 'Noun', 'Verb', 'Noun', 'Punctuation', 'Modifier', 'Noun', 'Adverb', 'Noun', 'Josa', 'Noun', 'Josa', 'Noun', 'Noun', 'Josa', 'Adjective', 'Noun', 'Noun', 'Noun', 'Punctuation', 'Noun', 'Adverb', 'Noun', 'Josa', 'Noun', 'Suffix', 'Noun', 'Noun', 'Josa', 'Noun', 'Verb', 'Noun', 'Noun', 'Josa', 'Noun', 'Verb', 'Noun', 'Adjective', 'Punctuation', 'Foreign', 'Noun', 'Number', 'Foreign', 'Noun', 'Josa', 'Noun', 'Josa', 'Noun', 'Josa', 'Noun', 'Verb', 'Noun', 'Josa', 'Adjective', 'Noun', 'Number', 'Noun', 'Verb', 'Punctuation', 'Noun', 'Josa', 'Noun', 'Josa', 'Noun', 'Adverb', 'Noun', 'Noun', 'Noun', 'Number', 'Foreign', 'Number', 'Noun', 'Josa', 'Noun', 'Josa', 'Adjective', 'Noun', 'Verb', 'Punctuation', 'Foreign', 'Foreign', 'Noun', 'Josa', 'Noun', 'Verb', 'Number', 'Foreign', 'Punctuation', 'Noun', 'Josa', 'Noun', 'Verb', 'Number', 'Foreign', 'Noun', 'Verb', 'Noun', 'Adjective', 'Punctuation', 'Foreign', 'Foreign', 'Noun', 'Josa', 'Noun', 'Josa', 'Noun', 'Josa', 'Noun', 'Verb', 'Noun', 'Josa', 'Noun', 'Josa', 'Noun', 'Noun', 'Josa', 'Noun', 'Josa', 'Noun', 'Verb', 'Verb', 'Punctuation', 'Foreign', 'Noun', 'Number', 'Noun', 'Josa', 'Noun', 'Number', 'Noun', 'Noun', 'Suffix', 'Number', 'Noun', 'Josa', 'Noun', 'Verb', 'Punctuation', 'Foreign', 'Noun', 'Number', 'Noun', 'Josa', 'Noun', 'Adverb', 'Noun', 'Josa', 'Adjective', 'Noun', 'Josa', 'Adjective', 'Verb', 'Noun', 'Noun', 'Noun', 'Josa', 'Noun', 'Josa', 'Noun', 'Noun', 'Noun', 'Josa', 'Noun', 'Josa', 'Noun', 'Verb', 'Punctuation', 'Noun', 'Modifier', 'Noun', 'Noun', 'Josa', 'Noun', 'Verb', 'Noun', 'Josa', 'Verb', 'Punctuation', 'Foreign', 'Noun', 'Number', 'Foreign', 'Noun', 'Josa', 'Noun', 'Josa', 'Noun', 'Josa', 'Adverb', 'Punctuation', 'Noun', 'Punctuation', 'Noun', 'Noun', 'Noun', 'Josa', 'Noun', 'Josa', 'Adjective', 'Noun', 'Josa', 'Noun', 'Josa', 'Noun', 'Josa', 'Noun', 'Verb', 'Adjective', 'Noun', 'Verb', 'Noun', 'Josa', 'Noun', 'Verb', 'Adjective', 'Verb', 'Noun', 'Adjective', 'Punctuation', 'Foreign', 'Foreign', 'Noun', 'Verb', 'Adjective', 'Noun', 'Noun', 'Josa', 'Noun', 'Josa', 'Noun', 'Verb', 'Noun', 'Josa', 'Noun', 'Verb', 'Noun', 'Josa', 'Adjective', 'Punctuation', 'Foreign', 'Noun', 'Number', 'Noun', 'Josa', 'Noun', 'Verb', 'Noun', 'Noun', 'Noun', 'Josa', 'Noun', 'Josa', 'Noun', 'Modifier', 'Noun', 'Josa', 'Noun', 'Verb', 'Noun', 'Josa', 'Noun', 'Josa', 'Noun', 'Verb', 'Adjective', 'Verb', 'Punctuation', 'Noun', 'Punctuation', 'Noun', 'Josa', 'Noun', 'Josa', 'Noun', 'Verb', 'Noun', 'Josa', 'Adjective', 'Adjective', 'Punctuation', 'Foreign', 'Noun', 'Number', 'Noun', 'Josa', 'Noun', 'Josa', 'Noun', 'Noun', 'Josa', 'Noun', 'Verb', 'Noun', 'Adjective', 'Punctuation', 'Foreign', 'Noun', 'Number', 'Foreign', 'Noun', 'Josa', 'Noun', 'Verb', 'Noun', 'Verb', 'Noun', 'Josa', 'Noun', 'Verb', 'Number', 'Noun', 'Josa', 'Noun', 'Josa', 'Noun', 'Josa', 'Adverb', 'Punctuation', 'Foreign', 'Foreign', 'Noun', 'Noun', 'Josa', 'Noun', 'Josa', 'Adjective', 'Noun', 'Josa', 'Noun', 'Josa', 'Noun', 'Number', 'Noun', 'Noun', 'Noun', 'Josa', 'Noun', 'Josa', 'Noun', 'Verb', 'Noun', 'Josa', 'Noun', 'Josa', 'Punctuation', 'Noun', 'Noun', 'Josa', 'Noun', 'Verb', 'Noun', 'Adjective', 'Punctuation', 'Noun', 'Josa', 'Noun', 'Suffix', 'Josa', 'Noun', 'Adjective', 'Punctuation', 'Foreign', 'Foreign', 'Noun', 'Josa', 'Noun', 'Noun', 'Josa', 'Noun', 'Josa', 'Noun', 'Josa', 'Adverb', 'Noun', 'Noun', 'Josa', 'Noun', 'Verb', 'Noun', 'Josa', 'Noun', 'Verb', 'Noun', 'Adjective', 'Punctuation', 'Foreign', 'Foreign', 'Noun', 'Josa', 'Noun', 'Josa', 'Adjective', 'Noun', 'Josa', 'Noun', 'Josa', 'Noun', 'Josa', 'Noun', 'Josa', 'Punctuation', 'Noun', 'Noun', 'Noun', 'Josa', 'Noun', 'Josa', 'Noun', 'Noun', 'Number', 'Foreign', 'Number', 'Noun', 'Josa', 'Noun', 'Josa', 'Noun', 'Adjective', 'Noun', 'Josa', 'Verb', 'Noun', 'Noun', 'Verb', 'Noun', 'Noun', 'Noun', 'Verb', 'Punctuation', 'Foreign', 'Foreign', 'Noun', 'Josa', 'Noun', 'Number', 'Noun', 'Noun', 'Noun', 'Josa', 'Noun', 'Josa', 'Noun', 'Josa', 'Noun', 'Josa', 'Verb', 'Adjective', 'Noun', 'Josa', 'Noun', 'Noun', 'Verb', 'Noun', 'Noun', 'Noun', 'Verb', 'Punctuation', 'Foreign', 'Foreign', 'Noun', 'Josa', 'Noun', 'Number', 'Noun', 'Josa', 'Noun', 'Number', 'Noun', 'Noun', 'Josa', 'Adjective', 'Noun', 'Verb', 'Noun', 'Josa', 'Noun', 'Adverb', 'Noun', 'Verb', 'Verb', 'Punctuation', 'Noun', 'Number', 'Noun', 'Josa', 'Adjective', 'Noun', 'Josa', 'Noun', 'Verb', 'Noun', 'Adverb', 'Noun', 'Number', 'Noun', 'Josa', 'Adjective', 'Noun', 'Noun', 'Josa', 'Noun', 'Josa', 'Noun', 'Verb', 'Noun', 'Number', 'Noun', 'Josa', 'Noun', 'Josa', 'Noun', 'Verb', 'Adjective', 'Verb', 'Noun', 'Josa', 'Noun', 'Josa', 'Verb', 'Noun', 'Josa', 'Adverb', 'Punctuation', 'Foreign', 'Foreign', 'Noun', 'Josa', 'Adjective', 'Noun', 'Josa', 'Adjective', 'Verb', 'Noun', 'Josa', 'Noun', 'Josa', 'Number', 'Foreign', 'Noun', 'Noun', 'Josa', 'Noun', 'Josa', 'Noun', 'Verb', 'Punctuation', 'Foreign', 'Noun', 'Number', 'Foreign', 'Noun', 'Josa', 'Noun', 'Josa', 'Noun', 'Josa', 'Noun', 'Punctuation', 'Noun', 'Verb', 'Punctuation', 'Foreign', 'Foreign', 'Noun', 'Josa', 'Noun', 'Noun', 'Josa', 'Noun', 'Josa', 'Noun', 'Verb', 'Noun', 'Noun', 'Noun', 'Number', 'Foreign', 'Noun', 'Josa', 'Noun', 'Josa', 'Punctuation', 'Noun', 'Josa', 'Noun', 'Noun', 'Noun', 'Number', 'Foreign', 'Verb', 'Noun', 'Verb', 'Verb', 'Punctuation', 'Foreign', 'Foreign', 'Adjective', 'Noun', 'Noun', 'Josa', 'Noun', 'Verb', 'Noun', 'Josa', 'Noun', 'Josa', 'Noun', 'Verb', 'Noun', 'Josa', 'Noun', 'Josa', 'Noun', 'Josa', 'Noun', 'Josa', 'Noun', 'Josa', 'Noun', 'Verb', 'Noun', 'Josa', 'Noun', 'Josa', 'Noun', 'Josa', 'Noun', 'Josa', 'Noun', 'Josa', 'Modifier', 'Noun', 'Noun', 'Josa', 'Noun', 'Verb', 'Noun', 'Verb', 'Noun', 'Adjective', 'Punctuation', 'Foreign', 'Number', 'Punctuation', 'Noun', 'Josa', 'Noun', 'Josa', 'Adjective', 'Noun', 'Verb', 'Noun', 'Adverb', 'Noun', 'Josa', 'Noun', 'Punctuation', 'Noun', 'Foreign', 'Number', 'Punctuation', 'Noun', 'Noun', 'Noun', 'Josa', 'Noun', 'Foreign', 'Number', 'Punctuation', 'Adverb', 'Noun', 'Josa', 'Noun', 'Verb', 'Noun', 'Josa', 'Noun', 'Foreign', 'Noun', 'Number', 'Foreign', 'Verb', 'Noun', 'Noun', 'Josa', 'Verb', 'Noun', 'Verb', 'Noun', 'Verb', 'Noun', 'Josa', 'Adjective', 'Noun', 'Josa', 'Noun', 'Josa', 'Noun', 'Josa', 'Noun', 'Verb', 'Noun', 'Noun', 'Noun', 'Noun', 'Josa', 'Noun', 'Josa', 'Verb', 'Verb', 'Punctuation', 'Foreign', 'Foreign', 'Modifier', 'Noun', 'Josa', 'Modifier', 'Noun', 'Josa', 'Noun', 'Josa', 'Noun', 'Josa', 'Verb', 'Verb', 'Punctuation', 'Modifier', 'Noun', 'Josa', 'Noun', 'Josa', 'Noun', 'Noun', 'Josa', 'Noun', 'Josa', 'Verb', 'Verb', 'Punctuation', 'Foreign', 'Noun', 'Number', 'Noun', 'Josa', 'Noun', 'Josa', 'Noun', 'Josa', 'Verb', 'Noun', 'Josa', 'Adjective', 'Noun', 'Josa', 'Noun', 'Noun', 'Josa', 'Noun', 'Verb', 'Noun', 'Josa', 'Noun', 'Verb', 'Noun', 'Adjective', 'Punctuation', 'Foreign', 'Noun', 'Number', 'Noun', 'Josa', 'Noun', 'Josa', 'Noun', 'Adverb', 'Noun', 'Josa', 'Noun', 'Josa', 'Noun', 'Noun', 'Noun', 'Josa', 'Noun', 'Josa', 'Noun', 'Suffix', 'Noun', 'Noun', 'Noun', 'Josa', 'Noun', 'Verb', 'Noun', 'Adjective', 'Punctuation', 'Foreign', 'Noun', 'Number', 'Noun', 'Josa', 'Noun', 'Suffix', 'Noun', 'Noun', 'Noun', 'Josa', 'Noun', 'Josa', 'Noun', 'Josa', 'Verb', 'Noun', 'Josa', 'Noun', 'Verb', 'Verb', 'Noun', 'Josa', 'Noun', 'Josa', 'Noun', 'Noun', 'Josa', 'Noun', 'Josa', 'Verb', 'Verb', 'Punctuation', 'Foreign', 'Noun', 'Number', 'Noun', 'Josa', 'Noun', 'Josa', 'Noun', 'Josa', 'Noun', 'Josa', 'Noun', 'Verb', 'Punctuation', 'Foreign', 'Noun', 'Number', 'Foreign', 'Noun', 'Josa', 'Noun', 'Noun', 'Adverb', 'Noun', 'Josa', 'Noun', 'Josa', 'Noun', 'Punctuation', 'Adjective', 'Noun', 'Noun', 'Josa', 'Noun', 'Josa', 'Noun', 'Punctuation', 'Noun', 'Noun', 'Noun', 'Noun', 'Punctuation', 'Noun', 'Josa', 'Noun', 'Josa', 'Noun', 'Josa', 'Noun', 'Punctuation', 'Noun', 'Punctuation', 'Noun', 'Josa', 'Noun', 'Josa', 'Adjective', 'Noun', 'Suffix', 'Noun', 'Josa', 'Verb', 'Noun', 'Adverb', 'Noun', 'Noun', 'Josa', 'Noun', 'Josa', 'Noun', 'Josa', 'Noun', 'Punctuation', 'Noun', 'Josa', 'Noun', 'Noun', 'Suffix', 'Josa', 'Verb', 'Punctuation', 'Foreign', 'Foreign', 'Noun', 'Josa', 'Noun', 'Punctuation', 'Noun', 'Josa', 'Noun', 'Josa', 'Noun', 'Adverb', 'Noun', 'Noun', 'Josa', 'Noun', 'Noun', 'Noun', 'Josa', 'Noun', 'Josa', 'Noun', 'Noun', 'Suffix', 'Josa', 'Verb', 'Punctuation', 'Foreign', 'Noun', 'Number', 'Foreign', 'Noun', 'Josa', 'Noun', 'Josa', 'Noun', 'Suffix', 'Noun', 'Adjective', 'Noun', 'Noun', 'Josa', 'Noun', 'Josa', 'Noun', 'Verb', 'Noun', 'Adjective', 'Punctuation', 'Noun', 'Josa', 'Adjective', 'Noun', 'Josa', 'Noun', 'Adverb', 'Noun', 'Josa', 'Noun', 'Josa', 'Noun', 'Josa', 'Noun', 'Josa', 'Noun', 'Josa', 'Noun', 'Verb', 'Noun', 'Adjective', 'Punctuation', 'Foreign', 'Foreign', 'Noun', 'Noun', 'Noun', 'Josa', 'Noun', 'Josa', 'Noun', 'Noun', 'Adjective', 'Noun', 'Josa', 'Noun', 'Josa', 'Noun', 'Verb', 'Punctuation', 'Foreign', 'Noun', 'Number', 'Foreign', 'Noun', 'Punctuation', 'Noun', 'Adverb', 'Noun', 'Josa', 'Noun', 'Josa', 'Noun', 'Noun', 'Josa', 'Noun', 'Verb', 'Noun', 'Noun', 'Noun', 'Josa', 'Verb', 'Noun', 'Josa', 'Noun', 'Josa', 'Noun', 'Josa', 'Noun', 'Verb', 'Noun', 'Adjective', 'Punctuation', 'Foreign', 'Foreign', 'Noun', 'Josa', 'Noun', 'Noun', 'Josa', 'Noun', 'Josa', 'Adjective', 'Noun', 'Josa', 'Noun', 'Punctuation', 'Noun', 'Adverb', 'Noun', 'Josa', 'Noun', 'Punctuation', 'Noun', 'Verb', 'Verb', 'Punctuation', 'Noun', 'Adverb', 'Noun', 'Josa', 'Noun', 'Noun', 'Josa', 'Verb', 'Noun', 'Josa', 'Noun', 'Adverb', 'Noun', 'Josa', 'Adverb', 'Noun', 'Punctuation', 'Noun', 'Verb', 'Verb', 'Noun', 'Adjective', 'Punctuation', 'Foreign', 'Noun', 'Number', 'Foreign', 'Noun', 'Josa', 'Noun', 'Adverb', 'Noun', 'Josa', 'Noun', 'Josa', 'Noun', 'Josa', 'Noun', 'Verb', 'Noun', 'Adjective', 'Punctuation', 'Foreign', 'Foreign', 'Noun', 'Number', 'Noun', 'Noun', 'Noun', 'Josa', 'Noun', 'Noun', 'Noun', 'Number', 'Foreign', 'Number', 'Noun', 'Josa', 'Noun', 'Josa', 'Adjective', 'Noun', 'Noun', 'Noun', 'Noun', 'Josa', 'Noun', 'Josa', 'Adjective', 'Verb', 'Punctuation', 'Foreign', 'Noun', 'Number', 'Foreign', 'Noun', 'Josa', 'Noun', 'Josa', 'Noun', 'Verb', 'Adjective', 'Noun', 'Noun', 'Josa', 'Noun', 'Josa', 'Noun', 'Noun', 'Josa', 'Noun', 'Josa', 'Noun', 'Josa', 'Noun', 'Verb', 'Noun', 'Adjective', 'Punctuation', 'Foreign', 'Foreign', 'Noun', 'Josa', 'Noun', 'Josa', 'Noun', 'Josa', 'Noun', 'Verb', 'Punctuation', 'Noun', 'Josa', 'Noun', 'Verb', 'Noun', 'Adjective', 'Punctuation', 'Foreign', 'Foreign', 'Noun', 'Josa', 'Noun', 'Verb', 'Noun', 'Noun', 'Noun', 'Number', 'Foreign', 'Number', 'Noun', 'Josa', 'Noun', 'Josa', 'Adjective', 'Verb', 'Punctuation', 'Foreign', 'Foreign', 'Noun', 'Number', 'Noun', 'Josa', 'Noun', 'Number', 'Noun', 'Noun', 'Josa', 'Noun', 'Noun', 'Josa', 'Noun', 'Josa', 'Noun', 'Verb', 'Noun', 'Adjective', 'Punctuation', 'Foreign', 'Noun', 'Number', 'Foreign', 'Noun', 'Punctuation', 'Noun', 'Punctuation', 'Noun', 'Punctuation', 'Noun', 'Josa', 'Noun', 'Punctuation', 'Noun', 'Noun', 'Punctuation', 'Noun', 'Punctuation', 'Noun', 'Noun', 'Noun', 'Noun', 'Noun', 'Punctuation', 'Noun', 'Punctuation', 'Noun', 'Noun', 'Noun', 'Noun', 'Josa', 'Noun', 'Josa', 'Noun', 'Josa', 'Noun', 'Noun', 'Noun', 'Josa', 'Adjective', 'Noun', 'Josa', 'Noun', 'Josa', 'Noun', 'Noun', 'Noun', 'Josa', 'Noun', 'Josa', 'Noun', 'Josa', 'Modifier', 'Noun', 'Josa', 'Noun', 'Verb', 'Noun', 'Adjective', 'Punctuation', 'Foreign', 'Foreign', 'Noun', 'Number', 'Noun', 'Noun', 'Modifier', 'Noun', 'Josa', 'Noun', 'Noun', 'Noun', 'Number', 'Foreign', 'Number', 'Noun', 'Josa', 'Noun', 'Josa', 'Adjective', 'Verb', 'Punctuation', 'Noun', 'Noun', 'Josa', 'Noun', 'Noun', 'Noun', 'Noun', 'Josa', 'Noun', 'Josa', 'Adjective', 'Verb', 'Punctuation', 'Noun', 'Punctuation', 'Noun', 'Josa', 'Noun', 'Noun', 'Modifier', 'Noun', 'Josa', 'Noun', 'Noun', 'Noun', 'Noun', 'Josa', 'Noun', 'Josa', 'Noun', 'Noun', 'Noun', 'Number', 'Foreign', 'Number', 'Noun', 'Josa', 'Noun', 'Josa', 'Adjective', 'Verb', 'Punctuation', 'Foreign', 'Foreign', 'Noun', 'Modifier', 'Noun', 'Josa', 'Noun', 'Josa', 'Verb', 'Verb', 'Noun', 'Noun', 'Josa', 'Adjective', 'Noun', 'Josa', 'Noun', 'Noun', 'Noun', 'Josa', 'Noun', 'Verb', 'Punctuation', 'Foreign', 'Foreign', 'Noun', 'Noun', 'Josa', 'Noun', 'Josa', 'Noun', 'Noun', 'Josa', 'Verb', 'Punctuation', 'Conjunction', 'Punctuation', 'Noun', 'Josa', 'Adjective', 'Noun', 'Suffix', 'Josa', 'Noun', 'Noun', 'Noun', 'Josa', 'Noun', 'Verb', 'Adjective', 'Verb', 'Punctuation', 'Foreign', 'Noun', 'Number', 'Noun', 'Noun', 'Foreign', 'Noun', 'Number', 'Noun', 'Noun', 'Foreign', 'Noun', 'Number', 'Foreign', 'Noun', 'Josa', 'Noun', 'Josa', 'Noun', 'Josa', 'Punctuation', 'Noun', 'Josa', 'Noun', 'Josa', 'Noun', 'Josa', 'Noun', 'Verb', 'Punctuation', 'Foreign', 'Foreign', 'Noun', 'Josa', 'Noun', 'Josa', 'Noun', 'Punctuation', 'Noun', 'Josa', 'Noun', 'Punctuation', 'Noun', 'Josa', 'Noun', 'Noun', 'Noun', 'Josa', 'Noun', 'Verb', 'Noun', 'Josa', 'Verb', 'Punctuation', 'Foreign', 'Foreign', 'Noun', 'Josa', 'Noun', 'Josa', 'Noun', 'Suffix', 'Noun', 'Josa', 'Noun', 'Josa', 'Adjective', 'Noun', 'Josa', 'Verb', 'Punctuation', 'Foreign', 'Foreign', 'Noun', 'Josa', 'Noun', 'Josa', 'Noun', 'Josa', 'Verb', 'Noun', 'Josa', 'Noun', 'Verb', 'Punctuation', 'Foreign', 'Noun', 'Number', 'Foreign', 'Noun', 'Josa', 'Noun', 'Josa', 'Noun', 'Punctuation', 'Noun', 'Punctuation', 'Noun', 'Punctuation', 'Noun', 'Josa', 'Adjective', 'Noun', 'Verb', 'Punctuation', 'Foreign', 'Foreign', 'Noun', 'Number', 'Noun', 'Noun', 'Josa', 'Adjective', 'Noun', 'Noun', 'Suffix', 'Josa', 'Number', 'Noun', 'Noun', 'Noun', 'Josa', 'Noun', 'Josa', 'Noun', 'Noun', 'Noun', 'Josa', 'Noun', 'Josa', 'Noun', 'Noun', 'Josa', 'Noun', 'Noun', 'Josa', 'Verb', 'Verb', 'Noun', 'Josa', 'Verb', 'Punctuation', 'Foreign', 'Foreign', 'Noun', 'Noun', 'Josa', 'Number', 'Noun', 'Noun', 'Josa', 'Noun', 'Noun', 'Noun', 'Noun', 'Suffix', 'Noun', 'Josa', 'Number', 'Foreign', 'Number', 'Noun', 'Josa', 'Adjective', 'Noun', 'Josa', 'Noun', 'Verb', 'Noun', 'Adjective', 'Punctuation', 'Foreign', 'Foreign', 'Noun', 'Josa', 'Noun', 'Verb', 'Noun', 'Adjective', 'Verb', 'Noun', 'Josa', 'Noun', 'Josa', 'Adjective', 'Noun', 'Noun', 'Number', 'Noun', 'Josa', 'Noun', 'Verb', 'Verb', 'Punctuation', 'Foreign', 'Foreign', 'Noun', 'Josa', 'Noun', 'Josa', 'Noun', 'Josa', 'Noun', 'Josa', 'Noun', 'Josa', 'Noun', 'Verb', 'Punctuation', 'Foreign', 'Noun', 'Number', 'Foreign', 'Noun', 'Josa', 'Noun', 'Josa', 'Noun', 'Verb', 'Noun', 'Josa', 'Noun', 'Noun', 'Number', 'Noun', 'Number', 'Foreign', 'Noun', 'Suffix', 'Josa', 'Noun', 'Verb', 'Punctuation', 'Foreign', 'Foreign', 'Noun', 'Josa', 'Noun', 'Verb', 'Noun', 'Adverb', 'Noun', 'Noun', 'Josa', 'Noun', 'Suffix', 'Noun', 'Noun', 'Noun', 'Josa', 'Noun', 'Josa', 'Noun', 'Noun', 'Josa', 'Adjective', 'Noun', 'Josa', 'Number', 'Noun', 'Josa', 'Noun', 'Suffix', 'Josa', 'Noun', 'Verb', 'Punctuation', 'Foreign', 'Noun', 'Number', 'Noun', 'Josa', 'Noun', 'Josa', 'Noun', 'Verb', 'Noun', 'Josa', 'Noun', 'Josa', 'Verb', 'Punctuation', 'Foreign', 'Punctuation', 'Noun', 'Josa', 'Noun', 'Josa', 'Noun', 'Josa', 'Noun', 'Josa', 'Noun', 'Verb', 'Noun', 'Josa', 'Noun', 'Suffix', 'Noun', 'Josa', 'Noun', 'Josa', 'Noun', 'Josa', 'Noun', 'Josa', 'Noun', 'Noun', 'Noun', 'Noun', 'Josa', 'Noun', 'Josa', 'Noun', 'Verb', 'Noun', 'Josa', 'Noun', 'Josa', 'Adjective', 'Noun', 'Verb', 'Noun', 'Josa', 'Noun', 'Noun', 'Josa', 'Adjective', 'Noun', 'Verb', 'Punctuation', 'Foreign', 'Noun', 'Number', 'Noun', 'Josa', 'Noun', 'Josa', 'Number', 'Foreign', 'Verb', 'Punctuation', 'Noun', 'Verb', 'Noun', 'Adjective', 'Punctuation', 'Foreign', 'Noun', 'Number', 'Noun', 'Josa', 'Noun', 'Verb', 'Noun', 'Josa', 'Adjective', 'Noun', 'Josa', 'Noun', 'Verb', 'Noun', 'Adjective', 'Noun', 'Josa', 'Noun', 'Punctuation', 'Noun', 'Josa', 'Noun', 'Josa', 'Noun', 'Josa', 'Noun', 'Josa', 'Noun', 'Noun', 'Josa', 'Noun', 'Verb', 'Punctuation', 'Foreign', 'Noun', 'Number', 'Noun', 'Josa', 'Adjective', 'Noun', 'Verb', 'Noun', 'Josa', 'Noun', 'Punctuation', 'Noun', 'Punctuation', 'Noun', 'Noun', 'Noun', 'Noun', 'Josa', 'Noun', 'Josa', 'Noun', 'Noun', 'Josa', 'Noun', 'Josa', 'Verb', 'Noun', 'Adjective', 'Punctuation', 'Foreign', 'Noun', 'Number', 'Noun', 'Josa', 'Noun', 'Josa', 'Noun', 'Punctuation', 'Noun', 'Josa', 'Punctuation', 'Noun', 'Josa', 'Noun', 'Punctuation', 'Noun', 'Adverb', 'Noun', 'Verb', 'Punctuation', 'Noun', 'Josa', 'Noun', 'Josa', 'Verb', 'Punctuation', 'Foreign', 'Noun', 'Number', 'Foreign', 'Noun', 'Josa', 'Noun', 'Josa', 'Noun', 'Josa', 'Noun', 'Verb', 'Noun', 'Josa', 'Adjective', 'Noun', 'Josa', 'Noun', 'Verb', 'Punctuation', 'Foreign', 'Foreign', 'Noun', 'Josa', 'Noun', 'Josa', 'Noun', 'Josa', 'Noun', 'Josa', 'Noun', 'Verb', 'Punctuation', 'Foreign', 'Noun', 'Number', 'Noun', 'Josa', 'Noun', 'Josa', 'Noun', 'Suffix', 'Josa', 'Noun', 'Josa', 'Noun', 'Verb', 'Noun', 'Verb', 'Noun', 'Josa', 'Noun', 'Josa', 'Noun', 'Verb', 'Noun', 'Verb', 'Adjective', 'Noun', 'Josa', 'Noun', 'Verb', 'Noun', 'Josa', 'Noun', 'Verb', 'Noun', 'Adjective', 'Punctuation', 'Foreign', 'Noun', 'Number', 'Foreign', 'Noun', 'Josa', 'Verb', 'Punctuation', 'Noun', 'Punctuation', 'Noun', 'Punctuation', 'Modifier', 'Noun', 'Adverb', 'Adjective', 'Noun', 'Punctuation', 'Noun', 'Noun', 'Noun', 'Josa', 'Adjective', 'Noun', 'Josa', 'Noun', 'Adverb', 'Noun', 'Josa', 'Noun', 'Noun', 'Josa', 'Noun', 'Verb', 'Noun', 'Verb', 'Adjective', 'Noun', 'Josa', 'Adjective', 'Noun', 'Josa', 'Noun', 'Josa', 'Verb', 'Noun', 'Josa', 'Adjective', 'Noun', 'Josa', 'Verb', 'Noun', 'Josa', 'Adjective', 'Noun', 'Punctuation', 'Noun', 'Noun', 'Noun', 'Josa', 'Exclamation', 'Noun', 'Noun', 'Josa', 'Noun', 'Verb', 'Noun', 'Josa', 'Noun', 'Josa', 'Verb', 'Noun', 'Josa', 'Noun', 'Verb', 'Noun', 'Adjective', 'Punctuation', 'Foreign', 'Foreign', 'Noun', 'Josa', 'Noun', 'Josa', 'Noun', 'Josa', 'Noun', 'Verb', 'Adjective', 'Noun', 'Noun', 'Josa', 'Adjective', 'Noun', 'Josa', 'Noun', 'Verb', 'Noun', 'Verb', 'Adjective', 'Noun', 'Josa', 'Adjective', 'Noun', 'Josa', 'Noun', 'Josa', 'Adjective', 'Noun', 'Josa', 'Verb', 'Noun', 'Josa', 'Noun', 'Josa', 'Verb', 'Noun', 'Josa', 'Noun', 'Verb', 'Noun', 'Adjective', 'Punctuation', 'Foreign', 'Foreign', 'Noun', 'Josa', 'Noun', 'Number', 'Noun', 'Josa', 'Noun', 'Number', 'Noun', 'Noun', 'Adverb', 'Noun', 'Josa', 'Verb', 'Noun', 'Josa', 'Noun', 'Adverb', 'Noun', 'Josa', 'Noun', 'Verb', 'Noun', 'Noun', 'Josa', 'Verb', 'Verb', 'Punctuation', 'Foreign', 'Foreign', 'Noun', 'Number', 'Noun', 'Noun', 'Josa', 'Noun', 'Noun', 'Josa', 'Noun', 'Josa', 'Noun', 'Noun', 'Adverb', 'Noun', 'Josa', 'Noun', 'Josa', 'Noun', 'Josa', 'Adjective', 'Punctuation', 'Noun', 'Noun', 'Noun', 'Noun', 'Josa', 'Adjective', 'Noun', 'Adverb', 'Noun', 'Verb', 'Noun', 'Josa', 'Noun', 'Noun', 'Josa', 'Noun', 'Josa', 'Noun', 'Noun', 'Josa', 'Noun', 'Josa', 'Adjective', 'Noun', 'Josa', 'Adjective', 'Punctuation', 'Foreign', 'Foreign', 'Noun', 'Josa', 'Noun', 'Number', 'Noun', 'Josa', 'Noun', 'Number', 'Noun', 'Noun', 'Josa', 'Noun', 'Adverb', 'Noun', 'Verb', 'Verb', 'Punctuation', 'Foreign', 'Noun', 'Number', 'Foreign', 'Noun', 'Josa', 'Noun', 'Punctuation', 'Noun', 'Adverb', 'Noun', 'Josa', 'Noun', 'Verb', 'Noun', 'Noun', 'Noun', 'Josa', 'Adjective', 'Noun', 'Josa', 'Noun', 'Noun', 'Noun', 'Josa', 'Noun', 'Suffix', 'Noun', 'Noun', 'Josa', 'Noun', 'Noun', 'Josa', 'Noun', 'Verb', 'Noun', 'Josa', 'Adjective', 'Noun', 'Josa', 'Noun', 'Josa', 'Noun', 'Verb', 'Noun', 'Josa', 'Adjective', 'Noun', 'Josa', 'Noun', 'Verb', 'Noun', 'Adjective', 'Punctuation', 'Foreign', 'Foreign', 'Noun', 'Josa', 'Noun', 'Josa', 'Noun', 'Josa', 'Verb', 'Punctuation', 'Foreign', 'Foreign', 'Noun', 'Josa', 'Noun', 'Verb', 'Noun', 'Josa', 'Noun', 'Josa', 'Noun', 'Verb', 'Noun', 'Josa', 'Adjective', 'Noun', 'Noun', 'Punctuation', 'Noun', 'Punctuation', 'Noun', 'Punctuation', 'Noun', 'Punctuation', 'Noun', 'Josa', 'Noun', 'Punctuation', 'Noun', 'Josa', 'Noun', 'Josa', 'Noun', 'Josa', 'Noun', 'Verb', 'Adjective', 'Noun', 'Josa', 'Verb', 'Noun', 'Adjective', 'Punctuation', 'Foreign', 'Foreign', 'Noun', 'Josa', 'Noun', 'Josa', 'Noun', 'Josa', 'Noun', 'Josa', 'Noun', 'Adverb', 'Noun', 'Josa', 'Noun', 'Verb', 'Verb', 'Punctuation', 'Foreign', 'Foreign', 'Noun', 'Josa', 'Noun', 'Noun', 'Noun', 'Josa', 'Noun', 'Josa', 'Noun', 'Josa', 'Noun', 'Josa', 'Noun', 'Josa', 'Noun', 'Josa', 'Noun', 'Josa', 'Verb', 'Noun', 'Verb', 'Verb', 'Punctuation', 'Foreign', 'Noun', 'Number', 'Noun', 'Josa', 'Noun', 'Josa', 'Noun', 'Josa', 'Noun', 'Verb', 'Noun', 'Josa', 'Adjective', 'Noun', 'Josa', 'Verb', 'Adverb', 'Punctuation', 'Foreign', 'Noun', 'Number', 'Foreign', 'Noun', 'Josa', 'Noun', 'Josa', 'Noun', 'Verb', 'Noun', 'Josa', 'Adjective', 'Noun', 'Punctuation', 'Noun', 'Adverb', 'Noun', 'Josa', 'Noun', 'Verb', 'Noun', 'Adjective', 'Punctuation', 'Foreign', 'Foreign', 'Modifier', 'Modifier', 'Noun', 'Josa', 'Noun', 'Verb', 'Noun', 'Josa', 'Noun', 'Josa', 'Verb', 'Verb', 'Punctuation', 'Foreign', 'Foreign', 'Noun', 'Punctuation', 'Noun', 'Noun', 'Noun', 'Josa', 'Noun', 'Josa', 'Noun', 'Josa', 'Noun', 'Josa', 'Noun', 'Verb', 'Punctuation', 'Foreign', 'Noun', 'Number', 'Noun', 'Josa', 'Noun', 'Josa', 'Noun', 'Verb', 'Noun', 'Josa', 'Adjective', 'Noun', 'Noun', 'Josa', 'Noun', 'Josa', 'Noun', 'Josa', 'Adverb', 'Punctuation', 'Foreign', 'Noun', 'Number', 'Noun', 'Josa', 'Noun', 'Josa', 'Noun', 'Verb', 'Noun', 'Suffix', 'Noun', 'Noun', 'Josa', 'Noun', 'Josa', 'Noun', 'Verb', 'Noun', 'Adjective', 'Punctuation', 'Foreign', 'Noun', 'Number', 'Noun', 'Josa', 'Noun', 'Suffix', 'Noun', 'Josa', 'Noun', 'Noun', 'Verb', 'Punctuation', 'Noun', 'Noun', 'Josa', 'Noun', 'Josa', 'Noun', 'Noun', 'Josa', 'Noun', 'Verb', 'Punctuation', 'Noun', 'Josa', 'Noun', 'Josa', 'Noun', 'Josa', 'Noun', 'Adjective', 'Punctuation', 'Foreign', 'Noun', 'Number', 'Noun', 'Josa', 'Noun', 'Punctuation', 'Noun', 'Punctuation', 'Noun', 'Josa', 'Noun', 'Noun', 'Noun', 'Josa', 'Noun', 'Verb', 'Noun', 'Josa', 'Noun', 'Josa', 'Noun', 'Verb', 'Noun', 'Adjective', 'Punctuation', 'Foreign', 'Noun', 'Number', 'Noun', 'Josa', 'Noun', 'Adverb', 'Noun', 'Josa', 'Noun', 'Josa', 'Noun', 'Noun', 'Josa', 'Noun', 'Josa', 'Noun', 'Suffix', 'Noun', 'Noun', 'Modifier', 'Noun', 'Josa', 'Verb', 'Adjective', 'Verb', 'Punctuation', 'Foreign', 'Noun', 'Number', 'Noun', 'Noun', 'Josa', 'Noun', 'Josa', 'Noun', 'Josa', 'Noun', 'Verb', 'Noun', 'Josa', 'Noun', 'Verb', 'Punctuation', 'Foreign', 'Noun', 'Number', 'Noun', 'Noun', 'Foreign', 'Noun', 'Number', 'Noun', 'Noun', 'Josa', 'Noun', 'Foreign', 'Noun', 'Number', 'Foreign', 'Noun', 'Josa', 'Noun', 'Josa', 'Noun', 'Josa', 'Verb', 'Noun', 'Josa', 'Noun', 'Verb', 'Punctuation', 'Foreign', 'Foreign', 'Noun', 'Josa', 'Noun', 'Josa', 'Noun', 'Verb', 'Punctuation', 'Noun', 'Josa', 'Noun', 'Verb', 'Noun', 'Josa', 'Noun', 'Josa', 'Verb', 'Noun', 'Josa', 'Noun', 'Verb', 'Verb', 'Punctuation', 'Foreign', 'Foreign', 'Noun', 'Josa', 'Noun', 'Josa', 'Noun', 'Josa', 'Noun', 'Josa', 'Adjective', 'Noun', 'Josa', 'Noun', 'Verb', 'Noun', 'Adjective', 'Punctuation', 'Foreign', 'Noun', 'Number', 'Foreign', 'Noun', 'Josa', 'Noun', 'Josa', 'Noun', 'Josa', 'Noun', 'Josa', 'Noun', 'Verb', 'Punctuation', 'Foreign', 'Foreign', 'Noun', 'Josa', 'Noun', 'Josa', 'Noun', 'Verb', 'Noun', 'Josa', 'Noun', 'Verb', 'Punctuation', 'Noun', 'Josa', 'Noun', 'Josa', 'Noun', 'Josa', 'Noun', 'Verb', 'Punctuation', 'Foreign', 'Foreign', 'Noun', 'Josa', 'Noun', 'Josa', 'Noun', 'Josa', 'Noun', 'Josa', 'Noun', 'Verb', 'Noun', 'Adjective', 'Punctuation', 'Foreign', 'Foreign', 'Noun', 'Josa', 'Noun', 'Josa', 'Noun', 'Josa', 'Noun', 'Josa', 'Adjective', 'Noun', 'Josa', 'Noun', 'Verb', 'Noun', 'Adjective', 'Punctuation', 'Foreign', 'Noun', 'Number', 'Noun', 'Noun', 'Foreign', 'Noun', 'Number', 'Foreign', 'Noun', 'Josa', 'Noun', 'Josa', 'Noun', 'Josa', 'Noun', 'Verb', 'Adjective', 'Noun', 'Josa', 'Noun', 'Verb', 'Punctuation', 'Foreign', 'Foreign', 'Noun', 'Josa', 'Noun', 'Punctuation', 'Noun', 'Josa', 'Number', 'Noun', 'Noun', 'Number', 'Noun', 'Noun', 'Josa', 'Noun', 'Josa', 'Noun', 'Josa', 'Adverb', 'Punctuation', 'Foreign', 'Foreign', 'Noun', 'Josa', 'Noun', 'Josa', 'Noun', 'Josa', 'Verb', 'Punctuation', 'Noun', 'Josa', 'Noun', 'Suffix', 'Verb', 'Punctuation', 'Foreign', 'Noun', 'Number', 'Noun', 'Noun', 'Josa', 'Noun', 'Josa', 'Noun', 'Josa', 'Verb', 'Verb', 'Punctuation', 'Foreign', 'Number', 'Punctuation', 'Noun', 'Josa', 'Modifier', 'Modifier', 'Noun', 'Josa', 'Noun', 'Josa', 'Noun', 'Noun', 'Foreign', 'Number', 'Punctuation', 'Noun', 'Punctuation', 'Noun', 'Noun', 'Adjective', 'Noun', 'Noun', 'Foreign', 'Number', 'Punctuation', 'Noun', 'Noun', 'Punctuation', 'Noun', 'Noun', 'Punctuation', 'Noun', 'Noun', 'Punctuation', 'Noun', 'Noun', 'Noun', 'Noun', 'Noun', 'Foreign', 'Number', 'Punctuation', 'Noun', 'Punctuation', 'Noun', 'Punctuation', 'Noun', 'Noun', 'Josa', 'Noun', 'Noun', 'Punctuation', 'Noun', 'Josa', 'Noun', 'Josa', 'Verb', 'Noun', 'Noun', 'Noun', 'Josa', 'Noun', 'Josa', 'Noun', 'Noun', 'Foreign', 'Number', 'Punctuation', 'Noun', 'Josa', 'Noun', 'Noun', 'Punctuation', 'Noun', 'Noun', 'Noun', 'Noun', 'Noun', 'Noun', 'Adverb', 'Noun', 'Josa', 'Noun', 'Noun', 'Foreign', 'Number', 'Punctuation', 'Noun', 'Josa', 'Noun', 'Josa', 'Noun', 'Noun', 'Foreign', 'Number', 'Punctuation', 'Noun', 'Josa', 'Noun', 'Noun', 'Josa', 'Noun', 'Foreign', 'Number', 'Punctuation', 'Noun', 'Noun', 'Foreign', 'Number', 'Punctuation', 'Noun', 'Punctuation', 'Noun', 'Josa', 'Noun', 'Foreign', 'Number', 'Punctuation', 'Noun', 'Suffix', 'Josa', 'Noun', 'Josa', 'Noun', 'Foreign', 'Number', 'Punctuation', 'Noun', 'Noun', 'Josa', 'Noun', 'Josa', 'Noun', 'Adverb', 'Noun', 'Josa', 'Noun', 'Josa', 'Noun', 'Noun', 'Foreign', 'Number', 'Punctuation', 'Noun', 'Noun', 'Noun', 'Josa', 'Noun', 'Punctuation', 'Noun', 'Foreign', 'Number', 'Punctuation', 'Noun', 'Josa', 'Adjective', 'Noun', 'Josa', 'Noun', 'Josa', 'Noun', 'Foreign', 'Number', 'Punctuation', 'Noun', 'Noun', 'Josa', 'Noun', 'Foreign', 'Number', 'Punctuation', 'Noun', 'Josa', 'Noun', 'Adverb', 'Noun', 'Verb', 'Noun', 'Josa', 'Noun', 'Josa', 'Noun', 'Verb', 'Noun', 'Josa', 'Noun', 'Foreign', 'Number', 'Punctuation', 'Noun', 'Punctuation', 'Noun', 'Noun', 'Noun', 'Punctuation', 'Modifier', 'Noun', 'Noun', 'Punctuation', 'Noun', 'Noun', 'Noun', 'Punctuation', 'Noun', 'Noun', 'Noun', 'Josa', 'Noun', 'Josa', 'Noun', 'Josa', 'Noun', 'Noun', 'Noun', 'Josa', 'Noun', 'Foreign', 'Number', 'Punctuation', 'Noun', 'Noun', 'Punctuation', 'Noun', 'Adverb', 'Noun', 'Josa', 'Noun', 'Josa', 'Noun', 'Foreign', 'Noun', 'Number', 'Foreign', 'Noun', 'Josa', 'Adjective', 'Noun', 'Josa', 'Noun', 'Josa', 'Noun', 'Josa', 'Noun', 'Josa', 'Noun', 'Verb', 'Noun', 'Verb', 'Noun', 'Noun', 'Josa', 'Noun', 'Verb', 'Noun', 'Suffix', 'Josa', 'Noun', 'Noun', 'Josa', 'Noun', 'Noun', 'Adjective', 'Punctuation', 'Foreign', 'Foreign', 'Noun', 'Suffix', 'Josa', 'Noun', 'Noun', 'Josa', 'Noun', 'Josa', 'Noun', 'Noun', 'Josa', 'Verb', 'Punctuation', 'Noun', 'Punctuation', 'Noun', 'Noun', 'Josa', 'Adjective', 'Noun', 'Josa', 'Noun', 'Josa', 'Noun', 'Verb', 'Punctuation', 'Foreign', 'Foreign', 'Noun', 'Suffix', 'Josa', 'Noun', 'Noun', 'Josa', 'Noun', 'Punctuation', 'Noun', 'Noun', 'Noun', 'Adjective', 'Noun', 'Josa', 'Noun', 'Josa', 'Noun', 'Verb', 'Punctuation', 'Foreign', 'Noun', 'Number', 'Foreign', 'Noun', 'Noun', 'Josa', 'Noun', 'Verb', 'Noun', 'Noun', 'Punctuation', 'Noun', 'Noun', 'Josa', 'Noun', 'Noun', 'Josa', 'Noun', 'Josa', 'Noun', 'Verb', 'Noun', 'Josa', 'Noun', 'Josa', 'Noun', 'Noun', 'Josa', 'Noun', 'Josa', 'Noun', 'Verb', 'Noun', 'Verb', 'Noun', 'Noun', 'Noun', 'Josa', 'Verb', 'Punctuation', 'Foreign', 'Foreign', 'Noun', 'Noun', 'Noun', 'Josa', 'Noun', 'Josa', 'Noun', 'Josa', 'Adverb', 'Punctuation', 'Foreign', 'Foreign', 'Noun', 'Noun', 'Noun', 'Josa', 'Noun', 'Punctuation', 'Noun', 'Noun', 'Noun', 'Adjective', 'Noun', 'Josa', 'Noun', 'Josa', 'Noun', 'Verb', 'Punctuation', 'Foreign', 'Noun', 'Number', 'Foreign', 'Noun', 'Noun', 'Josa', 'Noun', 'Josa', 'Noun', 'Josa', 'Noun', 'Josa', 'Noun', 'Josa', 'Noun', 'Verb', 'Noun', 'Verb', 'Noun', 'Noun', 'Suffix', 'Modifier', 'Noun', 'Josa', 'Noun', 'Noun', 'Adjective', 'Punctuation', 'Foreign', 'Foreign', 'Noun', 'Noun', 'Suffix', 'Modifier', 'Noun', 'Josa', 'Noun', 'Punctuation', 'Noun', 'Noun', 'Noun', 'Adjective', 'Noun', 'Josa', 'Noun', 'Josa', 'Noun', 'Verb', 'Punctuation', 'Foreign', 'Noun', 'Number', 'Foreign', 'Noun', 'Noun', 'Josa', 'Noun', 'Josa', 'Noun', 'Josa', 'Noun', 'Noun', 'Josa', 'Noun', 'Josa', 'Noun', 'Verb', 'Noun', 'Josa', 'Noun', 'Josa', 'Noun', 'Verb', 'Noun', 'Verb', 'Noun', 'Noun', 'Suffix', 'Modifier', 'Noun', 'Josa', 'Noun', 'Noun', 'Adjective', 'Punctuation', 'Foreign', 'Foreign', 'Noun', 'Noun', 'Suffix', 'Modifier', 'Noun', 'Josa', 'Noun', 'Punctuation', 'Noun', 'Noun', 'Noun', 'Adjective', 'Noun', 'Josa', 'Noun', 'Josa', 'Noun', 'Verb', 'Punctuation', 'Foreign', 'Noun', 'Number', 'Noun', 'Noun', 'Foreign', 'Noun', 'Number', 'Noun', 'Josa', 'Noun', 'Josa', 'Noun', 'Noun', 'Josa', 'Noun', 'Josa', 'Noun', 'Josa', 'Noun', 'Josa', 'Noun', 'Verb', 'Punctuation', 'Foreign', 'Noun', 'Number', 'Noun', 'Adverb', 'Noun', 'Josa', 'Noun', 'Josa', 'Noun', 'Noun', 'Josa', 'Noun', 'Verb', 'Noun', 'Josa', 'Noun', 'Josa', 'Noun', 'Adverb', 'Noun', 'Josa', 'Noun', 'Noun', 'Adverb', 'Noun', 'Josa', 'Noun', 'Verb', 'Noun', 'Adjective', 'Punctuation', 'Foreign', 'Noun', 'Number', 'Noun', 'Josa', 'Noun', 'Punctuation', 'Noun', 'Josa', 'Noun', 'Noun', 'Josa', 'Noun', 'Josa', 'Noun', 'Verb', 'Punctuation', 'Foreign', 'Noun', 'Number', 'Noun', 'Noun', 'Foreign', 'Noun', 'Number', 'Noun', 'Josa', 'Noun', 'Punctuation', 'Noun', 'Verb', 'Noun', 'Punctuation', 'Noun', 'Noun', 'Noun', 'Josa', 'Noun', 'Josa', 'Noun', 'Josa', 'Noun', 'Noun', 'Josa', 'Noun', 'Noun', 'Noun', 'Josa', 'Noun', 'Josa', 'Noun', 'Josa', 'Noun', 'Josa', 'Verb', 'Noun', 'Verb', 'Noun', 'Noun', 'Suffix', 'Josa', 'Noun', 'Josa', 'Verb', 'Punctuation', 'Foreign', 'Noun', 'Number', 'Foreign', 'Noun', 'Josa', 'Noun', 'Josa', 'Noun', 'Josa', 'Number', 'Noun', 'Noun', 'Number', 'Noun', 'Noun', 'Josa', 'Noun', 'Noun', 'Josa', 'Noun', 'Josa', 'Adverb', 'Punctuation', 'Foreign', 'Foreign', 'Noun', 'Josa', 'Noun', 'Josa', 'Noun', 'Josa', 'Verb', 'Noun', 'Josa', 'Noun', 'Josa', 'Punctuation', 'Noun', 'Noun', 'Josa', 'Number', 'Foreign', 'Verb', 'Punctuation', 'Number', 'Noun', 'Josa', 'Verb', 'Noun', 'Verb', 'Noun', 'Adjective', 'Punctuation', 'Foreign', 'Foreign', 'Noun', 'Noun', 'Josa', 'Noun', 'Josa', 'Noun', 'Josa', 'Noun', 'Josa', 'Noun', 'Josa', 'Punctuation', 'Noun', 'Noun', 'Josa', 'Number', 'Foreign', 'Verb', 'Punctuation', 'Number', 'Noun', 'Josa', 'Verb', 'Noun', 'Verb', 'Noun', 'Adjective', 'Punctuation', 'Foreign', 'Noun', 'Number', 'Noun', 'Josa', 'Noun', 'Punctuation', 'Noun', 'Verb', 'Noun', 'Josa', 'Noun', 'Noun', 'Verb', 'Noun', 'Josa', 'Noun', 'Noun', 'Noun', 'Josa', 'Noun', 'Noun', 'Josa', 'Noun', 'Verb', 'Verb', 'Punctuation', 'Foreign', 'Noun', 'Number', 'Noun', 'Josa', 'Noun', 'Punctuation', 'Noun', 'Noun', 'Punctuation', 'Noun', 'Noun', 'Josa', 'Noun', 'Punctuation', 'Noun', 'Noun', 'Noun', 'Josa', 'Noun', 'Noun', 'Adjective', 'Noun', 'Josa', 'Noun', 'Josa', 'Noun', 'Verb', 'Punctuation', 'Foreign', 'Noun', 'Number', 'Noun', 'Noun', 'Foreign', 'Noun', 'Number', 'Foreign', 'Noun', 'Josa', 'Noun', 'Josa', 'Noun', 'Verb', 'Noun', 'Josa', 'Noun', 'Verb', 'Punctuation', 'Foreign', 'Foreign', 'Noun', 'Josa', 'Noun', 'Josa', 'Noun', 'Josa', 'Modifier', 'Noun', 'Noun', 'Josa', 'Noun', 'Verb', 'Punctuation', 'Foreign', 'Foreign', 'Noun', 'Josa', 'Noun', 'Josa', 'Noun', 'Josa', 'Noun', 'Verb', 'Punctuation', 'Foreign', 'Noun', 'Number', 'Foreign', 'Noun', 'Josa', 'Verb', 'Noun', 'Noun', 'Adjective', 'Punctuation', 'Foreign', 'Foreign', 'Noun', 'Josa', 'Noun', 'Josa', 'Verb', 'Punctuation', 'Noun', 'Punctuation', 'Noun', 'Josa', 'Noun', 'Verb', 'Noun', 'Josa', 'Adjective', 'Noun', 'Josa', 'Adjective', 'Noun', 'Josa', 'Noun', 'Noun', 'Adjective', 'Punctuation', 'Foreign', 'Foreign', 'Noun', 'Josa', 'Modifier', 'Noun', 'Noun', 'Josa', 'Noun', 'Josa', 'Noun', 'Josa', 'Noun', 'Verb', 'Punctuation', 'Foreign', 'Noun', 'Number', 'Noun', 'Josa', 'Noun', 'Josa', 'Noun', 'Josa', 'Adjective', 'Noun', 'Noun', 'Josa', 'Verb', 'Noun', 'Verb', 'Noun', 'Verb', 'Punctuation', 'Foreign', 'Noun', 'Number', 'Foreign', 'Noun', 'Suffix', 'Josa', 'Noun', 'Josa', 'Noun', 'Josa', 'Verb', 'Noun', 'Josa', 'Noun', 'Verb', 'Punctuation', 'Foreign', 'Foreign', 'Noun', 'Josa', 'Noun', 'Suffix', 'Josa', 'Noun', 'Josa', 'Noun', 'Josa', 'Noun', 'Josa', 'Verb', 'Noun', 'Josa', 'Noun', 'Verb', 'Punctuation', 'Foreign', 'Foreign', 'Noun', 'Suffix', 'Josa', 'Noun', 'Josa', 'Adjective', 'Noun', 'Josa', 'Noun', 'Noun', 'Josa', 'Noun', 'Josa', 'Verb', 'Noun', 'Suffix', 'Noun', 'Verb', 'Punctuation', 'Foreign', 'Noun', 'Number', 'Foreign', 'Noun', 'Suffix', 'Josa', 'Noun', 'Josa', 'Number', 'Foreign', 'Verb', 'Punctuation', 'Noun', 'Verb', 'Noun', 'Adjective', 'Punctuation', 'Foreign', 'Foreign', 'Noun', 'Josa', 'Noun', 'Josa', 'Number', 'Foreign', 'Verb', 'Punctuation', 'Noun', 'Josa', 'Noun', 'Verb', 'Noun', 'Josa', 'Adjective', 'Modifier', 'Noun', 'Verb', 'Noun', 'Adjective', 'Punctuation', 'Foreign', 'Foreign', 'Noun', 'Suffix', 'Josa', 'Noun', 'Josa', 'Adjective', 'Noun', 'Josa', 'Noun', 'Josa', 'Number', 'Foreign', 'Verb', 'Punctuation', 'Noun', 'Josa', 'Noun', 'Verb', 'Noun', 'Josa', 'Adjective', 'Modifier', 'Noun', 'Verb', 'Noun', 'Adjective', 'Punctuation', 'Foreign', 'Foreign', 'Noun', 'Josa', 'Noun', 'Josa', 'Noun', 'Josa', 'Noun', 'Verb', 'Punctuation', 'Foreign', 'Noun', 'Number', 'Foreign', 'Noun', 'Josa', 'Noun', 'Adverb', 'Noun', 'Noun', 'Josa', 'Noun', 'Josa', 'Noun', 'Josa', 'Adjective', 'Adjective', 'Noun', 'Verb', 'Adjective', 'Punctuation', 'Noun', 'Josa', 'Adjective', 'Adjective', 'Noun', 'Punctuation', 'Noun', 'Noun', 'Adjective', 'Noun', 'Josa', 'Verb', 'Adjective', 'Verb', 'Punctuation', 'Foreign', 'Foreign', 'Noun', 'Josa', 'Adjective', 'Noun', 'Noun', 'Noun', 'Josa', 'Noun', 'Josa', 'Noun', 'Verb', 'Noun', 'Adjective', 'Noun', 'Josa', 'Noun', 'Josa', 'Noun', 'Verb', 'Noun', 'Josa', 'Adjective', 'Noun', 'Verb', 'Verb', 'Noun', 'Adjective', 'Punctuation', 'Foreign', 'Noun', 'Number', 'Foreign', 'Noun', 'Josa', 'Noun', 'Josa', 'Noun', 'Verb', 'Noun', 'Josa', 'Noun', 'Josa', 'Noun', 'Josa', 'Verb', 'Noun', 'Josa', 'Noun', 'Josa', 'Noun', 'Josa', 'Noun', 'Verb', 'Noun', 'Noun', 'Josa', 'Adjective', 'Noun', 'Verb', 'Punctuation', 'Foreign', 'Foreign', 'Noun', 'Punctuation', 'Noun', 'Adverb', 'Noun', 'Josa', 'Noun', 'Josa', 'Noun', 'Josa', 'Noun', 'Verb', 'Noun', 'Josa', 'Noun', 'Josa', 'Noun', 'Josa', 'Verb', 'Noun', 'Josa', 'Noun', 'Josa', 'Verb', 'Noun', 'Suffix', 'Josa', 'Noun', 'Verb', 'Noun', 'Josa', 'Verb', 'Punctuation', 'Foreign', 'Foreign', 'Noun', 'Josa', 'Noun', 'Noun', 'Noun', 'Noun', 'Josa', 'Verb', 'Noun', 'Adjective', 'Punctuation', 'Noun', 'Josa', 'Noun', 'Josa', 'Noun', 'Josa', 'Noun', 'Suffix', 'Verb', 'Punctuation', 'Noun', 'Noun', 'Josa', 'Noun', 'Verb', 'Verb', 'Punctuation', 'Foreign', 'Noun', 'Number', 'Noun', 'Josa', 'Noun', 'Josa', 'Noun', 'Verb', 'Adjective', 'Noun', 'Noun', 'Josa', 'Noun', 'Josa', 'Noun', 'Josa', 'Noun', 'Punctuation', 'Noun', 'Josa', 'Noun', 'Noun', 'Josa', 'Noun', 'Noun', 'Josa', 'Noun', 'Josa', 'Noun', 'Josa', 'Noun', 'Verb', 'Noun', 'Adjective', 'Punctuation', 'Foreign', 'Noun', 'Number', 'Noun', 'Josa', 'Noun', 'Josa', 'Noun', 'Josa', 'Noun', 'Josa', 'Adverb', 'Punctuation', 'Noun', 'Punctuation', 'Noun', 'Josa', 'Noun', 'Josa', 'Noun', 'Adverb', 'Noun', 'Noun', 'Josa', 'Noun', 'Verb', 'Adjective', 'Noun', 'Josa', 'Noun', 'Verb', 'Noun', 'Josa', 'Adjective', 'Noun', 'Josa', 'Noun', 'Josa', 'Noun', 'Josa', 'Noun', 'Verb', 'Adjective', 'Verb', 'Noun', 'Adjective', 'Punctuation', 'Foreign', 'Noun', 'Number', 'Foreign', 'Noun', 'Josa', 'Noun', 'Verb', 'Noun', 'Verb', 'Noun', 'Suffix', 'Josa', 'Noun', 'Josa', 'Noun', 'Noun', 'Adjective', 'Punctuation', 'Foreign', 'Foreign', 'Noun', 'Josa', 'Noun', 'Verb', 'Noun', 'Josa', 'Noun', 'Verb', 'Punctuation', 'Foreign', 'Foreign', 'Noun', 'Josa', 'Noun', 'Punctuation', 'Noun', 'Noun', 'Noun', 'Josa', 'Noun', 'Josa', 'Noun', 'Josa', 'Noun', 'Verb', 'Punctuation', 'Foreign', 'Foreign', 'Noun', 'Noun', 'Noun', 'Josa', 'Noun', 'Punctuation', 'Noun', 'Josa', 'Noun', 'Josa', 'Noun', 'Josa', 'Noun', 'Josa', 'Noun', 'Josa', 'Noun', 'Josa', 'Noun', 'Punctuation', 'Noun', 'Punctuation', 'Noun', 'Noun', 'Noun', 'Punctuation', 'Noun', 'Josa', 'Noun', 'Josa', 'Noun', 'Suffix', 'Noun', 'Josa', 'Noun', 'Josa', 'Noun', 'Josa', 'Verb', 'Noun', 'Josa', 'Verb', 'Noun', 'Adjective', 'Punctuation', 'Noun', 'Punctuation', 'Noun', 'Josa', 'Noun', 'Josa', 'Noun', 'Josa', 'Adjective', 'Adjective', 'Punctuation', 'Foreign', 'Noun', 'Number', 'Noun', 'Noun', 'Foreign', 'Noun', 'Number', 'Foreign', 'Noun', 'Josa', 'Noun', 'Noun', 'Josa', 'Noun', 'Verb', 'Punctuation', 'Foreign', 'Number', 'Punctuation', 'Noun', 'Josa', 'Noun', 'Josa', 'Adjective', 'Noun', 'Josa', 'Noun', 'Modifier', 'Noun', 'Noun', 'Foreign', 'Number', 'Punctuation', 'Noun', 'Josa', 'Noun', 'Foreign', 'Number', 'Punctuation', 'Noun', 'Josa', 'Noun', 'Noun', 'Foreign', 'Number', 'Punctuation', 'Noun', 'Noun', 'Noun', 'Suffix', 'Punctuation', 'Noun', 'Noun', 'Josa', 'Noun', 'Suffix', 'Noun', 'Noun', 'Noun', 'Suffix', 'Josa', 'Noun', 'Noun', 'Josa', 'Noun', 'Josa', 'Noun', 'Foreign', 'Number', 'Punctuation', 'Noun', 'Josa', 'Noun', 'Verb', 'Noun', 'Josa', 'Noun', 'Josa', 'Noun', 'Foreign', 'Foreign', 'Noun', 'Josa', 'Noun', 'Josa', 'Noun', 'Josa', 'Verb', 'Number', 'Noun', 'Noun', 'Josa', 'Noun', 'Verb', 'Punctuation', 'Noun', 'Josa', 'Noun', 'Josa', 'Noun', 'Verb', 'Punctuation', 'Foreign', 'Foreign', 'Noun', 'Number', 'Noun', 'Noun', 'Suffix', 'Number', 'Noun', 'Josa', 'Noun', 'Josa', 'Noun', 'Verb', 'Verb', 'Punctuation', 'Number', 'Noun', 'Josa', 'Noun', 'Suffix', 'Noun', 'Verb', 'Verb', 'Noun', 'Verb', 'Punctuation', 'Foreign', 'Foreign', 'Noun', 'Josa', 'Noun', 'Josa', 'Noun', 'Josa', 'Noun', 'Josa', 'Verb', 'Noun', 'Suffix', 'Josa', 'Noun', 'Josa', 'Noun', 'Verb', 'Punctuation', 'Foreign', 'Noun', 'Number', 'Foreign', 'Noun', 'Noun', 'Josa', 'Noun', 'Josa', 'Number', 'Foreign', 'Verb', 'Punctuation', 'Noun', 'Josa', 'Noun', 'Verb', 'Noun', 'Josa', 'Adjective', 'Modifier', 'Noun', 'Verb', 'Noun', 'Adjective', 'Punctuation', 'Foreign', 'Foreign', 'Noun', 'Noun', 'Josa', 'Noun', 'Josa', 'Noun', 'Suffix', 'Noun', 'Noun', 'Josa', 'Noun', 'Verb', 'Noun', 'Adjective', 'Punctuation', 'Foreign', 'Foreign', 'Noun', 'Noun', 'Josa', 'Noun', 'Adverb', 'Noun', 'Noun', 'Josa', 'Noun', 'Josa', 'Noun', 'Josa', 'Adjective', 'Adjective', 'Noun', 'Verb', 'Adjective', 'Verb', 'Punctuation', 'Foreign', 'Noun', 'Number', 'Foreign', 'Noun', 'Josa', 'Noun', 'Josa', 'Noun', 'Modifier', 'Noun', 'Punctuation', 'Noun', 'Josa', 'Noun', 'Punctuation', 'Noun', 'Noun', 'Josa', 'Noun', 'Adverb', 'Noun', 'Josa', 'Noun', 'Josa', 'Noun', 'Noun', 'Josa', 'Verb', 'Noun', 'Josa', 'Noun', 'Number', 'Noun', 'Noun', 'Josa', 'Noun', 'Josa', 'Adjective', 'Verb', 'Punctuation', 'Foreign', 'Foreign', 'Noun', 'Josa', 'Noun', 'Josa', 'Noun', 'Verb', 'Adjective', 'Noun', 'Noun', 'Josa', 'Noun', 'Josa', 'Noun', 'Josa', 'Noun', 'Punctuation', 'Noun', 'Noun', 'Josa', 'Noun', 'Noun', 'Josa', 'Noun', 'Josa', 'Noun', 'Josa', 'Noun', 'Verb', 'Noun', 'Adjective', 'Punctuation', 'Foreign', 'Foreign', 'Noun', 'Josa', 'Noun', 'Josa', 'Noun', 'Noun', 'Adjective', 'Noun', 'Josa', 'Noun', 'Josa', 'Noun', 'Verb', 'Punctuation', 'Foreign', 'Noun', 'Number', 'Noun', 'Noun', 'Noun', 'Foreign', 'Noun', 'Number', 'Foreign', 'Noun', 'Josa', 'Noun', 'Josa', 'Adjective', 'Noun', 'Noun', 'Noun', 'Josa', 'Noun', 'Josa', 'Noun', 'Josa', 'Noun', 'Verb', 'Noun', 'Verb', 'Noun', 'Noun', 'Noun', 'Josa', 'Verb', 'Punctuation', 'Foreign', 'Foreign', 'Noun', 'Noun', 'Noun', 'Noun', 'Josa', 'Noun', 'Josa', 'Noun', 'Verb', 'Number', 'Noun', 'Punctuation', 'Noun', 'Josa', 'Noun', 'Verb', 'Number', 'Noun', 'Noun', 'Suffix', 'Noun', 'Verb', 'Number', 'Noun', 'Noun', 'Josa', 'Noun', 'Josa', 'Adverb', 'Punctuation', 'Noun', 'Josa', 'Noun', 'Suffix', 'Josa', 'Noun', 'Verb', 'Punctuation', 'Foreign', 'Foreign', 'Noun', 'Josa', 'Noun', 'Josa', 'Number', 'Foreign', 'Verb', 'Punctuation', 'Foreign', 'Foreign', 'Noun', 'Josa', 'Noun', 'Josa', 'Noun', 'Suffix', 'Noun', 'Noun', 'Josa', 'Noun', 'Verb', 'Noun', 'Adjective', 'Punctuation', 'Foreign', 'Foreign', 'Noun', 'Josa', 'Noun', 'Adverb', 'Noun', 'Noun', 'Josa', 'Noun', 'Josa', 'Noun', 'Josa', 'Adjective', 'Adjective', 'Noun', 'Verb', 'Adjective', 'Verb', 'Punctuation', 'Foreign', 'Foreign', 'Noun', 'Noun', 'Noun', 'Noun', 'Josa', 'Noun', 'Josa', 'Noun', 'Noun', 'Josa', 'Noun', 'Noun', 'Punctuation', 'Noun', 'Noun', 'Adverb', 'Noun', 'Noun', 'Josa', 'Noun', 'Josa', 'Noun', 'Josa', 'Noun', 'Verb', 'Noun', 'Adjective', 'Punctuation', 'Noun', 'Josa', 'Noun', 'Verb', 'Adjective', 'Noun', 'Noun', 'Josa', 'Noun', 'Noun', 'Josa', 'Noun', 'Josa', 'Noun', 'Josa', 'Noun', 'Verb', 'Noun', 'Adjective', 'Punctuation', 'Foreign', 'Foreign', 'Modifier', 'Noun', 'Noun', 'Noun', 'Noun', 'Josa', 'Noun', 'Punctuation', 'Noun', 'Noun', 'Noun', 'Adjective', 'Noun', 'Josa', 'Noun', 'Josa', 'Noun', 'Verb', 'Punctuation', 'Foreign', 'Noun', 'Number', 'Foreign', 'Modifier', 'Noun', 'Noun', 'Noun', 'Noun', 'Josa', 'Noun', 'Josa', 'Noun', 'Noun', 'Noun', 'Noun', 'Josa', 'Noun', 'Noun', 'Josa', 'Noun', 'Verb', 'Noun', 'Noun', 'Josa', 'Adjective', 'Noun', 'Josa', 'Verb', 'Noun', 'Adjective', 'Punctuation', 'Foreign', 'Foreign', 'Noun', 'Number', 'Noun', 'Noun', 'Josa', 'Verb', 'Adjective', 'Noun', 'Josa', 'Noun', 'Josa', 'Noun', 'Verb', 'Verb', 'Punctuation', 'Foreign', 'Noun', 'Number', 'Foreign', 'Noun', 'Josa', 'Modifier', 'Noun', 'Noun', 'Noun', 'Noun', 'Josa', 'Noun', 'Suffix', 'Josa', 'Noun', 'Josa', 'Noun', 'Verb', 'Noun', 'Noun', 'Josa', 'Exclamation', 'Verb', 'Punctuation', 'Adjective', 'Noun', 'Josa', 'Noun', 'Verb', 'Verb', 'Punctuation', 'Foreign', 'Foreign', 'Noun', 'Josa', 'Noun', 'Josa', 'Noun', 'Josa', 'Noun', 'Josa', 'Noun', 'Verb', 'Noun', 'Josa', 'Noun', 'Josa', 'Noun', 'Adverb', 'Noun', 'Josa', 'Noun', 'Verb', 'Noun', 'Adjective', 'Punctuation', 'Foreign', 'Noun', 'Number', 'Noun', 'Noun', 'Foreign', 'Noun', 'Number', 'Foreign', 'Noun', 'Josa', 'Noun', 'Josa', 'Noun', 'Josa', 'Noun', 'Josa', 'Noun', 'Josa', 'Noun', 'Josa', 'Noun', 'Josa', 'Noun', 'Verb', 'Punctuation', 'Noun', 'Josa', 'Noun', 'Noun', 'Josa', 'Noun', 'Josa', 'Noun', 'Josa', 'Noun', 'Josa', 'Noun', 'Verb', 'Noun', 'Adjective', 'Punctuation', 'Foreign', 'Foreign', 'Noun', 'Josa', 'Noun', 'Josa', 'Noun', 'Josa', 'Noun', 'Verb', 'Punctuation', 'Foreign', 'Noun', 'Number', 'Foreign', 'Noun', 'Josa', 'Noun', 'Josa', 'Verb', 'Punctuation', 'Foreign', 'Foreign', 'Noun', 'Josa', 'Noun', 'Punctuation', 'Noun', 'Punctuation', 'Noun', 'Noun', 'Josa', 'Noun', 'Josa', 'Noun', 'Noun', 'Noun', 'Noun', 'Noun', 'Josa', 'Noun', 'Josa', 'Noun', 'Josa', 'Noun', 'Josa', 'Noun', 'Josa', 'Noun', 'Josa', 'Noun', 'Verb', 'Punctuation', 'Foreign', 'Noun', 'Number', 'Noun', 'Noun', 'Foreign', 'Noun', 'Number', 'Foreign', 'Noun', 'Josa', 'Modifier', 'Modifier', 'Noun', 'Josa', 'Noun', 'Josa', 'Noun', 'Josa', 'Noun', 'Noun', 'Noun', 'Josa', 'Noun', 'Josa', 'Noun', 'Noun', 'Josa', 'Noun', 'Josa', 'Verb', 'Punctuation', 'Foreign', 'Foreign', 'Noun', 'Josa', 'Noun', 'Adjective', 'Noun', 'Noun', 'Josa', 'Noun', 'Noun', 'Noun', 'Josa', 'Adjective', 'Noun', 'Josa', 'Noun', 'Josa', 'Noun', 'Josa', 'Punctuation', 'Noun', 'Josa', 'Noun', 'Josa', 'Noun', 'Josa', 'Noun', 'Josa', 'Noun', 'Verb', 'Punctuation', 'Modifier', 'Modifier', 'Noun', 'Suffix', 'Josa', 'Noun', 'Josa', 'Noun', 'Noun', 'Josa', 'Noun', 'Josa', 'Noun', 'Verb', 'Noun', 'Josa', 'Noun', 'Josa', 'Noun', 'Josa', 'Noun', 'Josa', 'Verb', 'Noun', 'Adjective', 'Punctuation', 'Foreign', 'Noun', 'Number', 'Foreign', 'Noun', 'Noun', 'Adjective', 'Noun', 'Punctuation', 'Noun', 'Noun', 'Punctuation', 'Noun', 'Josa', 'Noun', 'Suffix', 'Noun', 'Verb', 'Noun', 'Adjective', 'Noun', 'Josa', 'Noun', 'Josa', 'Noun', 'Verb', 'Noun', 'Josa', 'Adjective', 'Adjective', 'Noun', 'Noun', 'Noun', 'Punctuation', 'Noun', 'Adverb', 'Noun', 'Josa', 'Noun', 'Verb', 'Noun', 'Adjective', 'Punctuation', 'Foreign', 'Foreign', 'Noun', 'Josa', 'Noun', 'Josa', 'Noun', 'Josa', 'Noun', 'Josa', 'Verb', 'Punctuation', 'Noun', 'Josa', 'Noun', 'Noun', 'Adjective', 'Noun', 'Josa', 'Noun', 'Josa', 'Noun', 'Verb', 'Adjective', 'Noun', 'Josa', 'Noun', 'Verb', 'Punctuation', 'Foreign', 'Noun', 'Number', 'Foreign', 'Noun', 'Josa', 'Noun', 'Josa', 'Noun', 'Verb', 'Modifier', 'Noun', 'Noun', 'Noun', 'Josa', 'Noun', 'Verb', 'Noun', 'Adjective', 'Noun', 'Verb', 'Verb', 'Punctuation', 'Noun', 'Josa', 'Modifier', 'Modifier', 'Noun', 'Josa', 'Noun', 'Verb', 'Punctuation', 'Foreign', 'Foreign', 'Noun', 'Noun', 'Noun', 'Modifier', 'Noun', 'Josa', 'Noun', 'Josa', 'Noun', 'Suffix', 'Josa', 'Noun', 'Josa', 'Noun', 'Suffix', 'Noun', 'Adjective', 'Noun', 'Josa', 'Noun', 'Verb', 'Noun', 'Josa', 'Noun', 'Josa', 'Noun', 'Noun', 'Josa', 'Noun', 'Josa', 'Noun', 'Verb', 'Noun', 'Josa', 'Adjective', 'Noun', 'Verb', 'Punctuation', 'Foreign', 'Noun', 'Number', 'Noun', 'Josa', 'Noun', 'Noun', 'Josa', 'Noun', 'Noun', 'Noun', 'Josa', 'Noun', 'Josa', 'Verb', 'Noun', 'Josa', 'Noun', 'Suffix', 'Josa', 'Noun', 'Adjective', 'Noun', 'Punctuation', 'Noun', 'Josa', 'Noun', 'Josa', 'Noun', 'Verb', 'Noun', 'Josa', 'Noun', 'Verb', 'Noun', 'Josa', 'Adjective', 'Noun', 'Josa', 'Noun', 'Josa', 'Adjective', 'Noun', 'Josa', 'Noun', 'Josa', 'Noun', 'Verb', 'Noun', 'Adjective', 'Punctuation', 'Foreign', 'Noun', 'Number', 'Foreign', 'Noun', 'Josa', 'Noun', 'Noun', 'Noun', 'Josa', 'Noun', 'Punctuation', 'Noun', 'Verb', 'Noun', 'Verb', 'Noun', 'Punctuation', 'Noun', 'Noun', 'Noun', 'Josa', 'Noun', 'Noun', 'Noun', 'Adjective', 'Noun', 'Josa', 'Noun', 'Punctuation', 'Noun', 'Verb', 'Verb', 'Punctuation', 'Foreign', 'Foreign', 'Noun', 'Josa', 'Noun', 'Suffix', 'Josa', 'Noun', 'Adjective', 'Noun', 'Josa', 'Noun', 'Verb', 'Noun', 'Noun', 'Josa', 'Noun', 'Verb', 'Noun', 'Josa', 'Verb', 'Punctuation', 'Foreign', 'Foreign', 'Noun', 'Josa', 'Noun', 'Josa', 'Noun', 'Punctuation', 'Noun', 'Verb', 'Verb', 'Punctuation', 'Foreign', 'Foreign', 'Noun', 'Josa', 'Noun', 'Noun', 'Noun', 'Noun', 'Josa', 'Noun', 'Noun', 'Josa', 'Noun', 'Josa', 'Noun', 'Verb', 'Noun', 'Noun', 'Josa', 'Noun', 'Noun', 'Josa', 'Noun', 'Punctuation', 'Noun', 'Josa', 'Noun', 'Josa', 'Noun', 'Verb', 'Punctuation', 'Foreign', 'Foreign', 'Noun', 'Josa', 'Noun', 'Punctuation', 'Noun', 'Josa', 'Noun', 'Josa', 'Noun', 'Suffix', 'Noun', 'Josa', 'Noun', 'Verb', 'Verb', 'Punctuation', 'Noun', 'Noun', 'Suffix', 'Noun', 'Josa', 'Noun', 'Josa', 'Noun', 'Verb', 'Punctuation', 'Foreign', 'Noun', 'Number', 'Noun', 'Josa', 'Adjective', 'Noun', 'Noun', 'Josa', 'Noun', 'Noun', 'Josa', 'Noun', 'Josa', 'Noun', 'Noun', 'Josa', 'Noun', 'Verb', 'Noun', 'Josa', 'Noun', 'Noun', 'Josa', 'Noun', 'Josa', 'Noun', 'Verb', 'Noun', 'Josa', 'Adjective', 'Noun', 'Verb', 'Punctuation', 'Foreign', 'Noun', 'Number', 'Noun', 'Josa', 'Noun', 'Noun', 'Josa', 'Noun', 'Verb', 'Punctuation', 'Verb', 'Noun', 'Punctuation', 'Noun', 'Verb', 'Noun', 'Adjective', 'Punctuation', 'Foreign', 'Noun', 'Number', 'Noun', 'Suffix', 'Adverb', 'Noun', 'Noun', 'Suffix', 'Verb', 'Noun', 'Josa', 'Noun', 'Josa', 'Adjective', 'Noun', 'Josa', 'Noun', 'Verb', 'Noun', 'Josa', 'Noun', 'Josa', 'Punctuation', 'Modifier', 'Modifier', 'Noun', 'Josa', 'Noun', 'Adverb', 'Noun', 'Josa', 'Determiner', 'Noun', 'Noun', 'Noun', 'Noun', 'Josa', 'Noun', 'Adverb', 'Noun', 'Verb', 'Noun', 'Adjective', 'Punctuation', 'Foreign', 'Noun', 'Number', 'Foreign', 'Noun', 'Josa', 'Noun', 'Josa', 'Noun', 'Josa', 'Noun', 'Noun', 'Noun', 'Josa', 'Noun', 'Josa', 'Noun', 'Verb', 'Noun', 'Noun', 'Josa', 'Noun', 'Josa', 'Noun', 'Verb', 'Verb', 'Punctuation', 'Foreign', 'Foreign', 'Noun', 'Josa', 'Noun', 'Noun', 'Noun', 'Josa', 'Noun', 'Verb', 'Punctuation', 'Foreign', 'Foreign', 'Noun', 'Josa', 'Noun', 'Number', 'Noun', 'Noun', 'Josa', 'Noun', 'Verb', 'Noun', 'Verb', 'Adjective', 'Noun', 'Noun', 'Josa', 'Noun', 'Noun', 'Adjective', 'Punctuation', 'Foreign', 'Noun', 'Number', 'Noun', 'Noun', 'Noun', 'Foreign', 'Noun', 'Number', 'Foreign', 'Noun', 'Suffix', 'Noun', 'Noun', 'Noun', 'Noun', 'Noun', 'Adverb', 'Noun', 'Josa', 'Noun', 'Josa', 'Noun', 'Verb', 'Punctuation', 'Foreign', 'Foreign', 'Noun', 'Josa', 'Noun', 'Noun', 'Adverb', 'Noun', 'Noun', 'Josa', 'Noun', 'Josa', 'Noun', 'Suffix', 'Noun', 'Noun', 'Noun', 'Noun', 'Noun', 'Noun', 'Josa', 'Noun', 'Josa', 'Noun', 'Noun', 'Josa', 'Noun', 'Josa', 'Adjective', 'Punctuation', 'Foreign', 'Noun', 'Number', 'Noun', 'Verb', 'Noun', 'Noun', 'Josa', 'Noun', 'Josa', 'Number', 'Noun', 'Josa', 'Noun', 'Verb', 'Noun', 'Verb', 'Verb', 'Punctuation', 'Foreign', 'Noun', 'Number', 'Foreign', 'Noun', 'Josa', 'Noun', 'Noun', 'Josa', 'Noun', 'Verb', 'Noun', 'Josa', 'Number', 'Noun', 'Josa', 'Noun', 'Verb', 'Verb', 'Punctuation', 'Noun', 'Josa', 'Noun', 'Josa', 'Noun', 'Noun', 'Number', 'Foreign', 'Number', 'Noun', 'Josa', 'Noun', 'Josa', 'Verb', 'Verb', 'Punctuation', 'Foreign', 'Foreign', 'Noun', 'Noun', 'Josa', 'Noun', 'Josa', 'Noun', 'Josa', 'Noun', 'Number', 'Noun', 'Josa', 'Noun', 'Josa', 'Verb', 'Noun', 'Noun', 'Suffix', 'Noun', 'Josa', 'Noun', 'Josa', 'Noun', 'Suffix', 'Noun', 'Josa', 'Noun', 'Josa', 'Verb', 'Verb', 'Punctuation', 'Foreign', 'Foreign', 'Noun', 'Noun', 'Josa', 'Noun', 'Number', 'Noun', 'Noun', 'Josa', 'Verb', 'Noun', 'Josa', 'Noun', 'Suffix', 'Noun', 'Noun', 'Verb', 'Punctuation', 'Noun', 'Josa', 'Noun', 'Verb', 'Noun', 'Verb', 'Verb', 'Punctuation', 'Foreign', 'Verb', 'Noun', 'Punctuation', 'Noun', 'Noun', 'Number', 'Noun', 'Punctuation', 'Number', 'Punctuation', 'Number', 'Punctuation', 'Noun', 'Noun', 'Foreign', 'Noun', 'Number', 'Noun', 'Noun', 'Josa', 'Number', 'Number', 'Number', 'Foreign', 'Noun', 'Verb', 'Punctuation', 'Noun', 'Punctuation', 'Noun', 'Noun', 'Josa', 'Noun', 'Verb', 'Noun', 'Verb', 'Adjective', 'Noun', 'Josa', 'Noun', 'Punctuation', 'Noun', 'Josa', 'Noun', 'Noun', 'Josa', 'Adjective', 'Noun', 'Noun', 'Noun', 'Josa', 'Noun', 'Noun', 'Noun', 'Noun', 'Noun', 'Josa', 'Noun', 'Josa', 'Noun', 'Josa', 'Noun', 'Noun', 'Noun', 'Noun', 'Josa', 'Verb', 'Noun', 'Adjective', 'Punctuation', 'Foreign', 'Noun', 'Number', 'Foreign', 'Noun', 'Noun', 'Josa', 'Adjective', 'Noun', 'Josa', 'Noun', 'Josa', 'Noun', 'Noun', 'Noun', 'Number', 'Noun', 'Josa', 'Noun', 'Verb', 'Punctuation', 'Foreign', 'Foreign', 'Noun', 'Noun', 'Josa', 'Adjective', 'Noun', 'Josa', 'Noun', 'Josa', 'Noun', 'Josa', 'Noun', 'Noun', 'Noun', 'Noun', 'Noun', 'Josa', 'Adverb', 'Punctuation', 'Foreign', 'Noun', 'Number', 'Foreign', 'Noun', 'Noun', 'Josa', 'Adjective', 'Noun', 'Josa', 'Noun', 'Josa', 'Noun', 'Noun', 'Noun', 'Noun', 'Number', 'Noun', 'Josa', 'Noun', 'Verb', 'Punctuation', 'Noun', 'Noun', 'Josa', 'Adjective', 'Noun', 'Verb', 'Noun', 'Josa', 'Noun', 'Josa', 'Noun', 'Josa', 'Noun', 'Noun', 'Noun', 'Noun', 'Josa', 'Adjective', 'Noun', 'Josa', 'Noun', 'Josa', 'Noun', 'Noun', 'Josa', 'Noun', 'Josa', 'Adverb', 'Punctuation', 'Foreign', 'Foreign', 'Noun', 'Noun', 'Noun', 'Noun', 'Josa', 'Noun', 'Josa', 'Noun', 'Josa', 'Noun', 'Number', 'Noun', 'Josa', 'Adjective', 'Noun', 'Josa', 'Noun', 'Josa', 'Noun', 'Noun', 'Noun', 'Josa', 'Verb', 'Punctuation', 'Foreign', 'Noun', 'Number', 'Foreign', 'Noun', 'Noun', 'Noun', 'Noun', 'Josa', 'Noun', 'Josa', 'Noun', 'Josa', 'Noun', 'Josa', 'Noun', 'Josa', 'Noun', 'Josa', 'Noun', 'Noun', 'Josa', 'Adjective', 'Noun', 'Verb', 'Noun', 'Josa', 'Verb', 'Punctuation', 'Noun', 'Punctuation', 'Noun', 'Noun', 'Josa', 'Adjective', 'Noun', 'Noun', 'Josa', 'Noun', 'Suffix', 'Noun', 'Noun', 'Verb', 'Noun', 'Josa', 'Noun', 'Suffix', 'Noun', 'Noun', 'Josa', 'Noun', 'Noun', 'Josa', 'Adjective', 'Noun', 'Suffix', 'Josa', 'Noun', 'Verb', 'Noun', 'Josa', 'Noun', 'Noun', 'Josa', 'Noun', 'Verb', 'Punctuation', 'Noun', 'Noun', 'Modifier', 'Noun', 'Josa', 'Noun', 'Josa', 'Noun', 'Josa', 'Noun', 'Suffix', 'Josa', 'Noun', 'Verb', 'Noun', 'Josa', 'Verb', 'Punctuation', 'Foreign', 'Foreign', 'Noun', 'Noun', 'Noun', 'Noun', 'Josa', 'Noun', 'Suffix', 'Josa', 'Noun', 'Josa', 'Adjective', 'Noun', 'Josa', 'Noun', 'Number', 'Noun', 'Noun', 'Josa', 'Noun', 'Josa', 'Noun', 'Josa', 'Noun', 'Noun', 'Josa', 'Adjective', 'Noun', 'Verb', 'Noun', 'Josa', 'Verb', 'Punctuation', 'Foreign', 'Foreign', 'Noun', 'Noun', 'Suffix', 'Noun', 'Josa', 'Noun', 'Adverb', 'Noun', 'Noun', 'Josa', 'Noun', 'Josa', 'Noun', 'Josa', 'Noun', 'Noun', 'Josa', 'Adjective', 'Noun', 'Noun', 'Josa', 'Noun', 'Josa', 'Noun', 'Adverb', 'Noun', 'Verb', 'Noun', 'Noun', 'Noun', 'Verb', 'Punctuation', 'Foreign', 'Noun', 'Number', 'Noun', 'Noun', 'Noun', 'Noun', 'Josa', 'Noun', 'Josa', 'Noun', 'Josa', 'Noun', 'Noun', 'Josa', 'Noun', 'Verb', 'Adjective', 'Verb', 'Noun', 'Noun', 'Josa', 'Noun', 'Josa', 'Adverb', 'Punctuation', 'Foreign', 'Noun', 'Number', 'Noun', 'Noun', 'Noun', 'Noun', 'Josa', 'Noun', 'Noun', 'Josa', 'Adjective', 'Adjective', 'Noun', 'Verb', 'Noun', 'Josa', 'Noun', 'Josa', 'Noun', 'Verb', 'Noun', 'Josa', 'Noun', 'Josa', 'Adjective', 'Noun', 'Josa', 'Noun', 'Noun', 'Josa', 'Adjective', 'Adjective', 'Noun', 'Josa', 'Noun', 'Verb', 'Noun', 'Josa', 'Noun', 'Verb', 'Noun', 'Noun', 'Josa', 'Noun', 'Verb', 'Punctuation', 'Foreign')\n"
     ]
    }
   ],
   "source": [
    "words, tags = zip(*tagged)\n",
    "print(words)\n",
    "print(tags)"
   ]
  },
  {
   "cell_type": "code",
   "execution_count": null,
   "metadata": {
    "colab": {
     "base_uri": "https://localhost:8080/"
    },
    "executionInfo": {
     "elapsed": 5,
     "status": "ok",
     "timestamp": 1701913022840,
     "user": {
      "displayName": "신은섭",
      "userId": "08402895350193765155"
     },
     "user_tz": -540
    },
    "id": "jo77GuiBqZQo",
    "outputId": "08ecefc2-b266-4401-8fd9-a5171c9cc1d1"
   },
   "outputs": [
    {
     "data": {
      "text/plain": [
       "{'Adjective': '형용사',\n",
       " 'Adverb': '부사',\n",
       " 'Alpha': '알파벳',\n",
       " 'Conjunction': '접속사',\n",
       " 'Determiner': '관형사',\n",
       " 'Eomi': '어미',\n",
       " 'Exclamation': '감탄사',\n",
       " 'Foreign': '외국어, 한자 및 기타기호',\n",
       " 'Hashtag': '트위터 해쉬태그',\n",
       " 'Josa': '조사',\n",
       " 'KoreanParticle': '(ex: ㅋㅋ)',\n",
       " 'Noun': '명사',\n",
       " 'Number': '숫자',\n",
       " 'PreEomi': '선어말어미',\n",
       " 'Punctuation': '구두점',\n",
       " 'ScreenName': '트위터 아이디',\n",
       " 'Suffix': '접미사',\n",
       " 'Unknown': '미등록어',\n",
       " 'Verb': '동사'}"
      ]
     },
     "execution_count": 55,
     "metadata": {},
     "output_type": "execute_result"
    }
   ],
   "source": [
    "okt.tagset"
   ]
  },
  {
   "cell_type": "code",
   "execution_count": null,
   "metadata": {
    "colab": {
     "base_uri": "https://localhost:8080/"
    },
    "executionInfo": {
     "elapsed": 40,
     "status": "ok",
     "timestamp": 1701825957722,
     "user": {
      "displayName": "신은섭",
      "userId": "08402895350193765155"
     },
     "user_tz": -540
    },
    "id": "0O4NSLTx77KX",
    "outputId": "fbc9c813-118b-4cd1-9258-1c6f322c516c"
   },
   "outputs": [
    {
     "name": "stdout",
     "output_type": "stream",
     "text": [
      "8796\n",
      "MAX: 9\n",
      "MEAN: 1.7107776261937244\n"
     ]
    }
   ],
   "source": [
    "words_len = [len(word) for word in words]\n",
    "print(len(words_len))\n",
    "max_len = max(words_len)\n",
    "mean_len = sum(words_len) / len(words_len)\n",
    "print(\"MAX:\", max_len)\n",
    "print(\"MEAN:\", mean_len)"
   ]
  },
  {
   "cell_type": "code",
   "execution_count": null,
   "metadata": {
    "colab": {
     "base_uri": "https://localhost:8080/",
     "height": 430
    },
    "executionInfo": {
     "elapsed": 990,
     "status": "ok",
     "timestamp": 1701825958703,
     "user": {
      "displayName": "신은섭",
      "userId": "08402895350193765155"
     },
     "user_tz": -540
    },
    "id": "zq74mqpC8kNK",
    "outputId": "456edfc0-7f40-445f-80e8-feaf88a174f6"
   },
   "outputs": [
    {
     "data": {
      "image/png": "[encoded data removed]",
      "text/plain": [
       "<Figure size 640x480 with 1 Axes>"
      ]
     },
     "metadata": {},
     "output_type": "display_data"
    }
   ],
   "source": [
    "plt.hist(words_len, bins=9)\n",
    "plt.show()"
   ]
  },
  {
   "cell_type": "code",
   "execution_count": null,
   "metadata": {
    "id": "vK5v5aDm_goc"
   },
   "outputs": [],
   "source": [
    "train_x = [torch.Tensor(text_to_sequence(word)) for word in words]"
   ]
  },
  {
   "cell_type": "code",
   "execution_count": null,
   "metadata": {
    "colab": {
     "base_uri": "https://localhost:8080/"
    },
    "executionInfo": {
     "elapsed": 696,
     "status": "ok",
     "timestamp": 1701825959395,
     "user": {
      "displayName": "신은섭",
      "userId": "08402895350193765155"
     },
     "user_tz": -540
    },
    "id": "7C1AwNkj_Sxc",
    "outputId": "cbf9826c-1006-4bd8-b5fe-46263e6d10a1"
   },
   "outputs": [
    {
     "data": {
      "text/plain": [
       "torch.Size([8796, 9])"
      ]
     },
     "execution_count": 16,
     "metadata": {},
     "output_type": "execute_result"
    }
   ],
   "source": [
    "nn.utils.rnn.pad_sequence(train_x, batch_first=True).size()"
   ]
  },
  {
   "cell_type": "code",
   "execution_count": null,
   "metadata": {
    "colab": {
     "base_uri": "https://localhost:8080/"
    },
    "executionInfo": {
     "elapsed": 5,
     "status": "ok",
     "timestamp": 1701825959396,
     "user": {
      "displayName": "신은섭",
      "userId": "08402895350193765155"
     },
     "user_tz": -540
    },
    "id": "kVbYya61ziue",
    "outputId": "d62ce606-5df9-4536-ebf6-80fd22e0809b"
   },
   "outputs": [
    {
     "data": {
      "text/plain": [
       "['Adjective',\n",
       " 'Adverb',\n",
       " 'Conjunction',\n",
       " 'Determiner',\n",
       " 'Exclamation',\n",
       " 'Foreign',\n",
       " 'Josa',\n",
       " 'Modifier',\n",
       " 'Noun',\n",
       " 'Number',\n",
       " 'Punctuation',\n",
       " 'Suffix',\n",
       " 'Verb']"
      ]
     },
     "execution_count": 17,
     "metadata": {},
     "output_type": "execute_result"
    }
   ],
   "source": [
    "class_names = list(sorted(set(tags)))\n",
    "class_names"
   ]
  },
  {
   "cell_type": "code",
   "execution_count": null,
   "metadata": {
    "id": "knMVusLx38u4"
   },
   "outputs": [],
   "source": [
    "class TokenizerDataset(Dataset):\n",
    "  def __init__(self):\n",
    "    corpus =  kolaw.open('constitution.txt').read()\n",
    "    tokenizer = Okt()\n",
    "\n",
    "    self.vocab = list(sorted(set(corpus)))\n",
    "    self.vocab.insert(0, '')\n",
    "    self.char_to_index = {char: i for i, char in enumerate(self.vocab)}\n",
    "\n",
    "    self.data, self.labels = zip(*tokenizer.pos(corpus))\n",
    "    self.data = [torch.LongTensor(self.text_to_sequence(word)) for word in self.data]\n",
    "    self.data = nn.utils.rnn.pad_sequence(self.data, batch_first=True)\n",
    "\n",
    "    self.class_names = list(sorted(set(self.labels)))\n",
    "    self.labels = [self.class_names.index(label) for label in self.labels]\n",
    "\n",
    "  def text_to_sequence(self, text):\n",
    "    return [self.char_to_index[char] for char in text]\n",
    "\n",
    "  def sequence_to_text(self, sequence):\n",
    "    if isinstance(sequence, torch.Tensor):\n",
    "      sequence = [int(i) for i in sequence]\n",
    "    return ''.join([self.vocab[i] for i in sequence])\n",
    "\n",
    "  def __getitem__(self, i):\n",
    "    return self.data[i], self.labels[i]\n",
    "\n",
    "  def __len__(self):\n",
    "    return len(self.data)"
   ]
  },
  {
   "cell_type": "code",
   "execution_count": null,
   "metadata": {
    "id": "hCX6OIUo5EG0"
   },
   "outputs": [],
   "source": [
    "dataset = TokenizerDataset()"
   ]
  },
  {
   "cell_type": "code",
   "execution_count": null,
   "metadata": {
    "colab": {
     "base_uri": "https://localhost:8080/"
    },
    "executionInfo": {
     "elapsed": 16,
     "status": "ok",
     "timestamp": 1701825962228,
     "user": {
      "displayName": "신은섭",
      "userId": "08402895350193765155"
     },
     "user_tz": -540
    },
    "id": "COiAxZV75IG1",
    "outputId": "88382159-4c94-4a58-a59c-25e84170d96f"
   },
   "outputs": [
    {
     "name": "stdout",
     "output_type": "stream",
     "text": [
      "대한민국 tensor([ 88, 350, 149,  52,   0,   0,   0,   0,   0])\n",
      "Noun 8\n"
     ]
    }
   ],
   "source": [
    "data, label = dataset[0]\n",
    "print(dataset.sequence_to_text(data), data)\n",
    "print(dataset.class_names[label], label)"
   ]
  },
  {
   "cell_type": "code",
   "execution_count": null,
   "metadata": {
    "colab": {
     "base_uri": "https://localhost:8080/"
    },
    "executionInfo": {
     "elapsed": 4244,
     "status": "ok",
     "timestamp": 1701825966461,
     "user": {
      "displayName": "신은섭",
      "userId": "08402895350193765155"
     },
     "user_tz": -540
    },
    "id": "rss_QB3QDnOj",
    "outputId": "f14f2c61-c0de-407f-f38b-d468e7839661"
   },
   "outputs": [
    {
     "name": "stdout",
     "output_type": "stream",
     "text": [
      "7036 879 881\n"
     ]
    }
   ],
   "source": [
    "def get_dataset(train=0.8, val=0.1,random_seed=827):\n",
    "  origin = TokenizerDataset()\n",
    "\n",
    "  train_samples = int(len(origin) * train)\n",
    "  val_samples = int(len(origin) * val)\n",
    "  test_samples = len(origin) - train_samples - val_samples\n",
    "\n",
    "  torch.manual_seed(random_seed)\n",
    "  trainset, valset, testset = torch.utils.data.random_split(\n",
    "    origin,\n",
    "    (train_samples, val_samples, test_samples),\n",
    "  )\n",
    "\n",
    "  return trainset, valset, testset\n",
    "\n",
    "trainset, valset, testset = get_dataset()\n",
    "print(len(trainset), len(valset), len(testset))"
   ]
  },
  {
   "cell_type": "markdown",
   "metadata": {
    "id": "rjl8djtkIMY_"
   },
   "source": [
    "### 2.3 RNN 분류기 모델"
   ]
  },
  {
   "cell_type": "code",
   "execution_count": null,
   "metadata": {
    "id": "uFmhgXuXGZNG"
   },
   "outputs": [],
   "source": [
    "class PosTagger(nn.Module):\n",
    "  def __init__(self, vocab_size, hidden_dims, layers, seq_len, classes):\n",
    "    super(PosTagger, self).__init__()\n",
    "    self.hidden_dims = hidden_dims\n",
    "    self.seq_len = seq_len\n",
    "\n",
    "    self.embedding = nn.Embedding(vocab_size, hidden_dims)\n",
    "    self.lstm = nn.LSTM(hidden_dims, hidden_dims, layers, batch_first=True)\n",
    "    self.fc = nn.Linear(hidden_dims*seq_len, classes, bias=True)\n",
    "\n",
    "  def forward(self, x):\n",
    "    x = self.embedding(x)\n",
    "    x, _ = self.lstm(x)\n",
    "    x = x.reshape((-1, self.hidden_dims * self.seq_len))\n",
    "    x = self.fc(x)\n",
    "    return x"
   ]
  },
  {
   "cell_type": "code",
   "execution_count": null,
   "metadata": {
    "colab": {
     "base_uri": "https://localhost:8080/"
    },
    "executionInfo": {
     "elapsed": 20,
     "status": "ok",
     "timestamp": 1701827463281,
     "user": {
      "displayName": "신은섭",
      "userId": "08402895350193765155"
     },
     "user_tz": -540
    },
    "id": "RY11_jkSKd9Y",
    "outputId": "686c9346-1500-47d1-fab0-6382d6b21dff"
   },
   "outputs": [
    {
     "data": {
      "text/plain": [
       "==========================================================================================\n",
       "Layer (type:depth-idx)                   Output Shape              Param #\n",
       "==========================================================================================\n",
       "PosTagger                                [2, 13]                   --\n",
       "├─Embedding: 1-1                         [2, 9, 128]               48,768\n",
       "├─LSTM: 1-2                              [2, 9, 128]               264,192\n",
       "├─Linear: 1-3                            [2, 13]                   14,989\n",
       "==========================================================================================\n",
       "Total params: 327,949\n",
       "Trainable params: 327,949\n",
       "Non-trainable params: 0\n",
       "Total mult-adds (M): 4.88\n",
       "==========================================================================================\n",
       "Input size (MB): 0.00\n",
       "Forward/backward pass size (MB): 0.04\n",
       "Params size (MB): 1.31\n",
       "Estimated Total Size (MB): 1.35\n",
       "=========================================================================================="
      ]
     },
     "execution_count": 83,
     "metadata": {},
     "output_type": "execute_result"
    }
   ],
   "source": [
    "model = PosTagger(len(dataset.vocab), 128, 2, 9, len(dataset.class_names))\n",
    "summary(model, input_data=torch.randint(0, 380, (2, 9)))"
   ]
  },
  {
   "cell_type": "markdown",
   "metadata": {
    "id": "snm7DapVDOz1"
   },
   "source": [
    "### 2.4 모델 학습"
   ]
  },
  {
   "cell_type": "code",
   "execution_count": null,
   "metadata": {
    "id": "R3bJYGnh4QWT"
   },
   "outputs": [],
   "source": [
    "def train(model, dataloader, criterion, optimizer, epoch, device):\n",
    "  model.train()\n",
    "\n",
    "  running_loss = 0\n",
    "  correct = 0\n",
    "\n",
    "  with tqdm(dataloader) as pbar:\n",
    "    for i, (data, targets) in enumerate(pbar):\n",
    "      data, targets = data.to(device), targets.to(device)\n",
    "\n",
    "      optimizer.zero_grad()\n",
    "      outputs = model(data)\n",
    "      loss = criterion(outputs, targets)\n",
    "      loss.backward()\n",
    "      optimizer.step()\n",
    "\n",
    "      running_loss += loss.item()\n",
    "      pbar.set_postfix(loss=loss.item())\n",
    "\n",
    "      with torch.no_grad():\n",
    "        _, predicted = torch.max(outputs, 1)\n",
    "        correct += predicted.eq(targets.view_as(predicted)).sum()\n",
    "\n",
    "    data_num = len(dataloader.dataset)\n",
    "    acc = 100. * correct / data_num\n",
    "\n",
    "  return running_loss/len(dataloader), acc"
   ]
  },
  {
   "cell_type": "code",
   "execution_count": null,
   "metadata": {
    "id": "blRY4gAWEQ7i"
   },
   "outputs": [],
   "source": [
    "def validation(model, dataloader, criterion, epoch, device):\n",
    "  model.eval()\n",
    "\n",
    "  correct = 0\n",
    "  running_loss = 0.\n",
    "\n",
    "  with tqdm(dataloader) as pbar:\n",
    "    with torch.no_grad():\n",
    "      for i, (data, targets) in enumerate(pbar):\n",
    "        data, targets = data.to(device), targets.to(device)\n",
    "\n",
    "        outputs = model(data)\n",
    "        loss = criterion(outputs, targets)\n",
    "\n",
    "        running_loss += loss.item()\n",
    "        pbar.set_postfix(loss=loss.item())\n",
    "\n",
    "        _, predicted = torch.max(outputs, 1)\n",
    "        correct += predicted.eq(targets.view_as(predicted)).sum()\n",
    "\n",
    "  data_num = len(dataloader.dataset)\n",
    "  acc = 100. * correct / data_num\n",
    "\n",
    "  return running_loss/len(dataloader), acc"
   ]
  },
  {
   "cell_type": "code",
   "execution_count": null,
   "metadata": {
    "colab": {
     "base_uri": "https://localhost:8080/"
    },
    "executionInfo": {
     "elapsed": 54083,
     "status": "ok",
     "timestamp": 1701827533600,
     "user": {
      "displayName": "신은섭",
      "userId": "08402895350193765155"
     },
     "user_tz": -540
    },
    "id": "z23XE9YwEZtk",
    "outputId": "675ccd17-f733-40d3-9dcb-a34677cc92bb"
   },
   "outputs": [
    {
     "name": "stdout",
     "output_type": "stream",
     "text": [
      "LR: [0.001]\n"
     ]
    },
    {
     "name": "stderr",
     "output_type": "stream",
     "text": [
      "100%|██████████| 55/55 [00:06<00:00,  8.69it/s, loss=0.664]\n"
     ]
    },
    {
     "name": "stdout",
     "output_type": "stream",
     "text": [
      "[0/10] train loss: 1.3794 train acc: 58.70%\n"
     ]
    },
    {
     "name": "stderr",
     "output_type": "stream",
     "text": [
      "100%|██████████| 7/7 [00:00<00:00, 27.43it/s, loss=0.554]\n"
     ]
    },
    {
     "name": "stdout",
     "output_type": "stream",
     "text": [
      "[0/10] valid loss: 0.5833 valid acc: 82.03%\n",
      "\n",
      "LR: [0.001]\n"
     ]
    },
    {
     "name": "stderr",
     "output_type": "stream",
     "text": [
      "100%|██████████| 55/55 [00:04<00:00, 13.27it/s, loss=0.0972]\n"
     ]
    },
    {
     "name": "stdout",
     "output_type": "stream",
     "text": [
      "[1/10] train loss: 0.3013 train acc: 91.81%\n"
     ]
    },
    {
     "name": "stderr",
     "output_type": "stream",
     "text": [
      "100%|██████████| 7/7 [00:00<00:00, 25.55it/s, loss=0.285]\n"
     ]
    },
    {
     "name": "stdout",
     "output_type": "stream",
     "text": [
      "[1/10] valid loss: 0.1976 valid acc: 95.56%\n",
      "\n",
      "LR: [0.001]\n"
     ]
    },
    {
     "name": "stderr",
     "output_type": "stream",
     "text": [
      "100%|██████████| 55/55 [00:06<00:00,  8.66it/s, loss=0.0437]\n"
     ]
    },
    {
     "name": "stdout",
     "output_type": "stream",
     "text": [
      "[2/10] train loss: 0.1234 train acc: 96.50%\n"
     ]
    },
    {
     "name": "stderr",
     "output_type": "stream",
     "text": [
      "100%|██████████| 7/7 [00:00<00:00, 11.45it/s, loss=0.216]\n"
     ]
    },
    {
     "name": "stdout",
     "output_type": "stream",
     "text": [
      "[2/10] valid loss: 0.1401 valid acc: 96.70%\n",
      "\n",
      "LR: [0.0005]\n"
     ]
    },
    {
     "name": "stderr",
     "output_type": "stream",
     "text": [
      "100%|██████████| 55/55 [00:04<00:00, 13.18it/s, loss=0.113]\n"
     ]
    },
    {
     "name": "stdout",
     "output_type": "stream",
     "text": [
      "[3/10] train loss: 0.0844 train acc: 97.90%\n"
     ]
    },
    {
     "name": "stderr",
     "output_type": "stream",
     "text": [
      "100%|██████████| 7/7 [00:00<00:00, 25.32it/s, loss=0.21]\n"
     ]
    },
    {
     "name": "stdout",
     "output_type": "stream",
     "text": [
      "[3/10] valid loss: 0.1248 valid acc: 96.81%\n",
      "\n",
      "LR: [0.0005]\n"
     ]
    },
    {
     "name": "stderr",
     "output_type": "stream",
     "text": [
      "100%|██████████| 55/55 [00:04<00:00, 13.34it/s, loss=0.103]\n"
     ]
    },
    {
     "name": "stdout",
     "output_type": "stream",
     "text": [
      "[4/10] train loss: 0.0749 train acc: 97.95%\n"
     ]
    },
    {
     "name": "stderr",
     "output_type": "stream",
     "text": [
      "100%|██████████| 7/7 [00:00<00:00, 25.08it/s, loss=0.215]\n"
     ]
    },
    {
     "name": "stdout",
     "output_type": "stream",
     "text": [
      "[4/10] valid loss: 0.1189 valid acc: 97.27%\n",
      "\n",
      "LR: [0.0005]\n"
     ]
    },
    {
     "name": "stderr",
     "output_type": "stream",
     "text": [
      "100%|██████████| 55/55 [00:05<00:00,  9.78it/s, loss=0.0424]\n"
     ]
    },
    {
     "name": "stdout",
     "output_type": "stream",
     "text": [
      "[5/10] train loss: 0.0671 train acc: 98.10%\n"
     ]
    },
    {
     "name": "stderr",
     "output_type": "stream",
     "text": [
      "100%|██████████| 7/7 [00:00<00:00, 21.58it/s, loss=0.224]\n"
     ]
    },
    {
     "name": "stdout",
     "output_type": "stream",
     "text": [
      "[5/10] valid loss: 0.1161 valid acc: 97.04%\n",
      "\n",
      "LR: [0.00025]\n"
     ]
    },
    {
     "name": "stderr",
     "output_type": "stream",
     "text": [
      "100%|██████████| 55/55 [00:03<00:00, 14.79it/s, loss=0.0533]\n"
     ]
    },
    {
     "name": "stdout",
     "output_type": "stream",
     "text": [
      "[6/10] train loss: 0.0571 train acc: 98.32%\n"
     ]
    },
    {
     "name": "stderr",
     "output_type": "stream",
     "text": [
      "100%|██████████| 7/7 [00:00<00:00, 24.93it/s, loss=0.212]\n"
     ]
    },
    {
     "name": "stdout",
     "output_type": "stream",
     "text": [
      "[6/10] valid loss: 0.1130 valid acc: 97.16%\n",
      "\n",
      "LR: [0.00025]\n"
     ]
    },
    {
     "name": "stderr",
     "output_type": "stream",
     "text": [
      "100%|██████████| 55/55 [00:04<00:00, 13.41it/s, loss=0.0577]\n"
     ]
    },
    {
     "name": "stdout",
     "output_type": "stream",
     "text": [
      "[7/10] train loss: 0.0561 train acc: 98.35%\n"
     ]
    },
    {
     "name": "stderr",
     "output_type": "stream",
     "text": [
      "100%|██████████| 7/7 [00:00<00:00, 25.54it/s, loss=0.219]\n"
     ]
    },
    {
     "name": "stdout",
     "output_type": "stream",
     "text": [
      "[7/10] valid loss: 0.1125 valid acc: 97.16%\n",
      "\n",
      "LR: [0.00025]\n"
     ]
    },
    {
     "name": "stderr",
     "output_type": "stream",
     "text": [
      "100%|██████████| 55/55 [00:05<00:00, 10.35it/s, loss=0.163]\n"
     ]
    },
    {
     "name": "stdout",
     "output_type": "stream",
     "text": [
      "[8/10] train loss: 0.0514 train acc: 98.35%\n"
     ]
    },
    {
     "name": "stderr",
     "output_type": "stream",
     "text": [
      "100%|██████████| 7/7 [00:00<00:00, 17.86it/s, loss=0.216]\n"
     ]
    },
    {
     "name": "stdout",
     "output_type": "stream",
     "text": [
      "[8/10] valid loss: 0.1114 valid acc: 97.04%\n",
      "\n",
      "LR: [0.000125]\n"
     ]
    },
    {
     "name": "stderr",
     "output_type": "stream",
     "text": [
      "100%|██████████| 55/55 [00:04<00:00, 12.70it/s, loss=0.0526]\n"
     ]
    },
    {
     "name": "stdout",
     "output_type": "stream",
     "text": [
      "[9/10] train loss: 0.0479 train acc: 98.44%\n"
     ]
    },
    {
     "name": "stderr",
     "output_type": "stream",
     "text": [
      "100%|██████████| 7/7 [00:00<00:00, 26.39it/s, loss=0.233]\n"
     ]
    },
    {
     "name": "stdout",
     "output_type": "stream",
     "text": [
      "[9/10] valid loss: 0.1161 valid acc: 97.16%\n",
      "\n"
     ]
    }
   ],
   "source": [
    "EPOCH = 10\n",
    "BATCH_SIZE = 128\n",
    "NUM_WORKERS = 1\n",
    "LR = 0.001\n",
    "\n",
    "trainset, valset, testset = get_dataset()\n",
    "\n",
    "# dataloader\n",
    "train_loader = DataLoader(\n",
    "  dataset=trainset,\n",
    "  shuffle=True,\n",
    "  batch_size=BATCH_SIZE,\n",
    "  num_workers=NUM_WORKERS,\n",
    ")\n",
    "val_loader = DataLoader(\n",
    "  dataset=valset,\n",
    "  batch_size=BATCH_SIZE,\n",
    "  num_workers=NUM_WORKERS,\n",
    ")\n",
    "test_loader = DataLoader(\n",
    "  dataset=testset,\n",
    "  batch_size=BATCH_SIZE,\n",
    "  num_workers=NUM_WORKERS,\n",
    ")\n",
    "\n",
    "vocab_len = len(trainset.dataset.vocab)\n",
    "classes = len(trainset.dataset.class_names)\n",
    "model = PosTagger(vocab_len, 128, 2, 9, classes)\n",
    "\n",
    "# Optimizer, Loss, Scheduler\n",
    "optimizer = optim.Adam(model.parameters(), lr=LR)\n",
    "criterion = nn.CrossEntropyLoss()\n",
    "scheduler = optim.lr_scheduler.StepLR(optimizer, step_size=3, gamma=0.5)\n",
    "\n",
    "model = model.to(device)\n",
    "criterion = criterion.to(device)\n",
    "\n",
    "max_acc = 0\n",
    "# Start Training\n",
    "for epoch in range(EPOCH):\n",
    "  print(\"LR:\", scheduler.get_last_lr())\n",
    "\n",
    "  tloss, tacc = train(model, train_loader, criterion, optimizer, epoch, device)\n",
    "  print(f\"[{epoch}/{EPOCH}] train loss: {tloss:.4f} train acc: {tacc:.2f}%\")\n",
    "  vloss, vacc = validation(model, val_loader, criterion, epoch, device)\n",
    "  print(f\"[{epoch}/{EPOCH}] valid loss: {vloss:.4f} valid acc: {vacc:.2f}%\\n\")\n",
    "\n",
    "  scheduler.step()\n",
    "\n",
    "  if vacc > max_acc:\n",
    "    torch.save(model.state_dict(), \"best.pth\")"
   ]
  },
  {
   "cell_type": "code",
   "execution_count": null,
   "metadata": {
    "colab": {
     "base_uri": "https://localhost:8080/"
    },
    "executionInfo": {
     "elapsed": 627,
     "status": "ok",
     "timestamp": 1701827534212,
     "user": {
      "displayName": "신은섭",
      "userId": "08402895350193765155"
     },
     "user_tz": -540
    },
    "id": "Uc-GLeRXPI8Q",
    "outputId": "cac569b2-ee6e-4dec-927a-1545eb9965d8"
   },
   "outputs": [
    {
     "name": "stderr",
     "output_type": "stream",
     "text": [
      "100%|██████████| 7/7 [00:00<00:00, 25.04it/s, loss=0.0854]"
     ]
    },
    {
     "name": "stdout",
     "output_type": "stream",
     "text": [
      "\n",
      "[TEST] loss: 0.0812 acc: 97.16%\n"
     ]
    },
    {
     "name": "stderr",
     "output_type": "stream",
     "text": [
      "\n"
     ]
    }
   ],
   "source": [
    "tloss, tacc = validation(model, test_loader, criterion, epoch, device)\n",
    "print(f\"\\n[TEST] loss: {tloss:.4f} acc: {tacc:.2f}%\")"
   ]
  },
  {
   "cell_type": "code",
   "execution_count": null,
   "metadata": {
    "id": "j_JXokiPvq0S"
   },
   "outputs": [],
   "source": [
    "def inference(text, dataset, model):\n",
    "  input = dataset.text_to_sequence(text)\n",
    "  input = torch.nn.functional.pad(torch.LongTensor(input), (0, 9-len(input)))\n",
    "  logit = model(input)\n",
    "  output = torch.argmax(logit)\n",
    "  return dataset.class_names[output.item()]"
   ]
  },
  {
   "cell_type": "code",
   "execution_count": null,
   "metadata": {
    "colab": {
     "base_uri": "https://localhost:8080/"
    },
    "executionInfo": {
     "elapsed": 1108,
     "status": "ok",
     "timestamp": 1701827535318,
     "user": {
      "displayName": "신은섭",
      "userId": "08402895350193765155"
     },
     "user_tz": -540
    },
    "id": "4fLN0n7zuivS",
    "outputId": "b7e4ef24-db1b-447e-97d6-d5a8614e5220"
   },
   "outputs": [
    {
     "data": {
      "text/plain": [
       "<All keys matched successfully>"
      ]
     },
     "execution_count": 87,
     "metadata": {},
     "output_type": "execute_result"
    }
   ],
   "source": [
    "dataset = TokenizerDataset()\n",
    "\n",
    "vocab_len = len(dataset.vocab)\n",
    "classes = len(dataset.class_names)\n",
    "model = PosTagger(vocab_len, 128, 2, 9, classes)\n",
    "model.load_state_dict(torch.load(\"best.pth\"))"
   ]
  },
  {
   "cell_type": "code",
   "execution_count": null,
   "metadata": {
    "colab": {
     "base_uri": "https://localhost:8080/",
     "height": 36
    },
    "executionInfo": {
     "elapsed": 13,
     "status": "ok",
     "timestamp": 1701827535318,
     "user": {
      "displayName": "신은섭",
      "userId": "08402895350193765155"
     },
     "user_tz": -540
    },
    "id": "0qhvMmQxwj63",
    "outputId": "20adeb36-e5a5-43e4-eaec-f8be6384ea72"
   },
   "outputs": [
    {
     "data": {
      "application/vnd.google.colaboratory.intrinsic+json": {
       "type": "string"
      },
      "text/plain": [
       "'Noun'"
      ]
     },
     "execution_count": 88,
     "metadata": {},
     "output_type": "execute_result"
    }
   ],
   "source": [
    "print(inference(\"모든\", dataset, model))\n",
    "print(inference(\"권력\", dataset, model))\n",
    "print(inference(\"은\", dataset, model))\n",
    "print(inference(\"국민\", dataset, model))\n",
    "print(inference(\"으로부터\", dataset, model))\n",
    "print(inference(\"나온다\", dataset, model))"
   ]
  },
  {
   "cell_type": "code",
   "execution_count": null,
   "metadata": {
    "colab": {
     "base_uri": "https://localhost:8080/",
     "height": 36
    },
    "executionInfo": {
     "elapsed": 11,
     "status": "ok",
     "timestamp": 1701827535318,
     "user": {
      "displayName": "신은섭",
      "userId": "08402895350193765155"
     },
     "user_tz": -540
    },
    "id": "aQAe_Nm5wm5M",
    "outputId": "a07491f9-bb73-4ec7-eaf6-33a5d5f8cccc"
   },
   "outputs": [
    {
     "data": {
      "application/vnd.google.colaboratory.intrinsic+json": {
       "type": "string"
      },
      "text/plain": [
       "'Noun'"
      ]
     },
     "execution_count": 89,
     "metadata": {},
     "output_type": "execute_result"
    }
   ],
   "source": []
  },
  {
   "cell_type": "code",
   "execution_count": null,
   "metadata": {
    "colab": {
     "base_uri": "https://localhost:8080/",
     "height": 36
    },
    "executionInfo": {
     "elapsed": 10,
     "status": "ok",
     "timestamp": 1701827535318,
     "user": {
      "displayName": "신은섭",
      "userId": "08402895350193765155"
     },
     "user_tz": -540
    },
    "id": "54rqg99ayoWD",
    "outputId": "b2a51f68-bd82-4c46-8be7-3aec435211e2"
   },
   "outputs": [
    {
     "data": {
      "application/vnd.google.colaboratory.intrinsic+json": {
       "type": "string"
      },
      "text/plain": [
       "'Noun'"
      ]
     },
     "execution_count": 91,
     "metadata": {},
     "output_type": "execute_result"
    }
   ],
   "source": []
  },
  {
   "cell_type": "code",
   "execution_count": null,
   "metadata": {
    "colab": {
     "base_uri": "https://localhost:8080/",
     "height": 36
    },
    "executionInfo": {
     "elapsed": 9,
     "status": "ok",
     "timestamp": 1701827535318,
     "user": {
      "displayName": "신은섭",
      "userId": "08402895350193765155"
     },
     "user_tz": -540
    },
    "id": "nmBxm3d3y-nt",
    "outputId": "73c7883d-92bd-4d21-e7ab-13339183c4fc"
   },
   "outputs": [
    {
     "data": {
      "application/vnd.google.colaboratory.intrinsic+json": {
       "type": "string"
      },
      "text/plain": [
       "'Josa'"
      ]
     },
     "execution_count": 92,
     "metadata": {},
     "output_type": "execute_result"
    }
   ],
   "source": []
  },
  {
   "cell_type": "code",
   "execution_count": null,
   "metadata": {
    "colab": {
     "base_uri": "https://localhost:8080/",
     "height": 36
    },
    "executionInfo": {
     "elapsed": 9,
     "status": "ok",
     "timestamp": 1701827535318,
     "user": {
      "displayName": "신은섭",
      "userId": "08402895350193765155"
     },
     "user_tz": -540
    },
    "id": "e2b53NivzKPn",
    "outputId": "a2d26158-93cb-4e3b-e98e-7cf7363a2703"
   },
   "outputs": [
    {
     "data": {
      "application/vnd.google.colaboratory.intrinsic+json": {
       "type": "string"
      },
      "text/plain": [
       "'Verb'"
      ]
     },
     "execution_count": 93,
     "metadata": {},
     "output_type": "execute_result"
    }
   ],
   "source": []
  }
 ],
 "metadata": {
  "colab": {
   "authorship_tag": "ABX9TyOMVjQgd7phZoDnmiZgruQ+",
   "provenance": []
  },
  "kernelspec": {
   "display_name": "Python 3",
   "name": "python3"
  },
  "language_info": {
   "name": "python"
  }
 },
 "nbformat": 4,
 "nbformat_minor": 0
}
