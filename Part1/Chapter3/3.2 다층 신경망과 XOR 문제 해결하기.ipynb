{
 "cells": [
  {
   "cell_type": "markdown",
   "metadata": {},
   "source": [
    "# 다층 신경망과 XOR 문제 해결하기"
   ]
  },
  {
   "cell_type": "code",
   "execution_count": 7,
   "metadata": {},
   "outputs": [
    {
     "data": {
      "text/plain": [
       "(1, 1, 1, 0)"
      ]
     },
     "execution_count": 7,
     "metadata": {},
     "output_type": "execute_result"
    }
   ],
   "source": [
    "def NAND_gate(x1, x2):\n",
    "  # weights\n",
    "  w1 = -0.5\n",
    "  w2 = -0.5\n",
    "  bias = 0.6\n",
    "\n",
    "  # forward\n",
    "  result = x1*w1 + x2*w2 + bias\n",
    "\n",
    "  # activation\n",
    "  if result > 0:\n",
    "    return 1\n",
    "  else:\n",
    "    return 0\n",
    "\n",
    "NAND_gate(0, 0), NAND_gate(0, 1), NAND_gate(1, 0), NAND_gate(1, 1)"
   ]
  },
  {
   "cell_type": "code",
   "execution_count": 2,
   "metadata": {},
   "outputs": [],
   "source": [
    "def OR_gate(x1, x2):\n",
    "  # weights\n",
    "  w1 = 0.5\n",
    "  w2 = 0.5\n",
    "  bias = -0.2\n",
    "\n",
    "  # forward\n",
    "  result = x1*w1 + x2*w2 + bias\n",
    "\n",
    "  # activation\n",
    "  if result > 0:\n",
    "    return 1\n",
    "  else:\n",
    "    return 0"
   ]
  },
  {
   "cell_type": "code",
   "execution_count": 3,
   "metadata": {},
   "outputs": [],
   "source": [
    "def step_function(x):\n",
    "  return 1 if x > 0 else 0\n",
    "\n",
    "def layer1(x1, x2):\n",
    "  # weights\n",
    "  # NAND\n",
    "  w00 = -0.5\n",
    "  w01 = -0.5\n",
    "  b0 = 0.6\n",
    "  # OR\n",
    "  w10 = 0.6\n",
    "  w11 = 0.6\n",
    "  b1 = -0.5\n",
    "\n",
    "  # forward\n",
    "  result0 = x1*w00 + x2*w01 + b0\n",
    "  result1 = x1*w10 + x2*w11 + b1\n",
    "\n",
    "  # activation\n",
    "  result0 = step_function(result0)\n",
    "  result1 = step_function(result1)\n",
    "\n",
    "  return result0, result1"
   ]
  },
  {
   "cell_type": "code",
   "execution_count": 8,
   "metadata": {},
   "outputs": [
    {
     "data": {
      "text/plain": [
       "(0, 1, 1, 0)"
      ]
     },
     "execution_count": 8,
     "metadata": {},
     "output_type": "execute_result"
    }
   ],
   "source": [
    "def layer2(x1, x2):\n",
    "  # weights\n",
    "  # AND\n",
    "  w0 = 0.5\n",
    "  w1 = 0.5\n",
    "  bias = -0.7\n",
    "\n",
    "  # forward\n",
    "  result = x1*w0 + x2*w1 + bias\n",
    "\n",
    "  # activation\n",
    "  return step_function(result)\n",
    "\n",
    "def XOR_MLP(x1, x2):\n",
    "  x1, x2 = layer1(x1, x2)\n",
    "  y = layer2(x1, x2)\n",
    "  return y\n",
    "\n",
    "XOR_MLP(0, 0), XOR_MLP(0, 1), XOR_MLP(1, 0), XOR_MLP(1, 1)"
   ]
  }
 ],
 "metadata": {
  "kernelspec": {
   "display_name": ".venv",
   "language": "python",
   "name": "python3"
  },
  "language_info": {
   "codemirror_mode": {
    "name": "ipython",
    "version": 3
   },
   "file_extension": ".py",
   "mimetype": "text/x-python",
   "name": "python",
   "nbconvert_exporter": "python",
   "pygments_lexer": "ipython3",
   "version": "3.12.2"
  }
 },
 "nbformat": 4,
 "nbformat_minor": 2
}
