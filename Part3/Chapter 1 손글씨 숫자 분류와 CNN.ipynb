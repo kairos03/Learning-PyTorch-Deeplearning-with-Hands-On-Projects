{
 "cells": [
  {
   "cell_type": "markdown",
   "metadata": {
    "id": "GuxIE3lEbFAG"
   },
   "source": [
    "# 딥러닝의 기본 이미지 분류하기\n",
    "## Chapter 1 손글씨 숫자 분류와 CNN"
   ]
  },
  {
   "cell_type": "markdown",
   "metadata": {
    "id": "oOAfbVPlFV7o"
   },
   "source": [
    "### 1.5 학습 준비"
   ]
  },
  {
   "cell_type": "code",
   "execution_count": 1,
   "metadata": {
    "executionInfo": {
     "elapsed": 6724,
     "status": "ok",
     "timestamp": 1704292581017,
     "user": {
      "displayName": "신은섭",
      "userId": "08402895350193765155"
     },
     "user_tz": -540
    },
    "id": "cP_A8CMyFJxy"
   },
   "outputs": [],
   "source": [
    "import random\n",
    "\n",
    "import torch\n",
    "import torch.nn as nn\n",
    "from torch import optim\n",
    "from torch.utils.data import DataLoader\n",
    "from torchvision import datasets, transforms\n",
    "import numpy as np\n",
    "\n",
    "import matplotlib.pyplot as plt"
   ]
  },
  {
   "cell_type": "code",
   "execution_count": null,
   "metadata": {
    "colab": {
     "base_uri": "https://localhost:8080/"
    },
    "executionInfo": {
     "elapsed": 7,
     "status": "ok",
     "timestamp": 1704292581017,
     "user": {
      "displayName": "신은섭",
      "userId": "08402895350193765155"
     },
     "user_tz": -540
    },
    "id": "54CRw59nbCeh",
    "outputId": "5d341a5e-c162-4ae7-ff86-2e0467efae93"
   },
   "outputs": [],
   "source": [
    "is_cuda = torch.cuda.is_available()   # GPU가 사용가능한지\n",
    "device = torch.device(\"cuda\" if is_cuda else \"cpu\") # GPU가 사용가능하다면 GPU를 사용 아니면 CPU 사용\n",
    "print(is_cuda, device)"
   ]
  },
  {
   "cell_type": "code",
   "execution_count": 3,
   "metadata": {
    "executionInfo": {
     "elapsed": 5,
     "status": "ok",
     "timestamp": 1704292581017,
     "user": {
      "displayName": "신은섭",
      "userId": "08402895350193765155"
     },
     "user_tz": -540
    },
    "id": "q8EZ1n13EW1E"
   },
   "outputs": [],
   "source": [
    "seed = 1010\n",
    "random.seed(seed)         # python seed\n",
    "np.random.seed(seed)      # numpy seed\n",
    "torch.manual_seed(seed)   # torch seed\n",
    "if device == 'cuda':\n",
    "  torch.cuda.manual_seed_all(seed)  # gpu seed"
   ]
  },
  {
   "cell_type": "markdown",
   "metadata": {},
   "source": [
    "### 1.6 MNIST 데이터셋"
   ]
  },
  {
   "cell_type": "code",
   "execution_count": 4,
   "metadata": {
    "executionInfo": {
     "elapsed": 4,
     "status": "ok",
     "timestamp": 1704292581017,
     "user": {
      "displayName": "신은섭",
      "userId": "08402895350193765155"
     },
     "user_tz": -540
    },
    "id": "ceAEgL9YEayG"
   },
   "outputs": [],
   "source": [
    "from torch.utils.data import random_split\n",
    "\n",
    "\n",
    "def get_mnist_dataloaders(batch_size, val=0.2, num_workers=0):\n",
    "  transform = transforms.Compose([\n",
    "    transforms.ToTensor(),\n",
    "  ])\n",
    "\n",
    "  # split\n",
    "  mnist_train_origin = datasets.MNIST(\n",
    "      root='MNIST/',\n",
    "      train=True,\n",
    "      download=True,\n",
    "      transform=transform,\n",
    "  )\n",
    "  val_samples = int(len(mnist_train_origin) * val)\n",
    "  train_samples = len(mnist_train_origin) - val_samples\n",
    "\n",
    "  # dataset\n",
    "  mnist_train, mnist_val = random_split(\n",
    "      mnist_train_origin,\n",
    "       (train_samples, val_samples),\n",
    "  )\n",
    "  mnist_test = datasets.MNIST(\n",
    "      root='MNIST/',\n",
    "      train=False,\n",
    "      download=True,\n",
    "      transform=transform,\n",
    "  )\n",
    "\n",
    "  # dataloader\n",
    "  train_loader = DataLoader(\n",
    "      dataset=mnist_train,\n",
    "      batch_size=batch_size,\n",
    "      drop_last=True,\n",
    "      shuffle=True,\n",
    "      num_workers=num_workers,\n",
    "  )\n",
    "  val_loader = DataLoader(\n",
    "      dataset=mnist_val,\n",
    "      batch_size=batch_size,\n",
    "      num_workers=num_workers,\n",
    "  )\n",
    "  test_loader = DataLoader(\n",
    "      dataset=mnist_test,\n",
    "      batch_size=batch_size,\n",
    "      num_workers=num_workers,\n",
    "  )\n",
    "\n",
    "  return train_loader, val_loader, test_loader"
   ]
  },
  {
   "cell_type": "markdown",
   "metadata": {
    "id": "1J6voyENf8Wg"
   },
   "source": [
    "### 1.7 LeNet"
   ]
  },
  {
   "cell_type": "code",
   "execution_count": 5,
   "metadata": {
    "executionInfo": {
     "elapsed": 499,
     "status": "ok",
     "timestamp": 1704292642281,
     "user": {
      "displayName": "신은섭",
      "userId": "08402895350193765155"
     },
     "user_tz": -540
    },
    "id": "LOg4x9Kxvr97"
   },
   "outputs": [],
   "source": [
    "class LeNet(nn.Module):\n",
    "  def __init__(self):\n",
    "    super(LeNet, self).__init__()\n",
    "    self.conv1 = nn.Conv2d(1, 6, kernel_size=5)\n",
    "    self.conv2 = nn.Conv2d(6, 16, kernel_size=5)\n",
    "    self.pool = nn.MaxPool2d(2, 2)\n",
    "    self.fc1 = nn.Linear(16 * 4 * 4, 120)\n",
    "    self.fc2 = nn.Linear(120, 84)\n",
    "    self.fc3 = nn.Linear(84, 10)\n",
    "    self.relu = nn.ReLU()\n",
    "\n",
    "  def forward(self, x):\n",
    "    x = self.relu(self.conv1(x))\n",
    "    x = self.pool(x)\n",
    "    x = self.relu(self.conv2(x))\n",
    "    x = self.pool(x)\n",
    "    x = x.view(x.size(0), -1)\n",
    "    x = self.relu(self.fc1(x))\n",
    "    x = self.relu(self.fc2(x))\n",
    "    x = self.fc3(x)\n",
    "    return x"
   ]
  },
  {
   "cell_type": "markdown",
   "metadata": {},
   "source": [
    "### 1.8 학습, 검증, 테스트"
   ]
  },
  {
   "cell_type": "code",
   "execution_count": 6,
   "metadata": {
    "executionInfo": {
     "elapsed": 4,
     "status": "ok",
     "timestamp": 1704292581017,
     "user": {
      "displayName": "신은섭",
      "userId": "08402895350193765155"
     },
     "user_tz": -540
    },
    "id": "-DAIeVsoEdZY"
   },
   "outputs": [],
   "source": [
    "def train(model, dataloader, criterion, optimizer, epoch):\n",
    "  # train mode\n",
    "  model.train()\n",
    "\n",
    "  # 학습 통계\n",
    "  running_loss = 0\n",
    "  correct = 0\n",
    "\n",
    "  for i, (data, targets) in enumerate(dataloader):\n",
    "    data.to(device), targets.to(device)   # data device로 이동\n",
    "\n",
    "    optimizer.zero_grad()       # gradient 초기화\n",
    "    outputs = model(data)       # forward\n",
    "    loss = criterion(outputs, targets)    # loss 계산\n",
    "    loss.backward()             # gradient 계산\n",
    "    optimizer.step()            # weight update\n",
    "\n",
    "    running_loss += loss.item()\n",
    "\n",
    "    # Accuracy 계산\n",
    "    _, predicted = torch.max(outputs, 1)\n",
    "    correct += predicted.eq(targets.view_as(predicted)).sum()\n",
    "\n",
    "  # Accuracy 출력\n",
    "  data_num = len(dataloader.dataset)\n",
    "  acc = 100. * correct / data_num\n",
    "  print(\n",
    "      f\"[{epoch}/{EPOCH}]\",\n",
    "      f\"train loss: {running_loss/len(dataloader):.4f}\",\n",
    "      f\"train acc: {correct}/{data_num} ({acc:.2f}%)\"\n",
    "  )\n",
    "\n",
    "  return running_loss/len(dataloader)"
   ]
  },
  {
   "cell_type": "code",
   "execution_count": 7,
   "metadata": {
    "executionInfo": {
     "elapsed": 4,
     "status": "ok",
     "timestamp": 1704292581017,
     "user": {
      "displayName": "신은섭",
      "userId": "08402895350193765155"
     },
     "user_tz": -540
    },
    "id": "VqBi1DQ-ExtF"
   },
   "outputs": [],
   "source": [
    "def validation(model, dataloader, criterion, epoch):\n",
    "  # eval 모드\n",
    "  model.eval()\n",
    "\n",
    "  # 검증 통계\n",
    "  correct = 0\n",
    "  running_loss = 0.\n",
    "\n",
    "  with torch.no_grad():   # gradient 계산 안하기\n",
    "    for i, (data, targets) in enumerate(dataloader):\n",
    "      data.to(device), targets.to(device)   # data device로 이동\n",
    "\n",
    "      outputs = model(data)               # forward\n",
    "      loss = criterion(outputs, targets)  # loss 계산\n",
    "\n",
    "      running_loss += loss.item()\n",
    "\n",
    "      # Accuracy 계산\n",
    "      _, predicted = torch.max(outputs, 1)\n",
    "      correct += predicted.eq(targets.view_as(predicted)).sum()\n",
    "\n",
    "  # Accuracy 계산\n",
    "  data_num = len(dataloader.dataset)\n",
    "  acc = 100. * correct / data_num\n",
    "  print(f'[{epoch}/{EPOCH}] valid loss: {running_loss/len(dataloader):.4f} valid acc: {correct}/{data_num} ({acc:.2f}%)\\n')\n",
    "\n",
    "  return running_loss/len(dataloader)"
   ]
  },
  {
   "cell_type": "code",
   "execution_count": 8,
   "metadata": {
    "executionInfo": {
     "elapsed": 4,
     "status": "ok",
     "timestamp": 1704292581017,
     "user": {
      "displayName": "신은섭",
      "userId": "08402895350193765155"
     },
     "user_tz": -540
    },
    "id": "pRPNiJrXEzcD"
   },
   "outputs": [],
   "source": [
    "def test(model, dataloader):\n",
    "  # eval 모드\n",
    "  model.eval()\n",
    "\n",
    "  # 테스트 통계\n",
    "  correct = 0\n",
    "\n",
    "  with torch.no_grad():\n",
    "    for data, targets in dataloader:\n",
    "      data.to(device), targets.to(device)\n",
    "\n",
    "      outputs = model(data)    # forward\n",
    "\n",
    "      # Accuracy 계산\n",
    "      _, predicted = torch.max(outputs, 1)\n",
    "      correct += predicted.eq(targets.view_as(predicted)).sum()\n",
    "\n",
    "  # Accuracy 계산\n",
    "  data_num = len(dataloader.dataset)\n",
    "  print(f'Test Accuracy: {correct}/{data_num} ({100. * correct / data_num:.2f}%)')"
   ]
  },
  {
   "cell_type": "code",
   "execution_count": 9,
   "metadata": {
    "colab": {
     "base_uri": "https://localhost:8080/"
    },
    "executionInfo": {
     "elapsed": 96608,
     "status": "ok",
     "timestamp": 1704292740445,
     "user": {
      "displayName": "신은섭",
      "userId": "08402895350193765155"
     },
     "user_tz": -540
    },
    "id": "PDt3paqGE560",
    "outputId": "9d74f454-648e-487e-ccec-050685c0eae5"
   },
   "outputs": [
    {
     "name": "stdout",
     "output_type": "stream",
     "text": [
      "LeNet(\n",
      "  (conv1): Conv2d(1, 6, kernel_size=(5, 5), stride=(1, 1))\n",
      "  (conv2): Conv2d(6, 16, kernel_size=(5, 5), stride=(1, 1))\n",
      "  (pool): MaxPool2d(kernel_size=2, stride=2, padding=0, dilation=1, ceil_mode=False)\n",
      "  (fc1): Linear(in_features=256, out_features=120, bias=True)\n",
      "  (fc2): Linear(in_features=120, out_features=84, bias=True)\n",
      "  (fc3): Linear(in_features=84, out_features=10, bias=True)\n",
      "  (relu): ReLU()\n",
      ")\n"
     ]
    },
    {
     "name": "stderr",
     "output_type": "stream",
     "text": [
      "100.0%\n",
      "100.0%\n",
      "100.0%\n",
      "100.0%\n"
     ]
    },
    {
     "name": "stdout",
     "output_type": "stream",
     "text": [
      "[0/5] train loss: 0.2647 train acc: 43929/48000 (91.52%)\n",
      "[0/5] valid loss: 0.1105 valid acc: 11582/12000 (96.52%)\n",
      "\n",
      "[1/5] train loss: 0.0869 train acc: 46676/48000 (97.24%)\n",
      "[1/5] valid loss: 0.0658 valid acc: 11749/12000 (97.91%)\n",
      "\n",
      "[2/5] train loss: 0.0603 train acc: 47073/48000 (98.07%)\n",
      "[2/5] valid loss: 0.0572 valid acc: 11792/12000 (98.27%)\n",
      "\n",
      "[3/5] train loss: 0.0491 train acc: 47253/48000 (98.44%)\n",
      "[3/5] valid loss: 0.0482 valid acc: 11837/12000 (98.64%)\n",
      "\n",
      "[4/5] train loss: 0.0394 train acc: 47385/48000 (98.72%)\n",
      "[4/5] valid loss: 0.0433 valid acc: 11852/12000 (98.77%)\n",
      "\n",
      "Test Accuracy: 9889/10000 (98.89%)\n"
     ]
    }
   ],
   "source": [
    "# Hyperparameters\n",
    "# Training\n",
    "EPOCH = 5\n",
    "BATCH_SIZE = 32\n",
    "NUM_WORKERS = 1\n",
    "LR = 0.001\n",
    "\n",
    "# Model\n",
    "model = LeNet()\n",
    "print(model)\n",
    "\n",
    "# MNIST dataloader\n",
    "train_loader, val_loader, test_loader = \\\n",
    "get_mnist_dataloaders(BATCH_SIZE, val=0.2, num_workers=NUM_WORKERS)\n",
    "\n",
    "# Loss, Optimizer 정의\n",
    "criterion = nn.CrossEntropyLoss()\n",
    "optimizer = optim.Adam(model.parameters(), lr=LR)\n",
    "\n",
    "train_losses = []\n",
    "val_losses = []\n",
    "\n",
    "for epoch in range(EPOCH):\n",
    "  tloss = train(model, train_loader, criterion, optimizer, epoch)\n",
    "  vloss = validation(model, val_loader, criterion, epoch)\n",
    "\n",
    "  train_losses.append(tloss)\n",
    "  val_losses.append(vloss)\n",
    "\n",
    "test(model, test_loader)"
   ]
  },
  {
   "cell_type": "code",
   "execution_count": 10,
   "metadata": {
    "executionInfo": {
     "elapsed": 3,
     "status": "aborted",
     "timestamp": 1704292582083,
     "user": {
      "displayName": "신은섭",
      "userId": "08402895350193765155"
     },
     "user_tz": -540
    },
    "id": "BF_OJCA7Fcx1"
   },
   "outputs": [
    {
     "data": {
      "text/plain": [
       "[<matplotlib.lines.Line2D at 0x12a71f680>]"
      ]
     },
     "execution_count": 10,
     "metadata": {},
     "output_type": "execute_result"
    },
    {
     "data": {
      "image/png": "[encoded data removed]",
      "text/plain": [
       "<Figure size 640x480 with 1 Axes>"
      ]
     },
     "metadata": {},
     "output_type": "display_data"
    }
   ],
   "source": [
    "import matplotlib.pyplot as plt\n",
    "\n",
    "plt.plot(train_losses)\n",
    "plt.plot(val_losses)"
   ]
  }
 ],
 "metadata": {
  "accelerator": "GPU",
  "colab": {
   "provenance": []
  },
  "kernelspec": {
   "display_name": ".venv",
   "language": "python",
   "name": "python3"
  },
  "language_info": {
   "codemirror_mode": {
    "name": "ipython",
    "version": 3
   },
   "file_extension": ".py",
   "mimetype": "text/x-python",
   "name": "python",
   "nbconvert_exporter": "python",
   "pygments_lexer": "ipython3",
   "version": "3.12.2"
  }
 },
 "nbformat": 4,
 "nbformat_minor": 0
}
