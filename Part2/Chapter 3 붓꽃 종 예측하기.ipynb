{
 "cells": [
  {
   "cell_type": "markdown",
   "metadata": {
    "id": "y1u0P8LM0VuN"
   },
   "source": [
    "# Part 2. 딥러닝 몸풀기\n",
    "## Chapter 3. 붓꽃 종 예측하기"
   ]
  },
  {
   "cell_type": "markdown",
   "metadata": {
    "id": "Rjrwk6iUudFa"
   },
   "source": [
    "### 3.1 데이터 살펴보기"
   ]
  },
  {
   "cell_type": "code",
   "execution_count": 1,
   "metadata": {
    "executionInfo": {
     "elapsed": 3,
     "status": "aborted",
     "timestamp": 1704290479110,
     "user": {
      "displayName": "신은섭",
      "userId": "08402895350193765155"
     },
     "user_tz": -540
    },
    "id": "6n5hBms5oWvo"
   },
   "outputs": [
    {
     "data": {
      "text/plain": [
       "dict_keys(['data', 'target', 'frame', 'target_names', 'DESCR', 'feature_names', 'filename', 'data_module'])"
      ]
     },
     "execution_count": 1,
     "metadata": {},
     "output_type": "execute_result"
    }
   ],
   "source": [
    "from sklearn.datasets import load_iris\n",
    "\n",
    "dataset = load_iris()\n",
    "dataset.keys()"
   ]
  },
  {
   "cell_type": "code",
   "execution_count": 2,
   "metadata": {
    "executionInfo": {
     "elapsed": 3,
     "status": "aborted",
     "timestamp": 1704290479110,
     "user": {
      "displayName": "신은섭",
      "userId": "08402895350193765155"
     },
     "user_tz": -540
    },
    "id": "xdFvfQfbyNIC"
   },
   "outputs": [
    {
     "name": "stdout",
     "output_type": "stream",
     "text": [
      ".. _iris_dataset:\n",
      "\n",
      "Iris plants dataset\n",
      "--------------------\n",
      "\n",
      "**Data Set Characteristics:**\n",
      "\n",
      ":Number of Instances: 150 (50 in each of three classes)\n",
      ":Number of Attributes: 4 numeric, predictive attributes and the class\n",
      ":Attribute Information:\n",
      "    - sepal length in cm\n",
      "    - sepal width in cm\n",
      "    - petal length in cm\n",
      "    - petal width in cm\n",
      "    - class:\n",
      "            - Iris-Setosa\n",
      "            - Iris-Versicolour\n",
      "            - Iris-Virginica\n",
      "\n",
      ":Summary Statistics:\n",
      "\n",
      "============== ==== ==== ======= ===== ====================\n",
      "                Min  Max   Mean    SD   Class Correlation\n",
      "============== ==== ==== ======= ===== ====================\n",
      "sepal length:   4.3  7.9   5.84   0.83    0.7826\n",
      "sepal width:    2.0  4.4   3.05   0.43   -0.4194\n",
      "petal length:   1.0  6.9   3.76   1.76    0.9490  (high!)\n",
      "petal width:    0.1  2.5   1.20   0.76    0.9565  (high!)\n",
      "============== ==== ==== ======= ===== ====================\n",
      "\n",
      ":Missing Attribute Values: None\n",
      ":Class Distribution: 33.3% for each of 3 classes.\n",
      ":Creator: R.A. Fisher\n",
      ":Donor: Michael Marshall (MARSHALL%PLU@io.arc.nasa.gov)\n",
      ":Date: July, 1988\n",
      "\n",
      "The famous Iris database, first used by Sir R.A. Fisher. The dataset is taken\n",
      "from Fisher's paper. Note that it's the same as in R, but not as in the UCI\n",
      "Machine Learning Repository, which has two wrong data points.\n",
      "\n",
      "This is perhaps the best known database to be found in the\n",
      "pattern recognition literature.  Fisher's paper is a classic in the field and\n",
      "is referenced frequently to this day.  (See Duda & Hart, for example.)  The\n",
      "data set contains 3 classes of 50 instances each, where each class refers to a\n",
      "type of iris plant.  One class is linearly separable from the other 2; the\n",
      "latter are NOT linearly separable from each other.\n",
      "\n",
      ".. dropdown:: References\n",
      "\n",
      "  - Fisher, R.A. \"The use of multiple measurements in taxonomic problems\"\n",
      "    Annual Eugenics, 7, Part II, 179-188 (1936); also in \"Contributions to\n",
      "    Mathematical Statistics\" (John Wiley, NY, 1950).\n",
      "  - Duda, R.O., & Hart, P.E. (1973) Pattern Classification and Scene Analysis.\n",
      "    (Q327.D83) John Wiley & Sons.  ISBN 0-471-22361-1.  See page 218.\n",
      "  - Dasarathy, B.V. (1980) \"Nosing Around the Neighborhood: A New System\n",
      "    Structure and Classification Rule for Recognition in Partially Exposed\n",
      "    Environments\".  IEEE Transactions on Pattern Analysis and Machine\n",
      "    Intelligence, Vol. PAMI-2, No. 1, 67-71.\n",
      "  - Gates, G.W. (1972) \"The Reduced Nearest Neighbor Rule\".  IEEE Transactions\n",
      "    on Information Theory, May 1972, 431-433.\n",
      "  - See also: 1988 MLC Proceedings, 54-64.  Cheeseman et al\"s AUTOCLASS II\n",
      "    conceptual clustering system finds 3 classes in the data.\n",
      "  - Many, many more ...\n",
      "\n"
     ]
    }
   ],
   "source": [
    "print(dataset.DESCR)"
   ]
  },
  {
   "cell_type": "code",
   "execution_count": 3,
   "metadata": {
    "executionInfo": {
     "elapsed": 3,
     "status": "aborted",
     "timestamp": 1704290479110,
     "user": {
      "displayName": "신은섭",
      "userId": "08402895350193765155"
     },
     "user_tz": -540
    },
    "id": "v8eBw0lCyNyT"
   },
   "outputs": [
    {
     "name": "stdout",
     "output_type": "stream",
     "text": [
      "   sepal length (cm)  sepal width (cm)  petal length (cm)  petal width (cm)  \\\n",
      "0                5.1               3.5                1.4               0.2   \n",
      "1                4.9               3.0                1.4               0.2   \n",
      "2                4.7               3.2                1.3               0.2   \n",
      "3                4.6               3.1                1.5               0.2   \n",
      "4                5.0               3.6                1.4               0.2   \n",
      "\n",
      "   target  \n",
      "0       0  \n",
      "1       0  \n",
      "2       0  \n",
      "3       0  \n",
      "4       0  \n"
     ]
    }
   ],
   "source": [
    "import pandas as pd\n",
    "\n",
    "data = pd.DataFrame(dataset.data, columns=dataset.feature_names)\n",
    "data['target'] = dataset.target\n",
    "\n",
    "print(data.head())"
   ]
  },
  {
   "cell_type": "markdown",
   "metadata": {
    "id": "m6jmOY3m1OpY"
   },
   "source": [
    "### 3.2 파이토치 데이터 유틸 사용하기"
   ]
  },
  {
   "cell_type": "code",
   "execution_count": 4,
   "metadata": {
    "executionInfo": {
     "elapsed": 2,
     "status": "aborted",
     "timestamp": 1704290479110,
     "user": {
      "displayName": "신은섭",
      "userId": "08402895350193765155"
     },
     "user_tz": -540
    },
    "id": "d63BeUdozs68"
   },
   "outputs": [],
   "source": [
    "import torch\n",
    "from torch.utils.data import Dataset\n",
    "from sklearn.model_selection import train_test_split\n",
    "\n",
    "class IrisDataset(Dataset):\n",
    "  def __init__(self, train=True):\n",
    "    dataset = load_iris()\n",
    "    X_train, X_test, y_train, y_test = train_test_split(\n",
    "        dataset.data, dataset.target, test_size=0.3, random_state=827\n",
    "    )\n",
    "    if train:\n",
    "      self.data = torch.FloatTensor(X_train)\n",
    "      self.target = torch.LongTensor(y_train)\n",
    "    else:\n",
    "      self.data = torch.FloatTensor(X_test)\n",
    "      self.target = torch.LongTensor(y_test)\n",
    "\n",
    "  def __getitem__(self, i):\n",
    "    return self.data[i], self.target[i]\n",
    "\n",
    "  def __len__(self):\n",
    "    return len(self.data)"
   ]
  },
  {
   "cell_type": "markdown",
   "metadata": {
    "id": "bkKF-xRDrw6w"
   },
   "source": [
    "### 3.3 모델 구현 및 학습\n",
    "\n",
    "이어서 학습코드를 살펴보겠습니다"
   ]
  },
  {
   "cell_type": "code",
   "execution_count": 5,
   "metadata": {
    "executionInfo": {
     "elapsed": 3,
     "status": "aborted",
     "timestamp": 1704290479111,
     "user": {
      "displayName": "신은섭",
      "userId": "08402895350193765155"
     },
     "user_tz": -540
    },
    "id": "bzCEiYSIwrta"
   },
   "outputs": [
    {
     "name": "stdout",
     "output_type": "stream",
     "text": [
      "epoch: 100 loss: 0.1403876096010208\n",
      "epoch: 200 loss: 0.07050369679927826\n",
      "epoch: 300 loss: 0.029931476339697838\n",
      "epoch: 400 loss: 0.05055944621562958\n",
      "epoch: 500 loss: 0.018516073003411293\n",
      "epoch: 600 loss: 0.11159246414899826\n",
      "epoch: 700 loss: 0.06506195664405823\n",
      "epoch: 800 loss: 0.01800067350268364\n",
      "epoch: 900 loss: 0.07500328123569489\n",
      "epoch: 1000 loss: 0.03301728144288063\n",
      "epoch: 1100 loss: 0.018364904448390007\n",
      "epoch: 1200 loss: 0.06862649321556091\n",
      "epoch: 1300 loss: 0.07898513227701187\n",
      "epoch: 1400 loss: 0.05183592811226845\n",
      "epoch: 1500 loss: 0.05753491073846817\n",
      "epoch: 1600 loss: 0.08133945614099503\n",
      "epoch: 1700 loss: 0.05385161191225052\n",
      "epoch: 1800 loss: 0.07937278598546982\n",
      "epoch: 1900 loss: 0.034015215933322906\n",
      "epoch: 2000 loss: 0.07192873954772949\n"
     ]
    }
   ],
   "source": [
    "import torch\n",
    "import torch.nn as nn\n",
    "from torch.utils.data import DataLoader\n",
    "\n",
    "# 하이퍼파라미터\n",
    "batch_size = 64\n",
    "learning_rate = 1e-3\n",
    "epochs = 2000\n",
    "\n",
    "# 모델\n",
    "model = nn.Sequential(\n",
    "    nn.Linear(4, 128),\n",
    "    nn.ReLU(),\n",
    "    nn.Linear(128, 64),\n",
    "    nn.ReLU(),\n",
    "    nn.Linear(64, 3)\n",
    ")\n",
    "\n",
    "# 데이터셋, 데이터로더\n",
    "train_dataset = IrisDataset(train=True)\n",
    "train_dataloader = DataLoader(train_dataset, batch_size=batch_size, shuffle=True)\n",
    "\n",
    "# optimizer\n",
    "optimizer = torch.optim.Adam(params=model.parameters(), lr=learning_rate)\n",
    "\n",
    "# loss\n",
    "criterion = nn.CrossEntropyLoss()\n",
    "\n",
    "for epoch in range(epochs):\n",
    "\n",
    "  # 배치\n",
    "  for data, target in train_dataloader:\n",
    "    optimizer.zero_grad()\n",
    "\n",
    "    pred = model(data)\n",
    "\n",
    "    loss = criterion(pred, target)\n",
    "    loss.backward()\n",
    "    optimizer.step()\n",
    "\n",
    "  # 학습 기록\n",
    "  if epoch % 100 == 99:\n",
    "    print(\"epoch:\", epoch+1, \"loss:\", loss.item())"
   ]
  },
  {
   "cell_type": "markdown",
   "metadata": {
    "id": "AS_UlOdn9oNv"
   },
   "source": [
    "### 3.4 모델 성능 평가"
   ]
  },
  {
   "cell_type": "code",
   "execution_count": 6,
   "metadata": {
    "executionInfo": {
     "elapsed": 3,
     "status": "aborted",
     "timestamp": 1704290479111,
     "user": {
      "displayName": "신은섭",
      "userId": "08402895350193765155"
     },
     "user_tz": -540
    },
    "id": "sSrrConlsp70"
   },
   "outputs": [
    {
     "name": "stdout",
     "output_type": "stream",
     "text": [
      "Accuracy: 93.33333333333333 %\n"
     ]
    }
   ],
   "source": [
    "test_dataset = IrisDataset(train=False)\n",
    "test_dataloader = DataLoader(test_dataset, batch_size=batch_size, shuffle=False)\n",
    "\n",
    "num_correct = 0\n",
    "\n",
    "with torch.no_grad():\n",
    "  for data, target in test_dataloader:\n",
    "    output = model(data)\n",
    "    pred = torch.max(output, 1)[1]\n",
    "\n",
    "    corr = pred.eq(target).sum().item()\n",
    "    num_correct += corr\n",
    "\n",
    "  print(\"Accuracy:\", (num_correct/len(test_dataset.data))*100, \"%\")"
   ]
  }
 ],
 "metadata": {
  "accelerator": "GPU",
  "colab": {
   "authorship_tag": "ABX9TyOnE5is4Jnf/8XnBa2BhgKk",
   "gpuType": "T4",
   "mount_file_id": "1k0Zu6MvkOXBKuW5CHA-a5VPY8kq9rG4E",
   "provenance": [
    {
     "file_id": "1k0Zu6MvkOXBKuW5CHA-a5VPY8kq9rG4E",
     "timestamp": 1691975368396
    }
   ]
  },
  "kernelspec": {
   "display_name": ".venv",
   "language": "python",
   "name": "python3"
  },
  "language_info": {
   "codemirror_mode": {
    "name": "ipython",
    "version": 3
   },
   "file_extension": ".py",
   "mimetype": "text/x-python",
   "name": "python",
   "nbconvert_exporter": "python",
   "pygments_lexer": "ipython3",
   "version": "3.12.2"
  }
 },
 "nbformat": 4,
 "nbformat_minor": 0
}
