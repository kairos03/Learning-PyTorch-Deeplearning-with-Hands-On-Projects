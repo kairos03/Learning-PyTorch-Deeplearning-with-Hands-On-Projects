{
 "cells": [
  {
   "cell_type": "markdown",
   "metadata": {},
   "source": [
    "## Chapter 2 오토 인코더로 이미지 노이즈 제거하기"
   ]
  },
  {
   "cell_type": "code",
   "execution_count": null,
   "metadata": {
    "id": "SUdTAXZGRIxA"
   },
   "outputs": [],
   "source": [
    "!pip install -q torchinfo"
   ]
  },
  {
   "cell_type": "code",
   "execution_count": null,
   "metadata": {
    "id": "M035SRkZTcSW"
   },
   "outputs": [],
   "source": [
    "import random\n",
    "import numpy as np\n",
    "import pandas as pd\n",
    "from tqdm import tqdm\n",
    "import warnings\n",
    "warnings.filterwarnings(\"ignore\")\n",
    "\n",
    "#reading files\n",
    "import os\n",
    "from torchvision.datasets.mnist import MNIST\n",
    "\n",
    "from PIL import Image\n",
    "from torch.utils.data import Dataset, DataLoader\n",
    "from torchvision.transforms import ToTensor\n",
    "\n",
    "#plots\n",
    "import matplotlib.pyplot as plt\n",
    "\n",
    "#model\n",
    "import torch\n",
    "from torch import nn, optim\n",
    "import torchvision\n",
    "from torchinfo import summary"
   ]
  },
  {
   "cell_type": "code",
   "execution_count": null,
   "metadata": {
    "colab": {
     "base_uri": "https://localhost:8080/"
    },
    "executionInfo": {
     "elapsed": 3,
     "status": "ok",
     "timestamp": 1699878015869,
     "user": {
      "displayName": "신은섭",
      "userId": "08402895350193765155"
     },
     "user_tz": -540
    },
    "id": "Ur0wtoGfTc0L",
    "outputId": "fe26faa9-7735-47c9-c9a4-065fe5079bc4"
   },
   "outputs": [
    {
     "name": "stdout",
     "output_type": "stream",
     "text": [
      "True cuda\n"
     ]
    }
   ],
   "source": [
    "is_cuda = torch.cuda.is_available()\n",
    "device = torch.device(\"cuda\" if is_cuda else \"cpu\")\n",
    "print(is_cuda, device)"
   ]
  },
  {
   "cell_type": "code",
   "execution_count": null,
   "metadata": {
    "id": "K4gYEnJbTfDK"
   },
   "outputs": [],
   "source": [
    "seed = 322\n",
    "random.seed(seed)         # python seed\n",
    "np.random.seed(seed)      # numpy seed\n",
    "torch.manual_seed(seed)   # torch seed\n",
    "if device == 'cuda':\n",
    "  torch.cuda.manual_seed_all(seed)  # gpu seed"
   ]
  },
  {
   "cell_type": "markdown",
   "metadata": {
    "id": "T_lb-vWCThEm"
   },
   "source": [
    "### 2.1 데이터 분석"
   ]
  },
  {
   "cell_type": "code",
   "execution_count": null,
   "metadata": {
    "colab": {
     "base_uri": "https://localhost:8080/"
    },
    "executionInfo": {
     "elapsed": 340,
     "status": "ok",
     "timestamp": 1699878016207,
     "user": {
      "displayName": "신은섭",
      "userId": "08402895350193765155"
     },
     "user_tz": -540
    },
    "id": "21tiVu9ATe8a",
    "outputId": "1adba875-d363-4ac1-a98e-40a9c3e3ec20"
   },
   "outputs": [
    {
     "name": "stdout",
     "output_type": "stream",
     "text": [
      "/content/drive/MyDrive/Colab Notebooks/프로젝트로 시작하는 Pytorch/6.2\n",
      "6.2.ipynb\n"
     ]
    }
   ],
   "source": [
    "%cd /content/drive/MyDrive/Colab\\ Notebooks/프로젝트로\\ 시작하는\\ Pytorch/6.2\n",
    "%ls"
   ]
  },
  {
   "cell_type": "code",
   "execution_count": null,
   "metadata": {
    "id": "xcojxMCxV370"
   },
   "outputs": [],
   "source": [
    "def gaussian_noise(image, scale=0.8):\n",
    "  noised = image + np.random.normal(loc=0, scale=scale, size=image.shape)\n",
    "  noised = np.clip(noised, 0, 1)\n",
    "\n",
    "  noised = torch.tensor(noised).float()\n",
    "  return noised"
   ]
  },
  {
   "cell_type": "code",
   "execution_count": null,
   "metadata": {
    "colab": {
     "base_uri": "https://localhost:8080/"
    },
    "executionInfo": {
     "elapsed": 1518,
     "status": "ok",
     "timestamp": 1699878017716,
     "user": {
      "displayName": "신은섭",
      "userId": "08402895350193765155"
     },
     "user_tz": -540
    },
    "id": "e8UThIYBTsFh",
    "outputId": "9a5cef2b-cf5e-4356-c6eb-b8594c94ad61"
   },
   "outputs": [
    {
     "name": "stdout",
     "output_type": "stream",
     "text": [
      "Downloading http://yann.lecun.com/exdb/mnist/train-images-idx3-ubyte.gz\n",
      "Downloading http://yann.lecun.com/exdb/mnist/train-images-idx3-ubyte.gz to dataset/MNIST/raw/train-images-idx3-ubyte.gz\n"
     ]
    },
    {
     "name": "stderr",
     "output_type": "stream",
     "text": [
      "100%|██████████| 9912422/9912422 [00:00<00:00, 89472281.27it/s]\n"
     ]
    },
    {
     "name": "stdout",
     "output_type": "stream",
     "text": [
      "Extracting dataset/MNIST/raw/train-images-idx3-ubyte.gz to dataset/MNIST/raw\n",
      "\n",
      "Downloading http://yann.lecun.com/exdb/mnist/train-labels-idx1-ubyte.gz\n",
      "Downloading http://yann.lecun.com/exdb/mnist/train-labels-idx1-ubyte.gz to dataset/MNIST/raw/train-labels-idx1-ubyte.gz\n"
     ]
    },
    {
     "name": "stderr",
     "output_type": "stream",
     "text": [
      "100%|██████████| 28881/28881 [00:00<00:00, 144037685.88it/s]"
     ]
    },
    {
     "name": "stdout",
     "output_type": "stream",
     "text": [
      "Extracting dataset/MNIST/raw/train-labels-idx1-ubyte.gz to dataset/MNIST/raw\n",
      "\n",
      "Downloading http://yann.lecun.com/exdb/mnist/t10k-images-idx3-ubyte.gz\n"
     ]
    },
    {
     "name": "stderr",
     "output_type": "stream",
     "text": [
      "\n"
     ]
    },
    {
     "name": "stdout",
     "output_type": "stream",
     "text": [
      "Downloading http://yann.lecun.com/exdb/mnist/t10k-images-idx3-ubyte.gz to dataset/MNIST/raw/t10k-images-idx3-ubyte.gz\n"
     ]
    },
    {
     "name": "stderr",
     "output_type": "stream",
     "text": [
      "100%|██████████| 1648877/1648877 [00:00<00:00, 31004206.87it/s]"
     ]
    },
    {
     "name": "stdout",
     "output_type": "stream",
     "text": [
      "Extracting dataset/MNIST/raw/t10k-images-idx3-ubyte.gz to dataset/MNIST/raw\n",
      "\n",
      "Downloading http://yann.lecun.com/exdb/mnist/t10k-labels-idx1-ubyte.gz\n"
     ]
    },
    {
     "name": "stderr",
     "output_type": "stream",
     "text": [
      "\n"
     ]
    },
    {
     "name": "stdout",
     "output_type": "stream",
     "text": [
      "Downloading http://yann.lecun.com/exdb/mnist/t10k-labels-idx1-ubyte.gz to dataset/MNIST/raw/t10k-labels-idx1-ubyte.gz\n"
     ]
    },
    {
     "name": "stderr",
     "output_type": "stream",
     "text": [
      "100%|██████████| 4542/4542 [00:00<00:00, 17024601.22it/s]\n"
     ]
    },
    {
     "name": "stdout",
     "output_type": "stream",
     "text": [
      "Extracting dataset/MNIST/raw/t10k-labels-idx1-ubyte.gz to dataset/MNIST/raw\n",
      "\n"
     ]
    }
   ],
   "source": [
    "base_dir = \"dataset\"\n",
    "mnist = MNIST(base_dir, train=True, download=True)"
   ]
  },
  {
   "cell_type": "code",
   "execution_count": null,
   "metadata": {
    "colab": {
     "base_uri": "https://localhost:8080/",
     "height": 325
    },
    "executionInfo": {
     "elapsed": 555,
     "status": "ok",
     "timestamp": 1699878018264,
     "user": {
      "displayName": "신은섭",
      "userId": "08402895350193765155"
     },
     "user_tz": -540
    },
    "id": "sT-9VB6LUBQ3",
    "outputId": "c74f2c0d-b4f0-4803-c627-0512f91dbb61"
   },
   "outputs": [
    {
     "data": {
      "text/plain": [
       "<matplotlib.image.AxesImage at 0x78f27210df30>"
      ]
     },
     "execution_count": 9,
     "metadata": {},
     "output_type": "execute_result"
    },
    {
     "data": {
      "image/png": "[encoded data removed]",
      "text/plain": [
       "<Figure size 640x480 with 2 Axes>"
      ]
     },
     "metadata": {},
     "output_type": "display_data"
    }
   ],
   "source": [
    "image = mnist.data[123]\n",
    "plt.subplot(1, 2, 1)\n",
    "plt.title(\"origin\")\n",
    "plt.imshow(image)\n",
    "plt.subplot(1, 2, 2)\n",
    "plt.title(\"noised\")\n",
    "plt.imshow(gaussian_noise(image))"
   ]
  },
  {
   "cell_type": "markdown",
   "metadata": {},
   "source": [
    "### 2.2 데이터셋"
   ]
  },
  {
   "cell_type": "code",
   "execution_count": null,
   "metadata": {
    "id": "Sf9rATOxUci0"
   },
   "outputs": [],
   "source": [
    "class NoisedDataset(Dataset):\n",
    "  def __init__(self, root, train):\n",
    "    self.mnist = MNIST(root=root, train=train, download=True)\n",
    "\n",
    "  def __getitem__(self, i):\n",
    "    origin = self.mnist.data[i].unsqueeze(0)\n",
    "    noised = gaussian_noise(origin)\n",
    "    return noised/255., origin/255.\n",
    "\n",
    "  def __len__(self):\n",
    "    return len(self.mnist)"
   ]
  },
  {
   "cell_type": "code",
   "execution_count": null,
   "metadata": {
    "id": "8LBi0xX4X6Un"
   },
   "outputs": [],
   "source": [
    "trainset = NoisedDataset(base_dir, True)"
   ]
  },
  {
   "cell_type": "code",
   "execution_count": null,
   "metadata": {
    "colab": {
     "base_uri": "https://localhost:8080/",
     "height": 325
    },
    "executionInfo": {
     "elapsed": 519,
     "status": "ok",
     "timestamp": 1699878018776,
     "user": {
      "displayName": "신은섭",
      "userId": "08402895350193765155"
     },
     "user_tz": -540
    },
    "id": "-5j1vcV6YhxL",
    "outputId": "fa6a0e5a-ae5e-42c7-cf77-c4d0c1813310"
   },
   "outputs": [
    {
     "data": {
      "text/plain": [
       "<matplotlib.image.AxesImage at 0x78f272e35210>"
      ]
     },
     "execution_count": 12,
     "metadata": {},
     "output_type": "execute_result"
    },
    {
     "data": {
      "image/png": "[encoded data removed]",
      "text/plain": [
       "<Figure size 640x480 with 2 Axes>"
      ]
     },
     "metadata": {},
     "output_type": "display_data"
    }
   ],
   "source": [
    "noised, origin = trainset[123]\n",
    "plt.subplot(1, 2, 1)\n",
    "plt.title(\"origin\")\n",
    "plt.imshow(origin.squeeze())\n",
    "plt.subplot(1, 2, 2)\n",
    "plt.title(\"noised\")\n",
    "plt.imshow(noised.squeeze())"
   ]
  },
  {
   "cell_type": "code",
   "execution_count": null,
   "metadata": {
    "colab": {
     "base_uri": "https://localhost:8080/"
    },
    "executionInfo": {
     "elapsed": 506,
     "status": "ok",
     "timestamp": 1699878019276,
     "user": {
      "displayName": "신은섭",
      "userId": "08402895350193765155"
     },
     "user_tz": -540
    },
    "id": "Ecpq1RePlCzR",
    "outputId": "c5ef04ae-adaf-434f-ff54-ecf550a1f8d5"
   },
   "outputs": [
    {
     "name": "stdout",
     "output_type": "stream",
     "text": [
      "60000 10000\n"
     ]
    }
   ],
   "source": [
    "def get_dataset(root):\n",
    "  train = NoisedDataset(root, True)\n",
    "  val = NoisedDataset(root, False)\n",
    "\n",
    "  return train, val\n",
    "\n",
    "trainset, valset  = get_dataset(base_dir)\n",
    "print(len(trainset), len(valset))"
   ]
  },
  {
   "cell_type": "markdown",
   "metadata": {
    "id": "xy-KSyNAZCiG"
   },
   "source": [
    "### 2.3 오토 인코더(Auto-Encoder) 모델"
   ]
  },
  {
   "cell_type": "code",
   "execution_count": null,
   "metadata": {
    "id": "fUCz_NyaZCNB"
   },
   "outputs": [],
   "source": [
    "class BasicBlock(nn.Module):\n",
    "  def __init__(self, in_channels, out_channels, hidden_dims):\n",
    "    super(BasicBlock, self).__init__()\n",
    "\n",
    "    self.conv1 = nn.Conv2d(in_channels, hidden_dims, kernel_size=3, padding=1)\n",
    "    self.conv2 = nn.Conv2d(hidden_dims, out_channels, kernel_size=3, padding=1)\n",
    "    self.relu = nn.ReLU()\n",
    "\n",
    "    self.block = nn.Sequential(\n",
    "      self.conv1,\n",
    "      self.relu,\n",
    "      self.conv2,\n",
    "      self.relu\n",
    "    )\n",
    "\n",
    "  def forward(self, x):\n",
    "    return self.block(x)"
   ]
  },
  {
   "cell_type": "code",
   "execution_count": null,
   "metadata": {
    "colab": {
     "base_uri": "https://localhost:8080/"
    },
    "executionInfo": {
     "elapsed": 3,
     "status": "ok",
     "timestamp": 1699878019276,
     "user": {
      "displayName": "신은섭",
      "userId": "08402895350193765155"
     },
     "user_tz": -540
    },
    "id": "i-RM-qCAYi-I",
    "outputId": "a80b61a2-570f-4d59-9eb0-6c7de637daff"
   },
   "outputs": [
    {
     "data": {
      "text/plain": [
       "torch.Size([10, 8, 8])"
      ]
     },
     "execution_count": 15,
     "metadata": {},
     "output_type": "execute_result"
    }
   ],
   "source": [
    "block = BasicBlock(1, 10, 4)\n",
    "block(torch.rand((1, 8, 8))).shape"
   ]
  },
  {
   "cell_type": "code",
   "execution_count": null,
   "metadata": {
    "id": "mrs4dk0YaLlD"
   },
   "outputs": [],
   "source": [
    "class Encoder(nn.Module):\n",
    "  def __init__(self):\n",
    "    super(Encoder, self).__init__()\n",
    "\n",
    "    self.conv1 = BasicBlock(in_channels=1, out_channels=16, hidden_dims=16)\n",
    "    self.conv2 = BasicBlock(in_channels=16, out_channels=8, hidden_dims=8)\n",
    "    self.pool = nn.AvgPool2d(kernel_size=2, stride=2)\n",
    "    self.encoder = nn.Sequential(\n",
    "      self.conv1,\n",
    "      self.pool,\n",
    "      self.conv2,\n",
    "      self.pool\n",
    "    )\n",
    "\n",
    "  def forward(self, x):\n",
    "    return self.encoder(x)"
   ]
  },
  {
   "cell_type": "code",
   "execution_count": null,
   "metadata": {
    "colab": {
     "base_uri": "https://localhost:8080/"
    },
    "executionInfo": {
     "elapsed": 5,
     "status": "ok",
     "timestamp": 1699878019738,
     "user": {
      "displayName": "신은섭",
      "userId": "08402895350193765155"
     },
     "user_tz": -540
    },
    "id": "USZq9Gk0csI6",
    "outputId": "e61ca062-7523-469f-fb39-6d73f91d1fc9"
   },
   "outputs": [
    {
     "data": {
      "text/plain": [
       "torch.Size([8, 2, 2])"
      ]
     },
     "execution_count": 17,
     "metadata": {},
     "output_type": "execute_result"
    }
   ],
   "source": [
    "encoder = Encoder()\n",
    "encoder(torch.rand((1, 8, 8))).shape"
   ]
  },
  {
   "cell_type": "code",
   "execution_count": null,
   "metadata": {
    "id": "kl5jufOfcx4X"
   },
   "outputs": [],
   "source": [
    "class Decoder(nn.Module):\n",
    "  def __init__(self):\n",
    "    super(Decoder, self).__init__()\n",
    "\n",
    "    self.conv1 = BasicBlock(in_channels=8, out_channels=8, hidden_dims=8)\n",
    "    self.conv2 = BasicBlock(in_channels=8, out_channels=16, hidden_dims=16)\n",
    "    self.conv3 = nn.Conv2d(in_channels=16, out_channels=1,\n",
    "                           kernel_size=3, padding=1)\n",
    "\n",
    "    self.upsample1 = nn.ConvTranspose2d(in_channels=8, out_channels=8,\n",
    "                                        kernel_size=2, stride=2)\n",
    "    self.upsample2 = nn.ConvTranspose2d(in_channels=16, out_channels=16,\n",
    "                                        kernel_size=2, stride=2)\n",
    "    self.decoder = nn.Sequential(\n",
    "      self.conv1,\n",
    "      self.upsample1,\n",
    "      self.conv2,\n",
    "      self.upsample2,\n",
    "      self.conv3\n",
    "    )\n",
    "\n",
    "  def forward(self, x):\n",
    "    return self.decoder(x)"
   ]
  },
  {
   "cell_type": "code",
   "execution_count": null,
   "metadata": {
    "colab": {
     "base_uri": "https://localhost:8080/"
    },
    "executionInfo": {
     "elapsed": 3,
     "status": "ok",
     "timestamp": 1699878020237,
     "user": {
      "displayName": "신은섭",
      "userId": "08402895350193765155"
     },
     "user_tz": -540
    },
    "id": "gZueNqkzgxXk",
    "outputId": "0c043406-2ca7-49ef-a303-74c2d230f70f"
   },
   "outputs": [
    {
     "data": {
      "text/plain": [
       "torch.Size([1, 8, 8])"
      ]
     },
     "execution_count": 19,
     "metadata": {},
     "output_type": "execute_result"
    }
   ],
   "source": [
    "decoder = Decoder()\n",
    "decoder(torch.rand((8, 2, 2))).shape"
   ]
  },
  {
   "cell_type": "code",
   "execution_count": null,
   "metadata": {
    "id": "sHlqpIi-g91M"
   },
   "outputs": [],
   "source": [
    "class CAE(nn.Module):\n",
    "  def __init__(self):\n",
    "    super(CAE, self).__init__()\n",
    "\n",
    "    self.encoder = Encoder()\n",
    "    self.decoder = Decoder()\n",
    "\n",
    "  def forward(self, x):\n",
    "    x = self.encoder(x)\n",
    "    x = self.decoder(x)\n",
    "    return x.squeeze()"
   ]
  },
  {
   "cell_type": "code",
   "execution_count": null,
   "metadata": {
    "colab": {
     "base_uri": "https://localhost:8080/"
    },
    "executionInfo": {
     "elapsed": 3,
     "status": "ok",
     "timestamp": 1699878020706,
     "user": {
      "displayName": "신은섭",
      "userId": "08402895350193765155"
     },
     "user_tz": -540
    },
    "id": "hGGQEvndikN2",
    "outputId": "144cb7dc-a1b5-493d-97b6-42de58fe7466"
   },
   "outputs": [
    {
     "data": {
      "text/plain": [
       "torch.Size([8, 8])"
      ]
     },
     "execution_count": 21,
     "metadata": {},
     "output_type": "execute_result"
    }
   ],
   "source": [
    "cae = CAE()\n",
    "cae(torch.rand((1, 8, 8))).shape"
   ]
  },
  {
   "cell_type": "code",
   "execution_count": null,
   "metadata": {
    "colab": {
     "base_uri": "https://localhost:8080/"
    },
    "executionInfo": {
     "elapsed": 16261,
     "status": "ok",
     "timestamp": 1699878037408,
     "user": {
      "displayName": "신은섭",
      "userId": "08402895350193765155"
     },
     "user_tz": -540
    },
    "id": "7RAiegDyj2xC",
    "outputId": "fcdf97ce-827b-4ab5-a3df-9ecdeb9633e1"
   },
   "outputs": [
    {
     "data": {
      "text/plain": [
       "==========================================================================================\n",
       "Layer (type:depth-idx)                   Output Shape              Param #\n",
       "==========================================================================================\n",
       "CAE                                      [28, 28]                  --\n",
       "├─Encoder: 1-1                           [8, 7, 7]                 --\n",
       "│    └─Sequential: 2-1                   [8, 7, 7]                 --\n",
       "│    │    └─BasicBlock: 3-1              [16, 28, 28]              2,480\n",
       "│    │    └─AvgPool2d: 3-2               [16, 14, 14]              --\n",
       "│    │    └─BasicBlock: 3-3              [8, 14, 14]               1,744\n",
       "│    │    └─AvgPool2d: 3-4               [8, 7, 7]                 --\n",
       "├─Decoder: 1-2                           [1, 28, 28]               --\n",
       "│    └─Sequential: 2-2                   [1, 28, 28]               --\n",
       "│    │    └─BasicBlock: 3-5              [8, 7, 7]                 1,168\n",
       "│    │    └─ConvTranspose2d: 3-6         [8, 14, 14]               264\n",
       "│    │    └─BasicBlock: 3-7              [16, 14, 14]              3,488\n",
       "│    │    └─ConvTranspose2d: 3-8         [16, 28, 28]              1,040\n",
       "│    │    └─Conv2d: 3-9                  [1, 28, 28]               145\n",
       "==========================================================================================\n",
       "Total params: 10,329\n",
       "Trainable params: 10,329\n",
       "Non-trainable params: 0\n",
       "Total mult-adds (M): 2.65\n",
       "==========================================================================================\n",
       "Input size (MB): 0.00\n",
       "Forward/backward pass size (MB): 0.40\n",
       "Params size (MB): 0.04\n",
       "Estimated Total Size (MB): 0.45\n",
       "=========================================================================================="
      ]
     },
     "execution_count": 22,
     "metadata": {},
     "output_type": "execute_result"
    }
   ],
   "source": [
    "summary(cae, (1, 28, 28))"
   ]
  },
  {
   "cell_type": "markdown",
   "metadata": {
    "id": "B6nUjrxkjzJz"
   },
   "source": [
    "### 2.4 모델 학습"
   ]
  },
  {
   "cell_type": "code",
   "execution_count": null,
   "metadata": {
    "id": "zjO78fBPi3YX"
   },
   "outputs": [],
   "source": [
    "def train(model, dataloader, criterion, optimizer, epoch, device):\n",
    "  model.train()\n",
    "\n",
    "  running_loss = 0\n",
    "\n",
    "  with tqdm(dataloader) as pbar:\n",
    "    for i, (images, targets) in enumerate(pbar):\n",
    "      images, targets = images.to(device), targets.to(device)\n",
    "\n",
    "      optimizer.zero_grad()\n",
    "\n",
    "      outputs = model(images)\n",
    "      loss = criterion(outputs.squeeze(), targets.squeeze())\n",
    "\n",
    "      loss.backward()\n",
    "      optimizer.step()\n",
    "\n",
    "      running_loss += loss.item()\n",
    "      pbar.set_postfix(loss=loss.item())\n",
    "\n",
    "  return running_loss/len(dataloader)"
   ]
  },
  {
   "cell_type": "code",
   "execution_count": null,
   "metadata": {
    "id": "kYVNuQkykqTv"
   },
   "outputs": [],
   "source": [
    "def validation(model, dataloader, criterion, epoch, device):\n",
    "  model.eval()\n",
    "\n",
    "  running_loss = 0.\n",
    "  with tqdm(dataloader) as pbar:\n",
    "    with torch.no_grad():\n",
    "      for i, (images, targets) in enumerate(pbar):\n",
    "        images, targets = images.to(device), targets.to(device)\n",
    "\n",
    "        outputs = model(images)\n",
    "        loss = criterion(outputs.squeeze(), targets.squeeze())\n",
    "\n",
    "        running_loss += loss.item()\n",
    "        pbar.set_postfix(loss=loss.item())\n",
    "\n",
    "  print(f'[{epoch}/{EPOCH}] valid loss: {running_loss/len(dataloader):.4f}\\n')\n",
    "\n",
    "  return running_loss/len(dataloader)"
   ]
  },
  {
   "cell_type": "code",
   "execution_count": null,
   "metadata": {
    "colab": {
     "base_uri": "https://localhost:8080/"
    },
    "executionInfo": {
     "elapsed": 401915,
     "status": "ok",
     "timestamp": 1699880678655,
     "user": {
      "displayName": "신은섭",
      "userId": "08402895350193765155"
     },
     "user_tz": -540
    },
    "id": "t5uBuzQ2k4Xs",
    "outputId": "41c195c6-ff9c-4f1d-cbf5-b65741b77f6e"
   },
   "outputs": [
    {
     "name": "stdout",
     "output_type": "stream",
     "text": [
      "LR: [0.001]\n"
     ]
    },
    {
     "name": "stderr",
     "output_type": "stream",
     "text": [
      "100%|██████████| 1875/1875 [00:36<00:00, 51.55it/s, loss=0.0283]\n",
      "100%|██████████| 313/313 [00:06<00:00, 51.65it/s, loss=0.0248]\n"
     ]
    },
    {
     "name": "stdout",
     "output_type": "stream",
     "text": [
      "[0/10] valid loss: 0.0283\n",
      "\n",
      "Update Best Model: 0.02831322204071683\n",
      "LR: [0.001]\n"
     ]
    },
    {
     "name": "stderr",
     "output_type": "stream",
     "text": [
      "100%|██████████| 1875/1875 [00:34<00:00, 54.06it/s, loss=0.0126]\n",
      "100%|██████████| 313/313 [00:04<00:00, 68.44it/s, loss=0.012]\n"
     ]
    },
    {
     "name": "stdout",
     "output_type": "stream",
     "text": [
      "[1/10] valid loss: 0.0117\n",
      "\n",
      "Update Best Model: 0.011666367342249273\n",
      "LR: [0.001]\n"
     ]
    },
    {
     "name": "stderr",
     "output_type": "stream",
     "text": [
      "100%|██████████| 1875/1875 [00:35<00:00, 53.53it/s, loss=0.0102]\n",
      "100%|██████████| 313/313 [00:04<00:00, 67.90it/s, loss=0.01]\n"
     ]
    },
    {
     "name": "stdout",
     "output_type": "stream",
     "text": [
      "[2/10] valid loss: 0.0103\n",
      "\n",
      "Update Best Model: 0.010260159670473478\n",
      "LR: [0.0005]\n"
     ]
    },
    {
     "name": "stderr",
     "output_type": "stream",
     "text": [
      "100%|██████████| 1875/1875 [00:34<00:00, 53.58it/s, loss=0.00933]\n",
      "100%|██████████| 313/313 [00:05<00:00, 55.24it/s, loss=0.0102]\n"
     ]
    },
    {
     "name": "stdout",
     "output_type": "stream",
     "text": [
      "[3/10] valid loss: 0.0099\n",
      "\n",
      "Update Best Model: 0.009859234802781964\n",
      "LR: [0.0005]\n"
     ]
    },
    {
     "name": "stderr",
     "output_type": "stream",
     "text": [
      "100%|██████████| 1875/1875 [00:35<00:00, 53.56it/s, loss=0.0109]\n",
      "100%|██████████| 313/313 [00:04<00:00, 64.79it/s, loss=0.00985]\n"
     ]
    },
    {
     "name": "stdout",
     "output_type": "stream",
     "text": [
      "[4/10] valid loss: 0.0097\n",
      "\n",
      "Update Best Model: 0.00966570349320912\n",
      "LR: [0.0005]\n"
     ]
    },
    {
     "name": "stderr",
     "output_type": "stream",
     "text": [
      "100%|██████████| 1875/1875 [00:35<00:00, 53.11it/s, loss=0.0106]\n",
      "100%|██████████| 313/313 [00:04<00:00, 70.14it/s, loss=0.0105]\n"
     ]
    },
    {
     "name": "stdout",
     "output_type": "stream",
     "text": [
      "[5/10] valid loss: 0.0095\n",
      "\n",
      "Update Best Model: 0.009517768295273519\n",
      "LR: [0.00025]\n"
     ]
    },
    {
     "name": "stderr",
     "output_type": "stream",
     "text": [
      "100%|██████████| 1875/1875 [00:34<00:00, 54.07it/s, loss=0.00831]\n",
      "100%|██████████| 313/313 [00:05<00:00, 60.69it/s, loss=0.00904]\n"
     ]
    },
    {
     "name": "stdout",
     "output_type": "stream",
     "text": [
      "[6/10] valid loss: 0.0093\n",
      "\n",
      "Update Best Model: 0.00928231275911196\n",
      "LR: [0.00025]\n"
     ]
    },
    {
     "name": "stderr",
     "output_type": "stream",
     "text": [
      "100%|██████████| 1875/1875 [00:34<00:00, 54.38it/s, loss=0.0101]\n",
      "100%|██████████| 313/313 [00:05<00:00, 56.26it/s, loss=0.00883]\n"
     ]
    },
    {
     "name": "stdout",
     "output_type": "stream",
     "text": [
      "[7/10] valid loss: 0.0092\n",
      "\n",
      "Update Best Model: 0.009183026723766002\n",
      "LR: [0.00025]\n"
     ]
    },
    {
     "name": "stderr",
     "output_type": "stream",
     "text": [
      "100%|██████████| 1875/1875 [00:35<00:00, 53.31it/s, loss=0.00912]\n",
      "100%|██████████| 313/313 [00:04<00:00, 70.15it/s, loss=0.00934]\n"
     ]
    },
    {
     "name": "stdout",
     "output_type": "stream",
     "text": [
      "[8/10] valid loss: 0.0091\n",
      "\n",
      "Update Best Model: 0.009114091272671192\n",
      "LR: [0.000125]\n"
     ]
    },
    {
     "name": "stderr",
     "output_type": "stream",
     "text": [
      "100%|██████████| 1875/1875 [00:35<00:00, 53.50it/s, loss=0.00895]\n",
      "100%|██████████| 313/313 [00:04<00:00, 66.23it/s, loss=0.00908]\n"
     ]
    },
    {
     "name": "stdout",
     "output_type": "stream",
     "text": [
      "[9/10] valid loss: 0.0090\n",
      "\n",
      "Update Best Model: 0.009018584699057542\n"
     ]
    }
   ],
   "source": [
    "EPOCH = 10\n",
    "BATCH_SIZE = 32\n",
    "NUM_WORKERS = 1\n",
    "LR = 0.001\n",
    "\n",
    "trainset, valset = get_dataset(base_dir)\n",
    "\n",
    "# dataloader\n",
    "train_loader = DataLoader(\n",
    "  dataset=trainset,\n",
    "  shuffle=True,\n",
    "  batch_size=BATCH_SIZE,\n",
    "  num_workers=NUM_WORKERS,\n",
    ")\n",
    "val_loader = DataLoader(\n",
    "  dataset=valset,\n",
    "  batch_size=BATCH_SIZE,\n",
    "  num_workers=NUM_WORKERS,\n",
    ")\n",
    "\n",
    "# Model\n",
    "model = CAE()\n",
    "\n",
    "# Optimizer, Loss, Scheduler\n",
    "optimizer = optim.Adam(model.parameters(), lr=LR)\n",
    "criterion = nn.MSELoss()\n",
    "scheduler = optim.lr_scheduler.StepLR(optimizer, step_size=3, gamma=0.5)\n",
    "\n",
    "model = model.to(device)\n",
    "criterion = criterion.to(device)\n",
    "\n",
    "# Start Training\n",
    "min_loss = 999\n",
    "for epoch in range(EPOCH):\n",
    "  print(\"LR:\", scheduler.get_last_lr())\n",
    "\n",
    "  tloss = train(model, train_loader, criterion, optimizer, epoch, device)\n",
    "  vloss = validation(model, val_loader, criterion, epoch, device)\n",
    "  scheduler.step()\n",
    "\n",
    "  if vloss < min_loss:\n",
    "    print(f\"Update Best Model: {vloss}\")\n",
    "    torch.save(model.state_dict(), \"best.pth\")\n",
    "    min_loss = vloss"
   ]
  },
  {
   "cell_type": "markdown",
   "metadata": {},
   "source": [
    "### 2.5 추론"
   ]
  },
  {
   "cell_type": "code",
   "execution_count": null,
   "metadata": {
    "colab": {
     "base_uri": "https://localhost:8080/",
     "height": 244
    },
    "executionInfo": {
     "elapsed": 560,
     "status": "ok",
     "timestamp": 1699880679199,
     "user": {
      "displayName": "신은섭",
      "userId": "08402895350193765155"
     },
     "user_tz": -540
    },
    "id": "DZ3Byizfl_Zk",
    "outputId": "9fc31153-e8af-4f42-9aed-74354c693bc8"
   },
   "outputs": [
    {
     "name": "stdout",
     "output_type": "stream",
     "text": [
      "torch.Size([1, 28, 28]) torch.Size([1, 28, 28])\n",
      "tensor(0.0748)\n"
     ]
    },
    {
     "data": {
      "image/png": "[encoded data removed]",
      "text/plain": [
       "<Figure size 640x480 with 3 Axes>"
      ]
     },
     "metadata": {},
     "output_type": "display_data"
    }
   ],
   "source": [
    "model = CAE()\n",
    "# load best model\n",
    "model.load_state_dict(torch.load(\"best.pth\"))\n",
    "model.eval()\n",
    "\n",
    "with torch.no_grad():\n",
    "  image, target = valset[0]\n",
    "  print(image.shape, target.shape)\n",
    "  print(nn.MSELoss()(image.squeeze(), target.squeeze()))\n",
    "\n",
    "  output = model(image)\n",
    "\n",
    "  plt.subplot(1, 3, 1)\n",
    "  plt.imshow(image.squeeze())\n",
    "  plt.subplot(1, 3, 2)\n",
    "  plt.imshow(target.squeeze())\n",
    "  plt.subplot(1, 3, 3)\n",
    "  plt.imshow(output.squeeze())"
   ]
  }
 ],
 "metadata": {
  "accelerator": "GPU",
  "colab": {
   "authorship_tag": "ABX9TyNor1xVPR5UJora+V40HP9j",
   "gpuType": "T4",
   "mount_file_id": "1v6ABRkSX_RwbQ4WLPWVvV2VFdod6ggVl",
   "provenance": []
  },
  "kernelspec": {
   "display_name": "Python 3",
   "name": "python3"
  },
  "language_info": {
   "name": "python"
  }
 },
 "nbformat": 4,
 "nbformat_minor": 0
}
